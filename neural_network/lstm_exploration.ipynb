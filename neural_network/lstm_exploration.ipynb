{
 "cells": [
  {
   "cell_type": "markdown",
   "metadata": {},
   "source": [
    "### This is an exploration notebook on LSTM model. The dataset, code for data processing, training and prediction is based on Jason Browniee's [tutorial](https://machinelearningmastery.com/multivariate-time-series-forecasting-lstms-keras/)  \"Multivariate Time Series Forecasting with LSTMs in Keras\""
   ]
  },
  {
   "cell_type": "code",
   "execution_count": 18,
   "metadata": {},
   "outputs": [],
   "source": [
    "from __future__ import print_function\n",
    "import sys, time\n",
    "from math import sqrt\n",
    "import numpy as np\n",
    "from numpy import concatenate\n",
    "import matplotlib as plt\n",
    "from matplotlib import pyplot\n",
    "import seaborn as sns\n",
    "import pandas as pd\n",
    "from pandas import read_csv\n",
    "from pandas import DataFrame\n",
    "from pandas import concat\n",
    "\n",
    "from sklearn import preprocessing\n",
    "# from sklearn.preprocessing import MinMaxScaler\n",
    "# from sklearn.preprocessing import LabelEncoder\n",
    "from sklearn.metrics import mean_squared_error\n",
    "\n",
    "from keras.models import Sequential, Model\n",
    "from keras.layers import Input\n",
    "from keras.layers import LSTM,Dense,Dropout\n",
    "from keras import backend as K\n",
    "from keras.callbacks import ModelCheckpoint\n",
    "from keras.callbacks import Callback\n",
    "from keras.models import load_model\n",
    "from keras.utils import plot_model\n",
    "\n",
    "import json\n"
   ]
  },
  {
   "cell_type": "code",
   "execution_count": 73,
   "metadata": {},
   "outputs": [],
   "source": [
    "# # load data\n",
    "# def parse(x):\n",
    "#     return datetime.strptime(x, '%Y %m %d %H')\n",
    "\n",
    "# dataset = read_csv('~/Documents/TTU_study/Fall2019/my_research/neural_network/data/raw.csv',  parse_dates = [['year', 'month', 'day', 'hour']], index_col=0, date_parser=parse)\n",
    "# dataset.drop('No', axis=1, inplace=True)\n",
    "# # manually specify column names\n",
    "# dataset.columns = ['pollution', 'dew', 'temp', 'press', 'wnd_dir', 'wnd_spd', 'snow', 'rain']\n",
    "# dataset.index.name = 'date'\n",
    "# # mark all NA values with 0\n",
    "# dataset['pollution'].fillna(0, inplace=True)\n",
    "# # drop the first 24 hours\n",
    "# dataset = dataset[24:]\n",
    "# # summarize first 5 rows\n",
    "# print(dataset.head(5))\n",
    "# save to file\n",
    "# dataset.to_csv('pollution.csv')"
   ]
  },
  {
   "cell_type": "markdown",
   "metadata": {},
   "source": [
    "## Load and prepare data for training"
   ]
  },
  {
   "cell_type": "code",
   "execution_count": 74,
   "metadata": {
    "scrolled": true
   },
   "outputs": [
    {
     "data": {
      "text/html": [
       "<div>\n",
       "<style scoped>\n",
       "    .dataframe tbody tr th:only-of-type {\n",
       "        vertical-align: middle;\n",
       "    }\n",
       "\n",
       "    .dataframe tbody tr th {\n",
       "        vertical-align: top;\n",
       "    }\n",
       "\n",
       "    .dataframe thead th {\n",
       "        text-align: right;\n",
       "    }\n",
       "</style>\n",
       "<table border=\"1\" class=\"dataframe\">\n",
       "  <thead>\n",
       "    <tr style=\"text-align: right;\">\n",
       "      <th></th>\n",
       "      <th>pollution</th>\n",
       "      <th>dew</th>\n",
       "      <th>temp</th>\n",
       "      <th>press</th>\n",
       "      <th>wnd_dir</th>\n",
       "      <th>wnd_spd</th>\n",
       "      <th>snow</th>\n",
       "      <th>rain</th>\n",
       "    </tr>\n",
       "    <tr>\n",
       "      <th>date</th>\n",
       "      <th></th>\n",
       "      <th></th>\n",
       "      <th></th>\n",
       "      <th></th>\n",
       "      <th></th>\n",
       "      <th></th>\n",
       "      <th></th>\n",
       "      <th></th>\n",
       "    </tr>\n",
       "  </thead>\n",
       "  <tbody>\n",
       "    <tr>\n",
       "      <td>2010-01-02 00:00:00</td>\n",
       "      <td>129.0</td>\n",
       "      <td>-16</td>\n",
       "      <td>-4.0</td>\n",
       "      <td>1020.0</td>\n",
       "      <td>SE</td>\n",
       "      <td>1.79</td>\n",
       "      <td>0</td>\n",
       "      <td>0</td>\n",
       "    </tr>\n",
       "    <tr>\n",
       "      <td>2010-01-02 01:00:00</td>\n",
       "      <td>148.0</td>\n",
       "      <td>-15</td>\n",
       "      <td>-4.0</td>\n",
       "      <td>1020.0</td>\n",
       "      <td>SE</td>\n",
       "      <td>2.68</td>\n",
       "      <td>0</td>\n",
       "      <td>0</td>\n",
       "    </tr>\n",
       "    <tr>\n",
       "      <td>2010-01-02 02:00:00</td>\n",
       "      <td>159.0</td>\n",
       "      <td>-11</td>\n",
       "      <td>-5.0</td>\n",
       "      <td>1021.0</td>\n",
       "      <td>SE</td>\n",
       "      <td>3.57</td>\n",
       "      <td>0</td>\n",
       "      <td>0</td>\n",
       "    </tr>\n",
       "    <tr>\n",
       "      <td>2010-01-02 03:00:00</td>\n",
       "      <td>181.0</td>\n",
       "      <td>-7</td>\n",
       "      <td>-5.0</td>\n",
       "      <td>1022.0</td>\n",
       "      <td>SE</td>\n",
       "      <td>5.36</td>\n",
       "      <td>1</td>\n",
       "      <td>0</td>\n",
       "    </tr>\n",
       "    <tr>\n",
       "      <td>2010-01-02 04:00:00</td>\n",
       "      <td>138.0</td>\n",
       "      <td>-7</td>\n",
       "      <td>-5.0</td>\n",
       "      <td>1022.0</td>\n",
       "      <td>SE</td>\n",
       "      <td>6.25</td>\n",
       "      <td>2</td>\n",
       "      <td>0</td>\n",
       "    </tr>\n",
       "  </tbody>\n",
       "</table>\n",
       "</div>"
      ],
      "text/plain": [
       "                     pollution  dew  temp   press wnd_dir  wnd_spd  snow  rain\n",
       "date                                                                          \n",
       "2010-01-02 00:00:00      129.0  -16  -4.0  1020.0      SE     1.79     0     0\n",
       "2010-01-02 01:00:00      148.0  -15  -4.0  1020.0      SE     2.68     0     0\n",
       "2010-01-02 02:00:00      159.0  -11  -5.0  1021.0      SE     3.57     0     0\n",
       "2010-01-02 03:00:00      181.0   -7  -5.0  1022.0      SE     5.36     1     0\n",
       "2010-01-02 04:00:00      138.0   -7  -5.0  1022.0      SE     6.25     2     0"
      ]
     },
     "execution_count": 74,
     "metadata": {},
     "output_type": "execute_result"
    }
   ],
   "source": [
    "# load dataset\n",
    "dataset = read_csv('data/pollution.csv', header=0, index_col=0)\n",
    "dataset.head()"
   ]
  },
  {
   "cell_type": "code",
   "execution_count": 75,
   "metadata": {},
   "outputs": [
    {
     "data": {
      "text/plain": [
       "(43800, 8)"
      ]
     },
     "execution_count": 75,
     "metadata": {},
     "output_type": "execute_result"
    }
   ],
   "source": [
    "dataset.shape"
   ]
  },
  {
   "cell_type": "code",
   "execution_count": 76,
   "metadata": {},
   "outputs": [
    {
     "name": "stdout",
     "output_type": "stream",
     "text": [
      "<class 'pandas.core.frame.DataFrame'>\n",
      "Index: 43800 entries, 2010-01-02 00:00:00 to 2014-12-31 23:00:00\n",
      "Data columns (total 8 columns):\n",
      "pollution    43800 non-null float64\n",
      "dew          43800 non-null int64\n",
      "temp         43800 non-null float64\n",
      "press        43800 non-null float64\n",
      "wnd_dir      43800 non-null object\n",
      "wnd_spd      43800 non-null float64\n",
      "snow         43800 non-null int64\n",
      "rain         43800 non-null int64\n",
      "dtypes: float64(4), int64(3), object(1)\n",
      "memory usage: 3.0+ MB\n"
     ]
    }
   ],
   "source": [
    "dataset.info()"
   ]
  },
  {
   "cell_type": "code",
   "execution_count": 77,
   "metadata": {},
   "outputs": [
    {
     "name": "stdout",
     "output_type": "stream",
     "text": [
      "[[129.0 -16 -4.0 ... 1.79 0 0]\n",
      " [148.0 -15 -4.0 ... 2.68 0 0]\n",
      " [159.0 -11 -5.0 ... 3.57 0 0]\n",
      " ...\n",
      " [10.0 -22 -3.0 ... 242.7 0 0]\n",
      " [8.0 -22 -4.0 ... 246.72 0 0]\n",
      " [12.0 -21 -3.0 ... 249.85 0 0]]\n"
     ]
    }
   ],
   "source": [
    "values = dataset.values\n",
    "print(values)"
   ]
  },
  {
   "cell_type": "code",
   "execution_count": 78,
   "metadata": {},
   "outputs": [
    {
     "data": {
      "image/png": "[encoded data removed]",
      "text/plain": [
       "<Figure size 432x288 with 7 Axes>"
      ]
     },
     "metadata": {
      "needs_background": "light"
     },
     "output_type": "display_data"
    }
   ],
   "source": [
    "# specify columns to plot\n",
    "groups = [0, 1, 2, 3, 5, 6, 7]\n",
    "i = 1\n",
    "# plot each column\n",
    "pyplot.figure()\n",
    "for group in groups:\n",
    "    pyplot.subplot(len(groups), 1, i)\n",
    "    pyplot.plot(values[:, group])\n",
    "    pyplot.title(dataset.columns[group], y=0.5, loc='right')\n",
    "    i += 1\n",
    "pyplot.show()"
   ]
  },
  {
   "cell_type": "code",
   "execution_count": 79,
   "metadata": {
    "scrolled": true
   },
   "outputs": [
    {
     "name": "stdout",
     "output_type": "stream",
     "text": [
      "   var1(t-1)  var2(t-1)  var3(t-1)  var4(t-1)  var5(t-1)  var6(t-1)  \\\n",
      "1   0.129779   0.352941   0.245902   0.527273   0.666667   0.002290   \n",
      "2   0.148893   0.367647   0.245902   0.527273   0.666667   0.003811   \n",
      "3   0.159960   0.426471   0.229508   0.545454   0.666667   0.005332   \n",
      "4   0.182093   0.485294   0.229508   0.563637   0.666667   0.008391   \n",
      "5   0.138833   0.485294   0.229508   0.563637   0.666667   0.009912   \n",
      "\n",
      "   var7(t-1)  var8(t-1)   var1(t)  \n",
      "1   0.000000        0.0  0.148893  \n",
      "2   0.000000        0.0  0.159960  \n",
      "3   0.000000        0.0  0.182093  \n",
      "4   0.037037        0.0  0.138833  \n",
      "5   0.074074        0.0  0.109658  \n"
     ]
    }
   ],
   "source": [
    "def series_to_supervised(data, n_in=1, n_out=1, dropnan=True):\n",
    "    \"\"\"\n",
    "    Frame a time series as a supervised learning dataset.\n",
    "    Arguments:\n",
    "        data: Sequence of observations as a list or NumPy array.\n",
    "        n_in: Number of lag observations as input (X).\n",
    "        n_out: Number of observations as output (y).\n",
    "        dropnan: Boolean whether or not to drop rows with NaN values.\n",
    "    Returns:\n",
    "        Pandas DataFrame of series framed for supervised learning.\n",
    "    \"\"\"\n",
    "    n_vars = 1 if type(data) is list else data.shape[1]\n",
    "    df = DataFrame(data)\n",
    "    cols, names = list(), list()\n",
    "    # input sequence (t-n, ... t-1)\n",
    "    for i in range(n_in, 0, -1):\n",
    "        cols.append(df.shift(i))\n",
    "        names += [('var%d(t-%d)' % (j+1, i)) for j in range(n_vars)]\n",
    "    # forecast sequenceå (t, t+1, ... t+n)\n",
    "    for i in range(0, n_out):\n",
    "        cols.append(df.shift(-i))\n",
    "        if i == 0:\n",
    "            names += [('var%d(t)' % (j+1)) for j in range(n_vars)]\n",
    "        else:\n",
    "            names += [('var%d(t+%d)' % (j+1, i)) for j in range(n_vars)]\n",
    "    # put it all together\n",
    "    agg = concat(cols, axis=1)\n",
    "    agg.columns = names\n",
    "    # drop rows with NaN values\n",
    "    if dropnan:\n",
    "        agg.dropna(inplace=True)\n",
    "    return agg \n",
    "\n",
    "# load dataset\n",
    "dataset = read_csv('data/pollution.csv', header=0, index_col=0)\n",
    "values = dataset.values\n",
    "# integer encode direction\n",
    "encoder = preprocessing.LabelEncoder()\n",
    "values[:,4] = encoder.fit_transform(values[:,4])\n",
    "# ensure all data is float\n",
    "values = values.astype('float32')\n",
    "# normalize features\n",
    "scaler = preprocessing.MinMaxScaler(feature_range=(0, 1))\n",
    "scaled = scaler.fit_transform(values)\n",
    "# frame as supervised learning\n",
    "reframed = series_to_supervised(scaled, 1, 1)\n",
    "# drop columns we don't want to predict\n",
    "reframed.drop(reframed.columns[[9,10,11,12,13,14,15]], axis=1, inplace=True)\n",
    "print(reframed.head())"
   ]
  },
  {
   "cell_type": "code",
   "execution_count": 80,
   "metadata": {},
   "outputs": [
    {
     "data": {
      "text/plain": [
       "(43799, 9)"
      ]
     },
     "execution_count": 80,
     "metadata": {},
     "output_type": "execute_result"
    }
   ],
   "source": [
    "reframed.shape"
   ]
  },
  {
   "cell_type": "markdown",
   "metadata": {},
   "source": [
    "## Split train and test sets"
   ]
  },
  {
   "cell_type": "code",
   "execution_count": 81,
   "metadata": {},
   "outputs": [
    {
     "name": "stdout",
     "output_type": "stream",
     "text": [
      "(8760, 1, 8) (8760,) (35039, 1, 8) (35039,)\n"
     ]
    }
   ],
   "source": [
    "# split into train and test sets\n",
    "values = reframed.values\n",
    "n_train_hours = 365 * 24\n",
    "train = values[:n_train_hours, :]\n",
    "test = values[n_train_hours:, :]\n",
    "# split into input and outputs\n",
    "train_X, train_y = train[:, :-1], train[:, -1]\n",
    "test_X, test_y = test[:, :-1], test[:, -1]\n",
    "# reshape input to be 3D [samples, timesteps, features]\n",
    "train_X = train_X.reshape((train_X.shape[0], 1, train_X.shape[1]))\n",
    "test_X = test_X.reshape((test_X.shape[0], 1, test_X.shape[1]))\n",
    "print(train_X.shape, train_y.shape, test_X.shape, test_y.shape)"
   ]
  },
  {
   "cell_type": "code",
   "execution_count": 20,
   "metadata": {},
   "outputs": [],
   "source": [
    "class CollectWeightCallback(Callback):\n",
    "    def __init__(self, layer_index):\n",
    "        super(CollectWeightCallback, self).__init__()\n",
    "        self.layer_index = layer_index\n",
    "        self.weights = []\n",
    "\n",
    "    def on_epoch_end(self, epoch, logs=None):\n",
    "        layer = self.model.layers[self.layer_index]\n",
    "        self.weights.append(layer.get_weights())"
   ]
  },
  {
   "cell_type": "markdown",
   "metadata": {},
   "source": [
    "## Train model"
   ]
  },
  {
   "cell_type": "code",
   "execution_count": 82,
   "metadata": {
    "scrolled": false
   },
   "outputs": [
    {
     "name": "stdout",
     "output_type": "stream",
     "text": [
      "Train on 8760 samples, validate on 35039 samples\n",
      "Epoch 1/50\n",
      " - 2s - loss: 0.0603 - val_loss: 0.0588\n",
      "Epoch 2/50\n",
      " - 1s - loss: 0.0384 - val_loss: 0.0664\n",
      "Epoch 3/50\n",
      " - 1s - loss: 0.0199 - val_loss: 0.0351\n",
      "Epoch 4/50\n",
      " - 1s - loss: 0.0166 - val_loss: 0.0228\n",
      "Epoch 5/50\n",
      " - 1s - loss: 0.0159 - val_loss: 0.0179\n",
      "Epoch 6/50\n",
      " - 1s - loss: 0.0156 - val_loss: 0.0158\n",
      "Epoch 7/50\n",
      " - 1s - loss: 0.0153 - val_loss: 0.0147\n",
      "Epoch 8/50\n",
      " - 1s - loss: 0.0152 - val_loss: 0.0142\n",
      "Epoch 9/50\n",
      " - 1s - loss: 0.0150 - val_loss: 0.0139\n",
      "Epoch 10/50\n",
      " - 1s - loss: 0.0149 - val_loss: 0.0137\n",
      "Epoch 11/50\n",
      " - 1s - loss: 0.0150 - val_loss: 0.0137\n",
      "Epoch 12/50\n",
      " - 1s - loss: 0.0149 - val_loss: 0.0136\n",
      "Epoch 13/50\n",
      " - 1s - loss: 0.0148 - val_loss: 0.0135\n",
      "Epoch 14/50\n",
      " - 2s - loss: 0.0148 - val_loss: 0.0135\n",
      "Epoch 15/50\n",
      " - 1s - loss: 0.0148 - val_loss: 0.0135\n",
      "Epoch 16/50\n",
      " - 1s - loss: 0.0148 - val_loss: 0.0136\n",
      "Epoch 17/50\n",
      " - 1s - loss: 0.0148 - val_loss: 0.0135\n",
      "Epoch 18/50\n",
      " - 1s - loss: 0.0148 - val_loss: 0.0136\n",
      "Epoch 19/50\n",
      " - 1s - loss: 0.0147 - val_loss: 0.0136\n",
      "Epoch 20/50\n",
      " - 1s - loss: 0.0148 - val_loss: 0.0135\n",
      "Epoch 21/50\n",
      " - 1s - loss: 0.0148 - val_loss: 0.0136\n",
      "Epoch 22/50\n",
      " - 2s - loss: 0.0148 - val_loss: 0.0136\n",
      "Epoch 23/50\n",
      " - 1s - loss: 0.0147 - val_loss: 0.0136\n",
      "Epoch 24/50\n",
      " - 1s - loss: 0.0148 - val_loss: 0.0136\n",
      "Epoch 25/50\n",
      " - 1s - loss: 0.0147 - val_loss: 0.0136\n",
      "Epoch 26/50\n",
      " - 1s - loss: 0.0147 - val_loss: 0.0138\n",
      "Epoch 27/50\n",
      " - 1s - loss: 0.0148 - val_loss: 0.0137\n",
      "Epoch 28/50\n",
      " - 1s - loss: 0.0147 - val_loss: 0.0137\n",
      "Epoch 29/50\n",
      " - 1s - loss: 0.0147 - val_loss: 0.0138\n",
      "Epoch 30/50\n",
      " - 1s - loss: 0.0147 - val_loss: 0.0138\n",
      "Epoch 31/50\n",
      " - 1s - loss: 0.0147 - val_loss: 0.0138\n",
      "Epoch 32/50\n",
      " - 1s - loss: 0.0147 - val_loss: 0.0137\n",
      "Epoch 33/50\n",
      " - 1s - loss: 0.0147 - val_loss: 0.0138\n",
      "Epoch 34/50\n",
      " - 1s - loss: 0.0147 - val_loss: 0.0138\n",
      "Epoch 35/50\n",
      " - 1s - loss: 0.0146 - val_loss: 0.0138\n",
      "Epoch 36/50\n",
      " - 1s - loss: 0.0146 - val_loss: 0.0138\n",
      "Epoch 37/50\n",
      " - 1s - loss: 0.0147 - val_loss: 0.0139\n",
      "Epoch 38/50\n",
      " - 1s - loss: 0.0146 - val_loss: 0.0138\n",
      "Epoch 39/50\n",
      " - 1s - loss: 0.0147 - val_loss: 0.0139\n",
      "Epoch 40/50\n",
      " - 1s - loss: 0.0146 - val_loss: 0.0138\n",
      "Epoch 41/50\n",
      " - 1s - loss: 0.0146 - val_loss: 0.0137\n",
      "Epoch 42/50\n",
      " - 1s - loss: 0.0146 - val_loss: 0.0139\n",
      "Epoch 43/50\n",
      " - 1s - loss: 0.0146 - val_loss: 0.0139\n",
      "Epoch 44/50\n",
      " - 1s - loss: 0.0146 - val_loss: 0.0138\n",
      "Epoch 45/50\n",
      " - 1s - loss: 0.0145 - val_loss: 0.0140\n",
      "Epoch 46/50\n",
      " - 1s - loss: 0.0146 - val_loss: 0.0137\n",
      "Epoch 47/50\n",
      " - 1s - loss: 0.0146 - val_loss: 0.0137\n",
      "Epoch 48/50\n",
      " - 1s - loss: 0.0146 - val_loss: 0.0138\n",
      "Epoch 49/50\n",
      " - 1s - loss: 0.0146 - val_loss: 0.0137\n",
      "Epoch 50/50\n",
      " - 1s - loss: 0.0145 - val_loss: 0.0139\n",
      "Time took 1.0 min\n"
     ]
    },
    {
     "data": {
      "image/png": "[encoded data removed]",
      "text/plain": [
       "<Figure size 432x288 with 1 Axes>"
      ]
     },
     "metadata": {
      "needs_background": "light"
     },
     "output_type": "display_data"
    }
   ],
   "source": [
    "# design network\n",
    "model = Sequential()\n",
    "# First LSTM layer\n",
    "model.add(LSTM(50, return_sequences=True, input_shape=(train_X.shape[1], train_X.shape[2]), name='LSTM1'))\n",
    "# model.add(Dense(1))\n",
    "model.add(LSTM(units=50, input_shape=(train_X.shape[1], train_X.shape[2]),name='LSTM2'))\n",
    "# model.add(Dropout(0.2, name='dropout1'))\n",
    "# # Second LSTM layer\n",
    "# model.add(LSTM(units=50, return_sequences=True,name='LSTM2'))\n",
    "# model.add(Dropout(0.2, name='dropout2'))\n",
    "# # # Third LSTM layer\n",
    "# model.add(LSTM(units=50,name='LSTM3'))\n",
    "# model.add(Dropout(0.2, name='dropout3'))\n",
    "# # # Fourth LSTM layer\n",
    "# model.add(LSTM(units=50, name='LSTM4'))\n",
    "# model.add(Dropout(0.2, name='dropout4'))\n",
    "# # The output layer\n",
    "model.add(Dense(units=1, name='output'))\n",
    "model.compile(loss='mae', optimizer='adam')\n",
    "start = time.time()\n",
    "\n",
    "# fit network\n",
    "\n",
    "cbk = CollectWeightCallback(layer_index=-1)\n",
    "# history = model.fit(train_X, train_y, epochs=50, batch_size=72, validation_data=(test_X, test_y), verbose=2, shuffle=False,\n",
    "#                    callbacks=[cbk])\n",
    "history = model.fit(train_X, train_y, epochs=50, batch_size=72, validation_data=(test_X, test_y), verbose=2, shuffle=False,\n",
    "                   callbacks=[ModelCheckpoint(filepath='weights{epoch:03d}.hdf5')])\n",
    "\n",
    "\n",
    "\n",
    "\n",
    "end = time.time()\n",
    "print(\"Time took {:3.1f} min\".format((end-start)/60))\n",
    "# plot history\n",
    "pyplot.plot(history.history['loss'], label='train')\n",
    "pyplot.plot(history.history['val_loss'], label='test')\n",
    "pyplot.legend()\n",
    "pyplot.show()"
   ]
  },
  {
   "cell_type": "code",
   "execution_count": 83,
   "metadata": {},
   "outputs": [
    {
     "data": {
      "text/plain": [
       "(35039, 1, 8)"
      ]
     },
     "execution_count": 83,
     "metadata": {},
     "output_type": "execute_result"
    }
   ],
   "source": [
    "test_X.shape"
   ]
  },
  {
   "cell_type": "code",
   "execution_count": null,
   "metadata": {},
   "outputs": [],
   "source": []
  },
  {
   "cell_type": "markdown",
   "metadata": {},
   "source": [
    "## Evaluate Model and save model to file"
   ]
  },
  {
   "cell_type": "code",
   "execution_count": 87,
   "metadata": {},
   "outputs": [
    {
     "name": "stdout",
     "output_type": "stream",
     "text": [
      "[[0.03588513]\n",
      " [0.03196473]\n",
      " [0.02161688]\n",
      " ...\n",
      " [0.00929654]\n",
      " [0.00925644]\n",
      " [0.00763189]]\n"
     ]
    },
    {
     "data": {
      "text/plain": [
       "(35039, 1)"
      ]
     },
     "execution_count": 87,
     "metadata": {},
     "output_type": "execute_result"
    }
   ],
   "source": [
    "# make a prediction\n",
    "yhat = model.predict(test_X)\n",
    "print(yhat)\n",
    "yhat.shape"
   ]
  },
  {
   "cell_type": "code",
   "execution_count": 88,
   "metadata": {
    "scrolled": false
   },
   "outputs": [
    {
     "name": "stdout",
     "output_type": "stream",
     "text": [
      "Test RMSE: 26.951\n"
     ]
    }
   ],
   "source": [
    "test_X = test_X.reshape((test_X.shape[0], test_X.shape[2]))\n",
    "# test_X = test_X.reshape((test_X.shape[0], 1, test_X.shape[1]))\n",
    "\n",
    "\n",
    "# invert scaling for forecast\n",
    "inv_yhat = concatenate((yhat, test_X[:, 1:]), axis=1)\n",
    "inv_yhat = scaler.inverse_transform(inv_yhat)\n",
    "inv_yhat = inv_yhat[:,0]\n",
    "# invert scaling for actual\n",
    "test_y = test_y.reshape((len(test_y), 1))\n",
    "inv_y = concatenate((test_y, test_X[:, 1:]), axis=1)\n",
    "inv_y = scaler.inverse_transform(inv_y)\n",
    "inv_y = inv_y[:,0]\n",
    "# calculate RMSE\n",
    "rmse = sqrt(mean_squared_error(inv_y, inv_yhat))\n",
    "print('Test RMSE: %.3f' % rmse)"
   ]
  },
  {
   "cell_type": "code",
   "execution_count": null,
   "metadata": {},
   "outputs": [],
   "source": [
    "# save model to file\n",
    "model.save('data/lstm_model.h5')\n",
    "del model"
   ]
  },
  {
   "cell_type": "code",
   "execution_count": 2,
   "metadata": {},
   "outputs": [],
   "source": [
    "# load model from file\n",
    "model = load_model('data/lstm_model.h5')"
   ]
  },
  {
   "cell_type": "markdown",
   "metadata": {},
   "source": [
    "## Extract Weights from each layer"
   ]
  },
  {
   "cell_type": "code",
   "execution_count": 3,
   "metadata": {
    "scrolled": false
   },
   "outputs": [
    {
     "data": {
      "text/plain": [
       "[<keras.layers.recurrent.LSTM at 0x10cad3bd0>,\n",
       " <keras.layers.recurrent.LSTM at 0x1a39b20150>,\n",
       " <keras.layers.core.Dense at 0x1a3c7cfc10>]"
      ]
     },
     "execution_count": 3,
     "metadata": {},
     "output_type": "execute_result"
    }
   ],
   "source": [
    "# show number of layers in total\n",
    "model.layers"
   ]
  },
  {
   "cell_type": "code",
   "execution_count": 4,
   "metadata": {
    "scrolled": true
   },
   "outputs": [
    {
     "data": {
      "image/png": "[encoded data removed]",
      "text/plain": [
       "<IPython.core.display.Image object>"
      ]
     },
     "execution_count": 4,
     "metadata": {},
     "output_type": "execute_result"
    }
   ],
   "source": [
    "# show model structure and save to file\n",
    "plot_model(model, to_file='img/model.png', show_shapes=True, show_layer_names=True)"
   ]
  },
  {
   "cell_type": "code",
   "execution_count": 5,
   "metadata": {},
   "outputs": [],
   "source": [
    "# model.save_weights('data/lstm_weights.h5')"
   ]
  },
  {
   "cell_type": "code",
   "execution_count": 27,
   "metadata": {},
   "outputs": [],
   "source": [
    "def get_LSTM_UWb(weight):\n",
    "    '''\n",
    "    weight must be output of LSTM's layer.get_weights()\n",
    "    W: weights for input\n",
    "    U: weights for hidden states\n",
    "    b: bias\n",
    "    '''\n",
    "    warr,uarr, barr = weight\n",
    "    gates = [\"i\",\"f\",\"c\",\"o\"]\n",
    "    hunit = uarr.shape[0]\n",
    "    U, W, b = {},{},{}\n",
    "    for i1,i2 in enumerate(range(0,len(barr),hunit)):\n",
    "        \n",
    "        W[gates[i1]] = warr[:,i2:i2+hunit]\n",
    "        U[gates[i1]] = uarr[:,i2:i2+hunit]\n",
    "        b[gates[i1]] = barr[i2:i2+hunit].reshape(hunit,1)\n",
    "    return(W,U,b)\n",
    "\n",
    "# def get_LSTMweights(model1):\n",
    "#     for layer in model1.layers:\n",
    "#         if \"LSTM\" in str(layer):\n",
    "#             w = layer.get_weights()\n",
    "#             W,U,b = get_LSTM_UWb(w)\n",
    "#             break\n",
    "#     return W,U,b\n",
    "\n",
    "def get_LSTMweights(model,layer):\n",
    "    '''\n",
    "    Get weights for one layer\n",
    "    '''\n",
    "    if \"LSTM\" in str(layer):\n",
    "        w = layer.get_weights()\n",
    "        W,U,b = get_LSTM_UWb(w)\n",
    "    return W, U, b\n",
    "\n",
    "def vectorize_with_labels(W,U,b):\n",
    "    bs,bs_label,ws,ws_label,us,us_label=[],[],[],[],[],[]\n",
    "    for k in [\"i\",\"f\",\"c\",\"o\"]:\n",
    "        temp = list(W[k].flatten())\n",
    "        ws_label.extend([\"W_\"+k]*len(temp))\n",
    "        ws.extend(temp)\n",
    "\n",
    "        temp = list(U[k].flatten())\n",
    "        us_label.extend([\"U_\"+k]*len(temp))\n",
    "        us.extend(temp)    \n",
    "\n",
    "        temp = list(b[k].flatten())\n",
    "        bs_label.extend([\"b_\"+k]*len(temp))\n",
    "        bs.extend(temp)  \n",
    "    weight = ws + us + bs\n",
    "    wlabel = ws_label + us_label + bs_label\n",
    "    return(weight,wlabel)"
   ]
  },
  {
   "cell_type": "code",
   "execution_count": 7,
   "metadata": {},
   "outputs": [],
   "source": [
    "# input weights, weights from previous layer and bias weights in the first layer\n",
    "w1, u1, b1 = get_LSTMweights(model, model.layers[0])"
   ]
  },
  {
   "cell_type": "code",
   "execution_count": 8,
   "metadata": {},
   "outputs": [
    {
     "name": "stdout",
     "output_type": "stream",
     "text": [
      "{'i': array([[-5.18189222e-02,  2.81944543e-01,  9.66801047e-02,\n",
      "         2.09902465e-01,  1.24584764e-01, -2.48225465e-01,\n",
      "         1.60872698e-01,  2.50937670e-01, -1.54894039e-01,\n",
      "        -4.96075481e-01,  2.90301982e-02,  1.97872758e-01,\n",
      "         1.57053694e-01,  2.81879187e-01, -3.33018675e-02,\n",
      "         1.40239790e-01,  4.47271802e-02,  1.56965777e-02,\n",
      "         1.93020523e-01,  2.61494875e-01,  3.08222026e-01,\n",
      "        -1.84827611e-01,  5.96865267e-02,  1.98970437e-01,\n",
      "         9.01714638e-02, -1.53456643e-01,  1.96757898e-01,\n",
      "         4.90890481e-02,  2.54736803e-02, -3.60550553e-01,\n",
      "         7.56893754e-02, -2.04718828e-01,  2.17067912e-01,\n",
      "         3.06952417e-01,  5.26334308e-02, -2.78127223e-01,\n",
      "        -2.55765945e-01,  1.84317321e-01,  1.32286444e-01,\n",
      "         1.27834287e-02, -2.27993820e-02,  1.97600320e-01,\n",
      "        -6.14436626e-01,  1.76285237e-01,  2.39550680e-01,\n",
      "         1.74375519e-01,  1.44276932e-01, -2.08849028e-01,\n",
      "         3.12287927e-01, -1.91190001e-02],\n",
      "       [ 1.04747795e-01,  9.99474600e-02, -2.38921270e-01,\n",
      "         7.65352771e-02, -8.39985535e-02,  2.37183928e-01,\n",
      "        -1.05448082e-01,  5.51336519e-02,  2.31736898e-01,\n",
      "         5.49275018e-02, -2.62693781e-02,  1.96496062e-02,\n",
      "        -6.29702434e-02, -3.55544388e-02, -1.12819634e-01,\n",
      "         3.07628870e-01,  2.94245303e-01,  2.12840721e-01,\n",
      "         2.00255260e-01, -2.06044331e-01,  5.16081229e-02,\n",
      "         1.23956025e-01,  8.81006867e-02, -1.01459086e-01,\n",
      "        -1.45149857e-01,  4.46126163e-02,  1.69688940e-01,\n",
      "         8.94668996e-02,  2.28520840e-01,  2.72944737e-02,\n",
      "        -3.71788330e-02, -2.09087044e-01,  5.79042956e-02,\n",
      "         5.01641817e-02,  1.01614714e-01,  1.85013473e-01,\n",
      "        -3.02030742e-01,  1.51354194e-01, -5.22629693e-02,\n",
      "        -1.30798355e-01, -1.09227270e-01,  1.20090991e-01,\n",
      "         2.49763593e-01, -1.28818333e-01, -1.09870821e-01,\n",
      "         5.03724217e-02, -1.61681101e-01,  1.20717898e-01,\n",
      "         2.02706344e-02,  2.31655777e-01],\n",
      "       [-1.81749523e-01, -3.97213846e-02, -4.86987457e-02,\n",
      "        -2.60551758e-02, -1.20037816e-01,  1.40166909e-01,\n",
      "        -8.80528539e-02, -1.49684697e-01,  2.69838721e-02,\n",
      "        -2.95942053e-02, -1.04499489e-01, -4.99084480e-02,\n",
      "         9.52069908e-02,  9.23119113e-03, -1.58505231e-01,\n",
      "         8.42181966e-02,  8.33828673e-02, -5.83319552e-03,\n",
      "         1.19620837e-01, -2.58105606e-01,  1.21174589e-01,\n",
      "        -1.13856956e-01, -4.10089083e-02, -1.49627283e-01,\n",
      "         2.62132939e-02,  1.53200507e-01,  2.60977983e-01,\n",
      "        -3.80271785e-02,  2.14659739e-02,  9.89779308e-02,\n",
      "        -6.06013052e-02, -1.93645105e-01,  1.75762121e-02,\n",
      "         1.03409335e-01, -1.92815691e-01, -1.10500820e-01,\n",
      "        -2.82749176e-01,  9.18051451e-02, -7.40555814e-03,\n",
      "        -9.79078468e-03, -1.72025189e-01, -2.62560308e-01,\n",
      "        -1.40487194e-01, -8.86555538e-02, -3.63733135e-02,\n",
      "         1.20040514e-01,  1.33278355e-01,  1.73149332e-01,\n",
      "        -5.79986908e-02,  8.93568322e-02],\n",
      "       [-1.61572963e-01, -6.45552576e-02,  4.19961922e-02,\n",
      "         1.64194420e-01,  9.72538739e-02,  1.01723813e-01,\n",
      "         5.52559905e-02,  7.28209913e-02,  1.99320555e-01,\n",
      "        -1.27983894e-02,  1.38377510e-02,  1.50284111e-01,\n",
      "        -2.28974093e-02, -1.66894756e-02, -1.17962942e-01,\n",
      "         8.07793066e-02, -8.51288661e-02, -1.63533464e-01,\n",
      "         1.86544091e-01, -2.76818126e-01, -8.04456025e-02,\n",
      "        -1.32144749e-01, -3.17735225e-02, -7.90369362e-02,\n",
      "        -7.26160035e-02,  1.28340051e-01,  3.52316462e-02,\n",
      "         1.62251920e-01,  2.84781069e-01, -1.68478787e-01,\n",
      "         1.51914403e-01, -3.59966815e-01, -2.31323794e-01,\n",
      "        -5.46355918e-02,  1.40405819e-01, -1.36639163e-01,\n",
      "        -1.31950513e-01, -1.35295661e-02,  1.19958736e-01,\n",
      "        -1.64671406e-01, -2.74908215e-01,  1.12589136e-01,\n",
      "         1.31254241e-01, -2.48065665e-02, -1.39916837e-01,\n",
      "        -8.46672282e-02, -3.71888652e-02,  7.70167708e-02,\n",
      "        -1.01007536e-01, -8.98958892e-02],\n",
      "       [ 5.47424592e-02, -4.13064249e-02, -1.34844407e-02,\n",
      "        -1.12524465e-01,  1.34945020e-01,  6.76495358e-02,\n",
      "        -7.32846558e-02, -2.57788487e-02,  1.19484380e-01,\n",
      "        -1.28295332e-01, -1.72197282e-01, -1.46084176e-02,\n",
      "         7.86618888e-02, -3.52164842e-02, -1.63474470e-01,\n",
      "         7.86447972e-02,  6.49415841e-03,  1.75581858e-01,\n",
      "         1.29890934e-01, -2.77210176e-01,  1.10228181e-01,\n",
      "         2.31542508e-03, -4.34041880e-02, -3.33177000e-02,\n",
      "        -1.50889188e-01,  1.11082584e-01,  2.75113642e-01,\n",
      "         6.84830397e-02,  8.66490304e-02, -5.22248596e-02,\n",
      "        -2.17691287e-01, -2.29587123e-01,  1.66648179e-01,\n",
      "         5.72200567e-02, -3.24600309e-01, -2.51268386e-03,\n",
      "        -4.04739439e-01, -3.29935513e-02, -1.49806991e-01,\n",
      "         2.10837908e-02, -2.06177562e-01, -2.36294553e-01,\n",
      "         2.54199207e-01, -2.82440662e-01, -1.42194733e-01,\n",
      "         1.37380093e-01, -2.80031539e-03,  2.79446691e-01,\n",
      "         1.05856873e-01,  2.22527131e-01],\n",
      "       [-4.54434603e-02,  6.10009283e-02, -1.30541906e-01,\n",
      "         2.91557349e-02,  1.22334421e-01, -1.21924236e-01,\n",
      "        -7.31106102e-02,  2.41872687e-02, -2.58355111e-01,\n",
      "        -1.55346662e-01, -1.24794491e-01,  1.00202665e-01,\n",
      "        -2.06794903e-01,  6.17945120e-02, -1.99190471e-02,\n",
      "        -9.00839195e-02,  1.30730897e-01,  3.33785973e-02,\n",
      "        -1.17181567e-02,  6.14841692e-02,  1.80608600e-01,\n",
      "        -1.55659169e-01,  4.51090597e-02, -1.37772158e-01,\n",
      "         1.90602094e-01, -1.18111009e-02,  6.50912151e-02,\n",
      "        -4.21558857e-01, -1.04395092e-01, -1.37463793e-01,\n",
      "         2.25281700e-01,  6.90201819e-02, -1.33728713e-01,\n",
      "         4.98037860e-02,  4.47245836e-02, -2.62794584e-01,\n",
      "        -9.21308622e-02,  7.72919729e-02, -6.05402701e-02,\n",
      "         8.39749798e-02, -1.66841254e-01,  1.39794245e-01,\n",
      "        -3.69826019e-01, -2.05553815e-01,  5.08354753e-02,\n",
      "         5.50509393e-02,  1.48953870e-01,  6.20162562e-02,\n",
      "         2.40024596e-01, -2.76851817e-04],\n",
      "       [ 1.15035214e-01,  1.70411263e-02, -1.51921928e-01,\n",
      "         1.32340237e-01, -2.58912216e-04,  7.00680986e-02,\n",
      "        -5.70668690e-02,  4.07069996e-02, -3.04920912e-01,\n",
      "        -1.05629928e-01,  1.66671187e-01, -1.33922949e-01,\n",
      "        -2.02109084e-01,  2.67387122e-01, -2.26119235e-01,\n",
      "        -4.49732184e-01, -1.45905748e-01, -2.33198255e-01,\n",
      "        -2.46914010e-02, -8.93301964e-02, -1.99066490e-01,\n",
      "         1.45837754e-01, -1.36279762e-01, -4.65767272e-02,\n",
      "         2.01967862e-02,  6.45375475e-02, -1.53232530e-01,\n",
      "        -1.65679067e-01,  2.51547303e-02,  2.00220212e-01,\n",
      "        -4.53030951e-02,  1.88232884e-02, -1.64968118e-01,\n",
      "        -1.60582036e-01, -5.55049106e-02,  9.54591557e-02,\n",
      "        -5.45418297e-04, -1.23152256e-01, -4.67210382e-01,\n",
      "        -1.00131270e-04,  8.31177011e-02,  4.20666710e-02,\n",
      "         4.59610969e-02,  3.68990302e-02,  4.99230176e-02,\n",
      "         8.77861902e-02,  6.48402702e-03,  1.61309913e-02,\n",
      "        -2.45094270e-01, -4.77129698e-01],\n",
      "       [-2.22096130e-01,  4.65941466e-02,  1.65926367e-02,\n",
      "        -1.44996032e-01, -1.08717404e-01,  8.30245391e-02,\n",
      "        -1.62617251e-01,  2.38956474e-02, -2.10766569e-01,\n",
      "        -2.26003274e-01,  5.37991931e-04, -1.85914654e-02,\n",
      "         4.57695350e-02,  8.30829889e-02,  1.16376221e-01,\n",
      "        -9.75727588e-02, -1.29162669e-01,  1.50676101e-01,\n",
      "        -3.45497653e-02, -2.19676033e-01, -6.46131486e-02,\n",
      "        -2.52467573e-01, -6.37720451e-02, -7.74295181e-02,\n",
      "        -1.77888036e-01, -2.19841287e-01,  5.94604947e-02,\n",
      "        -1.93236619e-01,  5.42245954e-02,  3.28762969e-03,\n",
      "        -7.52496347e-02, -1.89349905e-01, -1.09116659e-01,\n",
      "        -1.80374578e-01, -1.97126687e-01, -1.73133239e-01,\n",
      "        -2.47578546e-01, -3.74891795e-02, -7.30883777e-01,\n",
      "        -2.18170621e-02, -1.02477700e-01, -1.80362448e-01,\n",
      "        -5.92897274e-02, -2.49847025e-01, -1.90895498e-01,\n",
      "        -7.96300769e-02, -7.94741362e-02,  1.24975100e-01,\n",
      "         5.47607169e-02, -1.45407505e-02]], dtype=float32), 'f': array([[-5.44149652e-02, -1.13093160e-01, -7.55153596e-03,\n",
      "        -1.14464834e-01, -9.78944972e-02, -1.79639608e-02,\n",
      "        -1.09651342e-01, -1.36948168e-01, -6.00523353e-02,\n",
      "        -4.49318215e-02, -3.51409614e-02,  5.86206913e-02,\n",
      "        -7.99292848e-02,  3.36265564e-02,  4.76072580e-02,\n",
      "        -1.01994410e-01, -7.60747939e-02, -1.57647789e-01,\n",
      "        -1.18895456e-01,  1.66112930e-01,  1.59893274e-01,\n",
      "        -9.28477198e-02,  3.75927240e-02, -1.64278656e-01,\n",
      "         1.14425272e-01,  4.46188897e-02, -1.06765054e-01,\n",
      "        -1.03535950e-01, -7.72820413e-03,  1.62905276e-01,\n",
      "        -9.92992073e-02, -1.05676755e-01, -1.57415032e-01,\n",
      "        -1.31726027e-01, -1.21332839e-01, -1.30923733e-01,\n",
      "        -1.43779516e-02,  1.54384434e-01,  1.67416334e-01,\n",
      "         8.12508166e-02, -1.27616435e-01, -1.22174323e-01,\n",
      "        -4.34462428e-02, -1.05931580e-01,  2.98321247e-02,\n",
      "        -6.20139539e-02,  6.38488680e-02,  5.19398153e-02,\n",
      "        -1.52890787e-01,  9.01420712e-02],\n",
      "       [-1.23537540e-01,  5.54914474e-02,  5.94606400e-02,\n",
      "        -7.73285106e-02,  1.38286501e-02,  1.61628127e-02,\n",
      "        -8.35054964e-02, -7.19059259e-02,  6.23910129e-03,\n",
      "         2.32739747e-02, -1.33447602e-01, -1.67010903e-01,\n",
      "        -6.69946000e-02,  1.95635855e-03,  2.90995538e-02,\n",
      "        -6.05061874e-02,  1.78135633e-02, -1.03953436e-01,\n",
      "        -4.64485809e-02, -1.14883535e-01,  1.12507313e-01,\n",
      "        -2.32762098e-02,  1.52287513e-01,  1.41792804e-01,\n",
      "        -1.24791533e-01,  9.00451839e-02,  1.13334864e-01,\n",
      "         1.56475216e-01, -7.75478631e-02, -1.63377926e-01,\n",
      "        -7.39288926e-02, -3.01269889e-02, -1.44026414e-01,\n",
      "         1.00665063e-01,  1.28846586e-01, -1.35363713e-01,\n",
      "         1.62017673e-01, -3.64220142e-02, -1.21443018e-01,\n",
      "        -3.90920639e-02,  2.93172449e-02,  9.26462710e-02,\n",
      "         1.69193894e-02,  3.45589221e-02,  9.71623063e-02,\n",
      "         1.66485667e-01, -3.97433192e-02, -7.67803937e-02,\n",
      "        -8.14143792e-02, -1.42013162e-01],\n",
      "       [-1.02840357e-01, -1.65873453e-01, -3.30334157e-02,\n",
      "         9.71489847e-02, -9.14541408e-02, -6.44235536e-02,\n",
      "        -1.00057162e-01, -1.54230744e-02, -1.38414726e-01,\n",
      "        -8.74512941e-02, -1.53814077e-01, -5.00675589e-02,\n",
      "        -9.94343385e-02,  3.87798697e-02,  1.06152147e-01,\n",
      "        -1.60722807e-01, -1.59777984e-01,  5.22231758e-02,\n",
      "        -1.52980030e-01,  8.06038976e-02, -8.33095089e-02,\n",
      "        -1.43914491e-01,  1.61183059e-01,  1.26855046e-01,\n",
      "        -3.30619216e-02,  1.55371785e-01, -1.60990641e-01,\n",
      "         3.61833870e-02,  1.66896105e-01,  1.33969724e-01,\n",
      "        -2.17395276e-02,  8.20239186e-02, -1.15495794e-01,\n",
      "        -8.91797245e-03, -9.81176123e-02,  5.59781790e-02,\n",
      "         8.61638784e-02,  7.50915706e-02,  6.78854585e-02,\n",
      "        -3.29975784e-03, -8.89804438e-02,  3.08708251e-02,\n",
      "        -2.89068967e-02, -3.49983573e-04, -3.13354433e-02,\n",
      "        -4.23425138e-02, -2.26856917e-02, -1.26009896e-01,\n",
      "        -1.48557022e-01,  1.18607104e-01],\n",
      "       [-1.48455873e-01,  9.55632925e-02,  1.28364831e-01,\n",
      "         4.48602736e-02,  2.25066692e-02, -2.40126997e-02,\n",
      "         6.02370203e-02, -1.17306501e-01, -4.10888791e-02,\n",
      "        -1.15643889e-02, -9.94441733e-02, -3.76582742e-02,\n",
      "         5.72782904e-02, -2.93546617e-02,  8.22317898e-02,\n",
      "        -5.74470684e-02,  7.85809755e-02, -1.55772895e-01,\n",
      "        -7.25885630e-02,  6.70588166e-02, -1.30565569e-01,\n",
      "        -1.33705869e-01,  1.53695434e-01, -2.08268762e-02,\n",
      "         5.39612025e-02, -1.56035662e-01, -1.88078433e-02,\n",
      "        -1.32295847e-01, -1.19014993e-01,  4.98108268e-02,\n",
      "         5.94264269e-02,  1.59347624e-01,  5.80935031e-02,\n",
      "        -1.63587153e-01, -3.71979475e-02,  8.85276794e-02,\n",
      "        -4.90222201e-02, -1.65601298e-01,  5.65101802e-02,\n",
      "        -3.46112698e-02, -1.21658519e-01,  8.58147144e-02,\n",
      "        -1.48691505e-01,  1.63105160e-01, -1.02442630e-01,\n",
      "        -1.31717727e-01,  2.87795365e-02, -3.39731574e-03,\n",
      "         8.49404931e-02, -9.14223120e-02],\n",
      "       [-1.54061899e-01, -1.21273100e-01,  1.01787239e-01,\n",
      "         1.31464690e-01, -2.18542367e-02, -1.06372878e-01,\n",
      "         4.53917533e-02,  5.03769666e-02,  1.66630924e-01,\n",
      "        -6.49854541e-03, -2.94010341e-03, -3.42252553e-02,\n",
      "         9.87406373e-02,  7.38162398e-02,  7.03597665e-02,\n",
      "         4.46667969e-02, -1.22347720e-01, -4.35246378e-02,\n",
      "        -1.13243029e-01, -1.63465425e-01, -1.28775716e-01,\n",
      "        -1.59710646e-04,  1.32044643e-01,  5.64159006e-02,\n",
      "        -1.23711698e-01, -1.24472573e-01, -1.20953739e-01,\n",
      "        -2.09382027e-02,  5.92100769e-02,  4.78874147e-03,\n",
      "        -8.44689533e-02,  4.96923923e-02, -1.25170916e-01,\n",
      "        -1.59525901e-01, -6.71586394e-03,  4.55853045e-02,\n",
      "        -1.03038043e-01,  5.75423092e-02,  1.39567435e-01,\n",
      "        -1.34577006e-01,  8.94933641e-02, -1.60394326e-01,\n",
      "         4.38029468e-02,  1.20932341e-01,  1.18798763e-01,\n",
      "        -7.76243955e-02,  1.68748796e-01,  6.04701042e-02,\n",
      "        -2.46930271e-02, -8.78768340e-02],\n",
      "       [-9.96327102e-02, -1.57857373e-01,  1.20611966e-01,\n",
      "        -1.52159482e-01, -2.86972970e-02, -1.45769060e-01,\n",
      "        -7.84016252e-02, -6.26282394e-03,  1.00816429e-01,\n",
      "        -5.04904315e-02, -3.55088860e-02, -1.45043328e-01,\n",
      "         1.25889957e-01,  5.35169095e-02, -1.49876088e-01,\n",
      "        -7.28550851e-02, -1.07327834e-01,  1.41891658e-01,\n",
      "         1.14926726e-01, -4.95347455e-02, -1.56356856e-01,\n",
      "         2.11246312e-03,  1.54932916e-01, -1.97675675e-02,\n",
      "        -1.27654791e-01, -4.24481183e-02, -1.63094848e-02,\n",
      "         4.67720777e-02, -1.50970832e-01,  4.85984236e-02,\n",
      "        -2.68758237e-02, -6.36166856e-02,  3.56964171e-02,\n",
      "        -1.53564036e-01, -5.86792827e-02,  4.71506566e-02,\n",
      "         4.95459586e-02,  5.80560118e-02,  7.33366013e-02,\n",
      "        -8.22767615e-02,  9.37843621e-02, -4.77152988e-02,\n",
      "         1.45476639e-01, -4.59064171e-02, -8.02116394e-02,\n",
      "         1.39988065e-01,  7.54906833e-02,  8.34289193e-02,\n",
      "         1.26692772e-01, -5.47808260e-02],\n",
      "       [-9.48452950e-03, -7.77059793e-03,  8.60815644e-02,\n",
      "         1.09102011e-01, -3.31405103e-02,  1.01233065e-01,\n",
      "        -5.82960546e-02,  1.16516054e-02, -5.14517426e-02,\n",
      "         8.06024671e-03,  5.94197512e-02,  6.20987862e-02,\n",
      "        -1.29425526e-03,  7.93607086e-02, -1.37576610e-02,\n",
      "         1.71762854e-02,  9.72765386e-02, -4.72649708e-02,\n",
      "         1.24257594e-01,  9.43297148e-03,  1.39892340e-01,\n",
      "        -6.07301965e-02, -1.02065071e-01, -1.53977305e-01,\n",
      "        -7.28938356e-02,  1.13122314e-02, -8.59297812e-03,\n",
      "        -6.81934059e-02, -1.31587341e-01,  8.97924602e-02,\n",
      "         5.46484590e-02,  1.05914026e-02, -8.40407610e-03,\n",
      "         1.46446675e-01, -1.69172972e-01, -4.24237549e-03,\n",
      "         1.65683359e-01, -3.80412191e-02,  1.68995857e-02,\n",
      "        -1.63473412e-01,  1.36430293e-01, -8.99553597e-02,\n",
      "        -6.60315901e-02,  2.50373036e-02, -7.26469085e-02,\n",
      "        -9.31718349e-02,  7.00254440e-02,  1.22828424e-01,\n",
      "        -4.72240299e-02, -1.19092211e-01],\n",
      "       [ 1.11288100e-01,  1.51724577e-01, -1.43290609e-01,\n",
      "         5.95583171e-02,  1.11461729e-02, -9.55911055e-02,\n",
      "        -1.57159030e-01, -1.26394778e-02,  5.13586104e-02,\n",
      "         7.49719143e-02, -1.26618147e-03,  1.12487227e-01,\n",
      "         9.05264318e-02,  1.33590907e-01, -1.24405473e-01,\n",
      "         1.12162054e-01, -3.85799110e-02, -5.77691197e-03,\n",
      "        -9.86486822e-02,  1.34655565e-01,  1.15694702e-01,\n",
      "         1.34767920e-01,  9.79847014e-02,  1.60337150e-01,\n",
      "         1.30384237e-01,  1.12602830e-01,  1.55508399e-01,\n",
      "        -8.81603286e-02,  4.99902219e-02,  1.16256654e-01,\n",
      "         1.02727026e-01, -4.95817214e-02, -1.14909165e-01,\n",
      "        -7.63859078e-02, -1.53525725e-01, -1.66568279e-01,\n",
      "        -5.80615178e-02, -4.66653407e-02,  5.14795184e-02,\n",
      "         7.06403852e-02,  8.35083425e-03,  2.50418484e-03,\n",
      "        -1.37944803e-01,  4.90252525e-02,  3.47863734e-02,\n",
      "        -1.21333972e-01,  2.94141918e-02,  4.59252447e-02,\n",
      "        -1.10983208e-01, -2.00188011e-02]], dtype=float32), 'c': array([[ 3.88985097e-01,  3.15310240e-01, -2.93768737e-02,\n",
      "         4.69542027e-01,  2.73872375e-01, -4.10071820e-01,\n",
      "        -8.36540237e-02,  4.71772999e-01,  5.17484009e-01,\n",
      "         3.40579718e-01, -4.04953331e-01, -4.09897476e-01,\n",
      "        -4.62178171e-01, -5.14782548e-01,  1.09211663e-02,\n",
      "        -5.27849197e-01, -4.73541707e-01, -4.83238488e-01,\n",
      "        -4.84363914e-01, -2.44704083e-01, -3.72140229e-01,\n",
      "        -4.04731810e-01,  4.34103161e-01, -5.78254312e-02,\n",
      "        -4.56331342e-01, -4.26211864e-01, -5.04837632e-01,\n",
      "         4.70993668e-01,  5.09264767e-01,  2.97427177e-01,\n",
      "         4.90800381e-01, -2.42440891e-03,  3.39267462e-01,\n",
      "         4.16060776e-01, -3.18467200e-01, -5.09929121e-01,\n",
      "         1.48876801e-01, -4.13487554e-01, -3.50031644e-01,\n",
      "        -3.19618165e-01, -2.61899345e-02,  3.90568614e-01,\n",
      "        -4.31364000e-01,  3.47694941e-02,  1.83862463e-01,\n",
      "        -3.34804833e-01,  3.67142409e-01, -5.11979342e-01,\n",
      "         3.47079784e-01,  4.23373967e-01],\n",
      "       [ 1.13291452e-02,  1.23169057e-01, -1.13580897e-02,\n",
      "         2.54844222e-02,  7.32541680e-02, -8.70800614e-02,\n",
      "        -8.05594474e-02,  3.64485830e-02, -1.26199797e-01,\n",
      "        -6.06107563e-02, -4.35247384e-02, -8.36009383e-02,\n",
      "         1.47791237e-01, -8.32801238e-02,  3.18201892e-02,\n",
      "         5.39498702e-02, -9.80484858e-02, -7.11338874e-03,\n",
      "        -1.56912029e-01, -4.61000800e-02, -1.16329774e-01,\n",
      "        -5.71926907e-02, -1.64428502e-02, -7.70675838e-02,\n",
      "        -1.32403625e-02, -5.23559377e-02,  2.84968433e-03,\n",
      "        -1.43245503e-01,  8.91387090e-02,  1.39318347e-01,\n",
      "         1.04176715e-01,  9.92500633e-02,  4.36985865e-02,\n",
      "        -1.47845559e-02,  3.23932357e-02,  1.21520482e-01,\n",
      "         9.87589452e-03,  7.89915398e-02, -1.14256859e-01,\n",
      "        -2.56340299e-02, -1.81110874e-02, -4.41050157e-02,\n",
      "         1.50416538e-01, -1.36317015e-01, -5.56037910e-02,\n",
      "        -8.24690387e-02,  1.34068280e-01,  8.88833553e-02,\n",
      "         9.87804458e-02, -8.52740407e-02],\n",
      "       [ 8.51888210e-02, -1.44758701e-01,  1.28443837e-02,\n",
      "         4.29079123e-02,  3.88103351e-02,  9.81389452e-03,\n",
      "        -9.48195234e-02,  7.40196630e-02, -7.86697119e-02,\n",
      "        -4.30728644e-02, -5.93793765e-02,  7.64795765e-02,\n",
      "        -1.04795821e-01,  1.20931780e-02,  9.12439264e-03,\n",
      "        -1.21813945e-01, -3.12702768e-02, -2.36759186e-02,\n",
      "        -3.40418518e-02,  5.97511530e-02,  8.65051150e-02,\n",
      "         7.43523315e-02,  3.06868330e-02,  6.30658641e-02,\n",
      "        -3.83392535e-02,  1.65283620e-01,  2.48705763e-02,\n",
      "         1.37638822e-01, -1.42571345e-01, -3.56012061e-02,\n",
      "        -2.07027290e-02, -1.18126512e-01,  8.29551220e-02,\n",
      "        -6.92056045e-02,  5.60336299e-02, -4.04625162e-02,\n",
      "        -1.30332902e-01, -1.15813047e-01,  1.95597932e-01,\n",
      "         3.96156125e-02,  3.61251156e-03,  1.23558044e-01,\n",
      "        -1.21213786e-01, -3.45862657e-02,  9.39480960e-02,\n",
      "         4.66970541e-02, -1.62429050e-01, -2.13262253e-02,\n",
      "        -7.77337477e-02,  8.95517915e-02],\n",
      "       [-8.66719186e-02,  1.20737545e-01,  2.94346921e-02,\n",
      "        -1.38218394e-02,  7.70250261e-02,  1.43897489e-01,\n",
      "         2.76746005e-02,  8.43047053e-02,  6.25198111e-02,\n",
      "        -1.04866393e-01, -1.13235787e-02,  7.42531642e-02,\n",
      "        -1.64683878e-01, -8.17320251e-05,  4.94939387e-02,\n",
      "         1.01034105e-01,  1.45095184e-01,  6.34701550e-02,\n",
      "         9.09132138e-02, -7.05374330e-02,  1.60122156e-01,\n",
      "         8.11109617e-02,  1.53187126e-01, -2.13526096e-02,\n",
      "        -1.30520716e-01, -7.03948084e-04,  3.56251337e-02,\n",
      "         7.46457651e-02,  1.01847380e-01, -1.02728173e-01,\n",
      "         9.42600816e-02, -6.35894537e-02, -1.18804485e-01,\n",
      "         2.72684544e-02, -3.99558879e-02,  5.64860515e-02,\n",
      "         1.32915944e-01, -8.74387175e-02, -5.92878163e-02,\n",
      "         2.45659444e-02, -3.08979116e-02,  8.53517801e-02,\n",
      "         6.16188049e-02,  6.31399453e-02, -1.63649954e-02,\n",
      "         5.62149361e-02,  1.10245362e-01,  1.49727450e-03,\n",
      "        -8.09989944e-02, -1.50995940e-01],\n",
      "       [-1.31515801e-01,  2.86842091e-03,  3.50885950e-02,\n",
      "        -1.44983446e-02,  8.27928260e-02,  6.50366470e-02,\n",
      "        -4.47858386e-02,  3.04698087e-02,  7.66348392e-02,\n",
      "        -2.11026724e-02,  8.23150128e-02, -5.28544113e-02,\n",
      "         8.11497122e-02,  4.41472754e-02, -2.92176125e-03,\n",
      "        -2.06120200e-02, -4.39335629e-02, -6.57279491e-02,\n",
      "         1.29602939e-01, -1.23633156e-02, -1.20980814e-01,\n",
      "         7.71575198e-02,  3.77211124e-02, -1.70675814e-02,\n",
      "        -5.07807583e-02, -1.28499763e-02, -4.10308279e-02,\n",
      "        -2.96644233e-02, -9.39123556e-02, -1.42723620e-01,\n",
      "        -6.55306503e-02,  5.91934994e-02,  1.14684463e-01,\n",
      "         1.14838712e-01,  2.60376856e-02,  3.02124228e-02,\n",
      "        -7.75565803e-02, -8.79053175e-02,  5.20678051e-02,\n",
      "        -4.56027910e-02,  8.29952862e-03, -1.79426044e-01,\n",
      "        -3.81814688e-02,  6.33371994e-02,  3.61820385e-02,\n",
      "         5.32720378e-03,  1.06542654e-01, -3.68437096e-02,\n",
      "         8.78705159e-02,  1.15905754e-01],\n",
      "       [ 2.81232018e-02, -1.05997920e-02,  1.25542479e-02,\n",
      "        -1.38519078e-01, -1.00448661e-01,  4.23292890e-02,\n",
      "        -1.18991524e-01, -7.79825151e-02, -2.79175602e-02,\n",
      "         9.18951929e-02,  8.79831612e-02,  7.53994286e-02,\n",
      "        -8.09564292e-02,  1.23701751e-01, -9.06784534e-02,\n",
      "        -9.32868570e-02, -1.50515959e-01,  3.12510245e-02,\n",
      "         1.71710132e-03,  2.51603834e-02,  7.91170597e-02,\n",
      "        -9.19741094e-02,  5.53244501e-02, -7.01863915e-02,\n",
      "         1.13674328e-01, -4.28536907e-02, -3.50147747e-02,\n",
      "        -5.06921597e-02, -1.01358928e-01, -1.42122339e-02,\n",
      "        -4.31427397e-02, -6.65900931e-02, -1.20910428e-01,\n",
      "        -1.08422354e-01, -1.18617624e-01,  1.05220787e-01,\n",
      "        -7.72635415e-02, -9.76215601e-02, -1.73790485e-01,\n",
      "         7.38320425e-02,  1.72680914e-02,  9.34049487e-02,\n",
      "        -5.62217720e-02,  1.16936177e-01,  6.43799677e-02,\n",
      "        -1.56267337e-03, -1.35881435e-02, -8.39212835e-02,\n",
      "        -1.29608260e-02,  5.02007678e-02],\n",
      "       [ 6.89978376e-02, -1.39040858e-01, -7.62758851e-02,\n",
      "        -7.30061755e-02,  1.38967380e-01,  4.62905429e-02,\n",
      "         1.29584089e-01, -6.78237677e-02, -6.09711744e-03,\n",
      "        -8.02240372e-02,  5.31274341e-02,  3.64423618e-02,\n",
      "        -6.60497472e-02,  1.02804616e-01, -9.86493081e-02,\n",
      "        -7.80510809e-03,  3.73268425e-02, -1.16591282e-01,\n",
      "         7.68648311e-02,  3.17034461e-02, -1.59793749e-01,\n",
      "         5.23399077e-02,  8.63290876e-02, -1.06490832e-02,\n",
      "         1.28630593e-01, -9.25469697e-02, -1.11013249e-01,\n",
      "         1.57726735e-01, -1.32768691e-01,  6.66626543e-02,\n",
      "         1.29405364e-01, -2.06553519e-01,  9.02184620e-02,\n",
      "         1.80623263e-01, -6.66355044e-02,  1.12710990e-01,\n",
      "         9.44130942e-02, -6.84210435e-02,  4.53822911e-02,\n",
      "        -1.52869858e-02, -1.24927107e-02,  1.14963971e-01,\n",
      "        -1.51934758e-01, -5.50631667e-03, -7.48465806e-02,\n",
      "        -9.99213234e-02, -2.69422140e-02,  1.28685355e-01,\n",
      "        -8.21883529e-02,  4.82290313e-02],\n",
      "       [ 8.33162665e-02,  1.38304129e-01, -2.96846051e-02,\n",
      "         9.81462821e-02,  5.80483563e-02,  1.17701970e-01,\n",
      "        -8.68728850e-03, -2.62145195e-02,  4.96250577e-02,\n",
      "         1.36088371e-01, -8.08192566e-02, -1.31790459e-01,\n",
      "         1.12809196e-01, -8.04401711e-02, -6.21405393e-02,\n",
      "        -8.74673352e-02, -3.94719951e-02,  7.29502141e-02,\n",
      "        -2.80935746e-02,  1.15998991e-01, -6.64373860e-02,\n",
      "        -4.80089895e-02,  8.81755874e-02,  1.15662716e-01,\n",
      "         1.23145059e-01,  2.48284210e-02,  3.23826224e-02,\n",
      "        -9.60684381e-03, -1.74807489e-01, -1.36926353e-01,\n",
      "         6.39487430e-02, -2.01410905e-01,  9.27703157e-02,\n",
      "         4.35808413e-02, -9.27518010e-02,  4.58504520e-02,\n",
      "         7.76039585e-02, -2.87591238e-02, -1.51578281e-02,\n",
      "         3.49946432e-02,  5.16429171e-03, -1.45786643e-01,\n",
      "        -2.37755440e-02,  5.33157308e-03,  4.80085239e-02,\n",
      "         1.44362152e-01,  7.64312446e-02,  1.09348558e-01,\n",
      "         6.26390576e-02,  3.60211208e-02]], dtype=float32), 'o': array([[-0.21254535,  0.08083002,  0.09740994,  0.27126327,  0.11201312,\n",
      "         0.02652773,  0.11575495,  0.36296898,  0.00863914, -0.48715928,\n",
      "         0.14823183,  0.19429526,  0.05807491,  0.10411472,  0.17414634,\n",
      "         0.23272313,  0.10103136,  0.09351476,  0.26621437,  0.1889116 ,\n",
      "         0.13436526, -0.2603879 ,  0.36804596,  0.15985945,  0.09402815,\n",
      "         0.01227479,  0.27001083,  0.07695959, -0.07147849, -0.10083021,\n",
      "         0.21565904, -0.13431472,  0.23217039, -0.00182085, -0.11844914,\n",
      "        -0.5191246 , -0.13281424,  0.27599835,  0.15822197,  0.01424398,\n",
      "         0.05283672,  0.21759638, -0.5565515 ,  0.17440623,  0.20710787,\n",
      "         0.07226481,  0.22541438, -0.24051566,  0.14373317, -0.13066871],\n",
      "       [ 0.18076432, -0.1555475 , -0.20589402,  0.1283581 ,  0.11878024,\n",
      "         0.3117719 , -0.13561074,  0.01123129, -0.03650023, -0.05110419,\n",
      "        -0.0212118 ,  0.2608411 ,  0.1347031 ,  0.14452659, -0.16644375,\n",
      "         0.172704  ,  0.13106912,  0.08472702,  0.04538406,  0.05480911,\n",
      "         0.15753698, -0.04486347, -0.00127523,  0.10180227,  0.01027942,\n",
      "        -0.03017612,  0.191144  ,  0.16266946,  0.17517751,  0.00168295,\n",
      "         0.02287528, -0.28665617, -0.1076168 , -0.04349916, -0.10081028,\n",
      "        -0.15120955, -0.3858416 ,  0.04579392,  0.00069312,  0.0925497 ,\n",
      "        -0.11740439,  0.12115228,  0.2577425 , -0.02029488, -0.09846671,\n",
      "         0.1932233 ,  0.14427543,  0.2580163 , -0.0674623 ,  0.01853753],\n",
      "       [ 0.04320696, -0.13516983,  0.01132548,  0.1826484 ,  0.08917225,\n",
      "         0.12463515,  0.04107369, -0.06480812, -0.07525224, -0.1358512 ,\n",
      "         0.09007239,  0.1294183 ,  0.09830359, -0.05844372, -0.19535263,\n",
      "        -0.01955983, -0.10513981, -0.0996547 ,  0.13374376, -0.09794486,\n",
      "         0.22953632, -0.16536582, -0.0309446 ,  0.0741844 , -0.01663922,\n",
      "        -0.04613173,  0.23651387,  0.11121444,  0.22552252, -0.1454908 ,\n",
      "        -0.01329051, -0.14045362,  0.08136217,  0.06195179,  0.01883405,\n",
      "         0.03917623, -0.29834512, -0.00933219,  0.02565883, -0.1071088 ,\n",
      "        -0.04061486, -0.03654647,  0.1806633 , -0.24248897, -0.09506329,\n",
      "        -0.03289425,  0.05599534,  0.28729376,  0.08767664,  0.03870885],\n",
      "       [-0.10298222, -0.13250789,  0.02523791,  0.13240032, -0.06275843,\n",
      "         0.14315838,  0.06998801, -0.11364891,  0.12453726, -0.18793002,\n",
      "        -0.19811422,  0.13824102,  0.28857377,  0.02371105, -0.0572701 ,\n",
      "         0.20929685, -0.20848148,  0.0407806 ,  0.02868   , -0.06708832,\n",
      "        -0.11941502, -0.02648677,  0.01082753, -0.08680595, -0.16437212,\n",
      "         0.00523686,  0.21230611,  0.14005898,  0.37897652, -0.09488411,\n",
      "        -0.09643879, -0.06050088,  0.08286884,  0.0990027 , -0.1221052 ,\n",
      "         0.1081682 , -0.27488738, -0.00962191, -0.09440201,  0.09084269,\n",
      "        -0.32464153,  0.06140594, -0.12903723, -0.2619437 , -0.066859  ,\n",
      "        -0.09842893, -0.08076894,  0.05225335, -0.06506577,  0.018204  ],\n",
      "       [ 0.16963245,  0.09337395, -0.1889712 ,  0.14641197, -0.03418437,\n",
      "         0.14289033,  0.11843105, -0.06770088, -0.15169173, -0.19368732,\n",
      "         0.02913034,  0.05020347,  0.00435694,  0.1814884 , -0.08170625,\n",
      "         0.10278241,  0.08901869, -0.11213475,  0.12141185,  0.02505101,\n",
      "         0.13773452, -0.08535609, -0.13771917,  0.0936231 , -0.14992009,\n",
      "        -0.13897313,  0.07566544,  0.18694913, -0.04620016, -0.02855499,\n",
      "         0.07185424, -0.23986492, -0.14189863, -0.05946365, -0.3096505 ,\n",
      "         0.09524912, -0.40036407, -0.0597341 , -0.2423322 ,  0.13100484,\n",
      "        -0.20988514, -0.18751812,  0.22436374, -0.4447069 ,  0.14443493,\n",
      "        -0.02082256,  0.01683621,  0.2096453 , -0.12632407,  0.19833894],\n",
      "       [-0.12349521,  0.03010025, -0.20026854, -0.16249846, -0.0435861 ,\n",
      "        -0.1069956 , -0.14281124, -0.08028172, -0.3120173 ,  0.0155878 ,\n",
      "        -0.06672061, -0.06295904, -0.07078373,  0.1857169 , -0.02221374,\n",
      "        -0.00913706,  0.23005554, -0.08922023,  0.09064832, -0.10743261,\n",
      "        -0.01574957, -0.07623455,  0.06086564, -0.08895214,  0.13880554,\n",
      "        -0.17877425, -0.12515078, -0.40356112, -0.06252348, -0.19530687,\n",
      "         0.09232636, -0.00075786, -0.11201987,  0.03925203,  0.08023296,\n",
      "        -0.2624329 , -0.07837117,  0.07076243,  0.10544101, -0.15551111,\n",
      "        -0.15777962,  0.01272258, -0.2964183 , -0.26817703, -0.00791808,\n",
      "        -0.03016757,  0.13548517,  0.0619608 ,  0.24504913, -0.08559276],\n",
      "       [ 0.03228219,  0.05868829,  0.09309068,  0.28781515,  0.11562529,\n",
      "         0.10018288,  0.01154448, -0.01100066, -0.27566087,  0.01082867,\n",
      "         0.15606876, -0.05134087, -0.24575925,  0.16305003, -0.1074072 ,\n",
      "        -0.30345723, -0.19706652, -0.07522447,  0.08753691,  0.07985228,\n",
      "        -0.11750262, -0.134702  , -0.16369554, -0.10126825, -0.00371324,\n",
      "        -0.14351073, -0.15199919,  0.00206481,  0.21324165,  0.18288735,\n",
      "        -0.03381348,  0.04738775, -0.01680772, -0.04025257, -0.2780443 ,\n",
      "        -0.07583221,  0.04139548, -0.20812388, -0.251161  , -0.09351685,\n",
      "        -0.17130403,  0.00502703,  0.0609887 ,  0.04304125,  0.1047649 ,\n",
      "        -0.17909184, -0.02009112, -0.06183625, -0.24537545, -0.43684512],\n",
      "       [-0.22422959, -0.08871565, -0.04929113, -0.07989904, -0.09699852,\n",
      "         0.17478974,  0.10467135,  0.12035014, -0.2401733 , -0.0990507 ,\n",
      "        -0.21471821, -0.1314787 ,  0.02162354, -0.03570638,  0.03988057,\n",
      "         0.02932872,  0.04359253,  0.21294317, -0.02815872, -0.2514153 ,\n",
      "        -0.08733542, -0.12854199, -0.0735186 , -0.17218204, -0.12148774,\n",
      "        -0.0065841 , -0.00747636, -0.18691038, -0.13290517, -0.19153026,\n",
      "        -0.08596979, -0.20856881,  0.00947629,  0.04492533, -0.33349082,\n",
      "        -0.13466288, -0.39983234,  0.01492924, -0.65954655, -0.11283491,\n",
      "        -0.06265026, -0.16927554, -0.00115682,  0.03487454, -0.17924707,\n",
      "         0.07277606,  0.04270407, -0.07045916,  0.1048281 , -0.08719615]],\n",
      "      dtype=float32)} {'i': array([[ 0.09328546, -0.07224488, -0.07569966, ..., -0.01889267,\n",
      "         0.03712183,  0.11296973],\n",
      "       [-0.13320023,  0.05832069, -0.07976157, ...,  0.04908729,\n",
      "        -0.04472668,  0.1220965 ],\n",
      "       [-0.06211324, -0.03846664, -0.02200118, ...,  0.09350843,\n",
      "         0.00461371, -0.03176439],\n",
      "       ...,\n",
      "       [-0.00347759, -0.02630823, -0.04187486, ...,  0.04133801,\n",
      "        -0.0730266 , -0.03303368],\n",
      "       [-0.0873603 , -0.00278231, -0.08382522, ...,  0.01389794,\n",
      "        -0.05209993, -0.03296643],\n",
      "       [-0.11359554,  0.00027597,  0.01856917, ..., -0.05725208,\n",
      "         0.12092114,  0.10013669]], dtype=float32), 'f': array([[ 0.09447213,  0.03793445, -0.09125467, ..., -0.0095058 ,\n",
      "        -0.06156303, -0.04559728],\n",
      "       [-0.05466077, -0.05886973,  0.07722883, ...,  0.02496637,\n",
      "        -0.07158443,  0.02380136],\n",
      "       [ 0.01628141,  0.12092692,  0.10353337, ..., -0.02637996,\n",
      "         0.0954451 ,  0.05903323],\n",
      "       ...,\n",
      "       [ 0.01263369, -0.04188577,  0.082675  , ..., -0.07219955,\n",
      "        -0.00901236,  0.00963156],\n",
      "       [-0.04622351,  0.09609219,  0.08841296, ...,  0.02320576,\n",
      "        -0.02414658, -0.04445834],\n",
      "       [-0.06477783, -0.08614552,  0.03744053, ..., -0.06432544,\n",
      "         0.02576659,  0.00193599]], dtype=float32), 'c': array([[-0.00619818, -0.01075862,  0.07634304, ...,  0.02900996,\n",
      "         0.10359937, -0.04766249],\n",
      "       [-0.01490252, -0.080501  , -0.05943477, ..., -0.05890147,\n",
      "         0.07709998,  0.097425  ],\n",
      "       [-0.098828  ,  0.0407555 ,  0.05667883, ..., -0.03811744,\n",
      "        -0.00666189,  0.02957867],\n",
      "       ...,\n",
      "       [-0.0629246 , -0.09181722, -0.05694391, ...,  0.04941475,\n",
      "        -0.05934578, -0.09263374],\n",
      "       [-0.07694147,  0.00605445, -0.012358  , ..., -0.01433793,\n",
      "         0.07492831,  0.03460361],\n",
      "       [-0.04580355,  0.19871582, -0.06481623, ..., -0.02477476,\n",
      "         0.03777624,  0.09568731]], dtype=float32), 'o': array([[ 0.15730944, -0.09009911, -0.07791729, ...,  0.10508607,\n",
      "        -0.02916709,  0.14965859],\n",
      "       [-0.08515098,  0.04944341,  0.00868102, ...,  0.03766584,\n",
      "         0.0510591 ,  0.08132134],\n",
      "       [-0.0262139 , -0.10437653, -0.02975806, ..., -0.1204439 ,\n",
      "        -0.06062458,  0.08222557],\n",
      "       ...,\n",
      "       [ 0.14561102,  0.07496163,  0.01972034, ...,  0.04162463,\n",
      "        -0.00196058, -0.01305547],\n",
      "       [-0.11820454,  0.00732516, -0.11040549, ..., -0.12185229,\n",
      "         0.05696155,  0.0707674 ],\n",
      "       [ 0.09274142,  0.1028929 ,  0.08464152, ..., -0.01050831,\n",
      "         0.00451682,  0.01442105]], dtype=float32)} {'i': array([[ 0.01239111],\n",
      "       [-0.02333269],\n",
      "       [-0.11125536],\n",
      "       [ 0.07016849],\n",
      "       [-0.02267449],\n",
      "       [ 0.07090682],\n",
      "       [-0.06470945],\n",
      "       [ 0.02240403],\n",
      "       [ 0.16341464],\n",
      "       [-0.05069181],\n",
      "       [ 0.0165609 ],\n",
      "       [ 0.09925172],\n",
      "       [ 0.10110788],\n",
      "       [ 0.10812484],\n",
      "       [-0.0824689 ],\n",
      "       [ 0.11000494],\n",
      "       [ 0.03482373],\n",
      "       [ 0.06172686],\n",
      "       [ 0.09407988],\n",
      "       [-0.09247007],\n",
      "       [ 0.03750911],\n",
      "       [-0.01972329],\n",
      "       [ 0.01447533],\n",
      "       [-0.06313486],\n",
      "       [ 0.01466854],\n",
      "       [ 0.17674683],\n",
      "       [ 0.22664246],\n",
      "       [ 0.11672215],\n",
      "       [ 0.24288177],\n",
      "       [-0.02103452],\n",
      "       [ 0.01095419],\n",
      "       [-0.2333542 ],\n",
      "       [-0.02733258],\n",
      "       [ 0.03783237],\n",
      "       [-0.03028371],\n",
      "       [ 0.03438024],\n",
      "       [-0.19737183],\n",
      "       [ 0.00576989],\n",
      "       [ 0.07885999],\n",
      "       [-0.0020711 ],\n",
      "       [-0.20587684],\n",
      "       [ 0.04936493],\n",
      "       [ 0.04360587],\n",
      "       [-0.17325906],\n",
      "       [-0.06408522],\n",
      "       [ 0.04300934],\n",
      "       [-0.00241983],\n",
      "       [ 0.22684228],\n",
      "       [ 0.00312488],\n",
      "       [ 0.01271365]], dtype=float32), 'f': array([[1.],\n",
      "       [1.],\n",
      "       [1.],\n",
      "       [1.],\n",
      "       [1.],\n",
      "       [1.],\n",
      "       [1.],\n",
      "       [1.],\n",
      "       [1.],\n",
      "       [1.],\n",
      "       [1.],\n",
      "       [1.],\n",
      "       [1.],\n",
      "       [1.],\n",
      "       [1.],\n",
      "       [1.],\n",
      "       [1.],\n",
      "       [1.],\n",
      "       [1.],\n",
      "       [1.],\n",
      "       [1.],\n",
      "       [1.],\n",
      "       [1.],\n",
      "       [1.],\n",
      "       [1.],\n",
      "       [1.],\n",
      "       [1.],\n",
      "       [1.],\n",
      "       [1.],\n",
      "       [1.],\n",
      "       [1.],\n",
      "       [1.],\n",
      "       [1.],\n",
      "       [1.],\n",
      "       [1.],\n",
      "       [1.],\n",
      "       [1.],\n",
      "       [1.],\n",
      "       [1.],\n",
      "       [1.],\n",
      "       [1.],\n",
      "       [1.],\n",
      "       [1.],\n",
      "       [1.],\n",
      "       [1.],\n",
      "       [1.],\n",
      "       [1.],\n",
      "       [1.],\n",
      "       [1.],\n",
      "       [1.]], dtype=float32), 'c': array([[ 0.03282617],\n",
      "       [-0.04211592],\n",
      "       [-0.03188471],\n",
      "       [-0.00985641],\n",
      "       [-0.02742979],\n",
      "       [-0.01599898],\n",
      "       [ 0.04921398],\n",
      "       [-0.01717348],\n",
      "       [ 0.01112701],\n",
      "       [ 0.04446317],\n",
      "       [ 0.03493997],\n",
      "       [ 0.01307083],\n",
      "       [ 0.01019392],\n",
      "       [ 0.01010572],\n",
      "       [-0.04105371],\n",
      "       [-0.00201889],\n",
      "       [ 0.03322496],\n",
      "       [ 0.02649632],\n",
      "       [ 0.00342904],\n",
      "       [ 0.05425723],\n",
      "       [ 0.00392203],\n",
      "       [-0.03164702],\n",
      "       [-0.02327967],\n",
      "       [ 0.04209789],\n",
      "       [ 0.02689551],\n",
      "       [-0.00545893],\n",
      "       [-0.00115218],\n",
      "       [-0.0100035 ],\n",
      "       [-0.01911829],\n",
      "       [ 0.0327538 ],\n",
      "       [-0.05771454],\n",
      "       [ 0.01172186],\n",
      "       [-0.02771417],\n",
      "       [-0.01169577],\n",
      "       [-0.00988922],\n",
      "       [-0.02508926],\n",
      "       [ 0.00676249],\n",
      "       [ 0.0197684 ],\n",
      "       [ 0.01113107],\n",
      "       [ 0.01174298],\n",
      "       [ 0.02209859],\n",
      "       [-0.00488677],\n",
      "       [-0.01121124],\n",
      "       [ 0.02573773],\n",
      "       [-0.03503355],\n",
      "       [ 0.0049091 ],\n",
      "       [-0.02999673],\n",
      "       [ 0.0091215 ],\n",
      "       [-0.01511498],\n",
      "       [-0.00036629]], dtype=float32), 'o': array([[ 0.01207124],\n",
      "       [-0.01881798],\n",
      "       [-0.10964837],\n",
      "       [ 0.07643936],\n",
      "       [-0.02418838],\n",
      "       [ 0.07183815],\n",
      "       [-0.06580248],\n",
      "       [ 0.01987376],\n",
      "       [ 0.14317472],\n",
      "       [-0.04947536],\n",
      "       [ 0.02471191],\n",
      "       [ 0.09274905],\n",
      "       [ 0.09993386],\n",
      "       [ 0.11518378],\n",
      "       [-0.08418281],\n",
      "       [ 0.11340886],\n",
      "       [ 0.03652197],\n",
      "       [ 0.06313317],\n",
      "       [ 0.09546671],\n",
      "       [-0.08549125],\n",
      "       [ 0.03553451],\n",
      "       [-0.01669458],\n",
      "       [ 0.00822136],\n",
      "       [-0.06437378],\n",
      "       [ 0.01433722],\n",
      "       [ 0.1601084 ],\n",
      "       [ 0.21799578],\n",
      "       [ 0.12746693],\n",
      "       [ 0.23782828],\n",
      "       [-0.01862823],\n",
      "       [ 0.01620929],\n",
      "       [-0.23586842],\n",
      "       [-0.01773244],\n",
      "       [ 0.04121424],\n",
      "       [-0.02267171],\n",
      "       [ 0.03087167],\n",
      "       [-0.19649994],\n",
      "       [ 0.00450125],\n",
      "       [ 0.07161065],\n",
      "       [ 0.00187778],\n",
      "       [-0.20919867],\n",
      "       [ 0.06571498],\n",
      "       [ 0.04820804],\n",
      "       [-0.1773036 ],\n",
      "       [-0.06652491],\n",
      "       [ 0.03663398],\n",
      "       [-0.00440375],\n",
      "       [ 0.22678824],\n",
      "       [ 0.0069505 ],\n",
      "       [ 0.02163927]], dtype=float32)}\n"
     ]
    }
   ],
   "source": [
    "print(w1, u1, b1)"
   ]
  },
  {
   "cell_type": "code",
   "execution_count": 9,
   "metadata": {},
   "outputs": [],
   "source": [
    "# input weights, weights from previous layer and bias weights in the first layer\n",
    "w2, u2, b2 = get_LSTMweights(model, model.layers[1]) "
   ]
  },
  {
   "cell_type": "code",
   "execution_count": 10,
   "metadata": {},
   "outputs": [
    {
     "name": "stdout",
     "output_type": "stream",
     "text": [
      "{'i': array([[-0.02777169,  0.14399469, -0.13860804, ...,  0.11600811,\n",
      "        -0.08854572, -0.13604762],\n",
      "       [-0.11767561,  0.11132465,  0.14484237, ..., -0.06485341,\n",
      "        -0.00165903, -0.11978483],\n",
      "       [-0.19134231, -0.1000669 ,  0.15244843, ...,  0.01003725,\n",
      "        -0.00785018, -0.01689745],\n",
      "       ...,\n",
      "       [ 0.05482803, -0.05015094,  0.17597818, ..., -0.01209187,\n",
      "         0.09383105, -0.06471713],\n",
      "       [ 0.07736657,  0.06557464,  0.06217273, ...,  0.08750917,\n",
      "         0.13344853, -0.06929116],\n",
      "       [-0.02264272,  0.07754299, -0.16949546, ..., -0.12420691,\n",
      "        -0.15196308, -0.16093655]], dtype=float32), 'f': array([[ 0.08203246, -0.01399004,  0.12220956, ...,  0.05431823,\n",
      "         0.10377993, -0.05638012],\n",
      "       [ 0.09468782,  0.04552375, -0.14866813, ...,  0.03467748,\n",
      "         0.06307054,  0.11238469],\n",
      "       [ 0.04402475,  0.14000617, -0.03950282, ..., -0.00965017,\n",
      "         0.1303901 ,  0.02493604],\n",
      "       ...,\n",
      "       [-0.12690435,  0.04849692, -0.09329949, ..., -0.02464277,\n",
      "         0.04265465,  0.13781251],\n",
      "       [ 0.01241711, -0.02990979, -0.11323772, ...,  0.12811817,\n",
      "         0.09059642,  0.01998426],\n",
      "       [ 0.08976032,  0.00791147,  0.0891176 , ...,  0.12317796,\n",
      "         0.10512985,  0.08796173]], dtype=float32), 'c': array([[-0.03873483, -0.06574654, -0.05710458, ..., -0.01852895,\n",
      "         0.12434191,  0.05269966],\n",
      "       [-0.07144744,  0.06717122, -0.1227902 , ..., -0.14251038,\n",
      "        -0.0782666 ,  0.1104288 ],\n",
      "       [ 0.02011493, -0.0639438 ,  0.14292422, ...,  0.03063155,\n",
      "        -0.02456042,  0.05692807],\n",
      "       ...,\n",
      "       [ 0.19124942, -0.14578576,  0.20024614, ...,  0.2605062 ,\n",
      "        -0.05178156,  0.05529588],\n",
      "       [-0.04036469,  0.01309475, -0.07352214, ...,  0.05073136,\n",
      "         0.08362845,  0.02010133],\n",
      "       [-0.04768699,  0.14545909, -0.12893425, ..., -0.02377471,\n",
      "        -0.00077554,  0.10550083]], dtype=float32), 'o': array([[ 0.23574749,  0.15967467,  0.07387365, ...,  0.09570178,\n",
      "         0.06950768,  0.00116259],\n",
      "       [-0.10810097, -0.15149128,  0.03597617, ..., -0.07730809,\n",
      "         0.0431042 , -0.04189946],\n",
      "       [-0.08360038, -0.07033511,  0.1414348 , ...,  0.02156427,\n",
      "        -0.09507535, -0.10094974],\n",
      "       ...,\n",
      "       [ 0.01627216,  0.05104817,  0.25594667, ...,  0.10567468,\n",
      "         0.20344076,  0.18444271],\n",
      "       [ 0.03300625,  0.1131986 ,  0.1457349 , ...,  0.07477938,\n",
      "        -0.10225278, -0.14162062],\n",
      "       [ 0.01823576, -0.06942581, -0.19811709, ...,  0.08342519,\n",
      "        -0.19419979, -0.1481262 ]], dtype=float32)} {'i': array([[ 0.04602119,  0.04089124, -0.04496916, ..., -0.09001085,\n",
      "        -0.04246733, -0.09662392],\n",
      "       [ 0.05628268,  0.01515117,  0.15359281, ...,  0.02974533,\n",
      "        -0.01719487,  0.06248391],\n",
      "       [-0.0259587 , -0.07321222, -0.01758787, ...,  0.11342098,\n",
      "        -0.04916961,  0.01591013],\n",
      "       ...,\n",
      "       [-0.10734805,  0.02197895, -0.04140363, ...,  0.06889367,\n",
      "        -0.01488462, -0.0373565 ],\n",
      "       [ 0.0493318 ,  0.04232737,  0.1022149 , ...,  0.00644382,\n",
      "        -0.15873612,  0.06330619],\n",
      "       [-0.02289026,  0.00880194, -0.0261236 , ...,  0.09653624,\n",
      "        -0.10920335, -0.04959033]], dtype=float32), 'f': array([[ 0.00251621,  0.03933221,  0.01079286, ..., -0.01115528,\n",
      "         0.17730285,  0.09623025],\n",
      "       [ 0.09394147,  0.07704822, -0.01071572, ...,  0.01290364,\n",
      "        -0.04743579, -0.08072004],\n",
      "       [ 0.03729102,  0.00771351, -0.03719926, ...,  0.05501258,\n",
      "        -0.00821581, -0.00675963],\n",
      "       ...,\n",
      "       [ 0.02266597,  0.02161397,  0.03912475, ...,  0.02059944,\n",
      "        -0.03715596,  0.01706648],\n",
      "       [ 0.08868504,  0.02140862, -0.03525871, ..., -0.01183423,\n",
      "        -0.01977578, -0.01613505],\n",
      "       [ 0.06916582, -0.12857175,  0.10285343, ...,  0.0883287 ,\n",
      "        -0.0281679 , -0.07625385]], dtype=float32), 'c': array([[-0.17107429,  0.05038863,  0.03040833, ..., -0.00127274,\n",
      "         0.09368132, -0.01755317],\n",
      "       [ 0.02438705,  0.03440008,  0.01563716, ...,  0.01280648,\n",
      "         0.175891  , -0.09197509],\n",
      "       [ 0.05363339, -0.04449055,  0.02508399, ..., -0.16765511,\n",
      "         0.06211794, -0.07936989],\n",
      "       ...,\n",
      "       [ 0.01862027, -0.0579699 , -0.08685797, ..., -0.08327935,\n",
      "        -0.00253828, -0.08479094],\n",
      "       [ 0.00363095,  0.02085789, -0.14040928, ..., -0.01221154,\n",
      "         0.00820666, -0.00422898],\n",
      "       [ 0.03318562, -0.10408597, -0.06997799, ..., -0.09332746,\n",
      "        -0.07296064, -0.11532305]], dtype=float32), 'o': array([[ 0.08738488,  0.05912285,  0.07543144, ...,  0.06971459,\n",
      "         0.00349892, -0.02240455],\n",
      "       [-0.05414164, -0.04010757,  0.04293079, ...,  0.00463495,\n",
      "        -0.04634669,  0.02744247],\n",
      "       [ 0.02540788,  0.00036463,  0.0400788 , ..., -0.04313855,\n",
      "        -0.06781968,  0.06211228],\n",
      "       ...,\n",
      "       [-0.01184278, -0.02315566,  0.04950321, ...,  0.07817469,\n",
      "         0.07370798,  0.01373918],\n",
      "       [ 0.1327448 ,  0.04111401, -0.02560507, ...,  0.04399891,\n",
      "         0.03800436,  0.16598502],\n",
      "       [ 0.05997498, -0.01131624, -0.09788398, ...,  0.02696257,\n",
      "         0.0630603 , -0.00260201]], dtype=float32)} {'i': array([[-0.02141477],\n",
      "       [-0.01286267],\n",
      "       [ 0.0214691 ],\n",
      "       [-0.0533313 ],\n",
      "       [-0.01640134],\n",
      "       [ 0.00556939],\n",
      "       [-0.00144395],\n",
      "       [-0.00373435],\n",
      "       [-0.0904761 ],\n",
      "       [-0.07149943],\n",
      "       [ 0.00048732],\n",
      "       [ 0.03584325],\n",
      "       [-0.00930096],\n",
      "       [-0.02518697],\n",
      "       [-0.00891155],\n",
      "       [-0.03636124],\n",
      "       [-0.00027832],\n",
      "       [-0.02523724],\n",
      "       [ 0.01040319],\n",
      "       [ 0.04404936],\n",
      "       [-0.04191952],\n",
      "       [-0.00910152],\n",
      "       [-0.10821152],\n",
      "       [-0.03669269],\n",
      "       [-0.01035334],\n",
      "       [ 0.01879828],\n",
      "       [-0.00926274],\n",
      "       [-0.02552881],\n",
      "       [ 0.04882096],\n",
      "       [ 0.00482965],\n",
      "       [ 0.01805227],\n",
      "       [-0.01711181],\n",
      "       [-0.03146731],\n",
      "       [-0.00141342],\n",
      "       [ 0.0084315 ],\n",
      "       [-0.00327929],\n",
      "       [-0.04210186],\n",
      "       [ 0.00087829],\n",
      "       [-0.07528635],\n",
      "       [-0.03557873],\n",
      "       [-0.02838115],\n",
      "       [ 0.05343507],\n",
      "       [ 0.02406259],\n",
      "       [-0.05984207],\n",
      "       [-0.08631724],\n",
      "       [ 0.00993365],\n",
      "       [-0.03507257],\n",
      "       [-0.01765119],\n",
      "       [-0.00323937],\n",
      "       [-0.12024517]], dtype=float32), 'f': array([[1.],\n",
      "       [1.],\n",
      "       [1.],\n",
      "       [1.],\n",
      "       [1.],\n",
      "       [1.],\n",
      "       [1.],\n",
      "       [1.],\n",
      "       [1.],\n",
      "       [1.],\n",
      "       [1.],\n",
      "       [1.],\n",
      "       [1.],\n",
      "       [1.],\n",
      "       [1.],\n",
      "       [1.],\n",
      "       [1.],\n",
      "       [1.],\n",
      "       [1.],\n",
      "       [1.],\n",
      "       [1.],\n",
      "       [1.],\n",
      "       [1.],\n",
      "       [1.],\n",
      "       [1.],\n",
      "       [1.],\n",
      "       [1.],\n",
      "       [1.],\n",
      "       [1.],\n",
      "       [1.],\n",
      "       [1.],\n",
      "       [1.],\n",
      "       [1.],\n",
      "       [1.],\n",
      "       [1.],\n",
      "       [1.],\n",
      "       [1.],\n",
      "       [1.],\n",
      "       [1.],\n",
      "       [1.],\n",
      "       [1.],\n",
      "       [1.],\n",
      "       [1.],\n",
      "       [1.],\n",
      "       [1.],\n",
      "       [1.],\n",
      "       [1.],\n",
      "       [1.],\n",
      "       [1.],\n",
      "       [1.]], dtype=float32), 'c': array([[-0.00512711],\n",
      "       [ 0.00296681],\n",
      "       [-0.00836636],\n",
      "       [-0.00543543],\n",
      "       [ 0.00487008],\n",
      "       [-0.00556532],\n",
      "       [-0.00455413],\n",
      "       [-0.003572  ],\n",
      "       [ 0.00178148],\n",
      "       [ 0.0094022 ],\n",
      "       [ 0.00528974],\n",
      "       [-0.00755237],\n",
      "       [ 0.00474772],\n",
      "       [-0.00544979],\n",
      "       [-0.00392072],\n",
      "       [ 0.00417182],\n",
      "       [-0.00354657],\n",
      "       [-0.00653909],\n",
      "       [ 0.00590613],\n",
      "       [-0.00770316],\n",
      "       [-0.01277626],\n",
      "       [ 0.00657616],\n",
      "       [ 0.00143422],\n",
      "       [ 0.00400993],\n",
      "       [ 0.00382452],\n",
      "       [-0.00707751],\n",
      "       [-0.00107542],\n",
      "       [ 0.00062538],\n",
      "       [ 0.00501197],\n",
      "       [ 0.00114051],\n",
      "       [ 0.00259278],\n",
      "       [ 0.00691865],\n",
      "       [ 0.0019889 ],\n",
      "       [ 0.00569968],\n",
      "       [ 0.00763761],\n",
      "       [-0.00266056],\n",
      "       [ 0.00282691],\n",
      "       [ 0.00265513],\n",
      "       [-0.00432183],\n",
      "       [-0.00597647],\n",
      "       [-0.00098851],\n",
      "       [ 0.00619233],\n",
      "       [-0.00414129],\n",
      "       [-0.01263917],\n",
      "       [ 0.00114188],\n",
      "       [-0.00369785],\n",
      "       [ 0.00229932],\n",
      "       [-0.00139849],\n",
      "       [-0.00106885],\n",
      "       [-0.00166907]], dtype=float32), 'o': array([[-2.1050870e-02],\n",
      "       [-1.3325767e-02],\n",
      "       [ 2.0978121e-02],\n",
      "       [-5.5154096e-02],\n",
      "       [-1.6911386e-02],\n",
      "       [ 4.6499437e-03],\n",
      "       [-1.8360992e-03],\n",
      "       [-5.4444857e-03],\n",
      "       [-8.9550957e-02],\n",
      "       [-7.1947947e-02],\n",
      "       [ 3.8310114e-04],\n",
      "       [ 3.5189770e-02],\n",
      "       [-9.5988680e-03],\n",
      "       [-2.6573954e-02],\n",
      "       [-7.9816794e-03],\n",
      "       [-3.6043208e-02],\n",
      "       [-1.0900176e-04],\n",
      "       [-2.6410406e-02],\n",
      "       [ 1.0572913e-02],\n",
      "       [ 4.1166652e-02],\n",
      "       [-4.3358300e-02],\n",
      "       [-8.6961398e-03],\n",
      "       [-1.0796712e-01],\n",
      "       [-3.6844343e-02],\n",
      "       [-1.0521178e-02],\n",
      "       [ 1.8022109e-02],\n",
      "       [-1.0602163e-02],\n",
      "       [-2.5465477e-02],\n",
      "       [ 4.8360590e-02],\n",
      "       [ 4.2352257e-03],\n",
      "       [ 1.6029650e-02],\n",
      "       [-1.8004179e-02],\n",
      "       [-3.1525522e-02],\n",
      "       [-1.7522618e-03],\n",
      "       [ 8.2580429e-03],\n",
      "       [-4.1066576e-03],\n",
      "       [-4.2601082e-02],\n",
      "       [ 5.4190366e-04],\n",
      "       [-7.4579097e-02],\n",
      "       [-3.7287235e-02],\n",
      "       [-2.9000646e-02],\n",
      "       [ 5.2551195e-02],\n",
      "       [ 2.4177562e-02],\n",
      "       [-5.9614617e-02],\n",
      "       [-8.5775547e-02],\n",
      "       [ 9.0661086e-03],\n",
      "       [-3.4585562e-02],\n",
      "       [-1.8422144e-02],\n",
      "       [-4.3494506e-03],\n",
      "       [-1.1975714e-01]], dtype=float32)}\n"
     ]
    }
   ],
   "source": [
    "print(w2, u2, b2)"
   ]
  },
  {
   "cell_type": "code",
   "execution_count": 11,
   "metadata": {},
   "outputs": [
    {
     "data": {
      "text/plain": [
       "dict_keys(['i', 'f', 'c', 'o'])"
      ]
     },
     "execution_count": 11,
     "metadata": {},
     "output_type": "execute_result"
    }
   ],
   "source": [
    "w1.keys()"
   ]
  },
  {
   "cell_type": "code",
   "execution_count": 12,
   "metadata": {},
   "outputs": [
    {
     "data": {
      "text/plain": [
       "dict_keys(['i', 'f', 'c', 'o'])"
      ]
     },
     "execution_count": 12,
     "metadata": {},
     "output_type": "execute_result"
    }
   ],
   "source": [
    "w2.keys()"
   ]
  },
  {
   "cell_type": "code",
   "execution_count": 13,
   "metadata": {
    "scrolled": true
   },
   "outputs": [
    {
     "data": {
      "text/plain": [
       "((8, 50), (50, 50), (50, 1))"
      ]
     },
     "execution_count": 13,
     "metadata": {},
     "output_type": "execute_result"
    }
   ],
   "source": [
    "w1['i'].shape, u1['i'].shape, b1['i'].shape"
   ]
  },
  {
   "cell_type": "code",
   "execution_count": 14,
   "metadata": {
    "scrolled": false
   },
   "outputs": [
    {
     "data": {
      "text/plain": [
       "((50, 50), (50, 50), (50, 1))"
      ]
     },
     "execution_count": 14,
     "metadata": {},
     "output_type": "execute_result"
    }
   ],
   "source": [
    "w2['i'].shape, u2['i'].shape, b2['i'].shape"
   ]
  },
  {
   "cell_type": "code",
   "execution_count": 15,
   "metadata": {},
   "outputs": [
    {
     "data": {
      "text/plain": [
       "(-0.7308838, 0.31228793)"
      ]
     },
     "execution_count": 15,
     "metadata": {},
     "output_type": "execute_result"
    }
   ],
   "source": [
    "w1['i'].min(), w1['i'].max()"
   ]
  },
  {
   "cell_type": "code",
   "execution_count": 16,
   "metadata": {
    "scrolled": true
   },
   "outputs": [
    {
     "data": {
      "text/plain": [
       "array([-0.05181892,  0.28194454,  0.0966801 ,  0.20990247,  0.12458476,\n",
       "       -0.24822547,  0.1608727 ,  0.25093767, -0.15489404, -0.49607548,\n",
       "        0.0290302 ,  0.19787276,  0.1570537 ,  0.2818792 , -0.03330187,\n",
       "        0.14023979,  0.04472718,  0.01569658,  0.19302052,  0.26149487,\n",
       "        0.30822203, -0.18482761,  0.05968653,  0.19897044,  0.09017146,\n",
       "       -0.15345664,  0.1967579 ,  0.04908905,  0.02547368, -0.36055055,\n",
       "        0.07568938, -0.20471883,  0.21706791,  0.30695242,  0.05263343,\n",
       "       -0.27812722, -0.25576594,  0.18431732,  0.13228644,  0.01278343,\n",
       "       -0.02279938,  0.19760032, -0.6144366 ,  0.17628524,  0.23955068,\n",
       "        0.17437552,  0.14427693, -0.20884903,  0.31228793, -0.019119  ],\n",
       "      dtype=float32)"
      ]
     },
     "execution_count": 16,
     "metadata": {},
     "output_type": "execute_result"
    }
   ],
   "source": [
    "# w12_i = w1['i'][0].append(w2[i][0])\n",
    "w1['i'][0]"
   ]
  },
  {
   "cell_type": "code",
   "execution_count": 29,
   "metadata": {},
   "outputs": [
    {
     "data": {
      "image/png": "[encoded data removed]",
      "text/plain": [
       "<Figure size 1080x1080 with 2 Axes>"
      ]
     },
     "metadata": {
      "needs_background": "light"
     },
     "output_type": "display_data"
    }
   ],
   "source": [
    "from copy import copy\n",
    "df = {}\n",
    "for epoch in np.arange(0,50):\n",
    "    model.load_weights(\"weights{:03d}.hdf5\".format(epoch+1))\n",
    "    WUb = get_LSTMweights(model,model.layers[0])\n",
    "    weight,wlabel = vectorize_with_labels(*WUb)\n",
    "    df[\"{:03d}\".format(epoch)] = copy(weight)\n",
    "\n",
    "df = pd.DataFrame(df,index=wlabel)\n",
    "df = df[np.sort(df.columns)]\n",
    "\n",
    "pyplot.figure(figsize=(15,15))\n",
    "sns.heatmap(df)\n",
    "pyplot.xlabel('epoch')\n",
    "pyplot.show()"
   ]
  },
  {
   "cell_type": "markdown",
   "metadata": {},
   "source": [
    "## Plot the weights of input gate, forget gate, cell state and output gate for both LSTM layers"
   ]
  },
  {
   "cell_type": "code",
   "execution_count": 17,
   "metadata": {
    "scrolled": false
   },
   "outputs": [
    {
     "data": {
      "image/png": "[encoded data removed]",
      "text/plain": [
       "<Figure size 1152x184.32 with 2 Axes>"
      ]
     },
     "metadata": {
      "needs_background": "light"
     },
     "output_type": "display_data"
    }
   ],
   "source": [
    "# plot input gate weights for the first layer\n",
    "pyplot.matshow(w1['i'], cmap=pyplot.cm.RdBu, vmin=-1, vmax=1)\n",
    "pyplot.colorbar()\n",
    "pyplot.show()"
   ]
  },
  {
   "cell_type": "code",
   "execution_count": 169,
   "metadata": {},
   "outputs": [],
   "source": [
    "# fig, ax = pyplot.subplots(figsize=(25,5))\n",
    "# sns.heatmap(w1['i'], vmin=-1, vmax=1,)\n",
    "# pyplot.show()"
   ]
  },
  {
   "cell_type": "code",
   "execution_count": 164,
   "metadata": {},
   "outputs": [],
   "source": [
    "# sns.heatmap(w1['i'], vmin=-1, vmax=1, center=0)\n",
    "# pyplot.show()"
   ]
  },
  {
   "cell_type": "code",
   "execution_count": 165,
   "metadata": {
    "scrolled": true
   },
   "outputs": [
    {
     "data": {
      "image/png": "[encoded data removed]",
      "text/plain": [
       "<Figure size 1152x184.32 with 2 Axes>"
      ]
     },
     "metadata": {
      "needs_background": "light"
     },
     "output_type": "display_data"
    }
   ],
   "source": [
    "# plot forget gate weights for the first layer\n",
    "\n",
    "pyplot.matshow(w1['f'], cmap=pyplot.cm.RdBu, vmin=-1, vmax=1)\n",
    "pyplot.colorbar()\n",
    "pyplot.show()"
   ]
  },
  {
   "cell_type": "code",
   "execution_count": 196,
   "metadata": {
    "scrolled": true
   },
   "outputs": [
    {
     "data": {
      "image/png": "[encoded data removed]",
      "text/plain": [
       "<Figure size 1152x184.32 with 2 Axes>"
      ]
     },
     "metadata": {
      "needs_background": "light"
     },
     "output_type": "display_data"
    }
   ],
   "source": [
    "# plot cell state weights for the first layer\n",
    "\n",
    "\n",
    "pyplot.matshow(w1['c'], cmap=pyplot.cm.RdBu, vmin=-1, vmax=1)\n",
    "pyplot.colorbar()\n",
    "pyplot.show()"
   ]
  },
  {
   "cell_type": "code",
   "execution_count": 146,
   "metadata": {
    "scrolled": false
   },
   "outputs": [
    {
     "data": {
      "image/png": "[encoded data removed]",
      "text/plain": [
       "<Figure size 1152x184.32 with 2 Axes>"
      ]
     },
     "metadata": {
      "needs_background": "light"
     },
     "output_type": "display_data"
    }
   ],
   "source": [
    "# plot output gate weights for the first layer\n",
    "\n",
    "\n",
    "pyplot.matshow(w1['o'], cmap=pyplot.cm.RdBu, vmin=-1, vmax=1)\n",
    "pyplot.colorbar()\n",
    "pyplot.show()"
   ]
  },
  {
   "cell_type": "code",
   "execution_count": 182,
   "metadata": {},
   "outputs": [
    {
     "name": "stderr",
     "output_type": "stream",
     "text": [
      "/Users/jaywang/anaconda3/envs/data_science/lib/python3.7/site-packages/ipykernel_launcher.py:3: UserWarning: Matplotlib is currently using module://ipykernel.pylab.backend_inline, which is a non-GUI backend, so cannot show the figure.\n",
      "  This is separate from the ipykernel package so we can avoid doing imports until\n"
     ]
    },
    {
     "data": {
      "image/png": "[encoded data removed]",
      "text/plain": [
       "<Figure size 720x720 with 1 Axes>"
      ]
     },
     "metadata": {
      "needs_background": "light"
     },
     "output_type": "display_data"
    }
   ],
   "source": [
    "# plot input gate weights for previous hidden states for the first layer\n",
    "\n",
    "\n",
    "fig, ax = pyplot.subplots(figsize=(10,10))\n",
    "ax.matshow(u1['i'], cmap=pyplot.cm.RdBu, vmin=-1, vmax=1)\n",
    "fig.show()"
   ]
  },
  {
   "cell_type": "code",
   "execution_count": 184,
   "metadata": {
    "scrolled": false
   },
   "outputs": [
    {
     "data": {
      "image/png": "[encoded data removed]",
      "text/plain": [
       "<Figure size 288x288 with 2 Axes>"
      ]
     },
     "metadata": {
      "needs_background": "light"
     },
     "output_type": "display_data"
    }
   ],
   "source": [
    "# plot input gate weights for previous hidden states for the first layer\n",
    "\n",
    "\n",
    "pyplot.matshow(u1['i'], cmap=pyplot.cm.RdBu, vmin=-1, vmax=1)\n",
    "pyplot.colorbar()\n",
    "pyplot.show()"
   ]
  },
  {
   "cell_type": "code",
   "execution_count": 183,
   "metadata": {},
   "outputs": [
    {
     "data": {
      "image/png": "[encoded data removed]",
      "text/plain": [
       "<Figure size 288x288 with 2 Axes>"
      ]
     },
     "metadata": {
      "needs_background": "light"
     },
     "output_type": "display_data"
    }
   ],
   "source": [
    "# plot forget gate weights for previous hidden states for the first layer\n",
    "\n",
    "\n",
    "pyplot.matshow(u1['f'], cmap=pyplot.cm.RdBu, vmin=-1, vmax=1)\n",
    "pyplot.colorbar()\n",
    "pyplot.show()"
   ]
  },
  {
   "cell_type": "code",
   "execution_count": 185,
   "metadata": {},
   "outputs": [
    {
     "data": {
      "image/png": "[encoded data removed]",
      "text/plain": [
       "<Figure size 288x288 with 2 Axes>"
      ]
     },
     "metadata": {
      "needs_background": "light"
     },
     "output_type": "display_data"
    }
   ],
   "source": [
    "# plot cell state weights for previous hidden states for the first layer\n",
    "\n",
    "\n",
    "pyplot.matshow(u1['c'], cmap=pyplot.cm.RdBu, vmin=-1, vmax=1)\n",
    "pyplot.colorbar()\n",
    "pyplot.show()"
   ]
  },
  {
   "cell_type": "code",
   "execution_count": 186,
   "metadata": {},
   "outputs": [
    {
     "data": {
      "image/png": "[encoded data removed]",
      "text/plain": [
       "<Figure size 288x288 with 2 Axes>"
      ]
     },
     "metadata": {
      "needs_background": "light"
     },
     "output_type": "display_data"
    }
   ],
   "source": [
    "# plot output gate weights for previous hidden states for the first layer\n",
    "\n",
    "\n",
    "pyplot.matshow(u1['o'], cmap=pyplot.cm.RdBu, vmin=-1, vmax=1)\n",
    "pyplot.colorbar()\n",
    "pyplot.show()"
   ]
  },
  {
   "cell_type": "code",
   "execution_count": 187,
   "metadata": {},
   "outputs": [
    {
     "data": {
      "image/png": "[encoded data removed]",
      "text/plain": [
       "<Figure size 288x288 with 2 Axes>"
      ]
     },
     "metadata": {
      "needs_background": "light"
     },
     "output_type": "display_data"
    }
   ],
   "source": [
    "# plot input gate weights for the second layer\n",
    "\n",
    "\n",
    "pyplot.matshow(w2['i'], cmap=pyplot.cm.RdBu, vmin=-1, vmax=1)\n",
    "pyplot.colorbar()\n",
    "pyplot.show()"
   ]
  },
  {
   "cell_type": "code",
   "execution_count": 188,
   "metadata": {},
   "outputs": [
    {
     "data": {
      "image/png": "[encoded data removed]",
      "text/plain": [
       "<Figure size 288x288 with 2 Axes>"
      ]
     },
     "metadata": {
      "needs_background": "light"
     },
     "output_type": "display_data"
    }
   ],
   "source": [
    "# plot forget gate weights for the second layer\n",
    "\n",
    "pyplot.matshow(w2['f'], cmap=pyplot.cm.RdBu, vmin=-1, vmax=1)\n",
    "pyplot.colorbar()\n",
    "pyplot.show()"
   ]
  },
  {
   "cell_type": "code",
   "execution_count": 189,
   "metadata": {},
   "outputs": [
    {
     "data": {
      "image/png": "[encoded data removed]",
      "text/plain": [
       "<Figure size 288x288 with 2 Axes>"
      ]
     },
     "metadata": {
      "needs_background": "light"
     },
     "output_type": "display_data"
    }
   ],
   "source": [
    "# plot cell state weights for the second layer\n",
    "\n",
    "\n",
    "pyplot.matshow(w2['c'], cmap=pyplot.cm.RdBu, vmin=-1, vmax=1)\n",
    "pyplot.colorbar()\n",
    "pyplot.show()"
   ]
  },
  {
   "cell_type": "code",
   "execution_count": 191,
   "metadata": {},
   "outputs": [
    {
     "data": {
      "image/png": "[encoded data removed]",
      "text/plain": [
       "<Figure size 288x288 with 2 Axes>"
      ]
     },
     "metadata": {
      "needs_background": "light"
     },
     "output_type": "display_data"
    }
   ],
   "source": [
    "# plot output gate weights for the second layer\n",
    "\n",
    "\n",
    "pyplot.matshow(w2['o'], cmap=pyplot.cm.RdBu, vmin=-1, vmax=1)\n",
    "pyplot.colorbar()\n",
    "pyplot.show()"
   ]
  },
  {
   "cell_type": "code",
   "execution_count": 192,
   "metadata": {},
   "outputs": [
    {
     "data": {
      "image/png": "[encoded data removed]",
      "text/plain": [
       "<Figure size 288x288 with 2 Axes>"
      ]
     },
     "metadata": {
      "needs_background": "light"
     },
     "output_type": "display_data"
    }
   ],
   "source": [
    "\n",
    "# plot input gate weights for previous hidden states for the second layer\n",
    "\n",
    "pyplot.matshow(u2['i'], cmap=pyplot.cm.RdBu, vmin=-1, vmax=1)\n",
    "pyplot.colorbar()\n",
    "pyplot.show()"
   ]
  },
  {
   "cell_type": "code",
   "execution_count": 193,
   "metadata": {},
   "outputs": [
    {
     "data": {
      "image/png": "[encoded data removed]",
      "text/plain": [
       "<Figure size 288x288 with 2 Axes>"
      ]
     },
     "metadata": {
      "needs_background": "light"
     },
     "output_type": "display_data"
    }
   ],
   "source": [
    "# plot forget gate weights for previous hidden states for the second layer\n",
    "\n",
    "\n",
    "pyplot.matshow(u2['f'], cmap=pyplot.cm.RdBu, vmin=-1, vmax=1)\n",
    "pyplot.colorbar()\n",
    "pyplot.show()"
   ]
  },
  {
   "cell_type": "code",
   "execution_count": 194,
   "metadata": {},
   "outputs": [
    {
     "data": {
      "image/png": "[encoded data removed]",
      "text/plain": [
       "<Figure size 288x288 with 2 Axes>"
      ]
     },
     "metadata": {
      "needs_background": "light"
     },
     "output_type": "display_data"
    }
   ],
   "source": [
    "# plot cell state weights for previous hidden states for the second layer\n",
    "\n",
    "pyplot.matshow(u2['c'], cmap=pyplot.cm.RdBu, vmin=-1, vmax=1)\n",
    "pyplot.colorbar()\n",
    "pyplot.show()"
   ]
  },
  {
   "cell_type": "code",
   "execution_count": 195,
   "metadata": {
    "scrolled": true
   },
   "outputs": [
    {
     "data": {
      "image/png": "[encoded data removed]",
      "text/plain": [
       "<Figure size 288x288 with 2 Axes>"
      ]
     },
     "metadata": {
      "needs_background": "light"
     },
     "output_type": "display_data"
    }
   ],
   "source": [
    "# plot output gate weights for previous hidden states for the second layer\n",
    "\n",
    "\n",
    "pyplot.matshow(u2['o'], cmap=pyplot.cm.RdBu, vmin=-1, vmax=1)\n",
    "pyplot.colorbar()\n",
    "pyplot.show()"
   ]
  },
  {
   "cell_type": "markdown",
   "metadata": {},
   "source": [
    "### Save each layer's weights to file as json"
   ]
  },
  {
   "cell_type": "code",
   "execution_count": 109,
   "metadata": {},
   "outputs": [],
   "source": [
    "class NumpyEncoder(json.JSONEncoder):\n",
    "    def default(self, obj):\n",
    "        if isinstance(obj, np.ndarray):\n",
    "            return obj.tolist()\n",
    "        return json.JSONEncoder.default(self, obj)"
   ]
  },
  {
   "cell_type": "code",
   "execution_count": 110,
   "metadata": {},
   "outputs": [],
   "source": [
    "def save_to_json(filepath, variable):\n",
    "    with open('{}.json'.format('filepath')) as f:\n",
    "        json.dump(variable,f,cls=NumpyEncoder)"
   ]
  },
  {
   "cell_type": "code",
   "execution_count": 235,
   "metadata": {},
   "outputs": [],
   "source": [
    "with open('data/w1.json', 'w') as f:\n",
    "    json.dump(w1,f,cls=NumpyEncoder,indent='\\t')"
   ]
  },
  {
   "cell_type": "code",
   "execution_count": 112,
   "metadata": {},
   "outputs": [],
   "source": [
    "with open('data/u1.json', 'w') as f:\n",
    "    json.dump(u1,f,cls=NumpyEncoder,indent='\\t')"
   ]
  },
  {
   "cell_type": "code",
   "execution_count": 113,
   "metadata": {},
   "outputs": [],
   "source": [
    "with open('data/b1.json', 'w') as f:\n",
    "    json.dump(b1,f,cls=NumpyEncoder,indent='\\t')"
   ]
  },
  {
   "cell_type": "code",
   "execution_count": 114,
   "metadata": {},
   "outputs": [],
   "source": [
    "with open('data/w2.json', 'w') as f:\n",
    "    json.dump(w2,f,cls=NumpyEncoder,indent='\\t')"
   ]
  },
  {
   "cell_type": "code",
   "execution_count": 115,
   "metadata": {},
   "outputs": [],
   "source": [
    "with open('data/u2.json', 'w') as f:\n",
    "    json.dump(u2,f,cls=NumpyEncoder,indent='\\t')"
   ]
  },
  {
   "cell_type": "code",
   "execution_count": 116,
   "metadata": {},
   "outputs": [],
   "source": [
    "with open('data/b2.json', 'w') as f:\n",
    "    json.dump(b2,f,cls=NumpyEncoder,indent='\\t')"
   ]
  },
  {
   "cell_type": "code",
   "execution_count": null,
   "metadata": {},
   "outputs": [],
   "source": []
  },
  {
   "cell_type": "code",
   "execution_count": 117,
   "metadata": {},
   "outputs": [],
   "source": [
    "# W_i = warr[:, :units]\n",
    "# W_f = warr[:, units: units * 2]\n",
    "# W_c = warr[:, units * 2: units * 3]\n",
    "# W_o = warr[:, units * 3:]\n",
    "\n",
    "# U_i = uarr[:, :units]\n",
    "# U_f = uarr[:, units: units * 2]\n",
    "# U_c = uarr[:, units * 2: units * 3]\n",
    "# U_o = uarr[:, units * 3:]\n",
    "\n",
    "# b_i = barr[:units]\n",
    "# b_f = barr[units: units * 2]\n",
    "# b_c = barr[units * 2: units * 3]\n",
    "# b_o = barr[units * 3:]"
   ]
  },
  {
   "cell_type": "code",
   "execution_count": 212,
   "metadata": {
    "scrolled": true
   },
   "outputs": [
    {
     "name": "stdout",
     "output_type": "stream",
     "text": [
      "Model: \"sequential_3\"\n",
      "_________________________________________________________________\n",
      "Layer (type)                 Output Shape              Param #   \n",
      "=================================================================\n",
      "LSTM1 (LSTM)                 (None, 1, 50)             11800     \n",
      "_________________________________________________________________\n",
      "LSTM2 (LSTM)                 (None, 50)                20200     \n",
      "_________________________________________________________________\n",
      "output (Dense)               (None, 1)                 51        \n",
      "=================================================================\n",
      "Total params: 32,051\n",
      "Trainable params: 32,051\n",
      "Non-trainable params: 0\n",
      "_________________________________________________________________\n"
     ]
    }
   ],
   "source": [
    "model.summary()"
   ]
  },
  {
   "cell_type": "code",
   "execution_count": 119,
   "metadata": {},
   "outputs": [],
   "source": [
    "# model.save('lstm_model.h5')\n",
    "# del model\n",
    "# model = load_model('lstm_model.h5')"
   ]
  },
  {
   "cell_type": "code",
   "execution_count": 121,
   "metadata": {},
   "outputs": [],
   "source": [
    "json_string = model.to_json()"
   ]
  },
  {
   "cell_type": "code",
   "execution_count": 122,
   "metadata": {},
   "outputs": [
    {
     "data": {
      "text/plain": [
       "'{\"class_name\": \"Sequential\", \"config\": {\"name\": \"sequential_3\", \"layers\": [{\"class_name\": \"LSTM\", \"config\": {\"name\": \"LSTM1\", \"trainable\": true, \"batch_input_shape\": [null, 1, 8], \"dtype\": \"float32\", \"return_sequences\": true, \"return_state\": false, \"go_backwards\": false, \"stateful\": false, \"unroll\": false, \"units\": 50, \"activation\": \"tanh\", \"recurrent_activation\": \"sigmoid\", \"use_bias\": true, \"kernel_initializer\": {\"class_name\": \"VarianceScaling\", \"config\": {\"scale\": 1.0, \"mode\": \"fan_avg\", \"distribution\": \"uniform\", \"seed\": null}}, \"recurrent_initializer\": {\"class_name\": \"Orthogonal\", \"config\": {\"gain\": 1.0, \"seed\": null}}, \"bias_initializer\": {\"class_name\": \"Zeros\", \"config\": {}}, \"unit_forget_bias\": true, \"kernel_regularizer\": null, \"recurrent_regularizer\": null, \"bias_regularizer\": null, \"activity_regularizer\": null, \"kernel_constraint\": null, \"recurrent_constraint\": null, \"bias_constraint\": null, \"dropout\": 0.0, \"recurrent_dropout\": 0.0, \"implementation\": 2}}, {\"class_name\": \"LSTM\", \"config\": {\"name\": \"LSTM2\", \"trainable\": true, \"batch_input_shape\": [null, 1, 8], \"dtype\": \"float32\", \"return_sequences\": false, \"return_state\": false, \"go_backwards\": false, \"stateful\": false, \"unroll\": false, \"units\": 50, \"activation\": \"tanh\", \"recurrent_activation\": \"sigmoid\", \"use_bias\": true, \"kernel_initializer\": {\"class_name\": \"VarianceScaling\", \"config\": {\"scale\": 1.0, \"mode\": \"fan_avg\", \"distribution\": \"uniform\", \"seed\": null}}, \"recurrent_initializer\": {\"class_name\": \"Orthogonal\", \"config\": {\"gain\": 1.0, \"seed\": null}}, \"bias_initializer\": {\"class_name\": \"Zeros\", \"config\": {}}, \"unit_forget_bias\": true, \"kernel_regularizer\": null, \"recurrent_regularizer\": null, \"bias_regularizer\": null, \"activity_regularizer\": null, \"kernel_constraint\": null, \"recurrent_constraint\": null, \"bias_constraint\": null, \"dropout\": 0.0, \"recurrent_dropout\": 0.0, \"implementation\": 2}}, {\"class_name\": \"Dense\", \"config\": {\"name\": \"output\", \"trainable\": true, \"dtype\": \"float32\", \"units\": 1, \"activation\": \"linear\", \"use_bias\": true, \"kernel_initializer\": {\"class_name\": \"VarianceScaling\", \"config\": {\"scale\": 1.0, \"mode\": \"fan_avg\", \"distribution\": \"uniform\", \"seed\": null}}, \"bias_initializer\": {\"class_name\": \"Zeros\", \"config\": {}}, \"kernel_regularizer\": null, \"bias_regularizer\": null, \"activity_regularizer\": null, \"kernel_constraint\": null, \"bias_constraint\": null}}]}, \"keras_version\": \"2.3.1\", \"backend\": \"tensorflow\"}'"
      ]
     },
     "execution_count": 122,
     "metadata": {},
     "output_type": "execute_result"
    }
   ],
   "source": [
    "json_string"
   ]
  },
  {
   "cell_type": "markdown",
   "metadata": {},
   "source": [
    "## Get the output  of each layer and save to file as json"
   ]
  },
  {
   "cell_type": "code",
   "execution_count": 198,
   "metadata": {},
   "outputs": [],
   "source": [
    "def get_layer_output(model, n):\n",
    "    return K.function([model.layers[0].input],[model.layers[n].output])    "
   ]
  },
  {
   "cell_type": "code",
   "execution_count": 204,
   "metadata": {},
   "outputs": [
    {
     "data": {
      "text/plain": [
       "(8760, 1, 50)"
      ]
     },
     "execution_count": 204,
     "metadata": {},
     "output_type": "execute_result"
    }
   ],
   "source": [
    "layer1_output = get_layer_output(model,0)([train_X])[0]\n",
    "layer1_output.shape"
   ]
  },
  {
   "cell_type": "code",
   "execution_count": 209,
   "metadata": {},
   "outputs": [
    {
     "data": {
      "text/plain": [
       "array([[[-0.00646154,  0.01688849,  0.0004684 , ..., -0.02163839,\n",
       "          0.01502744,  0.01323412]],\n",
       "\n",
       "       [[-0.00448858,  0.01876708,  0.00032897, ..., -0.02497636,\n",
       "          0.01706425,  0.01530098]],\n",
       "\n",
       "       [[-0.00398405,  0.02232326,  0.00019956, ..., -0.02516458,\n",
       "          0.0193579 ,  0.01402716]],\n",
       "\n",
       "       ...,\n",
       "\n",
       "       [[-0.01304013,  0.01349653,  0.0007919 , ...,  0.00498294,\n",
       "         -0.00905494, -0.02336009]],\n",
       "\n",
       "       [[-0.01474002,  0.01613213,  0.00074824, ...,  0.00525249,\n",
       "         -0.00820323, -0.02551293]],\n",
       "\n",
       "       [[-0.01430037,  0.01586805,  0.00092274, ...,  0.00527427,\n",
       "         -0.00884851, -0.02575966]]], dtype=float32)"
      ]
     },
     "execution_count": 209,
     "metadata": {},
     "output_type": "execute_result"
    }
   ],
   "source": [
    "layer1_output"
   ]
  },
  {
   "cell_type": "code",
   "execution_count": 205,
   "metadata": {},
   "outputs": [
    {
     "data": {
      "text/plain": [
       "(8760, 50)"
      ]
     },
     "execution_count": 205,
     "metadata": {},
     "output_type": "execute_result"
    }
   ],
   "source": [
    "layer2_output = get_layer_output(model,1)([train_X])[0]\n",
    "layer2_output.shape"
   ]
  },
  {
   "cell_type": "code",
   "execution_count": 210,
   "metadata": {},
   "outputs": [
    {
     "data": {
      "text/plain": [
       "array([[-1.29269613e-02,  1.47334943e-02, -1.18641714e-02, ...,\n",
       "        -1.52473226e-02,  8.88782181e-03, -8.33672297e-04],\n",
       "       [-1.50338933e-02,  1.67952310e-02, -1.40835503e-02, ...,\n",
       "        -1.71394255e-02,  1.07020233e-02, -9.22695850e-04],\n",
       "       [-1.70142278e-02,  1.83143076e-02, -1.51581531e-02, ...,\n",
       "        -1.81724001e-02,  1.16973305e-02, -1.03145302e-03],\n",
       "       ...,\n",
       "       [-1.13640609e-03,  8.13163497e-05,  5.38079767e-03, ...,\n",
       "        -2.74080480e-03, -3.91340302e-03, -1.29294198e-03],\n",
       "       [-2.09845370e-03,  6.84497587e-04,  5.64225391e-03, ...,\n",
       "        -2.68397154e-03, -4.27918695e-03, -1.50496536e-03],\n",
       "       [-1.83835474e-03,  4.38770192e-04,  5.83138689e-03, ...,\n",
       "        -2.77832779e-03, -4.22937796e-03, -1.47071201e-03]], dtype=float32)"
      ]
     },
     "execution_count": 210,
     "metadata": {},
     "output_type": "execute_result"
    }
   ],
   "source": [
    "layer2_output"
   ]
  },
  {
   "cell_type": "code",
   "execution_count": 208,
   "metadata": {},
   "outputs": [
    {
     "data": {
      "text/plain": [
       "(8760, 1)"
      ]
     },
     "execution_count": 208,
     "metadata": {},
     "output_type": "execute_result"
    }
   ],
   "source": [
    "layer3_output = get_layer_output(model,2)([train_X])[0]\n",
    "layer3_output.shape"
   ]
  },
  {
   "cell_type": "code",
   "execution_count": 211,
   "metadata": {},
   "outputs": [
    {
     "data": {
      "text/plain": [
       "array([[0.12850945],\n",
       "       [0.1471792 ],\n",
       "       [0.15918761],\n",
       "       ...,\n",
       "       [0.00207979],\n",
       "       [0.00277373],\n",
       "       [0.00227519]], dtype=float32)"
      ]
     },
     "execution_count": 211,
     "metadata": {},
     "output_type": "execute_result"
    }
   ],
   "source": [
    "layer3_output"
   ]
  },
  {
   "cell_type": "code",
   "execution_count": 236,
   "metadata": {},
   "outputs": [],
   "source": [
    "with open('data/l1_out.json', 'w') as f:\n",
    "    json.dump(layer1_output,f,cls=NumpyEncoder,indent='\\t')"
   ]
  },
  {
   "cell_type": "code",
   "execution_count": 237,
   "metadata": {},
   "outputs": [],
   "source": [
    "with open('data/l2_out.json', 'w') as f:\n",
    "    json.dump(layer2_output,f,cls=NumpyEncoder,indent='\\t')"
   ]
  },
  {
   "cell_type": "code",
   "execution_count": 238,
   "metadata": {},
   "outputs": [],
   "source": [
    "with open('data/l3_out.json', 'w') as f:\n",
    "    json.dump(layer3_output,f,cls=NumpyEncoder,indent='\\t')"
   ]
  }
 ],
 "metadata": {
  "kernelspec": {
   "display_name": "Python 3",
   "language": "python",
   "name": "python3"
  },
  "language_info": {
   "codemirror_mode": {
    "name": "ipython",
    "version": 3
   },
   "file_extension": ".py",
   "mimetype": "text/x-python",
   "name": "python",
   "nbconvert_exporter": "python",
   "pygments_lexer": "ipython3",
   "version": "3.7.4"
  }
 },
 "nbformat": 4,
 "nbformat_minor": 2
}
