{
 "cells": [
  {
   "cell_type": "markdown",
   "metadata": {},
   "source": [
    "### This is an exploration notebook on LSTM model. Most of the code is based on Jason Browniee's [tutorial](https://machinelearningmastery.com/multivariate-time-series-forecasting-lstms-keras/)  \"Multivariate Time Series Forecasting with LSTMs in Keras\""
   ]
  },
  {
   "cell_type": "code",
   "execution_count": 1,
   "metadata": {},
   "outputs": [
    {
     "name": "stderr",
     "output_type": "stream",
     "text": [
      "Using TensorFlow backend.\n"
     ]
    }
   ],
   "source": [
    "from __future__ import print_function\n",
    "import sys, time\n",
    "from math import sqrt\n",
    "import numpy as np\n",
    "from numpy import concatenate\n",
    "import matplotlib as plt\n",
    "from matplotlib import pyplot\n",
    "import pandas as pd\n",
    "from pandas import read_csv\n",
    "from pandas import DataFrame\n",
    "from pandas import concat\n",
    "from sklearn import preprocessing\n",
    "# from sklearn.preprocessing import MinMaxScaler\n",
    "# from sklearn.preprocessing import LabelEncoder\n",
    "from sklearn.metrics import mean_squared_error\n",
    "\n",
    "from keras.models import Sequential, Model\n",
    "from keras.layers import Input\n",
    "from keras.layers import LSTM,Dense,Dropout\n",
    "from keras import backend as K\n",
    "from keras.callbacks import ModelCheckpoint\n",
    "from keras.models import load_model\n",
    "from keras.utils import plot_model\n",
    "\n",
    "\n",
    "import json\n"
   ]
  },
  {
   "cell_type": "code",
   "execution_count": 2,
   "metadata": {},
   "outputs": [],
   "source": [
    "# # load data\n",
    "# def parse(x):\n",
    "#     return datetime.strptime(x, '%Y %m %d %H')\n",
    "\n",
    "# dataset = read_csv('~/Documents/TTU_study/Fall2019/my_research/neural_network/data/raw.csv',  parse_dates = [['year', 'month', 'day', 'hour']], index_col=0, date_parser=parse)\n",
    "# dataset.drop('No', axis=1, inplace=True)\n",
    "# # manually specify column names\n",
    "# dataset.columns = ['pollution', 'dew', 'temp', 'press', 'wnd_dir', 'wnd_spd', 'snow', 'rain']\n",
    "# dataset.index.name = 'date'\n",
    "# # mark all NA values with 0\n",
    "# dataset['pollution'].fillna(0, inplace=True)\n",
    "# # drop the first 24 hours\n",
    "# dataset = dataset[24:]\n",
    "# # summarize first 5 rows\n",
    "# print(dataset.head(5))\n",
    "# save to file\n",
    "# dataset.to_csv('pollution.csv')"
   ]
  },
  {
   "cell_type": "code",
   "execution_count": 3,
   "metadata": {
    "scrolled": true
   },
   "outputs": [
    {
     "data": {
      "text/html": [
       "<div>\n",
       "<style scoped>\n",
       "    .dataframe tbody tr th:only-of-type {\n",
       "        vertical-align: middle;\n",
       "    }\n",
       "\n",
       "    .dataframe tbody tr th {\n",
       "        vertical-align: top;\n",
       "    }\n",
       "\n",
       "    .dataframe thead th {\n",
       "        text-align: right;\n",
       "    }\n",
       "</style>\n",
       "<table border=\"1\" class=\"dataframe\">\n",
       "  <thead>\n",
       "    <tr style=\"text-align: right;\">\n",
       "      <th></th>\n",
       "      <th>pollution</th>\n",
       "      <th>dew</th>\n",
       "      <th>temp</th>\n",
       "      <th>press</th>\n",
       "      <th>wnd_dir</th>\n",
       "      <th>wnd_spd</th>\n",
       "      <th>snow</th>\n",
       "      <th>rain</th>\n",
       "    </tr>\n",
       "    <tr>\n",
       "      <th>date</th>\n",
       "      <th></th>\n",
       "      <th></th>\n",
       "      <th></th>\n",
       "      <th></th>\n",
       "      <th></th>\n",
       "      <th></th>\n",
       "      <th></th>\n",
       "      <th></th>\n",
       "    </tr>\n",
       "  </thead>\n",
       "  <tbody>\n",
       "    <tr>\n",
       "      <td>2010-01-02 00:00:00</td>\n",
       "      <td>129.0</td>\n",
       "      <td>-16</td>\n",
       "      <td>-4.0</td>\n",
       "      <td>1020.0</td>\n",
       "      <td>SE</td>\n",
       "      <td>1.79</td>\n",
       "      <td>0</td>\n",
       "      <td>0</td>\n",
       "    </tr>\n",
       "    <tr>\n",
       "      <td>2010-01-02 01:00:00</td>\n",
       "      <td>148.0</td>\n",
       "      <td>-15</td>\n",
       "      <td>-4.0</td>\n",
       "      <td>1020.0</td>\n",
       "      <td>SE</td>\n",
       "      <td>2.68</td>\n",
       "      <td>0</td>\n",
       "      <td>0</td>\n",
       "    </tr>\n",
       "    <tr>\n",
       "      <td>2010-01-02 02:00:00</td>\n",
       "      <td>159.0</td>\n",
       "      <td>-11</td>\n",
       "      <td>-5.0</td>\n",
       "      <td>1021.0</td>\n",
       "      <td>SE</td>\n",
       "      <td>3.57</td>\n",
       "      <td>0</td>\n",
       "      <td>0</td>\n",
       "    </tr>\n",
       "    <tr>\n",
       "      <td>2010-01-02 03:00:00</td>\n",
       "      <td>181.0</td>\n",
       "      <td>-7</td>\n",
       "      <td>-5.0</td>\n",
       "      <td>1022.0</td>\n",
       "      <td>SE</td>\n",
       "      <td>5.36</td>\n",
       "      <td>1</td>\n",
       "      <td>0</td>\n",
       "    </tr>\n",
       "    <tr>\n",
       "      <td>2010-01-02 04:00:00</td>\n",
       "      <td>138.0</td>\n",
       "      <td>-7</td>\n",
       "      <td>-5.0</td>\n",
       "      <td>1022.0</td>\n",
       "      <td>SE</td>\n",
       "      <td>6.25</td>\n",
       "      <td>2</td>\n",
       "      <td>0</td>\n",
       "    </tr>\n",
       "  </tbody>\n",
       "</table>\n",
       "</div>"
      ],
      "text/plain": [
       "                     pollution  dew  temp   press wnd_dir  wnd_spd  snow  rain\n",
       "date                                                                          \n",
       "2010-01-02 00:00:00      129.0  -16  -4.0  1020.0      SE     1.79     0     0\n",
       "2010-01-02 01:00:00      148.0  -15  -4.0  1020.0      SE     2.68     0     0\n",
       "2010-01-02 02:00:00      159.0  -11  -5.0  1021.0      SE     3.57     0     0\n",
       "2010-01-02 03:00:00      181.0   -7  -5.0  1022.0      SE     5.36     1     0\n",
       "2010-01-02 04:00:00      138.0   -7  -5.0  1022.0      SE     6.25     2     0"
      ]
     },
     "execution_count": 3,
     "metadata": {},
     "output_type": "execute_result"
    }
   ],
   "source": [
    "# load dataset\n",
    "dataset = read_csv('data/pollution.csv', header=0, index_col=0)\n",
    "dataset.head()"
   ]
  },
  {
   "cell_type": "code",
   "execution_count": 4,
   "metadata": {},
   "outputs": [
    {
     "data": {
      "text/plain": [
       "(43800, 8)"
      ]
     },
     "execution_count": 4,
     "metadata": {},
     "output_type": "execute_result"
    }
   ],
   "source": [
    "dataset.shape"
   ]
  },
  {
   "cell_type": "code",
   "execution_count": 5,
   "metadata": {},
   "outputs": [
    {
     "name": "stdout",
     "output_type": "stream",
     "text": [
      "<class 'pandas.core.frame.DataFrame'>\n",
      "Index: 43800 entries, 2010-01-02 00:00:00 to 2014-12-31 23:00:00\n",
      "Data columns (total 8 columns):\n",
      "pollution    43800 non-null float64\n",
      "dew          43800 non-null int64\n",
      "temp         43800 non-null float64\n",
      "press        43800 non-null float64\n",
      "wnd_dir      43800 non-null object\n",
      "wnd_spd      43800 non-null float64\n",
      "snow         43800 non-null int64\n",
      "rain         43800 non-null int64\n",
      "dtypes: float64(4), int64(3), object(1)\n",
      "memory usage: 3.0+ MB\n"
     ]
    }
   ],
   "source": [
    "dataset.info()"
   ]
  },
  {
   "cell_type": "code",
   "execution_count": 6,
   "metadata": {},
   "outputs": [
    {
     "name": "stdout",
     "output_type": "stream",
     "text": [
      "[[129.0 -16 -4.0 ... 1.79 0 0]\n",
      " [148.0 -15 -4.0 ... 2.68 0 0]\n",
      " [159.0 -11 -5.0 ... 3.57 0 0]\n",
      " ...\n",
      " [10.0 -22 -3.0 ... 242.7 0 0]\n",
      " [8.0 -22 -4.0 ... 246.72 0 0]\n",
      " [12.0 -21 -3.0 ... 249.85 0 0]]\n"
     ]
    }
   ],
   "source": [
    "values = dataset.values\n",
    "print(values)"
   ]
  },
  {
   "cell_type": "code",
   "execution_count": 7,
   "metadata": {},
   "outputs": [
    {
     "data": {
      "image/png": "[encoded data removed]",
      "text/plain": [
       "<Figure size 432x288 with 7 Axes>"
      ]
     },
     "metadata": {
      "needs_background": "light"
     },
     "output_type": "display_data"
    }
   ],
   "source": [
    "# specify columns to plot\n",
    "groups = [0, 1, 2, 3, 5, 6, 7]\n",
    "i = 1\n",
    "# plot each column\n",
    "pyplot.figure()\n",
    "for group in groups:\n",
    "    pyplot.subplot(len(groups), 1, i)\n",
    "    pyplot.plot(values[:, group])\n",
    "    pyplot.title(dataset.columns[group], y=0.5, loc='right')\n",
    "    i += 1\n",
    "pyplot.show()"
   ]
  },
  {
   "cell_type": "code",
   "execution_count": 8,
   "metadata": {
    "scrolled": true
   },
   "outputs": [
    {
     "name": "stdout",
     "output_type": "stream",
     "text": [
      "   var1(t-1)  var2(t-1)  var3(t-1)  var4(t-1)  var5(t-1)  var6(t-1)  \\\n",
      "1   0.129779   0.352941   0.245902   0.527273   0.666667   0.002290   \n",
      "2   0.148893   0.367647   0.245902   0.527273   0.666667   0.003811   \n",
      "3   0.159960   0.426471   0.229508   0.545454   0.666667   0.005332   \n",
      "4   0.182093   0.485294   0.229508   0.563637   0.666667   0.008391   \n",
      "5   0.138833   0.485294   0.229508   0.563637   0.666667   0.009912   \n",
      "\n",
      "   var7(t-1)  var8(t-1)   var1(t)  \n",
      "1   0.000000        0.0  0.148893  \n",
      "2   0.000000        0.0  0.159960  \n",
      "3   0.000000        0.0  0.182093  \n",
      "4   0.037037        0.0  0.138833  \n",
      "5   0.074074        0.0  0.109658  \n"
     ]
    }
   ],
   "source": [
    "def series_to_supervised(data, n_in=1, n_out=1, dropnan=True):\n",
    "    \"\"\"\n",
    "    Frame a time series as a supervised learning dataset.\n",
    "    Arguments:\n",
    "        data: Sequence of observations as a list or NumPy array.\n",
    "        n_in: Number of lag observations as input (X).\n",
    "        n_out: Number of observations as output (y).\n",
    "        dropnan: Boolean whether or not to drop rows with NaN values.\n",
    "    Returns:\n",
    "        Pandas DataFrame of series framed for supervised learning.\n",
    "    \"\"\"\n",
    "    n_vars = 1 if type(data) is list else data.shape[1]\n",
    "    df = DataFrame(data)\n",
    "    cols, names = list(), list()\n",
    "    # input sequence (t-n, ... t-1)\n",
    "    for i in range(n_in, 0, -1):\n",
    "        cols.append(df.shift(i))\n",
    "        names += [('var%d(t-%d)' % (j+1, i)) for j in range(n_vars)]\n",
    "    # forecast sequenceå (t, t+1, ... t+n)\n",
    "    for i in range(0, n_out):\n",
    "        cols.append(df.shift(-i))\n",
    "        if i == 0:\n",
    "            names += [('var%d(t)' % (j+1)) for j in range(n_vars)]\n",
    "        else:\n",
    "            names += [('var%d(t+%d)' % (j+1, i)) for j in range(n_vars)]\n",
    "    # put it all together\n",
    "    agg = concat(cols, axis=1)\n",
    "    agg.columns = names\n",
    "    # drop rows with NaN values\n",
    "    if dropnan:\n",
    "        agg.dropna(inplace=True)\n",
    "    return agg \n",
    "\n",
    "# load dataset\n",
    "dataset = read_csv('data/pollution.csv', header=0, index_col=0)\n",
    "values = dataset.values\n",
    "# integer encode direction\n",
    "encoder = preprocessing.LabelEncoder()\n",
    "values[:,4] = encoder.fit_transform(values[:,4])\n",
    "# ensure all data is float\n",
    "values = values.astype('float32')\n",
    "# normalize features\n",
    "scaler = preprocessing.MinMaxScaler(feature_range=(0, 1))\n",
    "scaled = scaler.fit_transform(values)\n",
    "# frame as supervised learning\n",
    "reframed = series_to_supervised(scaled, 1, 1)\n",
    "# drop columns we don't want to predict\n",
    "reframed.drop(reframed.columns[[9,10,11,12,13,14,15]], axis=1, inplace=True)\n",
    "print(reframed.head())"
   ]
  },
  {
   "cell_type": "code",
   "execution_count": 9,
   "metadata": {},
   "outputs": [
    {
     "data": {
      "text/plain": [
       "(43799, 9)"
      ]
     },
     "execution_count": 9,
     "metadata": {},
     "output_type": "execute_result"
    }
   ],
   "source": [
    "reframed.shape"
   ]
  },
  {
   "cell_type": "code",
   "execution_count": 10,
   "metadata": {},
   "outputs": [
    {
     "name": "stdout",
     "output_type": "stream",
     "text": [
      "(8760, 1, 8) (8760,) (35039, 1, 8) (35039,)\n"
     ]
    }
   ],
   "source": [
    "# split into train and test sets\n",
    "values = reframed.values\n",
    "n_train_hours = 365 * 24\n",
    "train = values[:n_train_hours, :]\n",
    "test = values[n_train_hours:, :]\n",
    "# split into input and outputs\n",
    "train_X, train_y = train[:, :-1], train[:, -1]\n",
    "test_X, test_y = test[:, :-1], test[:, -1]\n",
    "# reshape input to be 3D [samples, timesteps, features]\n",
    "train_X = train_X.reshape((train_X.shape[0], 1, train_X.shape[1]))\n",
    "test_X = test_X.reshape((test_X.shape[0], 1, test_X.shape[1]))\n",
    "print(train_X.shape, train_y.shape, test_X.shape, test_y.shape)"
   ]
  },
  {
   "cell_type": "code",
   "execution_count": 11,
   "metadata": {},
   "outputs": [
    {
     "name": "stdout",
     "output_type": "stream",
     "text": [
      "Train on 8760 samples, validate on 35039 samples\n",
      "Epoch 1/50\n",
      " - 2s - loss: 0.0623 - val_loss: 0.0579\n",
      "Epoch 2/50\n",
      " - 1s - loss: 0.0418 - val_loss: 0.0666\n",
      "Epoch 3/50\n",
      " - 1s - loss: 0.0208 - val_loss: 0.0405\n",
      "Epoch 4/50\n",
      " - 1s - loss: 0.0175 - val_loss: 0.0270\n",
      "Epoch 5/50\n",
      " - 1s - loss: 0.0162 - val_loss: 0.0191\n",
      "Epoch 6/50\n",
      " - 1s - loss: 0.0157 - val_loss: 0.0170\n",
      "Epoch 7/50\n",
      " - 1s - loss: 0.0154 - val_loss: 0.0157\n",
      "Epoch 8/50\n",
      " - 1s - loss: 0.0153 - val_loss: 0.0150\n",
      "Epoch 9/50\n",
      " - 1s - loss: 0.0151 - val_loss: 0.0145\n",
      "Epoch 10/50\n",
      " - 1s - loss: 0.0149 - val_loss: 0.0142\n",
      "Epoch 11/50\n",
      " - 1s - loss: 0.0148 - val_loss: 0.0141\n",
      "Epoch 12/50\n",
      " - 1s - loss: 0.0148 - val_loss: 0.0140\n",
      "Epoch 13/50\n",
      " - 1s - loss: 0.0148 - val_loss: 0.0139\n",
      "Epoch 14/50\n",
      " - 1s - loss: 0.0147 - val_loss: 0.0140\n",
      "Epoch 15/50\n",
      " - 1s - loss: 0.0149 - val_loss: 0.0138\n",
      "Epoch 16/50\n",
      " - 1s - loss: 0.0147 - val_loss: 0.0139\n",
      "Epoch 17/50\n",
      " - 1s - loss: 0.0148 - val_loss: 0.0139\n",
      "Epoch 18/50\n",
      " - 1s - loss: 0.0146 - val_loss: 0.0142\n",
      "Epoch 19/50\n",
      " - 1s - loss: 0.0147 - val_loss: 0.0144\n",
      "Epoch 20/50\n",
      " - 1s - loss: 0.0147 - val_loss: 0.0141\n",
      "Epoch 21/50\n",
      " - 1s - loss: 0.0147 - val_loss: 0.0141\n",
      "Epoch 22/50\n",
      " - 1s - loss: 0.0147 - val_loss: 0.0140\n",
      "Epoch 23/50\n",
      " - 1s - loss: 0.0147 - val_loss: 0.0140\n",
      "Epoch 24/50\n",
      " - 1s - loss: 0.0147 - val_loss: 0.0140\n",
      "Epoch 25/50\n",
      " - 1s - loss: 0.0146 - val_loss: 0.0141\n",
      "Epoch 26/50\n",
      " - 1s - loss: 0.0146 - val_loss: 0.0140\n",
      "Epoch 27/50\n",
      " - 1s - loss: 0.0147 - val_loss: 0.0142\n",
      "Epoch 28/50\n",
      " - 1s - loss: 0.0147 - val_loss: 0.0141\n",
      "Epoch 29/50\n",
      " - 1s - loss: 0.0146 - val_loss: 0.0141\n",
      "Epoch 30/50\n",
      " - 1s - loss: 0.0146 - val_loss: 0.0141\n",
      "Epoch 31/50\n",
      " - 1s - loss: 0.0146 - val_loss: 0.0141\n",
      "Epoch 32/50\n",
      " - 1s - loss: 0.0146 - val_loss: 0.0141\n",
      "Epoch 33/50\n",
      " - 1s - loss: 0.0146 - val_loss: 0.0143\n",
      "Epoch 34/50\n",
      " - 1s - loss: 0.0146 - val_loss: 0.0142\n",
      "Epoch 35/50\n",
      " - 1s - loss: 0.0146 - val_loss: 0.0141\n",
      "Epoch 36/50\n",
      " - 1s - loss: 0.0146 - val_loss: 0.0142\n",
      "Epoch 37/50\n",
      " - 1s - loss: 0.0146 - val_loss: 0.0142\n",
      "Epoch 38/50\n",
      " - 1s - loss: 0.0146 - val_loss: 0.0142\n",
      "Epoch 39/50\n",
      " - 1s - loss: 0.0146 - val_loss: 0.0141\n",
      "Epoch 40/50\n",
      " - 1s - loss: 0.0146 - val_loss: 0.0142\n",
      "Epoch 41/50\n",
      " - 1s - loss: 0.0146 - val_loss: 0.0138\n",
      "Epoch 42/50\n",
      " - 1s - loss: 0.0146 - val_loss: 0.0139\n",
      "Epoch 43/50\n",
      " - 1s - loss: 0.0146 - val_loss: 0.0139\n",
      "Epoch 44/50\n",
      " - 1s - loss: 0.0146 - val_loss: 0.0138\n",
      "Epoch 45/50\n",
      " - 1s - loss: 0.0146 - val_loss: 0.0138\n",
      "Epoch 46/50\n",
      " - 1s - loss: 0.0146 - val_loss: 0.0138\n",
      "Epoch 47/50\n",
      " - 1s - loss: 0.0146 - val_loss: 0.0138\n",
      "Epoch 48/50\n",
      " - 1s - loss: 0.0145 - val_loss: 0.0139\n",
      "Epoch 49/50\n",
      " - 1s - loss: 0.0146 - val_loss: 0.0137\n",
      "Epoch 50/50\n",
      " - 1s - loss: 0.0145 - val_loss: 0.0139\n",
      "Time took 0.9 min\n"
     ]
    },
    {
     "data": {
      "image/png": "[encoded data removed]",
      "text/plain": [
       "<Figure size 432x288 with 1 Axes>"
      ]
     },
     "metadata": {
      "needs_background": "light"
     },
     "output_type": "display_data"
    }
   ],
   "source": [
    "# design network\n",
    "model = Sequential()\n",
    "# First LSTM layer\n",
    "model.add(LSTM(50, return_sequences=True, input_shape=(train_X.shape[1], train_X.shape[2]), name='LSTM1'))\n",
    "# model.add(Dense(1))\n",
    "model.add(LSTM(units=50, input_shape=(train_X.shape[1], train_X.shape[2]),name='LSTM2'))\n",
    "# model.add(Dropout(0.2, name='dropout1'))\n",
    "# # Second LSTM layer\n",
    "# model.add(LSTM(units=50, return_sequences=True,name='LSTM2'))\n",
    "# model.add(Dropout(0.2, name='dropout2'))\n",
    "# # # Third LSTM layer\n",
    "# model.add(LSTM(units=50,name='LSTM3'))\n",
    "# model.add(Dropout(0.2, name='dropout3'))\n",
    "# # # Fourth LSTM layer\n",
    "# model.add(LSTM(units=50, name='LSTM4'))\n",
    "# model.add(Dropout(0.2, name='dropout4'))\n",
    "# # The output layer\n",
    "model.add(Dense(units=1, name='output'))\n",
    "model.compile(loss='mae', optimizer='adam')\n",
    "start = time.time()\n",
    "\n",
    "# fit network\n",
    "# history = model.fit(train_X, train_y, epochs=50, batch_size=72, validation_data=(test_X, test_y), verbose=2, shuffle=False,\n",
    "#                    callbacks=[ModelCheckpoint(filepath='weights{epoch:03d}.hdf5')])\n",
    "history = model.fit(train_X, train_y, epochs=50, batch_size=72, validation_data=(test_X, test_y), verbose=2, shuffle=False,\n",
    "                   callbacks=[ModelCheckpoint(filepath='weights{epoch:03d}.hdf5')])\n",
    "end = time.time()\n",
    "print(\"Time took {:3.1f} min\".format((end-start)/60))\n",
    "# plot history\n",
    "pyplot.plot(history.history['loss'], label='train')\n",
    "pyplot.plot(history.history['val_loss'], label='test')\n",
    "pyplot.legend()\n",
    "pyplot.show()"
   ]
  },
  {
   "cell_type": "code",
   "execution_count": 12,
   "metadata": {},
   "outputs": [
    {
     "data": {
      "text/plain": [
       "(35039, 1, 8)"
      ]
     },
     "execution_count": 12,
     "metadata": {},
     "output_type": "execute_result"
    }
   ],
   "source": [
    "test_X.shape"
   ]
  },
  {
   "cell_type": "markdown",
   "metadata": {},
   "source": [
    "### Evaluate Model"
   ]
  },
  {
   "cell_type": "code",
   "execution_count": 64,
   "metadata": {},
   "outputs": [
    {
     "ename": "ValueError",
     "evalue": "Error when checking input: expected LSTM1_input to have 3 dimensions, but got array with shape (35039, 8)",
     "output_type": "error",
     "traceback": [
      "\u001b[0;31m---------------------------------------------------------------------------\u001b[0m",
      "\u001b[0;31mValueError\u001b[0m                                Traceback (most recent call last)",
      "\u001b[0;32m<ipython-input-64-0f1c07cbda6d>\u001b[0m in \u001b[0;36m<module>\u001b[0;34m\u001b[0m\n\u001b[1;32m      1\u001b[0m \u001b[0;31m# make a prediction\u001b[0m\u001b[0;34m\u001b[0m\u001b[0;34m\u001b[0m\u001b[0;34m\u001b[0m\u001b[0m\n\u001b[0;32m----> 2\u001b[0;31m \u001b[0myhat\u001b[0m \u001b[0;34m=\u001b[0m \u001b[0mmodel\u001b[0m\u001b[0;34m.\u001b[0m\u001b[0mpredict\u001b[0m\u001b[0;34m(\u001b[0m\u001b[0mtest_X\u001b[0m\u001b[0;34m)\u001b[0m\u001b[0;34m\u001b[0m\u001b[0;34m\u001b[0m\u001b[0m\n\u001b[0m",
      "\u001b[0;32m~/anaconda3/envs/data_science/lib/python3.7/site-packages/keras/engine/training.py\u001b[0m in \u001b[0;36mpredict\u001b[0;34m(self, x, batch_size, verbose, steps, callbacks, max_queue_size, workers, use_multiprocessing)\u001b[0m\n\u001b[1;32m   1439\u001b[0m \u001b[0;34m\u001b[0m\u001b[0m\n\u001b[1;32m   1440\u001b[0m         \u001b[0;31m# Case 2: Symbolic tensors or Numpy array-like.\u001b[0m\u001b[0;34m\u001b[0m\u001b[0;34m\u001b[0m\u001b[0;34m\u001b[0m\u001b[0m\n\u001b[0;32m-> 1441\u001b[0;31m         \u001b[0mx\u001b[0m\u001b[0;34m,\u001b[0m \u001b[0m_\u001b[0m\u001b[0;34m,\u001b[0m \u001b[0m_\u001b[0m \u001b[0;34m=\u001b[0m \u001b[0mself\u001b[0m\u001b[0;34m.\u001b[0m\u001b[0m_standardize_user_data\u001b[0m\u001b[0;34m(\u001b[0m\u001b[0mx\u001b[0m\u001b[0;34m)\u001b[0m\u001b[0;34m\u001b[0m\u001b[0;34m\u001b[0m\u001b[0m\n\u001b[0m\u001b[1;32m   1442\u001b[0m         \u001b[0;32mif\u001b[0m \u001b[0mself\u001b[0m\u001b[0;34m.\u001b[0m\u001b[0mstateful\u001b[0m\u001b[0;34m:\u001b[0m\u001b[0;34m\u001b[0m\u001b[0;34m\u001b[0m\u001b[0m\n\u001b[1;32m   1443\u001b[0m             \u001b[0;32mif\u001b[0m \u001b[0mx\u001b[0m\u001b[0;34m[\u001b[0m\u001b[0;36m0\u001b[0m\u001b[0;34m]\u001b[0m\u001b[0;34m.\u001b[0m\u001b[0mshape\u001b[0m\u001b[0;34m[\u001b[0m\u001b[0;36m0\u001b[0m\u001b[0;34m]\u001b[0m \u001b[0;34m>\u001b[0m \u001b[0mbatch_size\u001b[0m \u001b[0;32mand\u001b[0m \u001b[0mx\u001b[0m\u001b[0;34m[\u001b[0m\u001b[0;36m0\u001b[0m\u001b[0;34m]\u001b[0m\u001b[0;34m.\u001b[0m\u001b[0mshape\u001b[0m\u001b[0;34m[\u001b[0m\u001b[0;36m0\u001b[0m\u001b[0;34m]\u001b[0m \u001b[0;34m%\u001b[0m \u001b[0mbatch_size\u001b[0m \u001b[0;34m!=\u001b[0m \u001b[0;36m0\u001b[0m\u001b[0;34m:\u001b[0m\u001b[0;34m\u001b[0m\u001b[0;34m\u001b[0m\u001b[0m\n",
      "\u001b[0;32m~/anaconda3/envs/data_science/lib/python3.7/site-packages/keras/engine/training.py\u001b[0m in \u001b[0;36m_standardize_user_data\u001b[0;34m(self, x, y, sample_weight, class_weight, check_array_lengths, batch_size)\u001b[0m\n\u001b[1;32m    577\u001b[0m             \u001b[0mfeed_input_shapes\u001b[0m\u001b[0;34m,\u001b[0m\u001b[0;34m\u001b[0m\u001b[0;34m\u001b[0m\u001b[0m\n\u001b[1;32m    578\u001b[0m             \u001b[0mcheck_batch_axis\u001b[0m\u001b[0;34m=\u001b[0m\u001b[0;32mFalse\u001b[0m\u001b[0;34m,\u001b[0m  \u001b[0;31m# Don't enforce the batch size.\u001b[0m\u001b[0;34m\u001b[0m\u001b[0;34m\u001b[0m\u001b[0m\n\u001b[0;32m--> 579\u001b[0;31m             exception_prefix='input')\n\u001b[0m\u001b[1;32m    580\u001b[0m \u001b[0;34m\u001b[0m\u001b[0m\n\u001b[1;32m    581\u001b[0m         \u001b[0;32mif\u001b[0m \u001b[0my\u001b[0m \u001b[0;32mis\u001b[0m \u001b[0;32mnot\u001b[0m \u001b[0;32mNone\u001b[0m\u001b[0;34m:\u001b[0m\u001b[0;34m\u001b[0m\u001b[0;34m\u001b[0m\u001b[0m\n",
      "\u001b[0;32m~/anaconda3/envs/data_science/lib/python3.7/site-packages/keras/engine/training_utils.py\u001b[0m in \u001b[0;36mstandardize_input_data\u001b[0;34m(data, names, shapes, check_batch_axis, exception_prefix)\u001b[0m\n\u001b[1;32m    133\u001b[0m                         \u001b[0;34m': expected '\u001b[0m \u001b[0;34m+\u001b[0m \u001b[0mnames\u001b[0m\u001b[0;34m[\u001b[0m\u001b[0mi\u001b[0m\u001b[0;34m]\u001b[0m \u001b[0;34m+\u001b[0m \u001b[0;34m' to have '\u001b[0m \u001b[0;34m+\u001b[0m\u001b[0;34m\u001b[0m\u001b[0;34m\u001b[0m\u001b[0m\n\u001b[1;32m    134\u001b[0m                         \u001b[0mstr\u001b[0m\u001b[0;34m(\u001b[0m\u001b[0mlen\u001b[0m\u001b[0;34m(\u001b[0m\u001b[0mshape\u001b[0m\u001b[0;34m)\u001b[0m\u001b[0;34m)\u001b[0m \u001b[0;34m+\u001b[0m \u001b[0;34m' dimensions, but got array '\u001b[0m\u001b[0;34m\u001b[0m\u001b[0;34m\u001b[0m\u001b[0m\n\u001b[0;32m--> 135\u001b[0;31m                         'with shape ' + str(data_shape))\n\u001b[0m\u001b[1;32m    136\u001b[0m                 \u001b[0;32mif\u001b[0m \u001b[0;32mnot\u001b[0m \u001b[0mcheck_batch_axis\u001b[0m\u001b[0;34m:\u001b[0m\u001b[0;34m\u001b[0m\u001b[0;34m\u001b[0m\u001b[0m\n\u001b[1;32m    137\u001b[0m                     \u001b[0mdata_shape\u001b[0m \u001b[0;34m=\u001b[0m \u001b[0mdata_shape\u001b[0m\u001b[0;34m[\u001b[0m\u001b[0;36m1\u001b[0m\u001b[0;34m:\u001b[0m\u001b[0;34m]\u001b[0m\u001b[0;34m\u001b[0m\u001b[0;34m\u001b[0m\u001b[0m\n",
      "\u001b[0;31mValueError\u001b[0m: Error when checking input: expected LSTM1_input to have 3 dimensions, but got array with shape (35039, 8)"
     ]
    }
   ],
   "source": [
    "# make a prediction\n",
    "yhat = model.predict(test_X)"
   ]
  },
  {
   "cell_type": "code",
   "execution_count": 14,
   "metadata": {
    "scrolled": false
   },
   "outputs": [
    {
     "name": "stdout",
     "output_type": "stream",
     "text": [
      "Test RMSE: 27.087\n"
     ]
    }
   ],
   "source": [
    "test_X = test_X.reshape((test_X.shape[0], test_X.shape[2]))\n",
    "# test_X = test_X.reshape((test_X.shape[0], 1, test_X.shape[1]))\n",
    "\n",
    "\n",
    "# invert scaling for forecast\n",
    "inv_yhat = concatenate((yhat, test_X[:, 1:]), axis=1)\n",
    "inv_yhat = scaler.inverse_transform(inv_yhat)\n",
    "inv_yhat = inv_yhat[:,0]\n",
    "# invert scaling for actual\n",
    "test_y = test_y.reshape((len(test_y), 1))\n",
    "inv_y = concatenate((test_y, test_X[:, 1:]), axis=1)\n",
    "inv_y = scaler.inverse_transform(inv_y)\n",
    "inv_y = inv_y[:,0]\n",
    "# calculate RMSE\n",
    "rmse = sqrt(mean_squared_error(inv_y, inv_yhat))\n",
    "print('Test RMSE: %.3f' % rmse)"
   ]
  },
  {
   "cell_type": "markdown",
   "metadata": {},
   "source": [
    "### Extract Weights from each layer"
   ]
  },
  {
   "cell_type": "code",
   "execution_count": 15,
   "metadata": {},
   "outputs": [
    {
     "data": {
      "text/plain": [
       "[<keras.layers.recurrent.LSTM at 0x1a35aa2c90>,\n",
       " <keras.layers.recurrent.LSTM at 0x1a37057c10>,\n",
       " <keras.layers.core.Dense at 0x1a369632d0>]"
      ]
     },
     "execution_count": 15,
     "metadata": {},
     "output_type": "execute_result"
    }
   ],
   "source": [
    "# show number of layers in total\n",
    "model.layers"
   ]
  },
  {
   "cell_type": "code",
   "execution_count": 16,
   "metadata": {},
   "outputs": [],
   "source": [
    "def get_LSTM_UWb(weight):\n",
    "    '''\n",
    "    weight must be output of LSTM's layer.get_weights()\n",
    "    W: weights for input\n",
    "    U: weights for hidden states\n",
    "    b: bias\n",
    "    '''\n",
    "    warr,uarr, barr = weight\n",
    "    gates = [\"i\",\"f\",\"c\",\"o\"]\n",
    "    hunit = uarr.shape[0]\n",
    "    U, W, b = {},{},{}\n",
    "    for i1,i2 in enumerate(range(0,len(barr),hunit)):\n",
    "        \n",
    "        W[gates[i1]] = warr[:,i2:i2+hunit]\n",
    "        U[gates[i1]] = uarr[:,i2:i2+hunit]\n",
    "        b[gates[i1]] = barr[i2:i2+hunit].reshape(hunit,1)\n",
    "    return(W,U,b)\n",
    "\n",
    "# def get_LSTMweights(model1):\n",
    "#     for layer in model1.layers:\n",
    "#         if \"LSTM\" in str(layer):\n",
    "#             w = layer.get_weights()\n",
    "#             W,U,b = get_LSTM_UWb(w)\n",
    "#             break\n",
    "#     return W,U,b\n",
    "\n",
    "def get_LSTMweights(model,layer):\n",
    "    '''\n",
    "    Get weights for one layer\n",
    "    '''\n",
    "    if \"LSTM\" in str(layer):\n",
    "        w = layer.get_weights()\n",
    "        W,U,b = get_LSTM_UWb(w)\n",
    "    return W, U, b\n",
    "\n",
    "def vectorize_with_labels(W,U,b):\n",
    "    bs,bs_label,ws,ws_label,us,us_label=[],[],[],[],[],[]\n",
    "    for k in [\"i\",\"f\",\"c\",\"o\"]:\n",
    "        temp = list(W[k].flatten())\n",
    "        ws_label.extend([\"W_\"+k]*len(temp))\n",
    "        ws.extend(temp)\n",
    "\n",
    "        temp = list(U[k].flatten())\n",
    "        us_label.extend([\"U_\"+k]*len(temp))\n",
    "        us.extend(temp)    \n",
    "\n",
    "        temp = list(b[k].flatten())\n",
    "        bs_label.extend([\"b_\"+k]*len(temp))\n",
    "        bs.extend(temp)  \n",
    "    weight = ws + us + bs\n",
    "    wlabel = ws_label + us_label + bs_label\n",
    "    return(weight,wlabel)"
   ]
  },
  {
   "cell_type": "code",
   "execution_count": 17,
   "metadata": {},
   "outputs": [],
   "source": [
    "w1, u1, b1 = get_LSTMweights(model, model.layers[0])"
   ]
  },
  {
   "cell_type": "code",
   "execution_count": 18,
   "metadata": {},
   "outputs": [
    {
     "name": "stdout",
     "output_type": "stream",
     "text": [
      "{'i': array([[ 2.87849754e-02,  4.46216345e-01,  1.37070298e-01,\n",
      "        -2.09782016e-03, -4.50745702e-01,  2.75893897e-01,\n",
      "         6.77652135e-02, -3.04056466e-01,  2.96254665e-01,\n",
      "         3.01593661e-01,  1.19770467e-01,  3.88814062e-01,\n",
      "         5.59873283e-02,  1.46327466e-01,  1.92669064e-01,\n",
      "        -2.37984806e-01,  8.94777700e-02,  1.22137502e-01,\n",
      "         3.68384242e-01,  3.64751637e-01, -1.63565502e-01,\n",
      "         1.44249976e-01,  6.94044307e-02,  1.55986026e-01,\n",
      "        -4.98996582e-03, -3.57112288e-01,  3.15893024e-01,\n",
      "        -2.15711787e-01,  1.39873818e-01,  6.45823032e-02,\n",
      "         2.01250121e-01,  2.53105730e-01,  1.44496828e-01,\n",
      "        -1.55027643e-01,  2.51694657e-02,  1.05836138e-01,\n",
      "        -1.82941947e-02,  1.69660136e-01,  2.74354637e-01,\n",
      "         1.44845635e-01, -1.87537193e-01,  3.15455437e-01,\n",
      "         6.93730190e-02,  6.39984012e-02, -2.09825754e-01,\n",
      "         3.81759144e-02, -6.46682456e-02,  3.03798825e-01,\n",
      "         6.04511276e-02,  3.07696760e-01],\n",
      "       [ 2.65248656e-01,  2.37731487e-02,  1.96596663e-02,\n",
      "        -1.63029149e-01, -1.72014758e-01,  6.86430484e-02,\n",
      "         1.35049894e-01,  1.87067971e-01,  2.13573184e-02,\n",
      "        -4.20535319e-02,  4.55901101e-02,  5.82161769e-02,\n",
      "        -1.91018581e-01, -1.46346986e-01,  7.60876611e-02,\n",
      "        -5.22194132e-02,  2.64501512e-01,  2.04957854e-02,\n",
      "         3.30345511e-01,  9.34232026e-02,  7.62834679e-03,\n",
      "         4.99606095e-02, -4.05687615e-02,  1.65136326e-02,\n",
      "         1.13519572e-01,  2.85482593e-02, -1.32762324e-02,\n",
      "        -3.63833383e-02, -2.38818139e-01, -3.09708770e-02,\n",
      "         9.99574289e-02, -2.40595490e-01,  2.29295492e-01,\n",
      "         4.70552668e-02, -7.64036849e-02, -1.06194198e-01,\n",
      "        -4.33397256e-02, -5.48872799e-02,  2.47274786e-01,\n",
      "         7.05816410e-03,  5.33499348e-04, -3.33247543e-03,\n",
      "        -5.86776361e-02, -1.51494533e-01,  8.57807398e-02,\n",
      "         1.05936818e-01, -5.65020666e-02, -1.97918583e-02,\n",
      "        -9.75746736e-02, -8.95154402e-02],\n",
      "       [ 2.33366117e-01,  1.02998026e-01,  1.20123185e-01,\n",
      "        -2.34655276e-01, -5.34587055e-02,  7.88625479e-02,\n",
      "         7.64056817e-02,  1.15502521e-01,  1.48361572e-03,\n",
      "         1.48242772e-01,  2.26755023e-01, -8.04746673e-02,\n",
      "        -4.65290248e-03, -1.33843586e-01,  6.82078004e-02,\n",
      "        -7.21892938e-02,  2.89901763e-01, -3.81608494e-02,\n",
      "         3.77945870e-01, -1.52197957e-01,  2.12072395e-02,\n",
      "        -2.80230846e-02, -2.52808332e-01, -7.60938302e-02,\n",
      "         1.09187804e-01, -1.91872403e-01, -7.10534751e-02,\n",
      "        -7.92324170e-02, -2.02656299e-01,  1.67245746e-01,\n",
      "         1.76020995e-01, -4.43989635e-02,  1.06227785e-01,\n",
      "        -8.86946842e-02, -2.71546245e-01,  2.55129691e-02,\n",
      "         1.23627365e-01, -1.46284685e-01,  5.20546995e-02,\n",
      "        -1.97625965e-01, -3.05329591e-01,  8.90350118e-02,\n",
      "         4.02476676e-02,  8.75644684e-02,  1.75459296e-01,\n",
      "         1.43201828e-01,  6.34302422e-02, -1.53146639e-01,\n",
      "         3.95309404e-02, -1.20513938e-01],\n",
      "       [ 7.83135444e-02,  2.84973085e-02, -1.35267422e-01,\n",
      "        -1.04259111e-01,  1.36261418e-01,  8.05507973e-02,\n",
      "         1.22870840e-01,  1.72506005e-01, -1.25420049e-01,\n",
      "         1.00764245e-01, -2.47471258e-02,  9.87050980e-02,\n",
      "         6.29975274e-02, -1.12079367e-01,  8.58132020e-02,\n",
      "        -1.65665969e-01,  3.50811899e-01, -2.22347438e-01,\n",
      "         2.34399602e-01, -1.59727976e-01, -1.93615496e-01,\n",
      "         2.99147218e-02, -1.99435905e-01,  3.13264020e-02,\n",
      "        -4.25068773e-02, -2.55516414e-02, -8.70315284e-02,\n",
      "        -4.83471900e-02, -3.16252619e-01, -1.43465593e-01,\n",
      "        -9.59393606e-02, -3.08587477e-02,  1.16830863e-01,\n",
      "        -7.93088973e-02, -8.37372690e-02, -3.22975159e-01,\n",
      "        -2.05558836e-02, -2.84683220e-02, -7.82488361e-02,\n",
      "        -3.24653201e-02,  2.76270241e-01,  2.07810372e-01,\n",
      "         1.79555625e-01, -3.80568765e-02,  1.27000958e-01,\n",
      "        -1.22265004e-01, -1.83498695e-01,  2.08932877e-01,\n",
      "        -1.77617520e-01, -3.25751632e-01],\n",
      "       [ 1.20634124e-01,  7.36684203e-02,  1.52188063e-01,\n",
      "         2.50043441e-02, -1.16063997e-01, -1.88076258e-01,\n",
      "         1.65440217e-01,  5.84959425e-02,  8.40659589e-02,\n",
      "        -4.67272103e-02, -1.38306290e-01, -1.07603684e-01,\n",
      "         9.09425989e-02, -8.20280537e-02, -3.87212634e-02,\n",
      "        -1.73620507e-01,  5.85860424e-02, -2.88152788e-02,\n",
      "         1.69850886e-01, -2.65101604e-02,  9.41185001e-03,\n",
      "        -3.04328799e-01, -8.16591606e-02,  4.05341759e-02,\n",
      "         8.44177902e-02, -1.29919291e-01,  1.30351454e-01,\n",
      "         1.94002315e-01, -1.61400922e-02, -2.84349937e-02,\n",
      "         1.27059385e-01, -1.31288156e-01,  9.19898823e-02,\n",
      "         7.93575421e-02, -3.16775680e-01, -1.54445425e-01,\n",
      "        -1.42331392e-01, -2.92293075e-02,  6.22379966e-02,\n",
      "         1.43223897e-01, -2.37715244e-01,  2.32301921e-01,\n",
      "         1.91441461e-01,  6.59788144e-04,  1.28387302e-01,\n",
      "         5.11476658e-02, -5.83189130e-02,  9.70992669e-02,\n",
      "        -1.18762843e-01, -2.37742648e-01],\n",
      "       [-1.04935162e-01, -1.19296081e-01, -7.12166503e-02,\n",
      "        -1.73581522e-02, -1.57050669e-01, -1.32787377e-01,\n",
      "        -8.53930786e-02, -2.32449085e-01,  1.15498833e-01,\n",
      "         7.71412700e-02,  7.61872754e-02,  9.07472819e-02,\n",
      "        -1.51984617e-01, -3.65008563e-01,  5.30142598e-02,\n",
      "        -2.48428270e-01, -2.11429968e-01, -1.23595387e-01,\n",
      "         1.81726851e-02, -2.37288605e-02,  6.39560893e-02,\n",
      "         2.85115670e-02, -8.95875171e-02, -8.96974131e-02,\n",
      "        -9.46338996e-02, -1.43839985e-01, -7.87352622e-02,\n",
      "        -1.65410861e-01, -9.31268260e-02, -4.09687385e-02,\n",
      "         5.82492501e-02,  1.13697732e-02, -8.48295018e-02,\n",
      "        -1.82053000e-01, -2.76669979e-01,  1.29060909e-01,\n",
      "         9.98141319e-02, -2.55653739e-01,  3.06344002e-01,\n",
      "         6.72584325e-02, -2.78964490e-01,  2.20208913e-01,\n",
      "        -2.80287057e-01,  1.09394178e-01, -4.77656350e-02,\n",
      "        -3.08890864e-02, -9.78811979e-02, -9.40127764e-03,\n",
      "        -2.72520304e-01, -3.67737859e-01],\n",
      "       [-5.04999012e-02,  2.05061853e-01, -1.17990926e-01,\n",
      "        -5.01465313e-02, -1.47014260e-01,  8.87419730e-02,\n",
      "        -1.36560958e-03, -4.31474298e-01,  8.48487988e-02,\n",
      "        -1.41016826e-01,  6.81425333e-02,  2.44146790e-02,\n",
      "         1.34728372e-01,  5.34881651e-02, -1.97729424e-01,\n",
      "        -1.50094077e-01, -1.66268811e-01,  1.88681185e-01,\n",
      "        -9.79848113e-03,  2.63124883e-01, -3.44822288e-01,\n",
      "        -1.62286520e-01,  1.24543369e-01, -7.90655911e-02,\n",
      "        -5.39876595e-02, -2.69840546e-02,  1.08875230e-01,\n",
      "        -3.32471520e-01,  1.90653771e-01, -1.65583000e-01,\n",
      "         3.23566236e-02,  8.16418882e-03, -3.11477482e-02,\n",
      "        -2.79354632e-01,  2.21697483e-02, -2.15563789e-01,\n",
      "        -4.09918018e-02, -2.93904636e-02, -1.98338494e-01,\n",
      "         1.20196462e-01, -1.46473676e-01,  2.71271672e-02,\n",
      "        -8.98195580e-02, -1.04915695e-02, -5.76262057e-01,\n",
      "         1.76149175e-01, -1.65147498e-01,  1.25309989e-01,\n",
      "        -1.30215436e-01, -1.37537017e-01],\n",
      "       [-1.24375246e-01, -1.64572775e-01,  8.09166431e-02,\n",
      "        -1.03186645e-01, -1.07440434e-01, -2.12107390e-01,\n",
      "         7.28979930e-02, -1.99464932e-01, -6.85526477e-03,\n",
      "        -1.65650055e-01,  1.17893606e-01, -2.57196780e-02,\n",
      "         8.52799565e-02, -2.61306047e-01, -2.47496404e-02,\n",
      "         8.81745294e-02, -1.61648706e-01, -1.12897053e-01,\n",
      "        -1.08649537e-01,  6.42090365e-02, -1.68510169e-01,\n",
      "        -5.80642782e-02, -1.59903377e-01, -8.85062888e-02,\n",
      "        -7.76209012e-02, -1.57874137e-01, -2.69698892e-02,\n",
      "        -2.27909051e-02, -2.44111583e-01,  3.34999408e-03,\n",
      "        -1.96462106e-02, -2.49605440e-02,  6.21700324e-02,\n",
      "        -2.27569550e-01, -7.48252422e-02, -6.65092990e-02,\n",
      "         8.82148221e-02, -1.84242874e-01,  2.39457898e-02,\n",
      "         9.92296785e-02, -2.63375789e-01, -6.97447881e-02,\n",
      "        -5.16428500e-02,  7.37891719e-02, -1.08513959e-01,\n",
      "         6.75123036e-02, -1.92113191e-01, -1.74601395e-02,\n",
      "         4.92410287e-02, -2.33529434e-01]], dtype=float32), 'f': array([[-7.36183450e-02, -7.79867694e-02, -1.07254945e-01,\n",
      "         1.15868419e-01, -1.21460550e-01, -9.00962353e-02,\n",
      "        -6.22783378e-02, -9.87338796e-02, -1.24327362e-01,\n",
      "         9.56764817e-02, -8.55868980e-02,  3.77597511e-02,\n",
      "         8.83507729e-02, -1.42459601e-01, -1.60034671e-01,\n",
      "        -1.18308306e-01, -1.12692267e-02,  1.24111682e-01,\n",
      "         2.11688876e-02, -4.58029136e-02,  6.49285465e-02,\n",
      "        -7.39090070e-02, -6.99648708e-02,  1.52270257e-01,\n",
      "         9.09321308e-02,  8.40722322e-02, -9.97372270e-02,\n",
      "        -2.34007835e-03,  9.06889737e-02,  1.51588559e-01,\n",
      "        -1.58392787e-01, -3.70021164e-03, -6.66540936e-02,\n",
      "         4.09829021e-02,  9.55938697e-02, -1.64506555e-01,\n",
      "         1.46681637e-01,  6.84680343e-02,  3.33165824e-02,\n",
      "         7.29725212e-02,  3.67116183e-02, -4.21581119e-02,\n",
      "         1.62728727e-01,  2.62581706e-02,  2.65202075e-02,\n",
      "         7.87617713e-02,  2.37955749e-02, -1.54504076e-01,\n",
      "        -1.03014439e-01, -1.35972604e-01],\n",
      "       [ 1.21165872e-01, -1.21506430e-01,  9.77990627e-02,\n",
      "         1.37533396e-01,  4.57698703e-02, -8.22694376e-02,\n",
      "        -1.59432292e-01, -1.56693593e-01,  1.46834433e-01,\n",
      "         4.46782112e-02, -2.42609680e-02,  2.31183618e-02,\n",
      "        -1.17998123e-02,  1.39541239e-01,  4.15754467e-02,\n",
      "        -1.24456733e-01, -9.85879824e-02, -1.36733726e-01,\n",
      "         2.63847262e-02, -4.85441536e-02,  3.03853899e-02,\n",
      "        -7.56160468e-02, -2.06267983e-02, -1.03618920e-01,\n",
      "        -6.52851760e-02,  8.82735550e-02, -1.28783137e-02,\n",
      "         1.23454183e-02,  1.37952119e-01,  8.76729786e-02,\n",
      "        -1.31977692e-01, -6.20067492e-02, -2.12671608e-02,\n",
      "         3.68797183e-02,  1.09055370e-01, -1.08412407e-01,\n",
      "         1.61919504e-01,  1.47720546e-01, -3.51239145e-02,\n",
      "         5.60179800e-02,  1.50467098e-01, -7.42530003e-02,\n",
      "         7.51747936e-02, -1.24650136e-01,  8.49024057e-02,\n",
      "         5.73116988e-02,  9.47169662e-02,  1.42250001e-01,\n",
      "         1.50036126e-01,  6.39379621e-02],\n",
      "       [ 1.14120543e-01,  1.57571942e-01, -1.60588175e-01,\n",
      "        -1.59076676e-01, -1.59334540e-02,  1.10534698e-01,\n",
      "        -7.03093484e-02,  1.12567991e-01, -1.51452303e-01,\n",
      "        -5.89610413e-02,  1.51370138e-01,  1.32696748e-01,\n",
      "        -5.41090369e-02,  1.03856206e-01, -1.52475685e-01,\n",
      "        -8.49845931e-02,  1.58228785e-01, -1.66728348e-01,\n",
      "        -5.05373627e-02,  3.15072536e-02,  3.26889306e-02,\n",
      "         6.74174726e-03, -1.35112613e-01, -7.34438598e-02,\n",
      "         1.44041389e-01,  9.34158266e-03,  1.33405447e-01,\n",
      "        -4.46595103e-02, -8.31322297e-02, -6.54324442e-02,\n",
      "         1.58868372e-01,  8.77633691e-02, -1.49673507e-01,\n",
      "        -6.71534985e-02,  1.61074787e-01, -2.95619518e-02,\n",
      "         5.46113998e-02,  1.30968750e-01, -1.25384688e-01,\n",
      "        -1.55748844e-01, -1.66283205e-01, -1.34120286e-01,\n",
      "        -1.18743606e-01, -3.54227424e-03, -1.55227333e-01,\n",
      "         8.43256116e-02,  1.45801842e-01,  3.09337527e-02,\n",
      "        -2.05586553e-02, -8.69195163e-03],\n",
      "       [-9.09938961e-02, -1.57914877e-01,  1.88785046e-02,\n",
      "         6.82417154e-02,  1.60588622e-01,  1.02529556e-01,\n",
      "         1.96027309e-02, -3.32180113e-02, -3.40104103e-04,\n",
      "        -3.85778099e-02, -1.07865505e-01, -4.38544899e-02,\n",
      "        -4.70876694e-05,  1.49043113e-01,  6.32670224e-02,\n",
      "        -1.31673664e-01, -7.36574829e-03, -4.45611477e-02,\n",
      "        -6.81125447e-02,  1.59808695e-02, -3.18813771e-02,\n",
      "         1.07297182e-01,  5.24740815e-02, -1.21203333e-01,\n",
      "         2.28557587e-02,  8.99075270e-02, -6.72391430e-02,\n",
      "         7.30731785e-02,  1.28651202e-01, -6.95929378e-02,\n",
      "         1.34203583e-01, -1.44687548e-01,  1.43374503e-01,\n",
      "         8.38555694e-02, -3.42820585e-03,  4.45515066e-02,\n",
      "         1.64988667e-01, -1.46560043e-01,  1.71942562e-02,\n",
      "         3.29556614e-02,  7.58012682e-02,  7.84588009e-02,\n",
      "        -1.34937763e-02, -2.23533660e-02,  6.47124648e-03,\n",
      "         1.42979026e-01,  1.17827535e-01, -5.53777367e-02,\n",
      "        -3.43390405e-02, -1.25627562e-01],\n",
      "       [-1.66268542e-01,  1.03782356e-01,  8.67687762e-02,\n",
      "         1.73014849e-02, -1.02345206e-01, -8.01485777e-03,\n",
      "         3.77140045e-02,  1.28858984e-01,  1.53035820e-01,\n",
      "         1.44960880e-01, -9.13638026e-02,  7.59900510e-02,\n",
      "        -1.02477454e-01,  1.46014452e-01,  1.31331533e-01,\n",
      "         5.08935004e-02, -1.29698396e-01,  3.48391682e-02,\n",
      "        -1.22998528e-01,  6.10631257e-02,  4.41968292e-02,\n",
      "         5.52370697e-02,  1.55386120e-01, -7.35870004e-03,\n",
      "        -1.32768244e-01,  2.13690102e-02, -4.89345118e-02,\n",
      "         6.77609742e-02,  2.41020322e-02, -5.05524650e-02,\n",
      "         9.57022905e-02,  6.19027615e-02, -1.01097398e-01,\n",
      "        -1.53892145e-01,  3.94291431e-02, -2.23084092e-02,\n",
      "         1.92321241e-02,  1.21235460e-01,  2.89650857e-02,\n",
      "         1.66375518e-01, -1.33053690e-01, -3.34236026e-02,\n",
      "        -9.51549560e-02, -2.61223316e-03, -2.39072740e-03,\n",
      "         7.29233623e-02,  1.52735710e-02,  2.09929496e-02,\n",
      "         1.00043118e-01,  1.64084703e-01],\n",
      "       [-1.39211193e-01,  7.93660134e-02, -6.95355609e-02,\n",
      "        -9.54672396e-02, -1.14169069e-01, -7.20911771e-02,\n",
      "        -9.59639326e-02, -7.34205768e-02, -1.16995469e-01,\n",
      "         1.44996166e-01,  1.10193402e-01,  1.49324447e-01,\n",
      "         8.33638906e-02, -8.18457082e-02, -8.58439505e-02,\n",
      "        -5.37030920e-02,  1.42610729e-01, -1.21195361e-01,\n",
      "         3.84362340e-02, -1.02092244e-01,  7.73139298e-02,\n",
      "        -8.53186697e-02,  1.00187957e-01, -7.50083625e-02,\n",
      "         1.11582428e-01,  1.04527175e-01, -1.71767622e-02,\n",
      "         1.55075938e-02,  2.87029296e-02, -3.24124396e-02,\n",
      "        -5.78655675e-02, -5.42803258e-02,  9.80219245e-03,\n",
      "        -6.06217906e-02, -1.18100941e-02,  8.93424153e-02,\n",
      "         1.00541502e-01, -5.54967076e-02,  3.44895124e-02,\n",
      "         9.19054151e-02,  1.49902970e-01,  4.72185165e-02,\n",
      "         9.91562009e-03, -8.89168307e-02, -1.19474143e-01,\n",
      "        -7.81808197e-02,  1.59274578e-01, -9.42447484e-02,\n",
      "        -3.83337438e-02,  7.93297291e-02],\n",
      "       [-4.49305251e-02,  4.10845429e-02, -1.37189031e-01,\n",
      "        -3.02572995e-02,  3.63241434e-02,  1.64575070e-01,\n",
      "         3.62541378e-02, -1.12390436e-01,  6.80283159e-02,\n",
      "        -3.50538641e-02, -9.39544067e-02, -4.15727347e-02,\n",
      "        -7.06541911e-02,  2.04350650e-02, -1.14184096e-01,\n",
      "         5.37647605e-02,  6.05598390e-02,  1.26950443e-02,\n",
      "         1.43407673e-01, -1.45522282e-01, -9.93776023e-02,\n",
      "         1.36617422e-02,  4.96340692e-02, -2.27030963e-02,\n",
      "        -5.42011857e-03, -1.59111783e-01, -1.20110743e-01,\n",
      "         4.84970212e-02,  1.30079716e-01,  1.45892888e-01,\n",
      "         1.63411438e-01, -3.56201231e-02,  1.08050108e-02,\n",
      "         1.23094082e-01, -1.61788553e-01, -1.23858288e-01,\n",
      "        -1.61668941e-01,  1.50201052e-01, -7.64902160e-02,\n",
      "        -1.38055712e-01, -4.19247895e-02,  1.33777529e-01,\n",
      "        -1.40421942e-01, -3.06358784e-02, -1.20510861e-01,\n",
      "        -1.59922913e-01, -1.04077630e-01, -5.64197525e-02,\n",
      "        -1.67510033e-01,  7.28663057e-02],\n",
      "       [ 8.05228651e-02, -1.19747877e-01, -1.51864842e-01,\n",
      "         4.81101871e-02, -3.26514393e-02, -8.74850601e-02,\n",
      "        -1.56761020e-01, -4.01055366e-02, -1.59443185e-01,\n",
      "        -9.65578482e-02,  9.37332809e-02,  6.72748536e-02,\n",
      "         5.96280843e-02, -4.61337864e-02, -1.05991997e-01,\n",
      "         2.82746702e-02,  3.26365232e-03,  1.31990969e-01,\n",
      "        -1.27469197e-01, -6.34390116e-03,  5.40594757e-02,\n",
      "         1.59966022e-01, -5.65817654e-02, -1.64534867e-01,\n",
      "        -1.28272921e-02,  1.68009102e-01, -9.26433131e-02,\n",
      "         3.81196141e-02, -1.62160248e-01,  1.17648989e-01,\n",
      "         7.01586753e-02, -1.61061421e-01,  1.23781383e-01,\n",
      "         1.61252916e-01,  9.79166329e-02,  9.56561267e-02,\n",
      "        -1.02518633e-01, -1.61045790e-02, -1.03391387e-01,\n",
      "         3.32234055e-02,  1.36983216e-01, -1.27438754e-01,\n",
      "        -1.46867350e-01, -1.57177612e-01, -1.24971487e-01,\n",
      "         1.41793340e-01, -8.48571956e-03, -8.48705694e-02,\n",
      "         7.08158016e-02,  4.66670394e-02]], dtype=float32), 'c': array([[ 4.81634587e-01,  4.42380190e-01, -1.67180702e-01,\n",
      "        -3.88005167e-01,  4.60335076e-01,  4.31308657e-01,\n",
      "         4.46108341e-01,  5.50800502e-01, -4.11980957e-01,\n",
      "         4.80508894e-01, -3.61134410e-01,  3.62516284e-01,\n",
      "         2.39941850e-02, -2.08834246e-01, -3.35769862e-01,\n",
      "         8.43608826e-02, -5.38206816e-01,  5.56859151e-02,\n",
      "        -5.47522843e-01, -4.15833622e-01, -3.70138377e-01,\n",
      "         6.16294444e-02, -1.89699993e-01, -3.79114687e-01,\n",
      "         4.33559000e-01, -1.55457675e-01,  2.52213389e-01,\n",
      "        -4.04458314e-01,  6.94457721e-03,  4.28653061e-01,\n",
      "         3.41438472e-01,  1.66367799e-01, -5.68865836e-01,\n",
      "        -4.34999108e-01, -1.66671693e-01,  2.23250046e-01,\n",
      "         1.47030741e-01,  4.90540504e-01,  4.60882336e-01,\n",
      "        -3.52331728e-01,  4.02524889e-01, -5.15524149e-01,\n",
      "         4.26799804e-01, -2.00487554e-01, -5.07104337e-01,\n",
      "         1.51246294e-01, -2.19911598e-02,  5.15477180e-01,\n",
      "         1.68036252e-01,  2.40917155e-03],\n",
      "       [-9.45031494e-02,  1.41316339e-01,  4.79331575e-02,\n",
      "         3.23073531e-04, -1.11707307e-01,  7.81470388e-02,\n",
      "        -1.35354139e-02, -9.54604223e-02, -1.01912478e-02,\n",
      "         1.15846366e-01, -1.27505571e-01,  7.00556561e-02,\n",
      "        -3.79804708e-02,  5.33629917e-02, -5.35832420e-02,\n",
      "         5.75643219e-03,  1.59053970e-02,  1.50119904e-02,\n",
      "        -1.29643362e-02, -6.82476088e-02, -3.34819593e-02,\n",
      "         1.78589493e-01, -6.18117489e-02, -7.09566027e-02,\n",
      "         7.57045820e-02, -7.77801648e-02,  1.48009643e-01,\n",
      "         5.37885055e-02, -9.56331268e-02, -7.31806383e-02,\n",
      "        -1.80274516e-01,  4.36731614e-03, -8.15239325e-02,\n",
      "         6.93663657e-02,  1.26601532e-01,  3.74157242e-02,\n",
      "         1.30616119e-02,  2.62412988e-02,  8.01037997e-02,\n",
      "        -1.06756225e-01, -1.58394411e-01, -6.34408295e-02,\n",
      "        -1.65970564e-01,  6.64528161e-02,  1.36160940e-01,\n",
      "         5.35061322e-02, -6.84203282e-02,  2.78726369e-02,\n",
      "        -1.00672744e-01, -9.34685171e-02],\n",
      "       [ 1.30765766e-01, -9.79328975e-02, -1.04235917e-01,\n",
      "         9.03010741e-02, -1.92930363e-02,  3.06281145e-03,\n",
      "        -1.09069906e-01, -1.03928298e-02, -1.02444589e-01,\n",
      "         3.28373276e-02,  1.05831310e-01,  8.10531154e-02,\n",
      "         7.84357488e-02,  9.81356278e-02,  7.79860988e-02,\n",
      "        -5.06526120e-02, -4.10187915e-02,  2.26520076e-02,\n",
      "         5.87744005e-02, -1.21696055e-01,  8.67141709e-02,\n",
      "        -1.72202036e-01,  1.09679900e-01, -1.87288877e-02,\n",
      "         2.23649610e-02,  1.21115103e-01,  6.59317598e-02,\n",
      "        -1.43165123e-02,  5.49898595e-02,  7.56770819e-02,\n",
      "         1.09003089e-01,  3.50677632e-02,  1.41119853e-01,\n",
      "         3.46241258e-02,  9.19735432e-02, -8.09442550e-02,\n",
      "        -2.72472352e-02, -4.72518094e-02, -8.55780989e-02,\n",
      "        -1.06237881e-01,  3.57864648e-02, -1.21983871e-01,\n",
      "         8.93088281e-02, -1.37407426e-02, -5.66230305e-02,\n",
      "         7.94983283e-02,  3.27296518e-02,  1.19113296e-01,\n",
      "        -2.22989731e-02,  7.49407196e-03],\n",
      "       [-9.06746462e-02,  1.57644361e-01,  5.81872612e-02,\n",
      "         3.41026895e-02,  1.38250971e-02,  1.08229458e-01,\n",
      "         6.02655746e-02,  4.13074996e-03,  4.30111066e-02,\n",
      "        -1.07637964e-01,  1.06394649e-01,  8.76947939e-02,\n",
      "         6.83318824e-02, -9.88300070e-02,  8.99626687e-03,\n",
      "        -2.08562352e-02, -9.07877646e-03,  2.43487465e-03,\n",
      "         3.25155142e-03,  1.08222179e-02,  4.31546085e-02,\n",
      "         4.49887663e-03, -2.62937695e-02, -8.28706101e-02,\n",
      "        -5.69652244e-02,  2.14992166e-02,  3.33604291e-02,\n",
      "         2.01921053e-02,  1.41354483e-02,  3.55265178e-02,\n",
      "         1.87092479e-02,  9.13192704e-02,  5.24101108e-02,\n",
      "         4.45672981e-02, -1.81251213e-01, -9.14760455e-02,\n",
      "        -3.10303420e-02,  1.12158030e-01, -1.10963486e-01,\n",
      "         6.15086369e-02,  1.79424420e-01,  3.62866707e-02,\n",
      "         9.83450264e-02, -3.26752253e-02,  1.17055751e-01,\n",
      "        -1.11784264e-01, -5.01313508e-02,  1.40068978e-01,\n",
      "        -6.47540390e-02, -4.78056399e-03],\n",
      "       [ 1.82191487e-02, -5.63908555e-02, -4.29071337e-02,\n",
      "         7.60220587e-02, -8.17806646e-03, -9.98408347e-02,\n",
      "         1.07138298e-01,  1.81327723e-02, -1.27989694e-01,\n",
      "         1.33921310e-01, -1.09904349e-01, -1.58450559e-01,\n",
      "         1.19160879e-02, -4.98823896e-02, -1.57292094e-02,\n",
      "        -2.63931807e-02,  1.00905351e-01, -1.86371990e-02,\n",
      "        -3.08327116e-02,  1.31562157e-02, -2.28527151e-02,\n",
      "        -4.59870100e-02, -3.20672244e-02,  8.66104141e-02,\n",
      "        -7.77985081e-02,  3.62587273e-02,  1.45306155e-01,\n",
      "        -2.17679311e-02,  1.58591196e-02,  1.18847556e-01,\n",
      "         1.58024132e-01, -5.11602722e-02, -9.33491904e-03,\n",
      "        -8.00079107e-02,  4.25550491e-02,  1.12958632e-01,\n",
      "         6.53307214e-02, -8.54980052e-02,  7.32582137e-02,\n",
      "         9.69212875e-02, -1.28893390e-01,  9.74886045e-02,\n",
      "         1.37586817e-01, -8.98732170e-02, -1.47373572e-01,\n",
      "         8.36763009e-02, -1.57352015e-02, -1.44365087e-01,\n",
      "         1.32178858e-01,  6.91188425e-02],\n",
      "       [-6.39298856e-02, -1.56411871e-01, -3.27693373e-02,\n",
      "        -1.62217598e-02, -9.20821577e-02,  7.51804635e-02,\n",
      "        -1.46615475e-01,  2.21821778e-02,  7.57661015e-02,\n",
      "        -1.11448847e-01,  3.88226584e-02,  1.11817889e-01,\n",
      "        -2.44618729e-02,  4.90625426e-02,  2.99771558e-02,\n",
      "         7.78037310e-02, -5.84755726e-02, -4.31437679e-02,\n",
      "        -4.81928773e-02,  1.53375417e-01, -1.74701065e-01,\n",
      "         1.28115364e-03, -1.87303126e-01, -1.58468708e-01,\n",
      "        -1.31942490e-02,  2.90764077e-03, -1.13201618e-01,\n",
      "         8.44126791e-02,  1.25830499e-02, -1.14791006e-01,\n",
      "         7.74361342e-02, -1.92307010e-02,  1.09472737e-01,\n",
      "         1.55598503e-02, -1.13991670e-01,  1.20473519e-01,\n",
      "         7.28411451e-02, -7.18107894e-02,  1.75247714e-01,\n",
      "         5.98293729e-02,  1.58073772e-02, -6.25926033e-02,\n",
      "        -1.22812919e-01,  1.61411818e-02, -6.00576662e-02,\n",
      "        -6.81628659e-02,  4.44588549e-02,  1.37877211e-01,\n",
      "         1.65693939e-01,  1.45809814e-01],\n",
      "       [-9.01849866e-02, -1.55807763e-01, -3.67668234e-02,\n",
      "         1.44382268e-01, -1.00080691e-01,  1.46107689e-01,\n",
      "         6.34499863e-02, -6.63116667e-03, -3.68201882e-02,\n",
      "         1.03150621e-01, -1.83934972e-01,  1.00596793e-01,\n",
      "         1.00739710e-01,  8.25259741e-03, -1.16915934e-01,\n",
      "        -5.99018522e-02, -1.01526633e-01, -5.83141595e-02,\n",
      "         6.69711444e-04,  6.51278719e-02,  7.82518461e-03,\n",
      "        -2.07071602e-01,  1.02546215e-01, -1.55149579e-01,\n",
      "         4.33419347e-02,  1.25442877e-01, -2.98620537e-02,\n",
      "        -8.84564780e-03,  1.11590385e-01,  1.03492923e-01,\n",
      "        -1.21188283e-01,  9.36225951e-02,  1.34139210e-01,\n",
      "        -2.70888917e-02, -1.71885341e-01,  1.62655294e-01,\n",
      "         3.79235446e-02,  1.62046384e-02, -1.13278478e-01,\n",
      "        -7.01841936e-02, -1.00732436e-02, -3.65237519e-02,\n",
      "         1.56606361e-01,  6.74844161e-02, -1.82119943e-02,\n",
      "        -1.28064826e-01, -1.72695406e-02, -5.94213493e-02,\n",
      "         3.11898571e-02,  8.84799957e-02],\n",
      "       [ 7.90484697e-02,  1.26401111e-01,  5.58230840e-02,\n",
      "         3.35365273e-02,  8.62447768e-02,  1.21425360e-01,\n",
      "         9.97217074e-02,  1.79472312e-01, -1.65453739e-02,\n",
      "        -5.40006086e-02, -3.14732492e-02,  5.60113229e-04,\n",
      "        -2.14844812e-02,  1.12300981e-02,  2.98627652e-02,\n",
      "         4.81690951e-02,  8.49578157e-02, -2.72710063e-02,\n",
      "         1.06265254e-01,  8.23249668e-02,  3.70541937e-03,\n",
      "        -1.22949362e-01,  6.44533634e-02, -9.77348685e-02,\n",
      "        -5.51717989e-02, -6.73101842e-03, -1.17875971e-01,\n",
      "         3.93650588e-03,  1.42478198e-01, -7.71065652e-02,\n",
      "         1.23958541e-02, -1.22165456e-01,  1.15543745e-01,\n",
      "        -6.80472404e-02, -7.86166415e-02, -7.58597180e-02,\n",
      "         4.99649011e-02,  7.46258348e-02,  1.21257149e-01,\n",
      "        -5.43559492e-02, -8.94785523e-02, -2.18047425e-02,\n",
      "         2.68455464e-02, -6.94126412e-02,  2.70912759e-02,\n",
      "        -1.52394652e-01,  1.13614522e-01, -7.72043690e-02,\n",
      "         1.99075818e-01,  2.02954099e-01]], dtype=float32), 'o': array([[-0.02516809,  0.21312419,  0.17764701, -0.24860951, -0.5754623 ,\n",
      "         0.18188919,  0.34418625, -0.4272841 ,  0.34869513,  0.3063128 ,\n",
      "         0.09051599,  0.3683872 , -0.04032245, -0.09536396,  0.15921603,\n",
      "        -0.36734882,  0.17138788, -0.01065439,  0.15783092,  0.3548357 ,\n",
      "        -0.0259533 ,  0.32010096,  0.09673898,  0.37176195,  0.08981133,\n",
      "        -0.20607863,  0.33482692, -0.33358443,  0.03028253,  0.16078505,\n",
      "         0.28695026,  0.0249878 ,  0.15098774, -0.09913   ,  0.22210695,\n",
      "         0.11942271,  0.19300002,  0.108933  ,  0.31023085,  0.17405057,\n",
      "        -0.04770906,  0.39248893,  0.2095972 ,  0.27203888, -0.30089703,\n",
      "         0.31058234,  0.00398054,  0.358961  , -0.0086796 ,  0.27242914],\n",
      "       [ 0.0497537 ,  0.14728115,  0.0624289 ,  0.05525401,  0.02787391,\n",
      "        -0.17296338,  0.02799786,  0.10025781, -0.07026286,  0.2147961 ,\n",
      "         0.07741609,  0.0897748 , -0.00320307, -0.35658228, -0.01596724,\n",
      "        -0.08919864,  0.30993655, -0.06313853,  0.34157377,  0.08969732,\n",
      "         0.22838368, -0.11433858, -0.12109964, -0.00760323,  0.24901374,\n",
      "        -0.05339048,  0.10991908, -0.14240904, -0.23469642, -0.07599701,\n",
      "         0.16505663, -0.21416907,  0.21381325,  0.1856413 ,  0.05632042,\n",
      "         0.15808646,  0.03507494, -0.02049357,  0.1497409 , -0.1247163 ,\n",
      "        -0.14102054,  0.08110952, -0.0128276 , -0.06212006,  0.15393493,\n",
      "         0.04319927, -0.17917587,  0.02644027,  0.0323364 , -0.01328799],\n",
      "       [ 0.16983898, -0.11526161,  0.1262198 , -0.1707229 , -0.03341166,\n",
      "        -0.1940154 , -0.04487889, -0.04592597,  0.02642149,  0.02810336,\n",
      "         0.07032273, -0.01305231,  0.08834704, -0.14013803, -0.1013639 ,\n",
      "        -0.1507607 ,  0.12623203,  0.08661918,  0.07597742,  0.13229556,\n",
      "         0.13567252, -0.089081  , -0.26806593,  0.08362304,  0.01044513,\n",
      "        -0.11135531, -0.00621767, -0.13245155,  0.03757066,  0.10934532,\n",
      "         0.00374414, -0.11910114,  0.316561  , -0.04918996, -0.00750193,\n",
      "        -0.05304781, -0.10537451, -0.16424245,  0.01817721, -0.02237704,\n",
      "        -0.08556286, -0.04969842, -0.11929139,  0.0325245 ,  0.15771058,\n",
      "         0.10969826, -0.13939367, -0.12567018,  0.03926777, -0.07576205],\n",
      "       [-0.02427534, -0.02163193, -0.01865836, -0.11639581, -0.13781947,\n",
      "         0.12435845,  0.07511418,  0.12827416,  0.04120104, -0.1215615 ,\n",
      "        -0.01306618,  0.02685766,  0.01248882,  0.05288405, -0.22042556,\n",
      "         0.0182113 ,  0.2664948 ,  0.00232716,  0.11042745, -0.09289236,\n",
      "         0.03727499, -0.07901306, -0.07019658, -0.1550098 ,  0.0235441 ,\n",
      "        -0.29220885, -0.05703794,  0.07905963, -0.06553615, -0.17557012,\n",
      "         0.07320509, -0.15408196,  0.01787779,  0.04294629,  0.07664326,\n",
      "        -0.07925804, -0.21962944,  0.28489468,  0.15362427, -0.11090907,\n",
      "        -0.00092583,  0.18157323, -0.01148175,  0.06120969,  0.06955328,\n",
      "        -0.15637851, -0.11166493, -0.09637792, -0.28390646, -0.11714952],\n",
      "       [ 0.33353922,  0.10109612,  0.11421446,  0.02234592,  0.08380666,\n",
      "        -0.08731037, -0.00432611,  0.23050125,  0.00297432, -0.06501877,\n",
      "        -0.01607584, -0.00944971, -0.14430413, -0.16072053, -0.17655967,\n",
      "         0.00113387,  0.01299665, -0.2189645 ,  0.00668306,  0.18803005,\n",
      "        -0.07893872, -0.22055617, -0.08532536, -0.01080657,  0.1953019 ,\n",
      "        -0.12727205,  0.05492035, -0.02000225, -0.09369495, -0.05314014,\n",
      "        -0.04012766, -0.07991459,  0.12458373,  0.03030193, -0.10515289,\n",
      "        -0.04457944, -0.14705655, -0.22185384, -0.05045182,  0.0950302 ,\n",
      "        -0.0679547 ,  0.03740631,  0.11198347, -0.01814748,  0.32555115,\n",
      "         0.0339298 , -0.00215199, -0.05856642, -0.2696639 , -0.3790394 ],\n",
      "       [-0.03710727,  0.01166761,  0.1436924 , -0.02658861, -0.11243882,\n",
      "        -0.05219376, -0.00373609, -0.1718632 ,  0.00179783,  0.2267203 ,\n",
      "         0.02024904, -0.01231944, -0.2372981 , -0.34950733, -0.021599  ,\n",
      "         0.00835736, -0.07869647,  0.05496319,  0.02804738,  0.13562427,\n",
      "         0.12827864, -0.2409921 ,  0.10642345,  0.04331622, -0.15832625,\n",
      "        -0.08020136, -0.08164283,  0.03528132, -0.0751252 ,  0.10947035,\n",
      "        -0.21400647, -0.180711  ,  0.09400858, -0.18836112, -0.20827885,\n",
      "         0.18574467,  0.08488068, -0.21627867,  0.12036641,  0.0376331 ,\n",
      "        -0.16794893,  0.23343964, -0.02249703, -0.02357075, -0.09222733,\n",
      "        -0.07846002, -0.13735503,  0.09808695, -0.12607841, -0.05004605],\n",
      "       [ 0.12155464,  0.38869464, -0.15277192, -0.00743408, -0.02987832,\n",
      "        -0.17925116,  0.08279517, -0.3665694 ,  0.13056707,  0.02463802,\n",
      "        -0.07280912, -0.15884021,  0.16410579, -0.06538896,  0.03549637,\n",
      "         0.1288079 , -0.11301515, -0.03569428, -0.06803371,  0.27211657,\n",
      "        -0.36304957, -0.18286794, -0.06427193,  0.06616171, -0.0264178 ,\n",
      "         0.10190865, -0.03396321, -0.18379378,  0.15874232, -0.19970262,\n",
      "        -0.15797766, -0.07607947,  0.17688464, -0.15161245, -0.09327314,\n",
      "         0.05018265,  0.10389213, -0.03014504, -0.20003526, -0.07919367,\n",
      "        -0.1867931 ,  0.17421305, -0.20157193, -0.00554638, -0.41208613,\n",
      "         0.02438013,  0.11076181,  0.09873805, -0.30705702,  0.14858241],\n",
      "       [ 0.19203538, -0.15889469, -0.07642196, -0.06679294, -0.25250715,\n",
      "         0.10644351, -0.13628098,  0.08974513, -0.17919476,  0.03115114,\n",
      "        -0.1471346 , -0.15628965, -0.18161976, -0.28791556, -0.06152145,\n",
      "         0.10580073, -0.03011886, -0.09014831, -0.113982  ,  0.11437354,\n",
      "        -0.18429384,  0.04802534,  0.00233493,  0.08365069,  0.0158468 ,\n",
      "         0.01824887,  0.07845817, -0.23076066, -0.2608179 , -0.14380197,\n",
      "        -0.03128454, -0.287684  ,  0.08468419, -0.3159568 , -0.3090902 ,\n",
      "        -0.11149625,  0.00864096,  0.07596099,  0.09722932, -0.16286384,\n",
      "         0.02785537, -0.12827574, -0.20171659, -0.05270782,  0.02288436,\n",
      "         0.07600791, -0.15482783,  0.02070176, -0.17216893, -0.3624238 ]],\n",
      "      dtype=float32)} {'i': array([[ 0.01511282, -0.03599753, -0.07417794, ..., -0.066649  ,\n",
      "        -0.02424349, -0.16434304],\n",
      "       [ 0.07229624, -0.05926565, -0.12427603, ...,  0.10427782,\n",
      "        -0.02672352, -0.02782486],\n",
      "       [ 0.07482175, -0.08270737,  0.03975089, ...,  0.16801172,\n",
      "        -0.03136364,  0.10895993],\n",
      "       ...,\n",
      "       [-0.08248606, -0.04497418, -0.07593668, ...,  0.01775084,\n",
      "         0.03607136, -0.01655738],\n",
      "       [-0.02204674,  0.12581134, -0.02089737, ...,  0.09849434,\n",
      "        -0.0676158 ,  0.00472021],\n",
      "       [-0.02465455,  0.07687977,  0.0202751 , ..., -0.04255284,\n",
      "        -0.07220799,  0.02371233]], dtype=float32), 'f': array([[-0.02025538,  0.03744475, -0.06183084, ...,  0.07608353,\n",
      "        -0.13188297, -0.00815298],\n",
      "       [-0.02685056, -0.01588958,  0.04660476, ..., -0.05103039,\n",
      "         0.15190294,  0.00406404],\n",
      "       [ 0.06608886,  0.02000155,  0.00881451, ..., -0.10484943,\n",
      "         0.02502131,  0.03631757],\n",
      "       ...,\n",
      "       [-0.03889183, -0.04086303,  0.07903412, ..., -0.0103047 ,\n",
      "        -0.07837967, -0.03182247],\n",
      "       [ 0.03653764, -0.08269585,  0.01180587, ..., -0.05539004,\n",
      "        -0.06284519,  0.07854553],\n",
      "       [ 0.00677271, -0.04944372, -0.03371321, ..., -0.03796397,\n",
      "         0.04746696, -0.06704084]], dtype=float32), 'c': array([[ 0.03710072, -0.09104837, -0.03321246, ...,  0.1184352 ,\n",
      "        -0.04957018,  0.04123445],\n",
      "       [ 0.16454047,  0.1453474 , -0.01445291, ...,  0.10819688,\n",
      "         0.02286115, -0.0996668 ],\n",
      "       [-0.06717693,  0.04827678, -0.07381013, ..., -0.11382988,\n",
      "         0.02739149, -0.02177044],\n",
      "       ...,\n",
      "       [ 0.10955963, -0.01159296,  0.10247969, ..., -0.04937068,\n",
      "        -0.16939066,  0.06244918],\n",
      "       [ 0.05357129,  0.04315389,  0.11082944, ...,  0.00837791,\n",
      "        -0.05118681, -0.0666129 ],\n",
      "       [-0.03492577, -0.0084634 , -0.06034918, ...,  0.02248817,\n",
      "         0.05366719,  0.10201204]], dtype=float32), 'o': array([[-0.01372954,  0.02639667,  0.01553031, ...,  0.07295071,\n",
      "         0.00770404,  0.08282015],\n",
      "       [ 0.16036792,  0.07913556, -0.0112231 , ..., -0.1364895 ,\n",
      "        -0.06045056, -0.15861876],\n",
      "       [ 0.1133872 ,  0.06782226, -0.0433127 , ...,  0.00850303,\n",
      "         0.02768911,  0.0440827 ],\n",
      "       ...,\n",
      "       [ 0.05543479,  0.03566961,  0.06587979, ...,  0.00882648,\n",
      "         0.07724402, -0.13201612],\n",
      "       [ 0.05026031,  0.01325052,  0.03909685, ...,  0.02558883,\n",
      "         0.03975683, -0.03760741],\n",
      "       [ 0.03005906,  0.04302862, -0.09031059, ...,  0.06756771,\n",
      "        -0.03300554, -0.02263164]], dtype=float32)} {'i': array([[ 1.2472755e-01],\n",
      "       [ 3.1258371e-02],\n",
      "       [-7.7916190e-02],\n",
      "       [-5.7682242e-02],\n",
      "       [ 1.9951176e-02],\n",
      "       [-1.5589904e-02],\n",
      "       [ 1.0322710e-01],\n",
      "       [ 1.6318509e-01],\n",
      "       [-5.5110813e-03],\n",
      "       [ 3.0822778e-02],\n",
      "       [ 1.9266276e-02],\n",
      "       [-7.2640269e-03],\n",
      "       [-7.6072045e-02],\n",
      "       [-9.8890327e-02],\n",
      "       [ 4.0532071e-02],\n",
      "       [-8.9167826e-02],\n",
      "       [ 3.1797221e-01],\n",
      "       [-8.0160357e-02],\n",
      "       [ 2.8234416e-01],\n",
      "       [ 2.0391874e-02],\n",
      "       [ 6.3241988e-02],\n",
      "       [-7.5918108e-02],\n",
      "       [-1.1685520e-01],\n",
      "       [ 5.1531135e-03],\n",
      "       [ 1.2804413e-01],\n",
      "       [-9.8425329e-02],\n",
      "       [-2.6774760e-02],\n",
      "       [ 2.3664331e-02],\n",
      "       [-1.3953556e-01],\n",
      "       [-1.2857728e-03],\n",
      "       [ 2.1985297e-04],\n",
      "       [-7.7528127e-02],\n",
      "       [ 2.6448134e-01],\n",
      "       [ 3.8547892e-02],\n",
      "       [-9.7327791e-02],\n",
      "       [-9.4758719e-02],\n",
      "       [-6.7480356e-02],\n",
      "       [ 1.4775725e-01],\n",
      "       [ 9.8606102e-02],\n",
      "       [-4.7462601e-02],\n",
      "       [ 3.2837730e-02],\n",
      "       [ 6.8277963e-02],\n",
      "       [ 4.0023956e-02],\n",
      "       [-5.6809168e-02],\n",
      "       [ 8.1519239e-02],\n",
      "       [-5.2888043e-02],\n",
      "       [-7.6765984e-02],\n",
      "       [ 5.6850553e-02],\n",
      "       [-2.0151885e-01],\n",
      "       [-1.9701883e-01]], dtype=float32), 'f': array([[1.],\n",
      "       [1.],\n",
      "       [1.],\n",
      "       [1.],\n",
      "       [1.],\n",
      "       [1.],\n",
      "       [1.],\n",
      "       [1.],\n",
      "       [1.],\n",
      "       [1.],\n",
      "       [1.],\n",
      "       [1.],\n",
      "       [1.],\n",
      "       [1.],\n",
      "       [1.],\n",
      "       [1.],\n",
      "       [1.],\n",
      "       [1.],\n",
      "       [1.],\n",
      "       [1.],\n",
      "       [1.],\n",
      "       [1.],\n",
      "       [1.],\n",
      "       [1.],\n",
      "       [1.],\n",
      "       [1.],\n",
      "       [1.],\n",
      "       [1.],\n",
      "       [1.],\n",
      "       [1.],\n",
      "       [1.],\n",
      "       [1.],\n",
      "       [1.],\n",
      "       [1.],\n",
      "       [1.],\n",
      "       [1.],\n",
      "       [1.],\n",
      "       [1.],\n",
      "       [1.],\n",
      "       [1.],\n",
      "       [1.],\n",
      "       [1.],\n",
      "       [1.],\n",
      "       [1.],\n",
      "       [1.],\n",
      "       [1.],\n",
      "       [1.],\n",
      "       [1.],\n",
      "       [1.],\n",
      "       [1.]], dtype=float32), 'c': array([[ 1.0008560e-02],\n",
      "       [-2.4188435e-02],\n",
      "       [ 2.5711320e-02],\n",
      "       [-5.8661353e-02],\n",
      "       [ 1.8121533e-02],\n",
      "       [-6.4876296e-02],\n",
      "       [-1.6967351e-02],\n",
      "       [-5.0295721e-04],\n",
      "       [ 3.1017141e-02],\n",
      "       [-1.9296929e-02],\n",
      "       [ 1.6050981e-02],\n",
      "       [-2.2166871e-02],\n",
      "       [-6.2419221e-02],\n",
      "       [ 1.1300537e-02],\n",
      "       [ 8.5730236e-03],\n",
      "       [ 3.2672931e-02],\n",
      "       [-8.0440594e-03],\n",
      "       [-1.0552905e-02],\n",
      "       [-3.8125483e-05],\n",
      "       [ 1.3125782e-02],\n",
      "       [-2.1749537e-03],\n",
      "       [-5.7950267e-03],\n",
      "       [ 4.1590005e-02],\n",
      "       [ 3.0331958e-02],\n",
      "       [-1.4342184e-02],\n",
      "       [-3.1229233e-02],\n",
      "       [-2.9681766e-02],\n",
      "       [-4.4045891e-03],\n",
      "       [ 1.0370702e-02],\n",
      "       [-4.8193987e-02],\n",
      "       [-1.5932243e-02],\n",
      "       [-5.4782387e-02],\n",
      "       [-7.3871110e-03],\n",
      "       [-1.5772073e-02],\n",
      "       [-2.5949936e-02],\n",
      "       [-7.3924540e-03],\n",
      "       [-2.3826547e-02],\n",
      "       [-1.4630860e-02],\n",
      "       [-8.1383879e-04],\n",
      "       [ 4.2047683e-02],\n",
      "       [ 1.3422538e-02],\n",
      "       [ 1.0773463e-02],\n",
      "       [-1.6498193e-02],\n",
      "       [ 3.1567231e-02],\n",
      "       [-1.6247377e-03],\n",
      "       [-3.1403150e-02],\n",
      "       [ 5.5402979e-02],\n",
      "       [-1.2697727e-02],\n",
      "       [ 2.1130173e-02],\n",
      "       [ 7.8866715e-03]], dtype=float32), 'o': array([[ 0.12193429],\n",
      "       [ 0.03614559],\n",
      "       [-0.07737327],\n",
      "       [-0.06031112],\n",
      "       [ 0.02289093],\n",
      "       [-0.01267566],\n",
      "       [ 0.0889344 ],\n",
      "       [ 0.15902552],\n",
      "       [-0.00333383],\n",
      "       [ 0.02535606],\n",
      "       [ 0.02046378],\n",
      "       [-0.00196212],\n",
      "       [-0.07557416],\n",
      "       [-0.10787318],\n",
      "       [ 0.03057411],\n",
      "       [-0.09055667],\n",
      "       [ 0.3102357 ],\n",
      "       [-0.07525977],\n",
      "       [ 0.26480085],\n",
      "       [ 0.02142601],\n",
      "       [ 0.06140213],\n",
      "       [-0.06929342],\n",
      "       [-0.11889973],\n",
      "       [ 0.00203316],\n",
      "       [ 0.12485546],\n",
      "       [-0.09937245],\n",
      "       [-0.02734496],\n",
      "       [ 0.0289878 ],\n",
      "       [-0.13825098],\n",
      "       [-0.00322236],\n",
      "       [ 0.00312301],\n",
      "       [-0.07461283],\n",
      "       [ 0.26876855],\n",
      "       [ 0.04201074],\n",
      "       [-0.08891295],\n",
      "       [-0.09763418],\n",
      "       [-0.07107181],\n",
      "       [ 0.13712803],\n",
      "       [ 0.10694151],\n",
      "       [-0.04407766],\n",
      "       [ 0.06163818],\n",
      "       [ 0.06284864],\n",
      "       [ 0.03828029],\n",
      "       [-0.05927606],\n",
      "       [ 0.06872169],\n",
      "       [-0.05620385],\n",
      "       [-0.07551859],\n",
      "       [ 0.05643571],\n",
      "       [-0.21101663],\n",
      "       [-0.20695435]], dtype=float32)}\n"
     ]
    }
   ],
   "source": [
    "print(w1, u1, b1)"
   ]
  },
  {
   "cell_type": "code",
   "execution_count": 19,
   "metadata": {},
   "outputs": [],
   "source": [
    "w2, u2, b2 = get_LSTMweights(model, model.layers[1]) "
   ]
  },
  {
   "cell_type": "code",
   "execution_count": 20,
   "metadata": {},
   "outputs": [
    {
     "name": "stdout",
     "output_type": "stream",
     "text": [
      "{'i': array([[-0.02718423, -0.20738089,  0.09141544, ...,  0.11283498,\n",
      "         0.10500572, -0.08631106],\n",
      "       [-0.00121479, -0.0512993 , -0.11277367, ..., -0.02975358,\n",
      "         0.02435199,  0.01571605],\n",
      "       [ 0.13468945,  0.11382355,  0.16848525, ...,  0.01000074,\n",
      "         0.06879488, -0.09688242],\n",
      "       ...,\n",
      "       [-0.15728173,  0.00731754,  0.07082547, ..., -0.13540162,\n",
      "        -0.03992601, -0.05731373],\n",
      "       [-0.09786601,  0.04516174, -0.00724432, ..., -0.0546469 ,\n",
      "         0.05001253, -0.2400024 ],\n",
      "       [-0.10887597,  0.13310906,  0.01253394, ..., -0.1206679 ,\n",
      "        -0.04201398, -0.05363296]], dtype=float32), 'f': array([[ 0.0475665 , -0.05781689, -0.03388033, ..., -0.14042898,\n",
      "         0.0315935 , -0.03585465],\n",
      "       [-0.12004152,  0.09881161, -0.0021365 , ...,  0.09812419,\n",
      "        -0.04570513,  0.08416925],\n",
      "       [ 0.00952378, -0.0404349 ,  0.12632002, ...,  0.09492056,\n",
      "         0.0261087 ,  0.09091961],\n",
      "       ...,\n",
      "       [-0.05994401,  0.12792282,  0.10301696, ..., -0.12695986,\n",
      "         0.14541738,  0.0397425 ],\n",
      "       [-0.12671797, -0.1289705 , -0.05779232, ...,  0.03999373,\n",
      "         0.10848568, -0.13057971],\n",
      "       [-0.14988682,  0.11030735,  0.02437198, ...,  0.08788203,\n",
      "        -0.09108516,  0.09042674]], dtype=float32), 'c': array([[ 0.22321786, -0.13558094,  0.12939374, ..., -0.08759449,\n",
      "        -0.02721341,  0.24583216],\n",
      "       [ 0.0762563 , -0.05588474, -0.03481271, ..., -0.10188944,\n",
      "        -0.08117451, -0.08877099],\n",
      "       [-0.11023866,  0.06856281, -0.08677757, ...,  0.07391965,\n",
      "        -0.02969649, -0.00774563],\n",
      "       ...,\n",
      "       [-0.03309125,  0.0063134 ,  0.21705216, ..., -0.04573697,\n",
      "         0.12507285,  0.21703923],\n",
      "       [ 0.08879147, -0.03301195, -0.06847548, ..., -0.01474361,\n",
      "         0.04563862, -0.08490638],\n",
      "       [ 0.16881989, -0.177919  , -0.0247137 , ..., -0.03906379,\n",
      "         0.00405289,  0.08616863]], dtype=float32), 'o': array([[ 0.00633036, -0.20501739,  0.07852276, ...,  0.13494879,\n",
      "        -0.12710978, -0.13243337],\n",
      "       [-0.1108178 ,  0.05111821,  0.11938702, ...,  0.12676862,\n",
      "         0.10206793,  0.10802872],\n",
      "       [ 0.18109004,  0.16945729,  0.10650778, ...,  0.00690715,\n",
      "        -0.0100593 ,  0.04810861],\n",
      "       ...,\n",
      "       [ 0.14369065, -0.26087427,  0.15277994, ...,  0.01151921,\n",
      "         0.03792739,  0.03279873],\n",
      "       [-0.3604917 , -0.06767061, -0.05086657, ..., -0.1384119 ,\n",
      "        -0.14601184, -0.00233459],\n",
      "       [-0.03116865,  0.01646584,  0.09356235, ...,  0.07679936,\n",
      "        -0.14042482, -0.01390396]], dtype=float32)} {'i': array([[ 0.04815385, -0.16495381, -0.02105644, ..., -0.00312337,\n",
      "        -0.01380702, -0.00617998],\n",
      "       [ 0.00171472,  0.1450723 , -0.03395873, ...,  0.08628515,\n",
      "        -0.10136843, -0.00705669],\n",
      "       [ 0.03994526,  0.09327887,  0.01746582, ..., -0.00634911,\n",
      "         0.00761591,  0.08259822],\n",
      "       ...,\n",
      "       [-0.04654211,  0.0213971 , -0.07864095, ..., -0.06025518,\n",
      "        -0.00728177, -0.03556655],\n",
      "       [-0.01450216,  0.01544026,  0.17825468, ..., -0.00143672,\n",
      "        -0.11813395,  0.06513818],\n",
      "       [ 0.17535184, -0.07670821, -0.0660555 , ...,  0.07656476,\n",
      "        -0.00499288,  0.03708201]], dtype=float32), 'f': array([[-0.00245944, -0.07793345, -0.08144554, ...,  0.04247262,\n",
      "        -0.00690574,  0.0366689 ],\n",
      "       [-0.0716626 , -0.01282185,  0.03005195, ..., -0.04608828,\n",
      "        -0.01186215,  0.14734213],\n",
      "       [ 0.01777275, -0.22997402, -0.04361706, ...,  0.02556504,\n",
      "         0.00887997,  0.05288763],\n",
      "       ...,\n",
      "       [ 0.00537403, -0.01565131, -0.02948404, ..., -0.03012428,\n",
      "        -0.0834967 ,  0.04238156],\n",
      "       [ 0.04528607, -0.01028759,  0.0973637 , ..., -0.02846352,\n",
      "        -0.13231437,  0.09464616],\n",
      "       [-0.00050524,  0.04769866, -0.09975231, ..., -0.04015283,\n",
      "        -0.08087293,  0.00398992]], dtype=float32), 'c': array([[-0.10882927, -0.00892926, -0.02743873, ...,  0.02808287,\n",
      "         0.01663766, -0.08258191],\n",
      "       [ 0.11566039, -0.03986303, -0.03124561, ...,  0.00839104,\n",
      "        -0.08111359,  0.02352866],\n",
      "       [-0.05322431,  0.04245099, -0.17113602, ..., -0.0390185 ,\n",
      "         0.049942  ,  0.03042955],\n",
      "       ...,\n",
      "       [ 0.02046434, -0.01662559,  0.02741105, ..., -0.00124842,\n",
      "         0.04976171,  0.03945887],\n",
      "       [ 0.02473213,  0.03465132, -0.15099172, ...,  0.05337299,\n",
      "         0.16056599,  0.02977809],\n",
      "       [ 0.07185987,  0.0513887 , -0.06139039, ...,  0.14770268,\n",
      "         0.04898956, -0.06958196]], dtype=float32), 'o': array([[-0.01342882,  0.07833031, -0.00230702, ..., -0.02626195,\n",
      "        -0.1314005 ,  0.03158778],\n",
      "       [-0.10954157, -0.1023849 , -0.06088376, ..., -0.08833659,\n",
      "         0.05742017,  0.03836249],\n",
      "       [-0.00154299,  0.03126748, -0.03861538, ...,  0.08954616,\n",
      "        -0.013231  , -0.06133274],\n",
      "       ...,\n",
      "       [ 0.01133511, -0.05162875, -0.07453083, ..., -0.04051505,\n",
      "        -0.20609024, -0.06676549],\n",
      "       [ 0.06905187,  0.06688946,  0.01414416, ...,  0.00085976,\n",
      "         0.08915199, -0.03639432],\n",
      "       [ 0.05744381,  0.15813342,  0.09433782, ...,  0.00382925,\n",
      "        -0.05220887,  0.02881894]], dtype=float32)} {'i': array([[-8.70568678e-03],\n",
      "       [-1.02509141e-01],\n",
      "       [ 1.55675597e-03],\n",
      "       [-8.43506604e-02],\n",
      "       [ 1.49308825e-02],\n",
      "       [-1.32181188e-02],\n",
      "       [ 3.80876102e-03],\n",
      "       [-4.29102127e-03],\n",
      "       [-8.27918500e-02],\n",
      "       [ 2.13008933e-03],\n",
      "       [-1.21493014e-02],\n",
      "       [-5.02931979e-03],\n",
      "       [ 2.65555340e-03],\n",
      "       [ 3.21607180e-02],\n",
      "       [-6.30434155e-02],\n",
      "       [-6.66526705e-02],\n",
      "       [-1.87894031e-02],\n",
      "       [ 1.16366334e-03],\n",
      "       [ 6.25658259e-02],\n",
      "       [-2.00517066e-02],\n",
      "       [-2.64030881e-02],\n",
      "       [ 1.28710851e-01],\n",
      "       [ 1.65129802e-03],\n",
      "       [-2.76553966e-02],\n",
      "       [ 5.01295291e-02],\n",
      "       [-2.61591449e-02],\n",
      "       [ 3.62852812e-02],\n",
      "       [-3.42903398e-02],\n",
      "       [ 5.86775914e-02],\n",
      "       [-4.33715023e-02],\n",
      "       [ 2.48321593e-02],\n",
      "       [-2.46419106e-02],\n",
      "       [-5.26367649e-02],\n",
      "       [ 1.45472703e-04],\n",
      "       [ 1.43237384e-02],\n",
      "       [-1.76711511e-02],\n",
      "       [-1.09219449e-02],\n",
      "       [ 9.91286114e-02],\n",
      "       [ 7.44237155e-02],\n",
      "       [ 4.73193638e-02],\n",
      "       [-2.61726435e-02],\n",
      "       [ 2.93561276e-02],\n",
      "       [ 3.62484902e-02],\n",
      "       [ 1.06595233e-02],\n",
      "       [-3.45865220e-01],\n",
      "       [-1.58427767e-02],\n",
      "       [-1.98961552e-02],\n",
      "       [-1.36263920e-02],\n",
      "       [-2.15519965e-02],\n",
      "       [ 3.31197195e-02]], dtype=float32), 'f': array([[1.],\n",
      "       [1.],\n",
      "       [1.],\n",
      "       [1.],\n",
      "       [1.],\n",
      "       [1.],\n",
      "       [1.],\n",
      "       [1.],\n",
      "       [1.],\n",
      "       [1.],\n",
      "       [1.],\n",
      "       [1.],\n",
      "       [1.],\n",
      "       [1.],\n",
      "       [1.],\n",
      "       [1.],\n",
      "       [1.],\n",
      "       [1.],\n",
      "       [1.],\n",
      "       [1.],\n",
      "       [1.],\n",
      "       [1.],\n",
      "       [1.],\n",
      "       [1.],\n",
      "       [1.],\n",
      "       [1.],\n",
      "       [1.],\n",
      "       [1.],\n",
      "       [1.],\n",
      "       [1.],\n",
      "       [1.],\n",
      "       [1.],\n",
      "       [1.],\n",
      "       [1.],\n",
      "       [1.],\n",
      "       [1.],\n",
      "       [1.],\n",
      "       [1.],\n",
      "       [1.],\n",
      "       [1.],\n",
      "       [1.],\n",
      "       [1.],\n",
      "       [1.],\n",
      "       [1.],\n",
      "       [1.],\n",
      "       [1.],\n",
      "       [1.],\n",
      "       [1.],\n",
      "       [1.],\n",
      "       [1.]], dtype=float32), 'c': array([[ 0.00277997],\n",
      "       [-0.00259236],\n",
      "       [ 0.0044974 ],\n",
      "       [-0.00467146],\n",
      "       [ 0.00473688],\n",
      "       [-0.00481262],\n",
      "       [-0.00374739],\n",
      "       [-0.00341821],\n",
      "       [-0.00790461],\n",
      "       [-0.00561908],\n",
      "       [-0.0056637 ],\n",
      "       [ 0.00312675],\n",
      "       [-0.00082783],\n",
      "       [ 0.01387751],\n",
      "       [-0.00304079],\n",
      "       [ 0.00212038],\n",
      "       [ 0.00205522],\n",
      "       [-0.00400394],\n",
      "       [-0.00441081],\n",
      "       [ 0.00373462],\n",
      "       [-0.00173418],\n",
      "       [ 0.01831886],\n",
      "       [-0.00620167],\n",
      "       [ 0.00341061],\n",
      "       [-0.00374412],\n",
      "       [ 0.00270308],\n",
      "       [ 0.00199968],\n",
      "       [ 0.00344887],\n",
      "       [-0.00299679],\n",
      "       [ 0.00402599],\n",
      "       [-0.00233144],\n",
      "       [ 0.00145656],\n",
      "       [ 0.01366524],\n",
      "       [ 0.00306445],\n",
      "       [ 0.00496737],\n",
      "       [-0.00461813],\n",
      "       [ 0.00522633],\n",
      "       [-0.00553997],\n",
      "       [ 0.00398971],\n",
      "       [-0.00480791],\n",
      "       [ 0.00045904],\n",
      "       [-0.00230436],\n",
      "       [ 0.0034527 ],\n",
      "       [-0.00321178],\n",
      "       [ 0.00155693],\n",
      "       [ 0.00183118],\n",
      "       [ 0.00437957],\n",
      "       [-0.00527623],\n",
      "       [ 0.00400642],\n",
      "       [ 0.00471897]], dtype=float32), 'o': array([[-0.00932086],\n",
      "       [-0.10347088],\n",
      "       [ 0.00110914],\n",
      "       [-0.08466873],\n",
      "       [ 0.01292394],\n",
      "       [-0.01667578],\n",
      "       [ 0.00282356],\n",
      "       [-0.00512012],\n",
      "       [-0.08329262],\n",
      "       [ 0.00156599],\n",
      "       [-0.01238941],\n",
      "       [-0.00499877],\n",
      "       [ 0.00146534],\n",
      "       [ 0.03417532],\n",
      "       [-0.06388309],\n",
      "       [-0.06594237],\n",
      "       [-0.0195637 ],\n",
      "       [ 0.00056569],\n",
      "       [ 0.06158137],\n",
      "       [-0.0210762 ],\n",
      "       [-0.02638212],\n",
      "       [ 0.1283512 ],\n",
      "       [ 0.00045492],\n",
      "       [-0.02800419],\n",
      "       [ 0.04857443],\n",
      "       [-0.02619975],\n",
      "       [ 0.03534526],\n",
      "       [-0.03493093],\n",
      "       [ 0.05891778],\n",
      "       [-0.0440563 ],\n",
      "       [ 0.02406089],\n",
      "       [-0.02508039],\n",
      "       [-0.05111691],\n",
      "       [-0.00058588],\n",
      "       [ 0.01377874],\n",
      "       [-0.01811836],\n",
      "       [-0.01126688],\n",
      "       [ 0.09898553],\n",
      "       [ 0.07474725],\n",
      "       [ 0.04788722],\n",
      "       [-0.02343188],\n",
      "       [ 0.02898687],\n",
      "       [ 0.03552755],\n",
      "       [ 0.01012421],\n",
      "       [-0.3459934 ],\n",
      "       [-0.01639544],\n",
      "       [-0.0195612 ],\n",
      "       [-0.01376053],\n",
      "       [-0.02210971],\n",
      "       [ 0.03166602]], dtype=float32)}\n"
     ]
    }
   ],
   "source": [
    "print(w2, u2, b2)"
   ]
  },
  {
   "cell_type": "code",
   "execution_count": 21,
   "metadata": {},
   "outputs": [
    {
     "data": {
      "text/plain": [
       "dict_keys(['i', 'f', 'c', 'o'])"
      ]
     },
     "execution_count": 21,
     "metadata": {},
     "output_type": "execute_result"
    }
   ],
   "source": [
    "w1.keys()"
   ]
  },
  {
   "cell_type": "code",
   "execution_count": 22,
   "metadata": {},
   "outputs": [
    {
     "data": {
      "text/plain": [
       "dict_keys(['i', 'f', 'c', 'o'])"
      ]
     },
     "execution_count": 22,
     "metadata": {},
     "output_type": "execute_result"
    }
   ],
   "source": [
    "w2.keys()"
   ]
  },
  {
   "cell_type": "code",
   "execution_count": 23,
   "metadata": {
    "scrolled": true
   },
   "outputs": [
    {
     "data": {
      "text/plain": [
       "((8, 50), (50, 50), (50, 1))"
      ]
     },
     "execution_count": 23,
     "metadata": {},
     "output_type": "execute_result"
    }
   ],
   "source": [
    "w1['i'].shape, u1['i'].shape, b1['i'].shape"
   ]
  },
  {
   "cell_type": "code",
   "execution_count": 24,
   "metadata": {
    "scrolled": true
   },
   "outputs": [
    {
     "data": {
      "text/plain": [
       "((50, 50), (50, 50), (50, 1))"
      ]
     },
     "execution_count": 24,
     "metadata": {},
     "output_type": "execute_result"
    }
   ],
   "source": [
    "w2['i'].shape, u2['i'].shape, b2['i'].shape"
   ]
  },
  {
   "cell_type": "code",
   "execution_count": 25,
   "metadata": {
    "scrolled": true
   },
   "outputs": [
    {
     "data": {
      "text/plain": [
       "<matplotlib.image.AxesImage at 0x1a375eb690>"
      ]
     },
     "execution_count": 25,
     "metadata": {},
     "output_type": "execute_result"
    },
    {
     "data": {
      "image/png": "[encoded data removed]",
      "text/plain": [
       "<Figure size 1152x184.32 with 1 Axes>"
      ]
     },
     "metadata": {
      "needs_background": "light"
     },
     "output_type": "display_data"
    }
   ],
   "source": [
    "pyplot.matshow(w1['i'])"
   ]
  },
  {
   "cell_type": "code",
   "execution_count": 26,
   "metadata": {
    "scrolled": false
   },
   "outputs": [
    {
     "data": {
      "text/plain": [
       "<matplotlib.image.AxesImage at 0x1a37aa8bd0>"
      ]
     },
     "execution_count": 26,
     "metadata": {},
     "output_type": "execute_result"
    },
    {
     "data": {
      "image/png": "[encoded data removed]",
      "text/plain": [
       "<Figure size 1152x184.32 with 1 Axes>"
      ]
     },
     "metadata": {
      "needs_background": "light"
     },
     "output_type": "display_data"
    }
   ],
   "source": [
    "pyplot.matshow(w1['f'])"
   ]
  },
  {
   "cell_type": "code",
   "execution_count": 27,
   "metadata": {
    "scrolled": true
   },
   "outputs": [
    {
     "data": {
      "text/plain": [
       "<matplotlib.image.AxesImage at 0x1a37ced750>"
      ]
     },
     "execution_count": 27,
     "metadata": {},
     "output_type": "execute_result"
    },
    {
     "data": {
      "image/png": "[encoded data removed]",
      "text/plain": [
       "<Figure size 1152x184.32 with 1 Axes>"
      ]
     },
     "metadata": {
      "needs_background": "light"
     },
     "output_type": "display_data"
    }
   ],
   "source": [
    "pyplot.matshow(w1['c'])"
   ]
  },
  {
   "cell_type": "code",
   "execution_count": 28,
   "metadata": {
    "scrolled": true
   },
   "outputs": [
    {
     "data": {
      "text/plain": [
       "<matplotlib.image.AxesImage at 0x1a3846f0d0>"
      ]
     },
     "execution_count": 28,
     "metadata": {},
     "output_type": "execute_result"
    },
    {
     "data": {
      "image/png": "[encoded data removed]",
      "text/plain": [
       "<Figure size 1152x184.32 with 1 Axes>"
      ]
     },
     "metadata": {
      "needs_background": "light"
     },
     "output_type": "display_data"
    }
   ],
   "source": [
    "pyplot.matshow(w1['o'])"
   ]
  },
  {
   "cell_type": "code",
   "execution_count": 29,
   "metadata": {
    "scrolled": true
   },
   "outputs": [
    {
     "data": {
      "text/plain": [
       "<matplotlib.image.AxesImage at 0x1a382dbb10>"
      ]
     },
     "execution_count": 29,
     "metadata": {},
     "output_type": "execute_result"
    },
    {
     "data": {
      "image/png": "[encoded data removed]",
      "text/plain": [
       "<Figure size 288x288 with 1 Axes>"
      ]
     },
     "metadata": {
      "needs_background": "light"
     },
     "output_type": "display_data"
    }
   ],
   "source": [
    "pyplot.matshow(u1['i'])"
   ]
  },
  {
   "cell_type": "code",
   "execution_count": 30,
   "metadata": {
    "scrolled": true
   },
   "outputs": [
    {
     "data": {
      "text/plain": [
       "<matplotlib.image.AxesImage at 0x1a385fb7d0>"
      ]
     },
     "execution_count": 30,
     "metadata": {},
     "output_type": "execute_result"
    },
    {
     "data": {
      "image/png": "[encoded data removed]",
      "text/plain": [
       "<Figure size 288x288 with 1 Axes>"
      ]
     },
     "metadata": {
      "needs_background": "light"
     },
     "output_type": "display_data"
    }
   ],
   "source": [
    "pyplot.matshow(w2['i'])"
   ]
  },
  {
   "cell_type": "code",
   "execution_count": 31,
   "metadata": {},
   "outputs": [
    {
     "data": {
      "text/plain": [
       "<matplotlib.image.AxesImage at 0x1a38170490>"
      ]
     },
     "execution_count": 31,
     "metadata": {},
     "output_type": "execute_result"
    },
    {
     "data": {
      "image/png": "[encoded data removed]",
      "text/plain": [
       "<Figure size 288x288 with 1 Axes>"
      ]
     },
     "metadata": {
      "needs_background": "light"
     },
     "output_type": "display_data"
    }
   ],
   "source": [
    "pyplot.matshow(w2['f'])"
   ]
  },
  {
   "cell_type": "code",
   "execution_count": 32,
   "metadata": {},
   "outputs": [
    {
     "data": {
      "text/plain": [
       "<matplotlib.image.AxesImage at 0x1a38a66150>"
      ]
     },
     "execution_count": 32,
     "metadata": {},
     "output_type": "execute_result"
    },
    {
     "data": {
      "image/png": "[encoded data removed]",
      "text/plain": [
       "<Figure size 288x288 with 1 Axes>"
      ]
     },
     "metadata": {
      "needs_background": "light"
     },
     "output_type": "display_data"
    }
   ],
   "source": [
    "pyplot.matshow(w2['c'])"
   ]
  },
  {
   "cell_type": "code",
   "execution_count": 33,
   "metadata": {},
   "outputs": [
    {
     "data": {
      "text/plain": [
       "<matplotlib.image.AxesImage at 0x1a37658dd0>"
      ]
     },
     "execution_count": 33,
     "metadata": {},
     "output_type": "execute_result"
    },
    {
     "data": {
      "image/png": "[encoded data removed]",
      "text/plain": [
       "<Figure size 288x288 with 1 Axes>"
      ]
     },
     "metadata": {
      "needs_background": "light"
     },
     "output_type": "display_data"
    }
   ],
   "source": [
    "pyplot.matshow(w2['o'])"
   ]
  },
  {
   "cell_type": "code",
   "execution_count": null,
   "metadata": {},
   "outputs": [],
   "source": []
  },
  {
   "cell_type": "code",
   "execution_count": 34,
   "metadata": {},
   "outputs": [],
   "source": [
    "class NumpyEncoder(json.JSONEncoder):\n",
    "    def default(self, obj):\n",
    "        if isinstance(obj, np.ndarray):\n",
    "            return obj.tolist()\n",
    "        return json.JSONEncoder.default(self, obj)"
   ]
  },
  {
   "cell_type": "code",
   "execution_count": 36,
   "metadata": {},
   "outputs": [],
   "source": [
    "def save_to_json(filepath, variable):\n",
    "    with open('{}.json'.format('filepath')) as f:\n",
    "        json.dump(variable,f,cls=NumpyEncoder)"
   ]
  },
  {
   "cell_type": "code",
   "execution_count": 57,
   "metadata": {},
   "outputs": [],
   "source": [
    "with open('data/w1.json', 'w') as f:\n",
    "    json.dump(w1,f,cls=NumpyEncoder,indent='\\t')"
   ]
  },
  {
   "cell_type": "code",
   "execution_count": 58,
   "metadata": {},
   "outputs": [],
   "source": [
    "with open('data/u1.json', 'w') as f:\n",
    "    json.dump(u1,f,cls=NumpyEncoder,indent='\\t')"
   ]
  },
  {
   "cell_type": "code",
   "execution_count": 59,
   "metadata": {},
   "outputs": [],
   "source": [
    "with open('data/b1.json', 'w') as f:\n",
    "    json.dump(b1,f,cls=NumpyEncoder,indent='\\t')"
   ]
  },
  {
   "cell_type": "code",
   "execution_count": 60,
   "metadata": {},
   "outputs": [],
   "source": [
    "with open('data/w2.json', 'w') as f:\n",
    "    json.dump(w2,f,cls=NumpyEncoder,indent='\\t')"
   ]
  },
  {
   "cell_type": "code",
   "execution_count": 61,
   "metadata": {},
   "outputs": [],
   "source": [
    "with open('data/u2.json', 'w') as f:\n",
    "    json.dump(u2,f,cls=NumpyEncoder,indent='\\t')"
   ]
  },
  {
   "cell_type": "code",
   "execution_count": 62,
   "metadata": {},
   "outputs": [],
   "source": [
    "with open('data/b2.json', 'w') as f:\n",
    "    json.dump(b2,f,cls=NumpyEncoder,indent='\\t')"
   ]
  },
  {
   "cell_type": "code",
   "execution_count": null,
   "metadata": {},
   "outputs": [],
   "source": []
  },
  {
   "cell_type": "code",
   "execution_count": null,
   "metadata": {},
   "outputs": [],
   "source": []
  },
  {
   "cell_type": "code",
   "execution_count": 49,
   "metadata": {},
   "outputs": [
    {
     "name": "stdout",
     "output_type": "stream",
     "text": [
      "['W_i', 'W_i', 'W_i', 'W_i', 'W_i', 'W_i', 'W_i', 'W_i', 'W_i', 'W_i', 'W_i', 'W_i', 'W_i', 'W_i', 'W_i', 'W_i', 'W_i', 'W_i', 'W_i', 'W_i', 'W_i', 'W_i', 'W_i', 'W_i', 'W_i', 'W_i', 'W_i', 'W_i', 'W_i', 'W_i', 'W_i', 'W_i', 'W_i', 'W_i', 'W_i', 'W_i', 'W_i', 'W_i', 'W_i', 'W_i', 'W_i', 'W_i', 'W_i', 'W_i', 'W_i', 'W_i', 'W_i', 'W_i', 'W_i', 'W_i', 'W_i', 'W_i', 'W_i', 'W_i', 'W_i', 'W_i', 'W_i', 'W_i', 'W_i', 'W_i', 'W_i', 'W_i', 'W_i', 'W_i', 'W_i', 'W_i', 'W_i', 'W_i', 'W_i', 'W_i', 'W_i', 'W_i', 'W_i', 'W_i', 'W_i', 'W_i', 'W_i', 'W_i', 'W_i', 'W_i', 'W_i', 'W_i', 'W_i', 'W_i', 'W_i', 'W_i', 'W_i', 'W_i', 'W_i', 'W_i', 'W_i', 'W_i', 'W_i', 'W_i', 'W_i', 'W_i', 'W_i', 'W_i', 'W_i', 'W_i', 'W_i', 'W_i', 'W_i', 'W_i', 'W_i', 'W_i', 'W_i', 'W_i', 'W_i', 'W_i', 'W_i', 'W_i', 'W_i', 'W_i', 'W_i', 'W_i', 'W_i', 'W_i', 'W_i', 'W_i', 'W_i', 'W_i', 'W_i', 'W_i', 'W_i', 'W_i', 'W_i', 'W_i', 'W_i', 'W_i', 'W_i', 'W_i', 'W_i', 'W_i', 'W_i', 'W_i', 'W_i', 'W_i', 'W_i', 'W_i', 'W_i', 'W_i', 'W_i', 'W_i', 'W_i', 'W_i', 'W_i', 'W_i', 'W_i', 'W_i', 'W_i', 'W_i', 'W_i', 'W_i', 'W_i', 'W_i', 'W_i', 'W_i', 'W_i', 'W_i', 'W_i', 'W_i', 'W_i', 'W_i', 'W_i', 'W_i', 'W_i', 'W_i', 'W_i', 'W_i', 'W_i', 'W_i', 'W_i', 'W_i', 'W_i', 'W_i', 'W_i', 'W_i', 'W_i', 'W_i', 'W_i', 'W_i', 'W_i', 'W_i', 'W_i', 'W_i', 'W_i', 'W_i', 'W_i', 'W_i', 'W_i', 'W_i', 'W_i', 'W_i', 'W_i', 'W_i', 'W_i', 'W_i', 'W_i', 'W_i', 'W_i', 'W_i', 'W_i', 'W_i', 'W_i', 'W_i', 'W_i', 'W_i', 'W_i', 'W_i', 'W_i', 'W_i', 'W_i', 'W_i', 'W_i', 'W_i', 'W_i', 'W_i', 'W_i', 'W_i', 'W_i', 'W_i', 'W_i', 'W_i', 'W_i', 'W_i', 'W_i', 'W_i', 'W_i', 'W_i', 'W_i', 'W_i', 'W_i', 'W_i', 'W_i', 'W_i', 'W_i', 'W_i', 'W_i', 'W_i', 'W_i', 'W_i', 'W_i', 'W_i', 'W_i', 'W_i', 'W_i', 'W_i', 'W_i', 'W_i', 'W_i', 'W_i', 'W_i', 'W_i', 'W_i', 'W_i', 'W_i', 'W_i', 'W_i', 'W_i', 'W_i', 'W_i', 'W_i', 'W_i', 'W_i', 'W_i', 'W_i', 'W_i', 'W_i', 'W_i', 'W_i', 'W_i', 'W_i', 'W_i', 'W_i', 'W_i', 'W_i', 'W_i', 'W_i', 'W_i', 'W_i', 'W_i', 'W_i', 'W_i', 'W_i', 'W_i', 'W_i', 'W_i', 'W_i', 'W_i', 'W_i', 'W_i', 'W_i', 'W_i', 'W_i', 'W_i', 'W_i', 'W_i', 'W_i', 'W_i', 'W_i', 'W_i', 'W_i', 'W_i', 'W_i', 'W_i', 'W_i', 'W_i', 'W_i', 'W_i', 'W_i', 'W_i', 'W_i', 'W_i', 'W_i', 'W_i', 'W_i', 'W_i', 'W_i', 'W_i', 'W_i', 'W_i', 'W_i', 'W_i', 'W_i', 'W_i', 'W_i', 'W_i', 'W_i', 'W_i', 'W_i', 'W_i', 'W_i', 'W_i', 'W_i', 'W_i', 'W_i', 'W_i', 'W_i', 'W_i', 'W_i', 'W_i', 'W_i', 'W_i', 'W_i', 'W_i', 'W_i', 'W_i', 'W_i', 'W_i', 'W_i', 'W_i', 'W_i', 'W_i', 'W_i', 'W_i', 'W_i', 'W_i', 'W_i', 'W_i', 'W_i', 'W_i', 'W_i', 'W_i', 'W_i', 'W_i', 'W_i', 'W_i', 'W_i', 'W_i', 'W_i', 'W_i', 'W_i', 'W_i', 'W_i', 'W_i', 'W_i', 'W_i', 'W_i', 'W_i', 'W_i', 'W_i', 'W_i', 'W_i', 'W_i', 'W_i', 'W_i', 'W_i', 'W_i', 'W_i', 'W_i', 'W_i', 'W_i', 'W_i', 'W_i', 'W_i', 'W_i', 'W_i', 'W_i', 'W_i', 'W_f', 'W_f', 'W_f', 'W_f', 'W_f', 'W_f', 'W_f', 'W_f', 'W_f', 'W_f', 'W_f', 'W_f', 'W_f', 'W_f', 'W_f', 'W_f', 'W_f', 'W_f', 'W_f', 'W_f', 'W_f', 'W_f', 'W_f', 'W_f', 'W_f', 'W_f', 'W_f', 'W_f', 'W_f', 'W_f', 'W_f', 'W_f', 'W_f', 'W_f', 'W_f', 'W_f', 'W_f', 'W_f', 'W_f', 'W_f', 'W_f', 'W_f', 'W_f', 'W_f', 'W_f', 'W_f', 'W_f', 'W_f', 'W_f', 'W_f', 'W_f', 'W_f', 'W_f', 'W_f', 'W_f', 'W_f', 'W_f', 'W_f', 'W_f', 'W_f', 'W_f', 'W_f', 'W_f', 'W_f', 'W_f', 'W_f', 'W_f', 'W_f', 'W_f', 'W_f', 'W_f', 'W_f', 'W_f', 'W_f', 'W_f', 'W_f', 'W_f', 'W_f', 'W_f', 'W_f', 'W_f', 'W_f', 'W_f', 'W_f', 'W_f', 'W_f', 'W_f', 'W_f', 'W_f', 'W_f', 'W_f', 'W_f', 'W_f', 'W_f', 'W_f', 'W_f', 'W_f', 'W_f', 'W_f', 'W_f', 'W_f', 'W_f', 'W_f', 'W_f', 'W_f', 'W_f', 'W_f', 'W_f', 'W_f', 'W_f', 'W_f', 'W_f', 'W_f', 'W_f', 'W_f', 'W_f', 'W_f', 'W_f', 'W_f', 'W_f', 'W_f', 'W_f', 'W_f', 'W_f', 'W_f', 'W_f', 'W_f', 'W_f', 'W_f', 'W_f', 'W_f', 'W_f', 'W_f', 'W_f', 'W_f', 'W_f', 'W_f', 'W_f', 'W_f', 'W_f', 'W_f', 'W_f', 'W_f', 'W_f', 'W_f', 'W_f', 'W_f', 'W_f', 'W_f', 'W_f', 'W_f', 'W_f', 'W_f', 'W_f', 'W_f', 'W_f', 'W_f', 'W_f', 'W_f', 'W_f', 'W_f', 'W_f', 'W_f', 'W_f', 'W_f', 'W_f', 'W_f', 'W_f', 'W_f', 'W_f', 'W_f', 'W_f', 'W_f', 'W_f', 'W_f', 'W_f', 'W_f', 'W_f', 'W_f', 'W_f', 'W_f', 'W_f', 'W_f', 'W_f', 'W_f', 'W_f', 'W_f', 'W_f', 'W_f', 'W_f', 'W_f', 'W_f', 'W_f', 'W_f', 'W_f', 'W_f', 'W_f', 'W_f', 'W_f', 'W_f', 'W_f', 'W_f', 'W_f', 'W_f', 'W_f', 'W_f', 'W_f', 'W_f', 'W_f', 'W_f', 'W_f', 'W_f', 'W_f', 'W_f', 'W_f', 'W_f', 'W_f', 'W_f', 'W_f', 'W_f', 'W_f', 'W_f', 'W_f', 'W_f', 'W_f', 'W_f', 'W_f', 'W_f', 'W_f', 'W_f', 'W_f', 'W_f', 'W_f', 'W_f', 'W_f', 'W_f', 'W_f', 'W_f', 'W_f', 'W_f', 'W_f', 'W_f', 'W_f', 'W_f', 'W_f', 'W_f', 'W_f', 'W_f', 'W_f', 'W_f', 'W_f', 'W_f', 'W_f', 'W_f', 'W_f', 'W_f', 'W_f', 'W_f', 'W_f', 'W_f', 'W_f', 'W_f', 'W_f', 'W_f', 'W_f', 'W_f', 'W_f', 'W_f', 'W_f', 'W_f', 'W_f', 'W_f', 'W_f', 'W_f', 'W_f', 'W_f', 'W_f', 'W_f', 'W_f', 'W_f', 'W_f', 'W_f', 'W_f', 'W_f', 'W_f', 'W_f', 'W_f', 'W_f', 'W_f', 'W_f', 'W_f', 'W_f', 'W_f', 'W_f', 'W_f', 'W_f', 'W_f', 'W_f', 'W_f', 'W_f', 'W_f', 'W_f', 'W_f', 'W_f', 'W_f', 'W_f', 'W_f', 'W_f', 'W_f', 'W_f', 'W_f', 'W_f', 'W_f', 'W_f', 'W_f', 'W_f', 'W_f', 'W_f', 'W_f', 'W_f', 'W_f', 'W_f', 'W_f', 'W_f', 'W_f', 'W_f', 'W_f', 'W_f', 'W_f', 'W_f', 'W_f', 'W_f', 'W_f', 'W_f', 'W_f', 'W_f', 'W_f', 'W_f', 'W_f', 'W_f', 'W_f', 'W_f', 'W_f', 'W_f', 'W_f', 'W_f', 'W_f', 'W_f', 'W_f', 'W_f', 'W_f', 'W_f', 'W_f', 'W_f', 'W_f', 'W_f', 'W_f', 'W_f', 'W_f', 'W_f', 'W_f', 'W_f', 'W_f', 'W_f', 'W_f', 'W_f', 'W_f', 'W_f', 'W_f', 'W_f', 'W_f', 'W_f', 'W_f', 'W_f', 'W_f', 'W_f', 'W_f', 'W_f', 'W_f', 'W_f', 'W_f', 'W_f', 'W_f', 'W_f', 'W_f', 'W_f', 'W_f', 'W_f', 'W_f', 'W_f', 'W_f', 'W_f', 'W_f', 'W_f', 'W_f', 'W_f', 'W_f', 'W_f', 'W_f', 'W_f', 'W_c', 'W_c', 'W_c', 'W_c', 'W_c', 'W_c', 'W_c', 'W_c', 'W_c', 'W_c', 'W_c', 'W_c', 'W_c', 'W_c', 'W_c', 'W_c', 'W_c', 'W_c', 'W_c', 'W_c', 'W_c', 'W_c', 'W_c', 'W_c', 'W_c', 'W_c', 'W_c', 'W_c', 'W_c', 'W_c', 'W_c', 'W_c', 'W_c', 'W_c', 'W_c', 'W_c', 'W_c', 'W_c', 'W_c', 'W_c', 'W_c', 'W_c', 'W_c', 'W_c', 'W_c', 'W_c', 'W_c', 'W_c', 'W_c', 'W_c', 'W_c', 'W_c', 'W_c', 'W_c', 'W_c', 'W_c', 'W_c', 'W_c', 'W_c', 'W_c', 'W_c', 'W_c', 'W_c', 'W_c', 'W_c', 'W_c', 'W_c', 'W_c', 'W_c', 'W_c', 'W_c', 'W_c', 'W_c', 'W_c', 'W_c', 'W_c', 'W_c', 'W_c', 'W_c', 'W_c', 'W_c', 'W_c', 'W_c', 'W_c', 'W_c', 'W_c', 'W_c', 'W_c', 'W_c', 'W_c', 'W_c', 'W_c', 'W_c', 'W_c', 'W_c', 'W_c', 'W_c', 'W_c', 'W_c', 'W_c', 'W_c', 'W_c', 'W_c', 'W_c', 'W_c', 'W_c', 'W_c', 'W_c', 'W_c', 'W_c', 'W_c', 'W_c', 'W_c', 'W_c', 'W_c', 'W_c', 'W_c', 'W_c', 'W_c', 'W_c', 'W_c', 'W_c', 'W_c', 'W_c', 'W_c', 'W_c', 'W_c', 'W_c', 'W_c', 'W_c', 'W_c', 'W_c', 'W_c', 'W_c', 'W_c', 'W_c', 'W_c', 'W_c', 'W_c', 'W_c', 'W_c', 'W_c', 'W_c', 'W_c', 'W_c', 'W_c', 'W_c', 'W_c', 'W_c', 'W_c', 'W_c', 'W_c', 'W_c', 'W_c', 'W_c', 'W_c', 'W_c', 'W_c', 'W_c', 'W_c', 'W_c', 'W_c', 'W_c', 'W_c', 'W_c', 'W_c', 'W_c', 'W_c', 'W_c', 'W_c', 'W_c', 'W_c', 'W_c', 'W_c', 'W_c', 'W_c', 'W_c', 'W_c', 'W_c', 'W_c', 'W_c', 'W_c', 'W_c', 'W_c', 'W_c', 'W_c', 'W_c', 'W_c', 'W_c', 'W_c', 'W_c', 'W_c', 'W_c', 'W_c', 'W_c', 'W_c', 'W_c', 'W_c', 'W_c', 'W_c', 'W_c', 'W_c', 'W_c', 'W_c', 'W_c', 'W_c', 'W_c', 'W_c', 'W_c', 'W_c', 'W_c', 'W_c', 'W_c', 'W_c', 'W_c', 'W_c', 'W_c', 'W_c', 'W_c', 'W_c', 'W_c', 'W_c', 'W_c', 'W_c', 'W_c', 'W_c', 'W_c', 'W_c', 'W_c', 'W_c', 'W_c', 'W_c', 'W_c', 'W_c', 'W_c', 'W_c', 'W_c', 'W_c', 'W_c', 'W_c', 'W_c', 'W_c', 'W_c', 'W_c', 'W_c', 'W_c', 'W_c', 'W_c', 'W_c', 'W_c', 'W_c', 'W_c', 'W_c', 'W_c', 'W_c', 'W_c', 'W_c', 'W_c', 'W_c', 'W_c', 'W_c', 'W_c', 'W_c', 'W_c', 'W_c', 'W_c', 'W_c', 'W_c', 'W_c', 'W_c', 'W_c', 'W_c', 'W_c', 'W_c', 'W_c', 'W_c', 'W_c', 'W_c', 'W_c', 'W_c', 'W_c', 'W_c', 'W_c', 'W_c', 'W_c', 'W_c', 'W_c', 'W_c', 'W_c', 'W_c', 'W_c', 'W_c', 'W_c', 'W_c', 'W_c', 'W_c', 'W_c', 'W_c', 'W_c', 'W_c', 'W_c', 'W_c', 'W_c', 'W_c', 'W_c', 'W_c', 'W_c', 'W_c', 'W_c', 'W_c', 'W_c', 'W_c', 'W_c', 'W_c', 'W_c', 'W_c', 'W_c', 'W_c', 'W_c', 'W_c', 'W_c', 'W_c', 'W_c', 'W_c', 'W_c', 'W_c', 'W_c', 'W_c', 'W_c', 'W_c', 'W_c', 'W_c', 'W_c', 'W_c', 'W_c', 'W_c', 'W_c', 'W_c', 'W_c', 'W_c', 'W_c', 'W_c', 'W_c', 'W_c', 'W_c', 'W_c', 'W_c', 'W_c', 'W_c', 'W_c', 'W_c', 'W_c', 'W_c', 'W_c', 'W_c', 'W_c', 'W_c', 'W_c', 'W_c', 'W_c', 'W_c', 'W_c', 'W_c', 'W_c', 'W_c', 'W_c', 'W_c', 'W_c', 'W_c', 'W_c', 'W_c', 'W_c', 'W_c', 'W_c', 'W_c', 'W_c', 'W_c', 'W_c', 'W_c', 'W_c', 'W_c', 'W_c', 'W_c', 'W_c', 'W_c', 'W_c', 'W_c', 'W_c', 'W_c', 'W_c', 'W_c', 'W_c', 'W_c', 'W_c', 'W_c', 'W_c', 'W_c', 'W_c', 'W_c', 'W_c', 'W_o', 'W_o', 'W_o', 'W_o', 'W_o', 'W_o', 'W_o', 'W_o', 'W_o', 'W_o', 'W_o', 'W_o', 'W_o', 'W_o', 'W_o', 'W_o', 'W_o', 'W_o', 'W_o', 'W_o', 'W_o', 'W_o', 'W_o', 'W_o', 'W_o', 'W_o', 'W_o', 'W_o', 'W_o', 'W_o', 'W_o', 'W_o', 'W_o', 'W_o', 'W_o', 'W_o', 'W_o', 'W_o', 'W_o', 'W_o', 'W_o', 'W_o', 'W_o', 'W_o', 'W_o', 'W_o', 'W_o', 'W_o', 'W_o', 'W_o', 'W_o', 'W_o', 'W_o', 'W_o', 'W_o', 'W_o', 'W_o', 'W_o', 'W_o', 'W_o', 'W_o', 'W_o', 'W_o', 'W_o', 'W_o', 'W_o', 'W_o', 'W_o', 'W_o', 'W_o', 'W_o', 'W_o', 'W_o', 'W_o', 'W_o', 'W_o', 'W_o', 'W_o', 'W_o', 'W_o', 'W_o', 'W_o', 'W_o', 'W_o', 'W_o', 'W_o', 'W_o', 'W_o', 'W_o', 'W_o', 'W_o', 'W_o', 'W_o', 'W_o', 'W_o', 'W_o', 'W_o', 'W_o', 'W_o', 'W_o', 'W_o', 'W_o', 'W_o', 'W_o', 'W_o', 'W_o', 'W_o', 'W_o', 'W_o', 'W_o', 'W_o', 'W_o', 'W_o', 'W_o', 'W_o', 'W_o', 'W_o', 'W_o', 'W_o', 'W_o', 'W_o', 'W_o', 'W_o', 'W_o', 'W_o', 'W_o', 'W_o', 'W_o', 'W_o', 'W_o', 'W_o', 'W_o', 'W_o', 'W_o', 'W_o', 'W_o', 'W_o', 'W_o', 'W_o', 'W_o', 'W_o', 'W_o', 'W_o', 'W_o', 'W_o', 'W_o', 'W_o', 'W_o', 'W_o', 'W_o', 'W_o', 'W_o', 'W_o', 'W_o', 'W_o', 'W_o', 'W_o', 'W_o', 'W_o', 'W_o', 'W_o', 'W_o', 'W_o', 'W_o', 'W_o', 'W_o', 'W_o', 'W_o', 'W_o', 'W_o', 'W_o', 'W_o', 'W_o', 'W_o', 'W_o', 'W_o', 'W_o', 'W_o', 'W_o', 'W_o', 'W_o', 'W_o', 'W_o', 'W_o', 'W_o', 'W_o', 'W_o', 'W_o', 'W_o', 'W_o', 'W_o', 'W_o', 'W_o', 'W_o', 'W_o', 'W_o', 'W_o', 'W_o', 'W_o', 'W_o', 'W_o', 'W_o', 'W_o', 'W_o', 'W_o', 'W_o', 'W_o', 'W_o', 'W_o', 'W_o', 'W_o', 'W_o', 'W_o', 'W_o', 'W_o', 'W_o', 'W_o', 'W_o', 'W_o', 'W_o', 'W_o', 'W_o', 'W_o', 'W_o', 'W_o', 'W_o', 'W_o', 'W_o', 'W_o', 'W_o', 'W_o', 'W_o', 'W_o', 'W_o', 'W_o', 'W_o', 'W_o', 'W_o', 'W_o', 'W_o', 'W_o', 'W_o', 'W_o', 'W_o', 'W_o', 'W_o', 'W_o', 'W_o', 'W_o', 'W_o', 'W_o', 'W_o', 'W_o', 'W_o', 'W_o', 'W_o', 'W_o', 'W_o', 'W_o', 'W_o', 'W_o', 'W_o', 'W_o', 'W_o', 'W_o', 'W_o', 'W_o', 'W_o', 'W_o', 'W_o', 'W_o', 'W_o', 'W_o', 'W_o', 'W_o', 'W_o', 'W_o', 'W_o', 'W_o', 'W_o', 'W_o', 'W_o', 'W_o', 'W_o', 'W_o', 'W_o', 'W_o', 'W_o', 'W_o', 'W_o', 'W_o', 'W_o', 'W_o', 'W_o', 'W_o', 'W_o', 'W_o', 'W_o', 'W_o', 'W_o', 'W_o', 'W_o', 'W_o', 'W_o', 'W_o', 'W_o', 'W_o', 'W_o', 'W_o', 'W_o', 'W_o', 'W_o', 'W_o', 'W_o', 'W_o', 'W_o', 'W_o', 'W_o', 'W_o', 'W_o', 'W_o', 'W_o', 'W_o', 'W_o', 'W_o', 'W_o', 'W_o', 'W_o', 'W_o', 'W_o', 'W_o', 'W_o', 'W_o', 'W_o', 'W_o', 'W_o', 'W_o', 'W_o', 'W_o', 'W_o', 'W_o', 'W_o', 'W_o', 'W_o', 'W_o', 'W_o', 'W_o', 'W_o', 'W_o', 'W_o', 'W_o', 'W_o', 'W_o', 'W_o', 'W_o', 'W_o', 'W_o', 'W_o', 'W_o', 'W_o', 'W_o', 'W_o', 'W_o', 'W_o', 'W_o', 'W_o', 'W_o', 'W_o', 'W_o', 'W_o', 'W_o', 'W_o', 'W_o', 'W_o', 'W_o', 'W_o', 'W_o', 'W_o', 'W_o', 'W_o', 'W_o', 'W_o', 'W_o', 'W_o', 'W_o', 'W_o', 'W_o', 'W_o', 'W_o', 'W_o', 'W_o', 'W_o', 'W_o', 'W_o', 'W_o', 'W_o', 'W_o', 'W_o', 'W_o', 'W_o', 'U_i', 'U_i', 'U_i', 'U_i', 'U_i', 'U_i', 'U_i', 'U_i', 'U_i', 'U_i', 'U_i', 'U_i', 'U_i', 'U_i', 'U_i', 'U_i', 'U_i', 'U_i', 'U_i', 'U_i', 'U_i', 'U_i', 'U_i', 'U_i', 'U_i', 'U_i', 'U_i', 'U_i', 'U_i', 'U_i', 'U_i', 'U_i', 'U_i', 'U_i', 'U_i', 'U_i', 'U_i', 'U_i', 'U_i', 'U_i', 'U_i', 'U_i', 'U_i', 'U_i', 'U_i', 'U_i', 'U_i', 'U_i', 'U_i', 'U_i', 'U_i', 'U_i', 'U_i', 'U_i', 'U_i', 'U_i', 'U_i', 'U_i', 'U_i', 'U_i', 'U_i', 'U_i', 'U_i', 'U_i', 'U_i', 'U_i', 'U_i', 'U_i', 'U_i', 'U_i', 'U_i', 'U_i', 'U_i', 'U_i', 'U_i', 'U_i', 'U_i', 'U_i', 'U_i', 'U_i', 'U_i', 'U_i', 'U_i', 'U_i', 'U_i', 'U_i', 'U_i', 'U_i', 'U_i', 'U_i', 'U_i', 'U_i', 'U_i', 'U_i', 'U_i', 'U_i', 'U_i', 'U_i', 'U_i', 'U_i', 'U_i', 'U_i', 'U_i', 'U_i', 'U_i', 'U_i', 'U_i', 'U_i', 'U_i', 'U_i', 'U_i', 'U_i', 'U_i', 'U_i', 'U_i', 'U_i', 'U_i', 'U_i', 'U_i', 'U_i', 'U_i', 'U_i', 'U_i', 'U_i', 'U_i', 'U_i', 'U_i', 'U_i', 'U_i', 'U_i', 'U_i', 'U_i', 'U_i', 'U_i', 'U_i', 'U_i', 'U_i', 'U_i', 'U_i', 'U_i', 'U_i', 'U_i', 'U_i', 'U_i', 'U_i', 'U_i', 'U_i', 'U_i', 'U_i', 'U_i', 'U_i', 'U_i', 'U_i', 'U_i', 'U_i', 'U_i', 'U_i', 'U_i', 'U_i', 'U_i', 'U_i', 'U_i', 'U_i', 'U_i', 'U_i', 'U_i', 'U_i', 'U_i', 'U_i', 'U_i', 'U_i', 'U_i', 'U_i', 'U_i', 'U_i', 'U_i', 'U_i', 'U_i', 'U_i', 'U_i', 'U_i', 'U_i', 'U_i', 'U_i', 'U_i', 'U_i', 'U_i', 'U_i', 'U_i', 'U_i', 'U_i', 'U_i', 'U_i', 'U_i', 'U_i', 'U_i', 'U_i', 'U_i', 'U_i', 'U_i', 'U_i', 'U_i', 'U_i', 'U_i', 'U_i', 'U_i', 'U_i', 'U_i', 'U_i', 'U_i', 'U_i', 'U_i', 'U_i', 'U_i', 'U_i', 'U_i', 'U_i', 'U_i', 'U_i', 'U_i', 'U_i', 'U_i', 'U_i', 'U_i', 'U_i', 'U_i', 'U_i', 'U_i', 'U_i', 'U_i', 'U_i', 'U_i', 'U_i', 'U_i', 'U_i', 'U_i', 'U_i', 'U_i', 'U_i', 'U_i', 'U_i', 'U_i', 'U_i', 'U_i', 'U_i', 'U_i', 'U_i', 'U_i', 'U_i', 'U_i', 'U_i', 'U_i', 'U_i', 'U_i', 'U_i', 'U_i', 'U_i', 'U_i', 'U_i', 'U_i', 'U_i', 'U_i', 'U_i', 'U_i', 'U_i', 'U_i', 'U_i', 'U_i', 'U_i', 'U_i', 'U_i', 'U_i', 'U_i', 'U_i', 'U_i', 'U_i', 'U_i', 'U_i', 'U_i', 'U_i', 'U_i', 'U_i', 'U_i', 'U_i', 'U_i', 'U_i', 'U_i', 'U_i', 'U_i', 'U_i', 'U_i', 'U_i', 'U_i', 'U_i', 'U_i', 'U_i', 'U_i', 'U_i', 'U_i', 'U_i', 'U_i', 'U_i', 'U_i', 'U_i', 'U_i', 'U_i', 'U_i', 'U_i', 'U_i', 'U_i', 'U_i', 'U_i', 'U_i', 'U_i', 'U_i', 'U_i', 'U_i', 'U_i', 'U_i', 'U_i', 'U_i', 'U_i', 'U_i', 'U_i', 'U_i', 'U_i', 'U_i', 'U_i', 'U_i', 'U_i', 'U_i', 'U_i', 'U_i', 'U_i', 'U_i', 'U_i', 'U_i', 'U_i', 'U_i', 'U_i', 'U_i', 'U_i', 'U_i', 'U_i', 'U_i', 'U_i', 'U_i', 'U_i', 'U_i', 'U_i', 'U_i', 'U_i', 'U_i', 'U_i', 'U_i', 'U_i', 'U_i', 'U_i', 'U_i', 'U_i', 'U_i', 'U_i', 'U_i', 'U_i', 'U_i', 'U_i', 'U_i', 'U_i', 'U_i', 'U_i', 'U_i', 'U_i', 'U_i', 'U_i', 'U_i', 'U_i', 'U_i', 'U_i', 'U_i', 'U_i', 'U_i', 'U_i', 'U_i', 'U_i', 'U_i', 'U_i', 'U_i', 'U_i', 'U_i', 'U_i', 'U_i', 'U_i', 'U_i', 'U_i', 'U_i', 'U_i', 'U_i', 'U_i', 'U_i', 'U_i', 'U_i', 'U_i', 'U_i', 'U_i', 'U_i', 'U_i', 'U_i', 'U_i', 'U_i', 'U_i', 'U_i', 'U_i', 'U_i', 'U_i', 'U_i', 'U_i', 'U_i', 'U_i', 'U_i', 'U_i', 'U_i', 'U_i', 'U_i', 'U_i', 'U_i', 'U_i', 'U_i', 'U_i', 'U_i', 'U_i', 'U_i', 'U_i', 'U_i', 'U_i', 'U_i', 'U_i', 'U_i', 'U_i', 'U_i', 'U_i', 'U_i', 'U_i', 'U_i', 'U_i', 'U_i', 'U_i', 'U_i', 'U_i', 'U_i', 'U_i', 'U_i', 'U_i', 'U_i', 'U_i', 'U_i', 'U_i', 'U_i', 'U_i', 'U_i', 'U_i', 'U_i', 'U_i', 'U_i', 'U_i', 'U_i', 'U_i', 'U_i', 'U_i', 'U_i', 'U_i', 'U_i', 'U_i', 'U_i', 'U_i', 'U_i', 'U_i', 'U_i', 'U_i', 'U_i', 'U_i', 'U_i', 'U_i', 'U_i', 'U_i', 'U_i', 'U_i', 'U_i', 'U_i', 'U_i', 'U_i', 'U_i', 'U_i', 'U_i', 'U_i', 'U_i', 'U_i', 'U_i', 'U_i', 'U_i', 'U_i', 'U_i', 'U_i', 'U_i', 'U_i', 'U_i', 'U_i', 'U_i', 'U_i', 'U_i', 'U_i', 'U_i', 'U_i', 'U_i', 'U_i', 'U_i', 'U_i', 'U_i', 'U_i', 'U_i', 'U_i', 'U_i', 'U_i', 'U_i', 'U_i', 'U_i', 'U_i', 'U_i', 'U_i', 'U_i', 'U_i', 'U_i', 'U_i', 'U_i', 'U_i', 'U_i', 'U_i', 'U_i', 'U_i', 'U_i', 'U_i', 'U_i', 'U_i', 'U_i', 'U_i', 'U_i', 'U_i', 'U_i', 'U_i', 'U_i', 'U_i', 'U_i', 'U_i', 'U_i', 'U_i', 'U_i', 'U_i', 'U_i', 'U_i', 'U_i', 'U_i', 'U_i', 'U_i', 'U_i', 'U_i', 'U_i', 'U_i', 'U_i', 'U_i', 'U_i', 'U_i', 'U_i', 'U_i', 'U_i', 'U_i', 'U_i', 'U_i', 'U_i', 'U_i', 'U_i', 'U_i', 'U_i', 'U_i', 'U_i', 'U_i', 'U_i', 'U_i', 'U_i', 'U_i', 'U_i', 'U_i', 'U_i', 'U_i', 'U_i', 'U_i', 'U_i', 'U_i', 'U_i', 'U_i', 'U_i', 'U_i', 'U_i', 'U_i', 'U_i', 'U_i', 'U_i', 'U_i', 'U_i', 'U_i', 'U_i', 'U_i', 'U_i', 'U_i', 'U_i', 'U_i', 'U_i', 'U_i', 'U_i', 'U_i', 'U_i', 'U_i', 'U_i', 'U_i', 'U_i', 'U_i', 'U_i', 'U_i', 'U_i', 'U_i', 'U_i', 'U_i', 'U_i', 'U_i', 'U_i', 'U_i', 'U_i', 'U_i', 'U_i', 'U_i', 'U_i', 'U_i', 'U_i', 'U_i', 'U_i', 'U_i', 'U_i', 'U_i', 'U_i', 'U_i', 'U_i', 'U_i', 'U_i', 'U_i', 'U_i', 'U_i', 'U_i', 'U_i', 'U_i', 'U_i', 'U_i', 'U_i', 'U_i', 'U_i', 'U_i', 'U_i', 'U_i', 'U_i', 'U_i', 'U_i', 'U_i', 'U_i', 'U_i', 'U_i', 'U_i', 'U_i', 'U_i', 'U_i', 'U_i', 'U_i', 'U_i', 'U_i', 'U_i', 'U_i', 'U_i', 'U_i', 'U_i', 'U_i', 'U_i', 'U_i', 'U_i', 'U_i', 'U_i', 'U_i', 'U_i', 'U_i', 'U_i', 'U_i', 'U_i', 'U_i', 'U_i', 'U_i', 'U_i', 'U_i', 'U_i', 'U_i', 'U_i', 'U_i', 'U_i', 'U_i', 'U_i', 'U_i', 'U_i', 'U_i', 'U_i', 'U_i', 'U_i', 'U_i', 'U_i', 'U_i', 'U_i', 'U_i', 'U_i', 'U_i', 'U_i', 'U_i', 'U_i', 'U_i', 'U_i', 'U_i', 'U_i', 'U_i', 'U_i', 'U_i', 'U_i', 'U_i', 'U_i', 'U_i', 'U_i', 'U_i', 'U_i', 'U_i', 'U_i', 'U_i', 'U_i', 'U_i', 'U_i', 'U_i', 'U_i', 'U_i', 'U_i', 'U_i', 'U_i', 'U_i', 'U_i', 'U_i', 'U_i', 'U_i', 'U_i', 'U_i', 'U_i', 'U_i', 'U_i', 'U_i', 'U_i', 'U_i', 'U_i', 'U_i', 'U_i', 'U_i', 'U_i', 'U_i', 'U_i', 'U_i', 'U_i', 'U_i', 'U_i', 'U_i', 'U_i', 'U_i', 'U_i', 'U_i', 'U_i', 'U_i', 'U_i', 'U_i', 'U_i', 'U_i', 'U_i', 'U_i', 'U_i', 'U_i', 'U_i', 'U_i', 'U_i', 'U_i', 'U_i', 'U_i', 'U_i', 'U_i', 'U_i', 'U_i', 'U_i', 'U_i', 'U_i', 'U_i', 'U_i', 'U_i', 'U_i', 'U_i', 'U_i', 'U_i', 'U_i', 'U_i', 'U_i', 'U_i', 'U_i', 'U_i', 'U_i', 'U_i', 'U_i', 'U_i', 'U_i', 'U_i', 'U_i', 'U_i', 'U_i', 'U_i', 'U_i', 'U_i', 'U_i', 'U_i', 'U_i', 'U_i', 'U_i', 'U_i', 'U_i', 'U_i', 'U_i', 'U_i', 'U_i', 'U_i', 'U_i', 'U_i', 'U_i', 'U_i', 'U_i', 'U_i', 'U_i', 'U_i', 'U_i', 'U_i', 'U_i', 'U_i', 'U_i', 'U_i', 'U_i', 'U_i', 'U_i', 'U_i', 'U_i', 'U_i', 'U_i', 'U_i', 'U_i', 'U_i', 'U_i', 'U_i', 'U_i', 'U_i', 'U_i', 'U_i', 'U_i', 'U_i', 'U_i', 'U_i', 'U_i', 'U_i', 'U_i', 'U_i', 'U_i', 'U_i', 'U_i', 'U_i', 'U_i', 'U_i', 'U_i', 'U_i', 'U_i', 'U_i', 'U_i', 'U_i', 'U_i', 'U_i', 'U_i', 'U_i', 'U_i', 'U_i', 'U_i', 'U_i', 'U_i', 'U_i', 'U_i', 'U_i', 'U_i', 'U_i', 'U_i', 'U_i', 'U_i', 'U_i', 'U_i', 'U_i', 'U_i', 'U_i', 'U_i', 'U_i', 'U_i', 'U_i', 'U_i', 'U_i', 'U_i', 'U_i', 'U_i', 'U_i', 'U_i', 'U_i', 'U_i', 'U_i', 'U_i', 'U_i', 'U_i', 'U_i', 'U_i', 'U_i', 'U_i', 'U_i', 'U_i', 'U_i', 'U_i', 'U_i', 'U_i', 'U_i', 'U_i', 'U_i', 'U_i', 'U_i', 'U_i', 'U_i', 'U_i', 'U_i', 'U_i', 'U_i', 'U_i', 'U_i', 'U_i', 'U_i', 'U_i', 'U_i', 'U_i', 'U_i', 'U_i', 'U_i', 'U_i', 'U_i', 'U_i', 'U_i', 'U_i', 'U_i', 'U_i', 'U_i', 'U_i', 'U_i', 'U_i', 'U_i', 'U_i', 'U_i', 'U_i', 'U_i', 'U_i', 'U_i', 'U_i', 'U_i', 'U_i', 'U_i', 'U_i', 'U_i', 'U_i', 'U_i', 'U_i', 'U_i', 'U_i', 'U_i', 'U_i', 'U_i', 'U_i', 'U_i', 'U_i', 'U_i', 'U_i', 'U_i', 'U_i', 'U_i', 'U_i', 'U_i', 'U_i', 'U_i', 'U_i', 'U_i', 'U_i', 'U_i', 'U_i', 'U_i', 'U_i', 'U_i', 'U_i', 'U_i', 'U_i', 'U_i', 'U_i', 'U_i', 'U_i', 'U_i', 'U_i', 'U_i', 'U_i', 'U_i', 'U_i', 'U_i', 'U_i', 'U_i', 'U_i', 'U_i', 'U_i', 'U_i', 'U_i', 'U_i', 'U_i', 'U_i', 'U_i', 'U_i', 'U_i', 'U_i', 'U_i', 'U_i', 'U_i', 'U_i', 'U_i', 'U_i', 'U_i', 'U_i', 'U_i', 'U_i', 'U_i', 'U_i', 'U_i', 'U_i', 'U_i', 'U_i', 'U_i', 'U_i', 'U_i', 'U_i', 'U_i', 'U_i', 'U_i', 'U_i', 'U_i', 'U_i', 'U_i', 'U_i', 'U_i', 'U_i', 'U_i', 'U_i', 'U_i', 'U_i', 'U_i', 'U_i', 'U_i', 'U_i', 'U_i', 'U_i', 'U_i', 'U_i', 'U_i', 'U_i', 'U_i', 'U_i', 'U_i', 'U_i', 'U_i', 'U_i', 'U_i', 'U_i', 'U_i', 'U_i', 'U_i', 'U_i', 'U_i', 'U_i', 'U_i', 'U_i', 'U_i', 'U_i', 'U_i', 'U_i', 'U_i', 'U_i', 'U_i', 'U_i', 'U_i', 'U_i', 'U_i', 'U_i', 'U_i', 'U_i', 'U_i', 'U_i', 'U_i', 'U_i', 'U_i', 'U_i', 'U_i', 'U_i', 'U_i', 'U_i', 'U_i', 'U_i', 'U_i', 'U_i', 'U_i', 'U_i', 'U_i', 'U_i', 'U_i', 'U_i', 'U_i', 'U_i', 'U_i', 'U_i', 'U_i', 'U_i', 'U_i', 'U_i', 'U_i', 'U_i', 'U_i', 'U_i', 'U_i', 'U_i', 'U_i', 'U_i', 'U_i', 'U_i', 'U_i', 'U_i', 'U_i', 'U_i', 'U_i', 'U_i', 'U_i', 'U_i', 'U_i', 'U_i', 'U_i', 'U_i', 'U_i', 'U_i', 'U_i', 'U_i', 'U_i', 'U_i', 'U_i', 'U_i', 'U_i', 'U_i', 'U_i', 'U_i', 'U_i', 'U_i', 'U_i', 'U_i', 'U_i', 'U_i', 'U_i', 'U_i', 'U_i', 'U_i', 'U_i', 'U_i', 'U_i', 'U_i', 'U_i', 'U_i', 'U_i', 'U_i', 'U_i', 'U_i', 'U_i', 'U_i', 'U_i', 'U_i', 'U_i', 'U_i', 'U_i', 'U_i', 'U_i', 'U_i', 'U_i', 'U_i', 'U_i', 'U_i', 'U_i', 'U_i', 'U_i', 'U_i', 'U_i', 'U_i', 'U_i', 'U_i', 'U_i', 'U_i', 'U_i', 'U_i', 'U_i', 'U_i', 'U_i', 'U_i', 'U_i', 'U_i', 'U_i', 'U_i', 'U_i', 'U_i', 'U_i', 'U_i', 'U_i', 'U_i', 'U_i', 'U_i', 'U_i', 'U_i', 'U_i', 'U_i', 'U_i', 'U_i', 'U_i', 'U_i', 'U_i', 'U_i', 'U_i', 'U_i', 'U_i', 'U_i', 'U_i', 'U_i', 'U_i', 'U_i', 'U_i', 'U_i', 'U_i', 'U_i', 'U_i', 'U_i', 'U_i', 'U_i', 'U_i', 'U_i', 'U_i', 'U_i', 'U_i', 'U_i', 'U_i', 'U_i', 'U_i', 'U_i', 'U_i', 'U_i', 'U_i', 'U_i', 'U_i', 'U_i', 'U_i', 'U_i', 'U_i', 'U_i', 'U_i', 'U_i', 'U_i', 'U_i', 'U_i', 'U_i', 'U_i', 'U_i', 'U_i', 'U_i', 'U_i', 'U_i', 'U_i', 'U_i', 'U_i', 'U_i', 'U_i', 'U_i', 'U_i', 'U_i', 'U_i', 'U_i', 'U_i', 'U_i', 'U_i', 'U_i', 'U_i', 'U_i', 'U_i', 'U_i', 'U_i', 'U_i', 'U_i', 'U_i', 'U_i', 'U_i', 'U_i', 'U_i', 'U_i', 'U_i', 'U_i', 'U_i', 'U_i', 'U_i', 'U_i', 'U_i', 'U_i', 'U_i', 'U_i', 'U_i', 'U_i', 'U_i', 'U_i', 'U_i', 'U_i', 'U_i', 'U_i', 'U_i', 'U_i', 'U_i', 'U_i', 'U_i', 'U_i', 'U_i', 'U_i', 'U_i', 'U_i', 'U_i', 'U_i', 'U_i', 'U_i', 'U_i', 'U_i', 'U_i', 'U_i', 'U_i', 'U_i', 'U_i', 'U_i', 'U_i', 'U_i', 'U_i', 'U_i', 'U_i', 'U_i', 'U_i', 'U_i', 'U_i', 'U_i', 'U_i', 'U_i', 'U_i', 'U_i', 'U_i', 'U_i', 'U_i', 'U_i', 'U_i', 'U_i', 'U_i', 'U_i', 'U_i', 'U_i', 'U_i', 'U_i', 'U_i', 'U_i', 'U_i', 'U_i', 'U_i', 'U_i', 'U_i', 'U_i', 'U_i', 'U_i', 'U_i', 'U_i', 'U_i', 'U_i', 'U_i', 'U_i', 'U_i', 'U_i', 'U_i', 'U_i', 'U_i', 'U_i', 'U_i', 'U_i', 'U_i', 'U_i', 'U_i', 'U_i', 'U_i', 'U_i', 'U_i', 'U_i', 'U_i', 'U_i', 'U_i', 'U_i', 'U_i', 'U_i', 'U_i', 'U_i', 'U_i', 'U_i', 'U_i', 'U_i', 'U_i', 'U_i', 'U_i', 'U_i', 'U_i', 'U_i', 'U_i', 'U_i', 'U_i', 'U_i', 'U_i', 'U_i', 'U_i', 'U_i', 'U_i', 'U_i', 'U_i', 'U_i', 'U_i', 'U_i', 'U_i', 'U_i', 'U_i', 'U_i', 'U_i', 'U_i', 'U_i', 'U_i', 'U_i', 'U_i', 'U_i', 'U_i', 'U_i', 'U_i', 'U_i', 'U_i', 'U_i', 'U_i', 'U_i', 'U_i', 'U_i', 'U_i', 'U_i', 'U_i', 'U_i', 'U_i', 'U_i', 'U_i', 'U_i', 'U_i', 'U_i', 'U_i', 'U_i', 'U_i', 'U_i', 'U_i', 'U_i', 'U_i', 'U_i', 'U_i', 'U_i', 'U_i', 'U_i', 'U_i', 'U_i', 'U_i', 'U_i', 'U_i', 'U_i', 'U_i', 'U_i', 'U_i', 'U_i', 'U_i', 'U_i', 'U_i', 'U_i', 'U_i', 'U_i', 'U_i', 'U_i', 'U_i', 'U_i', 'U_i', 'U_i', 'U_i', 'U_i', 'U_i', 'U_i', 'U_i', 'U_i', 'U_i', 'U_i', 'U_i', 'U_i', 'U_i', 'U_i', 'U_i', 'U_i', 'U_i', 'U_i', 'U_i', 'U_i', 'U_i', 'U_i', 'U_i', 'U_i', 'U_i', 'U_i', 'U_i', 'U_i', 'U_i', 'U_i', 'U_i', 'U_i', 'U_i', 'U_i', 'U_i', 'U_i', 'U_i', 'U_i', 'U_i', 'U_i', 'U_i', 'U_i', 'U_i', 'U_i', 'U_i', 'U_i', 'U_i', 'U_i', 'U_i', 'U_i', 'U_i', 'U_i', 'U_i', 'U_i', 'U_i', 'U_i', 'U_i', 'U_i', 'U_i', 'U_i', 'U_i', 'U_i', 'U_i', 'U_i', 'U_i', 'U_i', 'U_i', 'U_i', 'U_i', 'U_i', 'U_i', 'U_i', 'U_i', 'U_i', 'U_i', 'U_i', 'U_i', 'U_i', 'U_i', 'U_i', 'U_i', 'U_i', 'U_i', 'U_i', 'U_i', 'U_i', 'U_i', 'U_i', 'U_i', 'U_i', 'U_i', 'U_i', 'U_i', 'U_i', 'U_i', 'U_i', 'U_i', 'U_i', 'U_i', 'U_i', 'U_i', 'U_i', 'U_i', 'U_i', 'U_i', 'U_i', 'U_i', 'U_i', 'U_i', 'U_i', 'U_i', 'U_i', 'U_i', 'U_i', 'U_i', 'U_i', 'U_i', 'U_i', 'U_i', 'U_i', 'U_i', 'U_i', 'U_i', 'U_i', 'U_i', 'U_i', 'U_i', 'U_i', 'U_i', 'U_i', 'U_i', 'U_i', 'U_i', 'U_i', 'U_i', 'U_i', 'U_i', 'U_i', 'U_i', 'U_i', 'U_i', 'U_i', 'U_i', 'U_i', 'U_i', 'U_i', 'U_i', 'U_i', 'U_i', 'U_i', 'U_i', 'U_i', 'U_i', 'U_i', 'U_i', 'U_i', 'U_i', 'U_i', 'U_i', 'U_i', 'U_i', 'U_i', 'U_i', 'U_i', 'U_i', 'U_i', 'U_i', 'U_i', 'U_i', 'U_i', 'U_i', 'U_i', 'U_i', 'U_i', 'U_i', 'U_i', 'U_i', 'U_i', 'U_i', 'U_i', 'U_i', 'U_i', 'U_i', 'U_i', 'U_i', 'U_i', 'U_i', 'U_i', 'U_i', 'U_i', 'U_i', 'U_i', 'U_i', 'U_i', 'U_i', 'U_i', 'U_i', 'U_i', 'U_i', 'U_i', 'U_i', 'U_i', 'U_i', 'U_i', 'U_i', 'U_i', 'U_i', 'U_i', 'U_i', 'U_i', 'U_i', 'U_i', 'U_i', 'U_i', 'U_i', 'U_i', 'U_i', 'U_i', 'U_i', 'U_i', 'U_i', 'U_i', 'U_i', 'U_i', 'U_i', 'U_i', 'U_i', 'U_i', 'U_i', 'U_i', 'U_i', 'U_i', 'U_i', 'U_i', 'U_i', 'U_i', 'U_i', 'U_i', 'U_i', 'U_i', 'U_i', 'U_i', 'U_i', 'U_i', 'U_i', 'U_i', 'U_i', 'U_i', 'U_i', 'U_i', 'U_i', 'U_i', 'U_i', 'U_i', 'U_i', 'U_i', 'U_i', 'U_i', 'U_i', 'U_i', 'U_i', 'U_i', 'U_i', 'U_i', 'U_i', 'U_i', 'U_i', 'U_i', 'U_i', 'U_i', 'U_i', 'U_i', 'U_i', 'U_i', 'U_i', 'U_i', 'U_i', 'U_i', 'U_i', 'U_i', 'U_i', 'U_i', 'U_i', 'U_i', 'U_i', 'U_i', 'U_i', 'U_i', 'U_i', 'U_i', 'U_i', 'U_i', 'U_i', 'U_i', 'U_i', 'U_i', 'U_i', 'U_i', 'U_i', 'U_i', 'U_i', 'U_i', 'U_i', 'U_i', 'U_i', 'U_i', 'U_i', 'U_i', 'U_i', 'U_i', 'U_i', 'U_i', 'U_i', 'U_i', 'U_i', 'U_i', 'U_i', 'U_i', 'U_i', 'U_i', 'U_i', 'U_i', 'U_i', 'U_i', 'U_i', 'U_i', 'U_i', 'U_i', 'U_i', 'U_i', 'U_i', 'U_i', 'U_i', 'U_i', 'U_i', 'U_i', 'U_i', 'U_i', 'U_i', 'U_i', 'U_i', 'U_i', 'U_i', 'U_i', 'U_i', 'U_i', 'U_i', 'U_i', 'U_i', 'U_i', 'U_i', 'U_i', 'U_i', 'U_i', 'U_i', 'U_i', 'U_i', 'U_i', 'U_i', 'U_i', 'U_i', 'U_i', 'U_i', 'U_i', 'U_i', 'U_i', 'U_i', 'U_i', 'U_i', 'U_i', 'U_i', 'U_i', 'U_i', 'U_i', 'U_i', 'U_i', 'U_i', 'U_i', 'U_i', 'U_i', 'U_i', 'U_i', 'U_i', 'U_i', 'U_i', 'U_i', 'U_i', 'U_i', 'U_i', 'U_i', 'U_i', 'U_i', 'U_i', 'U_i', 'U_i', 'U_i', 'U_i', 'U_i', 'U_i', 'U_i', 'U_i', 'U_i', 'U_i', 'U_i', 'U_i', 'U_i', 'U_i', 'U_i', 'U_i', 'U_i', 'U_i', 'U_i', 'U_i', 'U_i', 'U_i', 'U_i', 'U_i', 'U_i', 'U_i', 'U_i', 'U_i', 'U_i', 'U_i', 'U_i', 'U_i', 'U_i', 'U_i', 'U_i', 'U_i', 'U_i', 'U_i', 'U_i', 'U_i', 'U_i', 'U_i', 'U_i', 'U_i', 'U_i', 'U_i', 'U_i', 'U_i', 'U_i', 'U_i', 'U_i', 'U_i', 'U_i', 'U_i', 'U_i', 'U_i', 'U_i', 'U_i', 'U_i', 'U_i', 'U_i', 'U_i', 'U_i', 'U_i', 'U_i', 'U_i', 'U_i', 'U_i', 'U_i', 'U_i', 'U_i', 'U_i', 'U_i', 'U_i', 'U_i', 'U_i', 'U_i', 'U_i', 'U_i', 'U_i', 'U_i', 'U_i', 'U_i', 'U_i', 'U_i', 'U_i', 'U_i', 'U_i', 'U_i', 'U_i', 'U_i', 'U_i', 'U_i', 'U_i', 'U_i', 'U_i', 'U_i', 'U_i', 'U_i', 'U_i', 'U_i', 'U_i', 'U_i', 'U_i', 'U_i', 'U_i', 'U_i', 'U_i', 'U_i', 'U_i', 'U_i', 'U_i', 'U_i', 'U_i', 'U_i', 'U_i', 'U_i', 'U_i', 'U_i', 'U_i', 'U_i', 'U_i', 'U_i', 'U_i', 'U_i', 'U_i', 'U_i', 'U_i', 'U_i', 'U_i', 'U_i', 'U_i', 'U_i', 'U_i', 'U_i', 'U_i', 'U_i', 'U_i', 'U_i', 'U_i', 'U_i', 'U_i', 'U_i', 'U_i', 'U_i', 'U_i', 'U_i', 'U_i', 'U_i', 'U_i', 'U_i', 'U_i', 'U_i', 'U_i', 'U_i', 'U_i', 'U_i', 'U_i', 'U_i', 'U_i', 'U_i', 'U_i', 'U_i', 'U_i', 'U_i', 'U_i', 'U_i', 'U_i', 'U_i', 'U_i', 'U_i', 'U_i', 'U_i', 'U_i', 'U_i', 'U_i', 'U_i', 'U_i', 'U_i', 'U_i', 'U_i', 'U_i', 'U_i', 'U_i', 'U_i', 'U_i', 'U_i', 'U_i', 'U_i', 'U_i', 'U_i', 'U_i', 'U_i', 'U_i', 'U_i', 'U_i', 'U_i', 'U_i', 'U_i', 'U_i', 'U_i', 'U_i', 'U_i', 'U_i', 'U_i', 'U_i', 'U_i', 'U_i', 'U_i', 'U_i', 'U_i', 'U_i', 'U_i', 'U_i', 'U_i', 'U_i', 'U_i', 'U_i', 'U_i', 'U_i', 'U_i', 'U_i', 'U_i', 'U_i', 'U_i', 'U_i', 'U_i', 'U_i', 'U_i', 'U_i', 'U_i', 'U_i', 'U_i', 'U_i', 'U_i', 'U_i', 'U_i', 'U_i', 'U_i', 'U_i', 'U_i', 'U_i', 'U_i', 'U_i', 'U_i', 'U_i', 'U_i', 'U_i', 'U_i', 'U_i', 'U_i', 'U_i', 'U_i', 'U_i', 'U_i', 'U_i', 'U_i', 'U_i', 'U_i', 'U_i', 'U_i', 'U_i', 'U_i', 'U_i', 'U_i', 'U_i', 'U_i', 'U_i', 'U_i', 'U_i', 'U_i', 'U_i', 'U_i', 'U_i', 'U_i', 'U_i', 'U_i', 'U_i', 'U_i', 'U_i', 'U_i', 'U_i', 'U_i', 'U_i', 'U_i', 'U_i', 'U_i', 'U_i', 'U_i', 'U_i', 'U_i', 'U_i', 'U_i', 'U_i', 'U_i', 'U_i', 'U_i', 'U_i', 'U_i', 'U_i', 'U_i', 'U_i', 'U_i', 'U_i', 'U_i', 'U_i', 'U_i', 'U_i', 'U_i', 'U_i', 'U_i', 'U_i', 'U_i', 'U_i', 'U_i', 'U_i', 'U_i', 'U_i', 'U_i', 'U_i', 'U_i', 'U_i', 'U_i', 'U_i', 'U_i', 'U_i', 'U_i', 'U_i', 'U_i', 'U_i', 'U_i', 'U_i', 'U_i', 'U_i', 'U_i', 'U_i', 'U_i', 'U_i', 'U_i', 'U_i', 'U_i', 'U_i', 'U_i', 'U_i', 'U_i', 'U_i', 'U_i', 'U_i', 'U_i', 'U_i', 'U_i', 'U_i', 'U_i', 'U_i', 'U_i', 'U_i', 'U_i', 'U_i', 'U_i', 'U_i', 'U_i', 'U_i', 'U_i', 'U_i', 'U_i', 'U_i', 'U_i', 'U_i', 'U_i', 'U_i', 'U_i', 'U_i', 'U_i', 'U_i', 'U_i', 'U_i', 'U_i', 'U_i', 'U_i', 'U_i', 'U_i', 'U_i', 'U_i', 'U_i', 'U_i', 'U_i', 'U_i', 'U_i', 'U_i', 'U_i', 'U_i', 'U_i', 'U_i', 'U_i', 'U_i', 'U_i', 'U_i', 'U_i', 'U_i', 'U_i', 'U_i', 'U_i', 'U_i', 'U_i', 'U_i', 'U_i', 'U_i', 'U_i', 'U_i', 'U_i', 'U_i', 'U_i', 'U_i', 'U_i', 'U_i', 'U_i', 'U_i', 'U_i', 'U_i', 'U_i', 'U_i', 'U_i', 'U_i', 'U_i', 'U_i', 'U_i', 'U_i', 'U_i', 'U_i', 'U_i', 'U_i', 'U_i', 'U_i', 'U_i', 'U_i', 'U_i', 'U_i', 'U_i', 'U_i', 'U_i', 'U_i', 'U_i', 'U_i', 'U_i', 'U_i', 'U_i', 'U_i', 'U_i', 'U_i', 'U_i', 'U_i', 'U_i', 'U_i', 'U_i', 'U_i', 'U_i', 'U_i', 'U_i', 'U_i', 'U_i', 'U_i', 'U_i', 'U_i', 'U_i', 'U_i', 'U_i', 'U_i', 'U_i', 'U_i', 'U_i', 'U_i', 'U_i', 'U_i', 'U_i', 'U_i', 'U_i', 'U_i', 'U_i', 'U_i', 'U_i', 'U_i', 'U_i', 'U_i', 'U_i', 'U_i', 'U_i', 'U_i', 'U_i', 'U_i', 'U_i', 'U_i', 'U_i', 'U_i', 'U_i', 'U_i', 'U_i', 'U_i', 'U_i', 'U_i', 'U_i', 'U_i', 'U_i', 'U_i', 'U_i', 'U_i', 'U_i', 'U_i', 'U_i', 'U_i', 'U_i', 'U_i', 'U_i', 'U_i', 'U_i', 'U_i', 'U_i', 'U_i', 'U_i', 'U_i', 'U_i', 'U_i', 'U_i', 'U_i', 'U_i', 'U_i', 'U_i', 'U_i', 'U_i', 'U_i', 'U_i', 'U_i', 'U_i', 'U_i', 'U_i', 'U_i', 'U_i', 'U_i', 'U_i', 'U_i', 'U_i', 'U_i', 'U_i', 'U_i', 'U_i', 'U_i', 'U_i', 'U_i', 'U_i', 'U_i', 'U_i', 'U_i', 'U_i', 'U_i', 'U_i', 'U_i', 'U_i', 'U_i', 'U_i', 'U_i', 'U_i', 'U_i', 'U_i', 'U_i', 'U_i', 'U_i', 'U_i', 'U_i', 'U_i', 'U_i', 'U_i', 'U_i', 'U_i', 'U_i', 'U_i', 'U_i', 'U_i', 'U_i', 'U_i', 'U_i', 'U_i', 'U_i', 'U_i', 'U_i', 'U_i', 'U_i', 'U_i', 'U_i', 'U_i', 'U_i', 'U_i', 'U_i', 'U_f', 'U_f', 'U_f', 'U_f', 'U_f', 'U_f', 'U_f', 'U_f', 'U_f', 'U_f', 'U_f', 'U_f', 'U_f', 'U_f', 'U_f', 'U_f', 'U_f', 'U_f', 'U_f', 'U_f', 'U_f', 'U_f', 'U_f', 'U_f', 'U_f', 'U_f', 'U_f', 'U_f', 'U_f', 'U_f', 'U_f', 'U_f', 'U_f', 'U_f', 'U_f', 'U_f', 'U_f', 'U_f', 'U_f', 'U_f', 'U_f', 'U_f', 'U_f', 'U_f', 'U_f', 'U_f', 'U_f', 'U_f', 'U_f', 'U_f', 'U_f', 'U_f', 'U_f', 'U_f', 'U_f', 'U_f', 'U_f', 'U_f', 'U_f', 'U_f', 'U_f', 'U_f', 'U_f', 'U_f', 'U_f', 'U_f', 'U_f', 'U_f', 'U_f', 'U_f', 'U_f', 'U_f', 'U_f', 'U_f', 'U_f', 'U_f', 'U_f', 'U_f', 'U_f', 'U_f', 'U_f', 'U_f', 'U_f', 'U_f', 'U_f', 'U_f', 'U_f', 'U_f', 'U_f', 'U_f', 'U_f', 'U_f', 'U_f', 'U_f', 'U_f', 'U_f', 'U_f', 'U_f', 'U_f', 'U_f', 'U_f', 'U_f', 'U_f', 'U_f', 'U_f', 'U_f', 'U_f', 'U_f', 'U_f', 'U_f', 'U_f', 'U_f', 'U_f', 'U_f', 'U_f', 'U_f', 'U_f', 'U_f', 'U_f', 'U_f', 'U_f', 'U_f', 'U_f', 'U_f', 'U_f', 'U_f', 'U_f', 'U_f', 'U_f', 'U_f', 'U_f', 'U_f', 'U_f', 'U_f', 'U_f', 'U_f', 'U_f', 'U_f', 'U_f', 'U_f', 'U_f', 'U_f', 'U_f', 'U_f', 'U_f', 'U_f', 'U_f', 'U_f', 'U_f', 'U_f', 'U_f', 'U_f', 'U_f', 'U_f', 'U_f', 'U_f', 'U_f', 'U_f', 'U_f', 'U_f', 'U_f', 'U_f', 'U_f', 'U_f', 'U_f', 'U_f', 'U_f', 'U_f', 'U_f', 'U_f', 'U_f', 'U_f', 'U_f', 'U_f', 'U_f', 'U_f', 'U_f', 'U_f', 'U_f', 'U_f', 'U_f', 'U_f', 'U_f', 'U_f', 'U_f', 'U_f', 'U_f', 'U_f', 'U_f', 'U_f', 'U_f', 'U_f', 'U_f', 'U_f', 'U_f', 'U_f', 'U_f', 'U_f', 'U_f', 'U_f', 'U_f', 'U_f', 'U_f', 'U_f', 'U_f', 'U_f', 'U_f', 'U_f', 'U_f', 'U_f', 'U_f', 'U_f', 'U_f', 'U_f', 'U_f', 'U_f', 'U_f', 'U_f', 'U_f', 'U_f', 'U_f', 'U_f', 'U_f', 'U_f', 'U_f', 'U_f', 'U_f', 'U_f', 'U_f', 'U_f', 'U_f', 'U_f', 'U_f', 'U_f', 'U_f', 'U_f', 'U_f', 'U_f', 'U_f', 'U_f', 'U_f', 'U_f', 'U_f', 'U_f', 'U_f', 'U_f', 'U_f', 'U_f', 'U_f', 'U_f', 'U_f', 'U_f', 'U_f', 'U_f', 'U_f', 'U_f', 'U_f', 'U_f', 'U_f', 'U_f', 'U_f', 'U_f', 'U_f', 'U_f', 'U_f', 'U_f', 'U_f', 'U_f', 'U_f', 'U_f', 'U_f', 'U_f', 'U_f', 'U_f', 'U_f', 'U_f', 'U_f', 'U_f', 'U_f', 'U_f', 'U_f', 'U_f', 'U_f', 'U_f', 'U_f', 'U_f', 'U_f', 'U_f', 'U_f', 'U_f', 'U_f', 'U_f', 'U_f', 'U_f', 'U_f', 'U_f', 'U_f', 'U_f', 'U_f', 'U_f', 'U_f', 'U_f', 'U_f', 'U_f', 'U_f', 'U_f', 'U_f', 'U_f', 'U_f', 'U_f', 'U_f', 'U_f', 'U_f', 'U_f', 'U_f', 'U_f', 'U_f', 'U_f', 'U_f', 'U_f', 'U_f', 'U_f', 'U_f', 'U_f', 'U_f', 'U_f', 'U_f', 'U_f', 'U_f', 'U_f', 'U_f', 'U_f', 'U_f', 'U_f', 'U_f', 'U_f', 'U_f', 'U_f', 'U_f', 'U_f', 'U_f', 'U_f', 'U_f', 'U_f', 'U_f', 'U_f', 'U_f', 'U_f', 'U_f', 'U_f', 'U_f', 'U_f', 'U_f', 'U_f', 'U_f', 'U_f', 'U_f', 'U_f', 'U_f', 'U_f', 'U_f', 'U_f', 'U_f', 'U_f', 'U_f', 'U_f', 'U_f', 'U_f', 'U_f', 'U_f', 'U_f', 'U_f', 'U_f', 'U_f', 'U_f', 'U_f', 'U_f', 'U_f', 'U_f', 'U_f', 'U_f', 'U_f', 'U_f', 'U_f', 'U_f', 'U_f', 'U_f', 'U_f', 'U_f', 'U_f', 'U_f', 'U_f', 'U_f', 'U_f', 'U_f', 'U_f', 'U_f', 'U_f', 'U_f', 'U_f', 'U_f', 'U_f', 'U_f', 'U_f', 'U_f', 'U_f', 'U_f', 'U_f', 'U_f', 'U_f', 'U_f', 'U_f', 'U_f', 'U_f', 'U_f', 'U_f', 'U_f', 'U_f', 'U_f', 'U_f', 'U_f', 'U_f', 'U_f', 'U_f', 'U_f', 'U_f', 'U_f', 'U_f', 'U_f', 'U_f', 'U_f', 'U_f', 'U_f', 'U_f', 'U_f', 'U_f', 'U_f', 'U_f', 'U_f', 'U_f', 'U_f', 'U_f', 'U_f', 'U_f', 'U_f', 'U_f', 'U_f', 'U_f', 'U_f', 'U_f', 'U_f', 'U_f', 'U_f', 'U_f', 'U_f', 'U_f', 'U_f', 'U_f', 'U_f', 'U_f', 'U_f', 'U_f', 'U_f', 'U_f', 'U_f', 'U_f', 'U_f', 'U_f', 'U_f', 'U_f', 'U_f', 'U_f', 'U_f', 'U_f', 'U_f', 'U_f', 'U_f', 'U_f', 'U_f', 'U_f', 'U_f', 'U_f', 'U_f', 'U_f', 'U_f', 'U_f', 'U_f', 'U_f', 'U_f', 'U_f', 'U_f', 'U_f', 'U_f', 'U_f', 'U_f', 'U_f', 'U_f', 'U_f', 'U_f', 'U_f', 'U_f', 'U_f', 'U_f', 'U_f', 'U_f', 'U_f', 'U_f', 'U_f', 'U_f', 'U_f', 'U_f', 'U_f', 'U_f', 'U_f', 'U_f', 'U_f', 'U_f', 'U_f', 'U_f', 'U_f', 'U_f', 'U_f', 'U_f', 'U_f', 'U_f', 'U_f', 'U_f', 'U_f', 'U_f', 'U_f', 'U_f', 'U_f', 'U_f', 'U_f', 'U_f', 'U_f', 'U_f', 'U_f', 'U_f', 'U_f', 'U_f', 'U_f', 'U_f', 'U_f', 'U_f', 'U_f', 'U_f', 'U_f', 'U_f', 'U_f', 'U_f', 'U_f', 'U_f', 'U_f', 'U_f', 'U_f', 'U_f', 'U_f', 'U_f', 'U_f', 'U_f', 'U_f', 'U_f', 'U_f', 'U_f', 'U_f', 'U_f', 'U_f', 'U_f', 'U_f', 'U_f', 'U_f', 'U_f', 'U_f', 'U_f', 'U_f', 'U_f', 'U_f', 'U_f', 'U_f', 'U_f', 'U_f', 'U_f', 'U_f', 'U_f', 'U_f', 'U_f', 'U_f', 'U_f', 'U_f', 'U_f', 'U_f', 'U_f', 'U_f', 'U_f', 'U_f', 'U_f', 'U_f', 'U_f', 'U_f', 'U_f', 'U_f', 'U_f', 'U_f', 'U_f', 'U_f', 'U_f', 'U_f', 'U_f', 'U_f', 'U_f', 'U_f', 'U_f', 'U_f', 'U_f', 'U_f', 'U_f', 'U_f', 'U_f', 'U_f', 'U_f', 'U_f', 'U_f', 'U_f', 'U_f', 'U_f', 'U_f', 'U_f', 'U_f', 'U_f', 'U_f', 'U_f', 'U_f', 'U_f', 'U_f', 'U_f', 'U_f', 'U_f', 'U_f', 'U_f', 'U_f', 'U_f', 'U_f', 'U_f', 'U_f', 'U_f', 'U_f', 'U_f', 'U_f', 'U_f', 'U_f', 'U_f', 'U_f', 'U_f', 'U_f', 'U_f', 'U_f', 'U_f', 'U_f', 'U_f', 'U_f', 'U_f', 'U_f', 'U_f', 'U_f', 'U_f', 'U_f', 'U_f', 'U_f', 'U_f', 'U_f', 'U_f', 'U_f', 'U_f', 'U_f', 'U_f', 'U_f', 'U_f', 'U_f', 'U_f', 'U_f', 'U_f', 'U_f', 'U_f', 'U_f', 'U_f', 'U_f', 'U_f', 'U_f', 'U_f', 'U_f', 'U_f', 'U_f', 'U_f', 'U_f', 'U_f', 'U_f', 'U_f', 'U_f', 'U_f', 'U_f', 'U_f', 'U_f', 'U_f', 'U_f', 'U_f', 'U_f', 'U_f', 'U_f', 'U_f', 'U_f', 'U_f', 'U_f', 'U_f', 'U_f', 'U_f', 'U_f', 'U_f', 'U_f', 'U_f', 'U_f', 'U_f', 'U_f', 'U_f', 'U_f', 'U_f', 'U_f', 'U_f', 'U_f', 'U_f', 'U_f', 'U_f', 'U_f', 'U_f', 'U_f', 'U_f', 'U_f', 'U_f', 'U_f', 'U_f', 'U_f', 'U_f', 'U_f', 'U_f', 'U_f', 'U_f', 'U_f', 'U_f', 'U_f', 'U_f', 'U_f', 'U_f', 'U_f', 'U_f', 'U_f', 'U_f', 'U_f', 'U_f', 'U_f', 'U_f', 'U_f', 'U_f', 'U_f', 'U_f', 'U_f', 'U_f', 'U_f', 'U_f', 'U_f', 'U_f', 'U_f', 'U_f', 'U_f', 'U_f', 'U_f', 'U_f', 'U_f', 'U_f', 'U_f', 'U_f', 'U_f', 'U_f', 'U_f', 'U_f', 'U_f', 'U_f', 'U_f', 'U_f', 'U_f', 'U_f', 'U_f', 'U_f', 'U_f', 'U_f', 'U_f', 'U_f', 'U_f', 'U_f', 'U_f', 'U_f', 'U_f', 'U_f', 'U_f', 'U_f', 'U_f', 'U_f', 'U_f', 'U_f', 'U_f', 'U_f', 'U_f', 'U_f', 'U_f', 'U_f', 'U_f', 'U_f', 'U_f', 'U_f', 'U_f', 'U_f', 'U_f', 'U_f', 'U_f', 'U_f', 'U_f', 'U_f', 'U_f', 'U_f', 'U_f', 'U_f', 'U_f', 'U_f', 'U_f', 'U_f', 'U_f', 'U_f', 'U_f', 'U_f', 'U_f', 'U_f', 'U_f', 'U_f', 'U_f', 'U_f', 'U_f', 'U_f', 'U_f', 'U_f', 'U_f', 'U_f', 'U_f', 'U_f', 'U_f', 'U_f', 'U_f', 'U_f', 'U_f', 'U_f', 'U_f', 'U_f', 'U_f', 'U_f', 'U_f', 'U_f', 'U_f', 'U_f', 'U_f', 'U_f', 'U_f', 'U_f', 'U_f', 'U_f', 'U_f', 'U_f', 'U_f', 'U_f', 'U_f', 'U_f', 'U_f', 'U_f', 'U_f', 'U_f', 'U_f', 'U_f', 'U_f', 'U_f', 'U_f', 'U_f', 'U_f', 'U_f', 'U_f', 'U_f', 'U_f', 'U_f', 'U_f', 'U_f', 'U_f', 'U_f', 'U_f', 'U_f', 'U_f', 'U_f', 'U_f', 'U_f', 'U_f', 'U_f', 'U_f', 'U_f', 'U_f', 'U_f', 'U_f', 'U_f', 'U_f', 'U_f', 'U_f', 'U_f', 'U_f', 'U_f', 'U_f', 'U_f', 'U_f', 'U_f', 'U_f', 'U_f', 'U_f', 'U_f', 'U_f', 'U_f', 'U_f', 'U_f', 'U_f', 'U_f', 'U_f', 'U_f', 'U_f', 'U_f', 'U_f', 'U_f', 'U_f', 'U_f', 'U_f', 'U_f', 'U_f', 'U_f', 'U_f', 'U_f', 'U_f', 'U_f', 'U_f', 'U_f', 'U_f', 'U_f', 'U_f', 'U_f', 'U_f', 'U_f', 'U_f', 'U_f', 'U_f', 'U_f', 'U_f', 'U_f', 'U_f', 'U_f', 'U_f', 'U_f', 'U_f', 'U_f', 'U_f', 'U_f', 'U_f', 'U_f', 'U_f', 'U_f', 'U_f', 'U_f', 'U_f', 'U_f', 'U_f', 'U_f', 'U_f', 'U_f', 'U_f', 'U_f', 'U_f', 'U_f', 'U_f', 'U_f', 'U_f', 'U_f', 'U_f', 'U_f', 'U_f', 'U_f', 'U_f', 'U_f', 'U_f', 'U_f', 'U_f', 'U_f', 'U_f', 'U_f', 'U_f', 'U_f', 'U_f', 'U_f', 'U_f', 'U_f', 'U_f', 'U_f', 'U_f', 'U_f', 'U_f', 'U_f', 'U_f', 'U_f', 'U_f', 'U_f', 'U_f', 'U_f', 'U_f', 'U_f', 'U_f', 'U_f', 'U_f', 'U_f', 'U_f', 'U_f', 'U_f', 'U_f', 'U_f', 'U_f', 'U_f', 'U_f', 'U_f', 'U_f', 'U_f', 'U_f', 'U_f', 'U_f', 'U_f', 'U_f', 'U_f', 'U_f', 'U_f', 'U_f', 'U_f', 'U_f', 'U_f', 'U_f', 'U_f', 'U_f', 'U_f', 'U_f', 'U_f', 'U_f', 'U_f', 'U_f', 'U_f', 'U_f', 'U_f', 'U_f', 'U_f', 'U_f', 'U_f', 'U_f', 'U_f', 'U_f', 'U_f', 'U_f', 'U_f', 'U_f', 'U_f', 'U_f', 'U_f', 'U_f', 'U_f', 'U_f', 'U_f', 'U_f', 'U_f', 'U_f', 'U_f', 'U_f', 'U_f', 'U_f', 'U_f', 'U_f', 'U_f', 'U_f', 'U_f', 'U_f', 'U_f', 'U_f', 'U_f', 'U_f', 'U_f', 'U_f', 'U_f', 'U_f', 'U_f', 'U_f', 'U_f', 'U_f', 'U_f', 'U_f', 'U_f', 'U_f', 'U_f', 'U_f', 'U_f', 'U_f', 'U_f', 'U_f', 'U_f', 'U_f', 'U_f', 'U_f', 'U_f', 'U_f', 'U_f', 'U_f', 'U_f', 'U_f', 'U_f', 'U_f', 'U_f', 'U_f', 'U_f', 'U_f', 'U_f', 'U_f', 'U_f', 'U_f', 'U_f', 'U_f', 'U_f', 'U_f', 'U_f', 'U_f', 'U_f', 'U_f', 'U_f', 'U_f', 'U_f', 'U_f', 'U_f', 'U_f', 'U_f', 'U_f', 'U_f', 'U_f', 'U_f', 'U_f', 'U_f', 'U_f', 'U_f', 'U_f', 'U_f', 'U_f', 'U_f', 'U_f', 'U_f', 'U_f', 'U_f', 'U_f', 'U_f', 'U_f', 'U_f', 'U_f', 'U_f', 'U_f', 'U_f', 'U_f', 'U_f', 'U_f', 'U_f', 'U_f', 'U_f', 'U_f', 'U_f', 'U_f', 'U_f', 'U_f', 'U_f', 'U_f', 'U_f', 'U_f', 'U_f', 'U_f', 'U_f', 'U_f', 'U_f', 'U_f', 'U_f', 'U_f', 'U_f', 'U_f', 'U_f', 'U_f', 'U_f', 'U_f', 'U_f', 'U_f', 'U_f', 'U_f', 'U_f', 'U_f', 'U_f', 'U_f', 'U_f', 'U_f', 'U_f', 'U_f', 'U_f', 'U_f', 'U_f', 'U_f', 'U_f', 'U_f', 'U_f', 'U_f', 'U_f', 'U_f', 'U_f', 'U_f', 'U_f', 'U_f', 'U_f', 'U_f', 'U_f', 'U_f', 'U_f', 'U_f', 'U_f', 'U_f', 'U_f', 'U_f', 'U_f', 'U_f', 'U_f', 'U_f', 'U_f', 'U_f', 'U_f', 'U_f', 'U_f', 'U_f', 'U_f', 'U_f', 'U_f', 'U_f', 'U_f', 'U_f', 'U_f', 'U_f', 'U_f', 'U_f', 'U_f', 'U_f', 'U_f', 'U_f', 'U_f', 'U_f', 'U_f', 'U_f', 'U_f', 'U_f', 'U_f', 'U_f', 'U_f', 'U_f', 'U_f', 'U_f', 'U_f', 'U_f', 'U_f', 'U_f', 'U_f', 'U_f', 'U_f', 'U_f', 'U_f', 'U_f', 'U_f', 'U_f', 'U_f', 'U_f', 'U_f', 'U_f', 'U_f', 'U_f', 'U_f', 'U_f', 'U_f', 'U_f', 'U_f', 'U_f', 'U_f', 'U_f', 'U_f', 'U_f', 'U_f', 'U_f', 'U_f', 'U_f', 'U_f', 'U_f', 'U_f', 'U_f', 'U_f', 'U_f', 'U_f', 'U_f', 'U_f', 'U_f', 'U_f', 'U_f', 'U_f', 'U_f', 'U_f', 'U_f', 'U_f', 'U_f', 'U_f', 'U_f', 'U_f', 'U_f', 'U_f', 'U_f', 'U_f', 'U_f', 'U_f', 'U_f', 'U_f', 'U_f', 'U_f', 'U_f', 'U_f', 'U_f', 'U_f', 'U_f', 'U_f', 'U_f', 'U_f', 'U_f', 'U_f', 'U_f', 'U_f', 'U_f', 'U_f', 'U_f', 'U_f', 'U_f', 'U_f', 'U_f', 'U_f', 'U_f', 'U_f', 'U_f', 'U_f', 'U_f', 'U_f', 'U_f', 'U_f', 'U_f', 'U_f', 'U_f', 'U_f', 'U_f', 'U_f', 'U_f', 'U_f', 'U_f', 'U_f', 'U_f', 'U_f', 'U_f', 'U_f', 'U_f', 'U_f', 'U_f', 'U_f', 'U_f', 'U_f', 'U_f', 'U_f', 'U_f', 'U_f', 'U_f', 'U_f', 'U_f', 'U_f', 'U_f', 'U_f', 'U_f', 'U_f', 'U_f', 'U_f', 'U_f', 'U_f', 'U_f', 'U_f', 'U_f', 'U_f', 'U_f', 'U_f', 'U_f', 'U_f', 'U_f', 'U_f', 'U_f', 'U_f', 'U_f', 'U_f', 'U_f', 'U_f', 'U_f', 'U_f', 'U_f', 'U_f', 'U_f', 'U_f', 'U_f', 'U_f', 'U_f', 'U_f', 'U_f', 'U_f', 'U_f', 'U_f', 'U_f', 'U_f', 'U_f', 'U_f', 'U_f', 'U_f', 'U_f', 'U_f', 'U_f', 'U_f', 'U_f', 'U_f', 'U_f', 'U_f', 'U_f', 'U_f', 'U_f', 'U_f', 'U_f', 'U_f', 'U_f', 'U_f', 'U_f', 'U_f', 'U_f', 'U_f', 'U_f', 'U_f', 'U_f', 'U_f', 'U_f', 'U_f', 'U_f', 'U_f', 'U_f', 'U_f', 'U_f', 'U_f', 'U_f', 'U_f', 'U_f', 'U_f', 'U_f', 'U_f', 'U_f', 'U_f', 'U_f', 'U_f', 'U_f', 'U_f', 'U_f', 'U_f', 'U_f', 'U_f', 'U_f', 'U_f', 'U_f', 'U_f', 'U_f', 'U_f', 'U_f', 'U_f', 'U_f', 'U_f', 'U_f', 'U_f', 'U_f', 'U_f', 'U_f', 'U_f', 'U_f', 'U_f', 'U_f', 'U_f', 'U_f', 'U_f', 'U_f', 'U_f', 'U_f', 'U_f', 'U_f', 'U_f', 'U_f', 'U_f', 'U_f', 'U_f', 'U_f', 'U_f', 'U_f', 'U_f', 'U_f', 'U_f', 'U_f', 'U_f', 'U_f', 'U_f', 'U_f', 'U_f', 'U_f', 'U_f', 'U_f', 'U_f', 'U_f', 'U_f', 'U_f', 'U_f', 'U_f', 'U_f', 'U_f', 'U_f', 'U_f', 'U_f', 'U_f', 'U_f', 'U_f', 'U_f', 'U_f', 'U_f', 'U_f', 'U_f', 'U_f', 'U_f', 'U_f', 'U_f', 'U_f', 'U_f', 'U_f', 'U_f', 'U_f', 'U_f', 'U_f', 'U_f', 'U_f', 'U_f', 'U_f', 'U_f', 'U_f', 'U_f', 'U_f', 'U_f', 'U_f', 'U_f', 'U_f', 'U_f', 'U_f', 'U_f', 'U_f', 'U_f', 'U_f', 'U_f', 'U_f', 'U_f', 'U_f', 'U_f', 'U_f', 'U_f', 'U_f', 'U_f', 'U_f', 'U_f', 'U_f', 'U_f', 'U_f', 'U_f', 'U_f', 'U_f', 'U_f', 'U_f', 'U_f', 'U_f', 'U_f', 'U_f', 'U_f', 'U_f', 'U_f', 'U_f', 'U_f', 'U_f', 'U_f', 'U_f', 'U_f', 'U_f', 'U_f', 'U_f', 'U_f', 'U_f', 'U_f', 'U_f', 'U_f', 'U_f', 'U_f', 'U_f', 'U_f', 'U_f', 'U_f', 'U_f', 'U_f', 'U_f', 'U_f', 'U_f', 'U_f', 'U_f', 'U_f', 'U_f', 'U_f', 'U_f', 'U_f', 'U_f', 'U_f', 'U_f', 'U_f', 'U_f', 'U_f', 'U_f', 'U_f', 'U_f', 'U_f', 'U_f', 'U_f', 'U_f', 'U_f', 'U_f', 'U_f', 'U_f', 'U_f', 'U_f', 'U_f', 'U_f', 'U_f', 'U_f', 'U_f', 'U_f', 'U_f', 'U_f', 'U_f', 'U_f', 'U_f', 'U_f', 'U_f', 'U_f', 'U_f', 'U_f', 'U_f', 'U_f', 'U_f', 'U_f', 'U_f', 'U_f', 'U_f', 'U_f', 'U_f', 'U_f', 'U_f', 'U_f', 'U_f', 'U_f', 'U_f', 'U_f', 'U_f', 'U_f', 'U_f', 'U_f', 'U_f', 'U_f', 'U_f', 'U_f', 'U_f', 'U_f', 'U_f', 'U_f', 'U_f', 'U_f', 'U_f', 'U_f', 'U_f', 'U_f', 'U_f', 'U_f', 'U_f', 'U_f', 'U_f', 'U_f', 'U_f', 'U_f', 'U_f', 'U_f', 'U_f', 'U_f', 'U_f', 'U_f', 'U_f', 'U_f', 'U_f', 'U_f', 'U_f', 'U_f', 'U_f', 'U_f', 'U_f', 'U_f', 'U_f', 'U_f', 'U_f', 'U_f', 'U_f', 'U_f', 'U_f', 'U_f', 'U_f', 'U_f', 'U_f', 'U_f', 'U_f', 'U_f', 'U_f', 'U_f', 'U_f', 'U_f', 'U_f', 'U_f', 'U_f', 'U_f', 'U_f', 'U_f', 'U_f', 'U_f', 'U_f', 'U_f', 'U_f', 'U_f', 'U_f', 'U_f', 'U_f', 'U_f', 'U_f', 'U_f', 'U_f', 'U_f', 'U_f', 'U_f', 'U_f', 'U_f', 'U_f', 'U_f', 'U_f', 'U_f', 'U_f', 'U_f', 'U_f', 'U_f', 'U_f', 'U_f', 'U_f', 'U_f', 'U_f', 'U_f', 'U_f', 'U_f', 'U_f', 'U_f', 'U_f', 'U_f', 'U_f', 'U_f', 'U_f', 'U_f', 'U_f', 'U_f', 'U_f', 'U_f', 'U_f', 'U_f', 'U_f', 'U_f', 'U_f', 'U_f', 'U_f', 'U_f', 'U_f', 'U_f', 'U_f', 'U_f', 'U_f', 'U_f', 'U_f', 'U_f', 'U_f', 'U_f', 'U_f', 'U_f', 'U_f', 'U_f', 'U_f', 'U_f', 'U_f', 'U_f', 'U_f', 'U_f', 'U_f', 'U_f', 'U_f', 'U_f', 'U_f', 'U_f', 'U_f', 'U_f', 'U_f', 'U_f', 'U_f', 'U_f', 'U_f', 'U_f', 'U_f', 'U_f', 'U_f', 'U_f', 'U_f', 'U_f', 'U_f', 'U_f', 'U_f', 'U_f', 'U_f', 'U_f', 'U_f', 'U_f', 'U_f', 'U_f', 'U_f', 'U_f', 'U_f', 'U_f', 'U_f', 'U_f', 'U_f', 'U_f', 'U_f', 'U_f', 'U_f', 'U_f', 'U_f', 'U_f', 'U_f', 'U_f', 'U_f', 'U_f', 'U_f', 'U_f', 'U_f', 'U_f', 'U_f', 'U_f', 'U_f', 'U_f', 'U_f', 'U_f', 'U_f', 'U_f', 'U_f', 'U_f', 'U_f', 'U_f', 'U_f', 'U_f', 'U_f', 'U_f', 'U_f', 'U_f', 'U_f', 'U_f', 'U_f', 'U_f', 'U_f', 'U_f', 'U_f', 'U_f', 'U_f', 'U_f', 'U_f', 'U_f', 'U_f', 'U_f', 'U_f', 'U_f', 'U_f', 'U_f', 'U_f', 'U_f', 'U_f', 'U_f', 'U_f', 'U_f', 'U_f', 'U_f', 'U_f', 'U_f', 'U_f', 'U_f', 'U_f', 'U_f', 'U_f', 'U_f', 'U_f', 'U_f', 'U_f', 'U_f', 'U_f', 'U_f', 'U_f', 'U_f', 'U_f', 'U_f', 'U_f', 'U_f', 'U_f', 'U_f', 'U_f', 'U_f', 'U_f', 'U_f', 'U_f', 'U_f', 'U_f', 'U_f', 'U_f', 'U_f', 'U_f', 'U_f', 'U_f', 'U_f', 'U_f', 'U_f', 'U_f', 'U_f', 'U_f', 'U_f', 'U_f', 'U_f', 'U_f', 'U_f', 'U_f', 'U_f', 'U_f', 'U_f', 'U_f', 'U_f', 'U_f', 'U_f', 'U_f', 'U_f', 'U_f', 'U_f', 'U_f', 'U_f', 'U_f', 'U_f', 'U_f', 'U_f', 'U_f', 'U_f', 'U_f', 'U_f', 'U_f', 'U_f', 'U_f', 'U_f', 'U_f', 'U_f', 'U_f', 'U_f', 'U_f', 'U_f', 'U_f', 'U_f', 'U_f', 'U_f', 'U_f', 'U_f', 'U_f', 'U_f', 'U_f', 'U_f', 'U_f', 'U_f', 'U_f', 'U_f', 'U_f', 'U_f', 'U_f', 'U_f', 'U_f', 'U_f', 'U_f', 'U_f', 'U_f', 'U_f', 'U_f', 'U_f', 'U_f', 'U_f', 'U_f', 'U_f', 'U_f', 'U_f', 'U_f', 'U_f', 'U_f', 'U_f', 'U_f', 'U_f', 'U_f', 'U_f', 'U_f', 'U_f', 'U_f', 'U_f', 'U_f', 'U_f', 'U_f', 'U_f', 'U_f', 'U_f', 'U_f', 'U_f', 'U_f', 'U_f', 'U_f', 'U_f', 'U_f', 'U_f', 'U_f', 'U_f', 'U_f', 'U_f', 'U_f', 'U_f', 'U_f', 'U_f', 'U_f', 'U_f', 'U_f', 'U_f', 'U_f', 'U_f', 'U_f', 'U_f', 'U_f', 'U_f', 'U_f', 'U_f', 'U_f', 'U_f', 'U_f', 'U_f', 'U_f', 'U_f', 'U_f', 'U_f', 'U_f', 'U_f', 'U_f', 'U_f', 'U_f', 'U_f', 'U_f', 'U_f', 'U_f', 'U_f', 'U_f', 'U_f', 'U_f', 'U_f', 'U_f', 'U_f', 'U_f', 'U_f', 'U_f', 'U_f', 'U_f', 'U_f', 'U_f', 'U_f', 'U_f', 'U_f', 'U_f', 'U_f', 'U_f', 'U_f', 'U_f', 'U_f', 'U_f', 'U_f', 'U_f', 'U_f', 'U_f', 'U_f', 'U_f', 'U_f', 'U_f', 'U_f', 'U_f', 'U_f', 'U_f', 'U_f', 'U_f', 'U_f', 'U_f', 'U_f', 'U_f', 'U_f', 'U_f', 'U_f', 'U_f', 'U_f', 'U_f', 'U_f', 'U_f', 'U_f', 'U_f', 'U_f', 'U_f', 'U_f', 'U_f', 'U_f', 'U_f', 'U_f', 'U_f', 'U_f', 'U_f', 'U_f', 'U_f', 'U_f', 'U_f', 'U_f', 'U_f', 'U_f', 'U_f', 'U_f', 'U_f', 'U_f', 'U_f', 'U_f', 'U_f', 'U_f', 'U_f', 'U_f', 'U_f', 'U_f', 'U_f', 'U_f', 'U_f', 'U_f', 'U_f', 'U_f', 'U_f', 'U_f', 'U_f', 'U_f', 'U_f', 'U_f', 'U_f', 'U_f', 'U_f', 'U_f', 'U_f', 'U_f', 'U_f', 'U_f', 'U_f', 'U_f', 'U_f', 'U_f', 'U_f', 'U_f', 'U_f', 'U_f', 'U_f', 'U_f', 'U_f', 'U_f', 'U_f', 'U_f', 'U_f', 'U_f', 'U_f', 'U_f', 'U_f', 'U_f', 'U_f', 'U_f', 'U_f', 'U_f', 'U_f', 'U_f', 'U_f', 'U_f', 'U_f', 'U_f', 'U_f', 'U_f', 'U_f', 'U_f', 'U_f', 'U_f', 'U_f', 'U_f', 'U_f', 'U_f', 'U_f', 'U_f', 'U_f', 'U_f', 'U_f', 'U_f', 'U_f', 'U_f', 'U_f', 'U_f', 'U_f', 'U_f', 'U_f', 'U_f', 'U_f', 'U_f', 'U_f', 'U_f', 'U_f', 'U_f', 'U_f', 'U_f', 'U_f', 'U_f', 'U_f', 'U_f', 'U_f', 'U_f', 'U_f', 'U_f', 'U_f', 'U_f', 'U_f', 'U_f', 'U_f', 'U_f', 'U_f', 'U_f', 'U_f', 'U_f', 'U_f', 'U_f', 'U_f', 'U_f', 'U_f', 'U_f', 'U_f', 'U_f', 'U_f', 'U_f', 'U_f', 'U_f', 'U_f', 'U_f', 'U_f', 'U_f', 'U_f', 'U_f', 'U_f', 'U_f', 'U_f', 'U_f', 'U_f', 'U_f', 'U_f', 'U_f', 'U_f', 'U_f', 'U_f', 'U_f', 'U_f', 'U_f', 'U_f', 'U_f', 'U_f', 'U_f', 'U_f', 'U_f', 'U_f', 'U_f', 'U_f', 'U_f', 'U_f', 'U_f', 'U_f', 'U_f', 'U_f', 'U_f', 'U_f', 'U_f', 'U_f', 'U_f', 'U_f', 'U_f', 'U_f', 'U_f', 'U_f', 'U_f', 'U_f', 'U_f', 'U_f', 'U_f', 'U_f', 'U_f', 'U_f', 'U_f', 'U_f', 'U_f', 'U_f', 'U_f', 'U_f', 'U_f', 'U_f', 'U_f', 'U_f', 'U_f', 'U_f', 'U_f', 'U_f', 'U_f', 'U_f', 'U_f', 'U_f', 'U_f', 'U_f', 'U_f', 'U_f', 'U_f', 'U_f', 'U_f', 'U_f', 'U_f', 'U_f', 'U_f', 'U_f', 'U_f', 'U_f', 'U_f', 'U_f', 'U_f', 'U_f', 'U_f', 'U_f', 'U_f', 'U_f', 'U_f', 'U_f', 'U_f', 'U_f', 'U_f', 'U_f', 'U_f', 'U_f', 'U_f', 'U_f', 'U_f', 'U_f', 'U_f', 'U_f', 'U_f', 'U_f', 'U_f', 'U_f', 'U_f', 'U_f', 'U_f', 'U_f', 'U_f', 'U_f', 'U_f', 'U_f', 'U_f', 'U_f', 'U_f', 'U_f', 'U_f', 'U_f', 'U_f', 'U_f', 'U_f', 'U_f', 'U_f', 'U_f', 'U_f', 'U_f', 'U_f', 'U_f', 'U_f', 'U_f', 'U_f', 'U_f', 'U_f', 'U_f', 'U_f', 'U_f', 'U_f', 'U_f', 'U_f', 'U_f', 'U_f', 'U_f', 'U_f', 'U_f', 'U_f', 'U_f', 'U_f', 'U_f', 'U_f', 'U_f', 'U_f', 'U_f', 'U_f', 'U_f', 'U_f', 'U_f', 'U_f', 'U_f', 'U_f', 'U_f', 'U_f', 'U_f', 'U_f', 'U_f', 'U_f', 'U_f', 'U_f', 'U_f', 'U_f', 'U_f', 'U_f', 'U_f', 'U_f', 'U_f', 'U_f', 'U_f', 'U_f', 'U_f', 'U_f', 'U_f', 'U_f', 'U_f', 'U_f', 'U_f', 'U_f', 'U_f', 'U_f', 'U_f', 'U_f', 'U_f', 'U_f', 'U_f', 'U_f', 'U_f', 'U_f', 'U_f', 'U_f', 'U_f', 'U_f', 'U_f', 'U_f', 'U_f', 'U_c', 'U_c', 'U_c', 'U_c', 'U_c', 'U_c', 'U_c', 'U_c', 'U_c', 'U_c', 'U_c', 'U_c', 'U_c', 'U_c', 'U_c', 'U_c', 'U_c', 'U_c', 'U_c', 'U_c', 'U_c', 'U_c', 'U_c', 'U_c', 'U_c', 'U_c', 'U_c', 'U_c', 'U_c', 'U_c', 'U_c', 'U_c', 'U_c', 'U_c', 'U_c', 'U_c', 'U_c', 'U_c', 'U_c', 'U_c', 'U_c', 'U_c', 'U_c', 'U_c', 'U_c', 'U_c', 'U_c', 'U_c', 'U_c', 'U_c', 'U_c', 'U_c', 'U_c', 'U_c', 'U_c', 'U_c', 'U_c', 'U_c', 'U_c', 'U_c', 'U_c', 'U_c', 'U_c', 'U_c', 'U_c', 'U_c', 'U_c', 'U_c', 'U_c', 'U_c', 'U_c', 'U_c', 'U_c', 'U_c', 'U_c', 'U_c', 'U_c', 'U_c', 'U_c', 'U_c', 'U_c', 'U_c', 'U_c', 'U_c', 'U_c', 'U_c', 'U_c', 'U_c', 'U_c', 'U_c', 'U_c', 'U_c', 'U_c', 'U_c', 'U_c', 'U_c', 'U_c', 'U_c', 'U_c', 'U_c', 'U_c', 'U_c', 'U_c', 'U_c', 'U_c', 'U_c', 'U_c', 'U_c', 'U_c', 'U_c', 'U_c', 'U_c', 'U_c', 'U_c', 'U_c', 'U_c', 'U_c', 'U_c', 'U_c', 'U_c', 'U_c', 'U_c', 'U_c', 'U_c', 'U_c', 'U_c', 'U_c', 'U_c', 'U_c', 'U_c', 'U_c', 'U_c', 'U_c', 'U_c', 'U_c', 'U_c', 'U_c', 'U_c', 'U_c', 'U_c', 'U_c', 'U_c', 'U_c', 'U_c', 'U_c', 'U_c', 'U_c', 'U_c', 'U_c', 'U_c', 'U_c', 'U_c', 'U_c', 'U_c', 'U_c', 'U_c', 'U_c', 'U_c', 'U_c', 'U_c', 'U_c', 'U_c', 'U_c', 'U_c', 'U_c', 'U_c', 'U_c', 'U_c', 'U_c', 'U_c', 'U_c', 'U_c', 'U_c', 'U_c', 'U_c', 'U_c', 'U_c', 'U_c', 'U_c', 'U_c', 'U_c', 'U_c', 'U_c', 'U_c', 'U_c', 'U_c', 'U_c', 'U_c', 'U_c', 'U_c', 'U_c', 'U_c', 'U_c', 'U_c', 'U_c', 'U_c', 'U_c', 'U_c', 'U_c', 'U_c', 'U_c', 'U_c', 'U_c', 'U_c', 'U_c', 'U_c', 'U_c', 'U_c', 'U_c', 'U_c', 'U_c', 'U_c', 'U_c', 'U_c', 'U_c', 'U_c', 'U_c', 'U_c', 'U_c', 'U_c', 'U_c', 'U_c', 'U_c', 'U_c', 'U_c', 'U_c', 'U_c', 'U_c', 'U_c', 'U_c', 'U_c', 'U_c', 'U_c', 'U_c', 'U_c', 'U_c', 'U_c', 'U_c', 'U_c', 'U_c', 'U_c', 'U_c', 'U_c', 'U_c', 'U_c', 'U_c', 'U_c', 'U_c', 'U_c', 'U_c', 'U_c', 'U_c', 'U_c', 'U_c', 'U_c', 'U_c', 'U_c', 'U_c', 'U_c', 'U_c', 'U_c', 'U_c', 'U_c', 'U_c', 'U_c', 'U_c', 'U_c', 'U_c', 'U_c', 'U_c', 'U_c', 'U_c', 'U_c', 'U_c', 'U_c', 'U_c', 'U_c', 'U_c', 'U_c', 'U_c', 'U_c', 'U_c', 'U_c', 'U_c', 'U_c', 'U_c', 'U_c', 'U_c', 'U_c', 'U_c', 'U_c', 'U_c', 'U_c', 'U_c', 'U_c', 'U_c', 'U_c', 'U_c', 'U_c', 'U_c', 'U_c', 'U_c', 'U_c', 'U_c', 'U_c', 'U_c', 'U_c', 'U_c', 'U_c', 'U_c', 'U_c', 'U_c', 'U_c', 'U_c', 'U_c', 'U_c', 'U_c', 'U_c', 'U_c', 'U_c', 'U_c', 'U_c', 'U_c', 'U_c', 'U_c', 'U_c', 'U_c', 'U_c', 'U_c', 'U_c', 'U_c', 'U_c', 'U_c', 'U_c', 'U_c', 'U_c', 'U_c', 'U_c', 'U_c', 'U_c', 'U_c', 'U_c', 'U_c', 'U_c', 'U_c', 'U_c', 'U_c', 'U_c', 'U_c', 'U_c', 'U_c', 'U_c', 'U_c', 'U_c', 'U_c', 'U_c', 'U_c', 'U_c', 'U_c', 'U_c', 'U_c', 'U_c', 'U_c', 'U_c', 'U_c', 'U_c', 'U_c', 'U_c', 'U_c', 'U_c', 'U_c', 'U_c', 'U_c', 'U_c', 'U_c', 'U_c', 'U_c', 'U_c', 'U_c', 'U_c', 'U_c', 'U_c', 'U_c', 'U_c', 'U_c', 'U_c', 'U_c', 'U_c', 'U_c', 'U_c', 'U_c', 'U_c', 'U_c', 'U_c', 'U_c', 'U_c', 'U_c', 'U_c', 'U_c', 'U_c', 'U_c', 'U_c', 'U_c', 'U_c', 'U_c', 'U_c', 'U_c', 'U_c', 'U_c', 'U_c', 'U_c', 'U_c', 'U_c', 'U_c', 'U_c', 'U_c', 'U_c', 'U_c', 'U_c', 'U_c', 'U_c', 'U_c', 'U_c', 'U_c', 'U_c', 'U_c', 'U_c', 'U_c', 'U_c', 'U_c', 'U_c', 'U_c', 'U_c', 'U_c', 'U_c', 'U_c', 'U_c', 'U_c', 'U_c', 'U_c', 'U_c', 'U_c', 'U_c', 'U_c', 'U_c', 'U_c', 'U_c', 'U_c', 'U_c', 'U_c', 'U_c', 'U_c', 'U_c', 'U_c', 'U_c', 'U_c', 'U_c', 'U_c', 'U_c', 'U_c', 'U_c', 'U_c', 'U_c', 'U_c', 'U_c', 'U_c', 'U_c', 'U_c', 'U_c', 'U_c', 'U_c', 'U_c', 'U_c', 'U_c', 'U_c', 'U_c', 'U_c', 'U_c', 'U_c', 'U_c', 'U_c', 'U_c', 'U_c', 'U_c', 'U_c', 'U_c', 'U_c', 'U_c', 'U_c', 'U_c', 'U_c', 'U_c', 'U_c', 'U_c', 'U_c', 'U_c', 'U_c', 'U_c', 'U_c', 'U_c', 'U_c', 'U_c', 'U_c', 'U_c', 'U_c', 'U_c', 'U_c', 'U_c', 'U_c', 'U_c', 'U_c', 'U_c', 'U_c', 'U_c', 'U_c', 'U_c', 'U_c', 'U_c', 'U_c', 'U_c', 'U_c', 'U_c', 'U_c', 'U_c', 'U_c', 'U_c', 'U_c', 'U_c', 'U_c', 'U_c', 'U_c', 'U_c', 'U_c', 'U_c', 'U_c', 'U_c', 'U_c', 'U_c', 'U_c', 'U_c', 'U_c', 'U_c', 'U_c', 'U_c', 'U_c', 'U_c', 'U_c', 'U_c', 'U_c', 'U_c', 'U_c', 'U_c', 'U_c', 'U_c', 'U_c', 'U_c', 'U_c', 'U_c', 'U_c', 'U_c', 'U_c', 'U_c', 'U_c', 'U_c', 'U_c', 'U_c', 'U_c', 'U_c', 'U_c', 'U_c', 'U_c', 'U_c', 'U_c', 'U_c', 'U_c', 'U_c', 'U_c', 'U_c', 'U_c', 'U_c', 'U_c', 'U_c', 'U_c', 'U_c', 'U_c', 'U_c', 'U_c', 'U_c', 'U_c', 'U_c', 'U_c', 'U_c', 'U_c', 'U_c', 'U_c', 'U_c', 'U_c', 'U_c', 'U_c', 'U_c', 'U_c', 'U_c', 'U_c', 'U_c', 'U_c', 'U_c', 'U_c', 'U_c', 'U_c', 'U_c', 'U_c', 'U_c', 'U_c', 'U_c', 'U_c', 'U_c', 'U_c', 'U_c', 'U_c', 'U_c', 'U_c', 'U_c', 'U_c', 'U_c', 'U_c', 'U_c', 'U_c', 'U_c', 'U_c', 'U_c', 'U_c', 'U_c', 'U_c', 'U_c', 'U_c', 'U_c', 'U_c', 'U_c', 'U_c', 'U_c', 'U_c', 'U_c', 'U_c', 'U_c', 'U_c', 'U_c', 'U_c', 'U_c', 'U_c', 'U_c', 'U_c', 'U_c', 'U_c', 'U_c', 'U_c', 'U_c', 'U_c', 'U_c', 'U_c', 'U_c', 'U_c', 'U_c', 'U_c', 'U_c', 'U_c', 'U_c', 'U_c', 'U_c', 'U_c', 'U_c', 'U_c', 'U_c', 'U_c', 'U_c', 'U_c', 'U_c', 'U_c', 'U_c', 'U_c', 'U_c', 'U_c', 'U_c', 'U_c', 'U_c', 'U_c', 'U_c', 'U_c', 'U_c', 'U_c', 'U_c', 'U_c', 'U_c', 'U_c', 'U_c', 'U_c', 'U_c', 'U_c', 'U_c', 'U_c', 'U_c', 'U_c', 'U_c', 'U_c', 'U_c', 'U_c', 'U_c', 'U_c', 'U_c', 'U_c', 'U_c', 'U_c', 'U_c', 'U_c', 'U_c', 'U_c', 'U_c', 'U_c', 'U_c', 'U_c', 'U_c', 'U_c', 'U_c', 'U_c', 'U_c', 'U_c', 'U_c', 'U_c', 'U_c', 'U_c', 'U_c', 'U_c', 'U_c', 'U_c', 'U_c', 'U_c', 'U_c', 'U_c', 'U_c', 'U_c', 'U_c', 'U_c', 'U_c', 'U_c', 'U_c', 'U_c', 'U_c', 'U_c', 'U_c', 'U_c', 'U_c', 'U_c', 'U_c', 'U_c', 'U_c', 'U_c', 'U_c', 'U_c', 'U_c', 'U_c', 'U_c', 'U_c', 'U_c', 'U_c', 'U_c', 'U_c', 'U_c', 'U_c', 'U_c', 'U_c', 'U_c', 'U_c', 'U_c', 'U_c', 'U_c', 'U_c', 'U_c', 'U_c', 'U_c', 'U_c', 'U_c', 'U_c', 'U_c', 'U_c', 'U_c', 'U_c', 'U_c', 'U_c', 'U_c', 'U_c', 'U_c', 'U_c', 'U_c', 'U_c', 'U_c', 'U_c', 'U_c', 'U_c', 'U_c', 'U_c', 'U_c', 'U_c', 'U_c', 'U_c', 'U_c', 'U_c', 'U_c', 'U_c', 'U_c', 'U_c', 'U_c', 'U_c', 'U_c', 'U_c', 'U_c', 'U_c', 'U_c', 'U_c', 'U_c', 'U_c', 'U_c', 'U_c', 'U_c', 'U_c', 'U_c', 'U_c', 'U_c', 'U_c', 'U_c', 'U_c', 'U_c', 'U_c', 'U_c', 'U_c', 'U_c', 'U_c', 'U_c', 'U_c', 'U_c', 'U_c', 'U_c', 'U_c', 'U_c', 'U_c', 'U_c', 'U_c', 'U_c', 'U_c', 'U_c', 'U_c', 'U_c', 'U_c', 'U_c', 'U_c', 'U_c', 'U_c', 'U_c', 'U_c', 'U_c', 'U_c', 'U_c', 'U_c', 'U_c', 'U_c', 'U_c', 'U_c', 'U_c', 'U_c', 'U_c', 'U_c', 'U_c', 'U_c', 'U_c', 'U_c', 'U_c', 'U_c', 'U_c', 'U_c', 'U_c', 'U_c', 'U_c', 'U_c', 'U_c', 'U_c', 'U_c', 'U_c', 'U_c', 'U_c', 'U_c', 'U_c', 'U_c', 'U_c', 'U_c', 'U_c', 'U_c', 'U_c', 'U_c', 'U_c', 'U_c', 'U_c', 'U_c', 'U_c', 'U_c', 'U_c', 'U_c', 'U_c', 'U_c', 'U_c', 'U_c', 'U_c', 'U_c', 'U_c', 'U_c', 'U_c', 'U_c', 'U_c', 'U_c', 'U_c', 'U_c', 'U_c', 'U_c', 'U_c', 'U_c', 'U_c', 'U_c', 'U_c', 'U_c', 'U_c', 'U_c', 'U_c', 'U_c', 'U_c', 'U_c', 'U_c', 'U_c', 'U_c', 'U_c', 'U_c', 'U_c', 'U_c', 'U_c', 'U_c', 'U_c', 'U_c', 'U_c', 'U_c', 'U_c', 'U_c', 'U_c', 'U_c', 'U_c', 'U_c', 'U_c', 'U_c', 'U_c', 'U_c', 'U_c', 'U_c', 'U_c', 'U_c', 'U_c', 'U_c', 'U_c', 'U_c', 'U_c', 'U_c', 'U_c', 'U_c', 'U_c', 'U_c', 'U_c', 'U_c', 'U_c', 'U_c', 'U_c', 'U_c', 'U_c', 'U_c', 'U_c', 'U_c', 'U_c', 'U_c', 'U_c', 'U_c', 'U_c', 'U_c', 'U_c', 'U_c', 'U_c', 'U_c', 'U_c', 'U_c', 'U_c', 'U_c', 'U_c', 'U_c', 'U_c', 'U_c', 'U_c', 'U_c', 'U_c', 'U_c', 'U_c', 'U_c', 'U_c', 'U_c', 'U_c', 'U_c', 'U_c', 'U_c', 'U_c', 'U_c', 'U_c', 'U_c', 'U_c', 'U_c', 'U_c', 'U_c', 'U_c', 'U_c', 'U_c', 'U_c', 'U_c', 'U_c', 'U_c', 'U_c', 'U_c', 'U_c', 'U_c', 'U_c', 'U_c', 'U_c', 'U_c', 'U_c', 'U_c', 'U_c', 'U_c', 'U_c', 'U_c', 'U_c', 'U_c', 'U_c', 'U_c', 'U_c', 'U_c', 'U_c', 'U_c', 'U_c', 'U_c', 'U_c', 'U_c', 'U_c', 'U_c', 'U_c', 'U_c', 'U_c', 'U_c', 'U_c', 'U_c', 'U_c', 'U_c', 'U_c', 'U_c', 'U_c', 'U_c', 'U_c', 'U_c', 'U_c', 'U_c', 'U_c', 'U_c', 'U_c', 'U_c', 'U_c', 'U_c', 'U_c', 'U_c', 'U_c', 'U_c', 'U_c', 'U_c', 'U_c', 'U_c', 'U_c', 'U_c', 'U_c', 'U_c', 'U_c', 'U_c', 'U_c', 'U_c', 'U_c', 'U_c', 'U_c', 'U_c', 'U_c', 'U_c', 'U_c', 'U_c', 'U_c', 'U_c', 'U_c', 'U_c', 'U_c', 'U_c', 'U_c', 'U_c', 'U_c', 'U_c', 'U_c', 'U_c', 'U_c', 'U_c', 'U_c', 'U_c', 'U_c', 'U_c', 'U_c', 'U_c', 'U_c', 'U_c', 'U_c', 'U_c', 'U_c', 'U_c', 'U_c', 'U_c', 'U_c', 'U_c', 'U_c', 'U_c', 'U_c', 'U_c', 'U_c', 'U_c', 'U_c', 'U_c', 'U_c', 'U_c', 'U_c', 'U_c', 'U_c', 'U_c', 'U_c', 'U_c', 'U_c', 'U_c', 'U_c', 'U_c', 'U_c', 'U_c', 'U_c', 'U_c', 'U_c', 'U_c', 'U_c', 'U_c', 'U_c', 'U_c', 'U_c', 'U_c', 'U_c', 'U_c', 'U_c', 'U_c', 'U_c', 'U_c', 'U_c', 'U_c', 'U_c', 'U_c', 'U_c', 'U_c', 'U_c', 'U_c', 'U_c', 'U_c', 'U_c', 'U_c', 'U_c', 'U_c', 'U_c', 'U_c', 'U_c', 'U_c', 'U_c', 'U_c', 'U_c', 'U_c', 'U_c', 'U_c', 'U_c', 'U_c', 'U_c', 'U_c', 'U_c', 'U_c', 'U_c', 'U_c', 'U_c', 'U_c', 'U_c', 'U_c', 'U_c', 'U_c', 'U_c', 'U_c', 'U_c', 'U_c', 'U_c', 'U_c', 'U_c', 'U_c', 'U_c', 'U_c', 'U_c', 'U_c', 'U_c', 'U_c', 'U_c', 'U_c', 'U_c', 'U_c', 'U_c', 'U_c', 'U_c', 'U_c', 'U_c', 'U_c', 'U_c', 'U_c', 'U_c', 'U_c', 'U_c', 'U_c', 'U_c', 'U_c', 'U_c', 'U_c', 'U_c', 'U_c', 'U_c', 'U_c', 'U_c', 'U_c', 'U_c', 'U_c', 'U_c', 'U_c', 'U_c', 'U_c', 'U_c', 'U_c', 'U_c', 'U_c', 'U_c', 'U_c', 'U_c', 'U_c', 'U_c', 'U_c', 'U_c', 'U_c', 'U_c', 'U_c', 'U_c', 'U_c', 'U_c', 'U_c', 'U_c', 'U_c', 'U_c', 'U_c', 'U_c', 'U_c', 'U_c', 'U_c', 'U_c', 'U_c', 'U_c', 'U_c', 'U_c', 'U_c', 'U_c', 'U_c', 'U_c', 'U_c', 'U_c', 'U_c', 'U_c', 'U_c', 'U_c', 'U_c', 'U_c', 'U_c', 'U_c', 'U_c', 'U_c', 'U_c', 'U_c', 'U_c', 'U_c', 'U_c', 'U_c', 'U_c', 'U_c', 'U_c', 'U_c', 'U_c', 'U_c', 'U_c', 'U_c', 'U_c', 'U_c', 'U_c', 'U_c', 'U_c', 'U_c', 'U_c', 'U_c', 'U_c', 'U_c', 'U_c', 'U_c', 'U_c', 'U_c', 'U_c', 'U_c', 'U_c', 'U_c', 'U_c', 'U_c', 'U_c', 'U_c', 'U_c', 'U_c', 'U_c', 'U_c', 'U_c', 'U_c', 'U_c', 'U_c', 'U_c', 'U_c', 'U_c', 'U_c', 'U_c', 'U_c', 'U_c', 'U_c', 'U_c', 'U_c', 'U_c', 'U_c', 'U_c', 'U_c', 'U_c', 'U_c', 'U_c', 'U_c', 'U_c', 'U_c', 'U_c', 'U_c', 'U_c', 'U_c', 'U_c', 'U_c', 'U_c', 'U_c', 'U_c', 'U_c', 'U_c', 'U_c', 'U_c', 'U_c', 'U_c', 'U_c', 'U_c', 'U_c', 'U_c', 'U_c', 'U_c', 'U_c', 'U_c', 'U_c', 'U_c', 'U_c', 'U_c', 'U_c', 'U_c', 'U_c', 'U_c', 'U_c', 'U_c', 'U_c', 'U_c', 'U_c', 'U_c', 'U_c', 'U_c', 'U_c', 'U_c', 'U_c', 'U_c', 'U_c', 'U_c', 'U_c', 'U_c', 'U_c', 'U_c', 'U_c', 'U_c', 'U_c', 'U_c', 'U_c', 'U_c', 'U_c', 'U_c', 'U_c', 'U_c', 'U_c', 'U_c', 'U_c', 'U_c', 'U_c', 'U_c', 'U_c', 'U_c', 'U_c', 'U_c', 'U_c', 'U_c', 'U_c', 'U_c', 'U_c', 'U_c', 'U_c', 'U_c', 'U_c', 'U_c', 'U_c', 'U_c', 'U_c', 'U_c', 'U_c', 'U_c', 'U_c', 'U_c', 'U_c', 'U_c', 'U_c', 'U_c', 'U_c', 'U_c', 'U_c', 'U_c', 'U_c', 'U_c', 'U_c', 'U_c', 'U_c', 'U_c', 'U_c', 'U_c', 'U_c', 'U_c', 'U_c', 'U_c', 'U_c', 'U_c', 'U_c', 'U_c', 'U_c', 'U_c', 'U_c', 'U_c', 'U_c', 'U_c', 'U_c', 'U_c', 'U_c', 'U_c', 'U_c', 'U_c', 'U_c', 'U_c', 'U_c', 'U_c', 'U_c', 'U_c', 'U_c', 'U_c', 'U_c', 'U_c', 'U_c', 'U_c', 'U_c', 'U_c', 'U_c', 'U_c', 'U_c', 'U_c', 'U_c', 'U_c', 'U_c', 'U_c', 'U_c', 'U_c', 'U_c', 'U_c', 'U_c', 'U_c', 'U_c', 'U_c', 'U_c', 'U_c', 'U_c', 'U_c', 'U_c', 'U_c', 'U_c', 'U_c', 'U_c', 'U_c', 'U_c', 'U_c', 'U_c', 'U_c', 'U_c', 'U_c', 'U_c', 'U_c', 'U_c', 'U_c', 'U_c', 'U_c', 'U_c', 'U_c', 'U_c', 'U_c', 'U_c', 'U_c', 'U_c', 'U_c', 'U_c', 'U_c', 'U_c', 'U_c', 'U_c', 'U_c', 'U_c', 'U_c', 'U_c', 'U_c', 'U_c', 'U_c', 'U_c', 'U_c', 'U_c', 'U_c', 'U_c', 'U_c', 'U_c', 'U_c', 'U_c', 'U_c', 'U_c', 'U_c', 'U_c', 'U_c', 'U_c', 'U_c', 'U_c', 'U_c', 'U_c', 'U_c', 'U_c', 'U_c', 'U_c', 'U_c', 'U_c', 'U_c', 'U_c', 'U_c', 'U_c', 'U_c', 'U_c', 'U_c', 'U_c', 'U_c', 'U_c', 'U_c', 'U_c', 'U_c', 'U_c', 'U_c', 'U_c', 'U_c', 'U_c', 'U_c', 'U_c', 'U_c', 'U_c', 'U_c', 'U_c', 'U_c', 'U_c', 'U_c', 'U_c', 'U_c', 'U_c', 'U_c', 'U_c', 'U_c', 'U_c', 'U_c', 'U_c', 'U_c', 'U_c', 'U_c', 'U_c', 'U_c', 'U_c', 'U_c', 'U_c', 'U_c', 'U_c', 'U_c', 'U_c', 'U_c', 'U_c', 'U_c', 'U_c', 'U_c', 'U_c', 'U_c', 'U_c', 'U_c', 'U_c', 'U_c', 'U_c', 'U_c', 'U_c', 'U_c', 'U_c', 'U_c', 'U_c', 'U_c', 'U_c', 'U_c', 'U_c', 'U_c', 'U_c', 'U_c', 'U_c', 'U_c', 'U_c', 'U_c', 'U_c', 'U_c', 'U_c', 'U_c', 'U_c', 'U_c', 'U_c', 'U_c', 'U_c', 'U_c', 'U_c', 'U_c', 'U_c', 'U_c', 'U_c', 'U_c', 'U_c', 'U_c', 'U_c', 'U_c', 'U_c', 'U_c', 'U_c', 'U_c', 'U_c', 'U_c', 'U_c', 'U_c', 'U_c', 'U_c', 'U_c', 'U_c', 'U_c', 'U_c', 'U_c', 'U_c', 'U_c', 'U_c', 'U_c', 'U_c', 'U_c', 'U_c', 'U_c', 'U_c', 'U_c', 'U_c', 'U_c', 'U_c', 'U_c', 'U_c', 'U_c', 'U_c', 'U_c', 'U_c', 'U_c', 'U_c', 'U_c', 'U_c', 'U_c', 'U_c', 'U_c', 'U_c', 'U_c', 'U_c', 'U_c', 'U_c', 'U_c', 'U_c', 'U_c', 'U_c', 'U_c', 'U_c', 'U_c', 'U_c', 'U_c', 'U_c', 'U_c', 'U_c', 'U_c', 'U_c', 'U_c', 'U_c', 'U_c', 'U_c', 'U_c', 'U_c', 'U_c', 'U_c', 'U_c', 'U_c', 'U_c', 'U_c', 'U_c', 'U_c', 'U_c', 'U_c', 'U_c', 'U_c', 'U_c', 'U_c', 'U_c', 'U_c', 'U_c', 'U_c', 'U_c', 'U_c', 'U_c', 'U_c', 'U_c', 'U_c', 'U_c', 'U_c', 'U_c', 'U_c', 'U_c', 'U_c', 'U_c', 'U_c', 'U_c', 'U_c', 'U_c', 'U_c', 'U_c', 'U_c', 'U_c', 'U_c', 'U_c', 'U_c', 'U_c', 'U_c', 'U_c', 'U_c', 'U_c', 'U_c', 'U_c', 'U_c', 'U_c', 'U_c', 'U_c', 'U_c', 'U_c', 'U_c', 'U_c', 'U_c', 'U_c', 'U_c', 'U_c', 'U_c', 'U_c', 'U_c', 'U_c', 'U_c', 'U_c', 'U_c', 'U_c', 'U_c', 'U_c', 'U_c', 'U_c', 'U_c', 'U_c', 'U_c', 'U_c', 'U_c', 'U_c', 'U_c', 'U_c', 'U_c', 'U_c', 'U_c', 'U_c', 'U_c', 'U_c', 'U_c', 'U_c', 'U_c', 'U_c', 'U_c', 'U_c', 'U_c', 'U_c', 'U_c', 'U_c', 'U_c', 'U_c', 'U_c', 'U_c', 'U_c', 'U_c', 'U_c', 'U_c', 'U_c', 'U_c', 'U_c', 'U_c', 'U_c', 'U_c', 'U_c', 'U_c', 'U_c', 'U_c', 'U_c', 'U_c', 'U_c', 'U_c', 'U_c', 'U_c', 'U_c', 'U_c', 'U_c', 'U_c', 'U_c', 'U_c', 'U_c', 'U_c', 'U_c', 'U_c', 'U_c', 'U_c', 'U_c', 'U_c', 'U_c', 'U_c', 'U_c', 'U_c', 'U_c', 'U_c', 'U_c', 'U_c', 'U_c', 'U_c', 'U_c', 'U_c', 'U_c', 'U_c', 'U_c', 'U_c', 'U_c', 'U_c', 'U_c', 'U_c', 'U_c', 'U_c', 'U_c', 'U_c', 'U_c', 'U_c', 'U_c', 'U_c', 'U_c', 'U_c', 'U_c', 'U_c', 'U_c', 'U_c', 'U_c', 'U_c', 'U_c', 'U_c', 'U_c', 'U_c', 'U_c', 'U_c', 'U_c', 'U_c', 'U_c', 'U_c', 'U_c', 'U_c', 'U_c', 'U_c', 'U_c', 'U_c', 'U_c', 'U_c', 'U_c', 'U_c', 'U_c', 'U_c', 'U_c', 'U_c', 'U_c', 'U_c', 'U_c', 'U_c', 'U_c', 'U_c', 'U_c', 'U_c', 'U_c', 'U_c', 'U_c', 'U_c', 'U_c', 'U_c', 'U_c', 'U_c', 'U_c', 'U_c', 'U_c', 'U_c', 'U_c', 'U_c', 'U_c', 'U_c', 'U_c', 'U_c', 'U_c', 'U_c', 'U_c', 'U_c', 'U_c', 'U_c', 'U_c', 'U_c', 'U_c', 'U_c', 'U_c', 'U_c', 'U_c', 'U_c', 'U_c', 'U_c', 'U_c', 'U_c', 'U_c', 'U_c', 'U_c', 'U_c', 'U_c', 'U_c', 'U_c', 'U_c', 'U_c', 'U_c', 'U_c', 'U_c', 'U_c', 'U_c', 'U_c', 'U_c', 'U_c', 'U_c', 'U_c', 'U_c', 'U_c', 'U_c', 'U_c', 'U_c', 'U_c', 'U_c', 'U_c', 'U_c', 'U_c', 'U_c', 'U_c', 'U_c', 'U_c', 'U_c', 'U_c', 'U_c', 'U_c', 'U_c', 'U_c', 'U_c', 'U_c', 'U_c', 'U_c', 'U_c', 'U_c', 'U_c', 'U_c', 'U_c', 'U_c', 'U_c', 'U_c', 'U_c', 'U_c', 'U_c', 'U_c', 'U_c', 'U_c', 'U_c', 'U_c', 'U_c', 'U_c', 'U_c', 'U_c', 'U_c', 'U_c', 'U_c', 'U_c', 'U_c', 'U_c', 'U_c', 'U_c', 'U_c', 'U_c', 'U_c', 'U_c', 'U_c', 'U_c', 'U_c', 'U_c', 'U_c', 'U_c', 'U_c', 'U_c', 'U_c', 'U_c', 'U_c', 'U_c', 'U_c', 'U_c', 'U_c', 'U_c', 'U_c', 'U_c', 'U_c', 'U_c', 'U_c', 'U_c', 'U_c', 'U_c', 'U_c', 'U_c', 'U_c', 'U_c', 'U_c', 'U_c', 'U_c', 'U_c', 'U_c', 'U_c', 'U_c', 'U_c', 'U_c', 'U_c', 'U_c', 'U_c', 'U_c', 'U_c', 'U_c', 'U_c', 'U_c', 'U_c', 'U_c', 'U_c', 'U_c', 'U_c', 'U_c', 'U_c', 'U_c', 'U_c', 'U_c', 'U_c', 'U_c', 'U_c', 'U_c', 'U_c', 'U_c', 'U_c', 'U_c', 'U_c', 'U_c', 'U_c', 'U_c', 'U_c', 'U_c', 'U_c', 'U_c', 'U_c', 'U_c', 'U_c', 'U_c', 'U_c', 'U_c', 'U_c', 'U_c', 'U_c', 'U_c', 'U_c', 'U_c', 'U_c', 'U_c', 'U_c', 'U_c', 'U_c', 'U_c', 'U_c', 'U_c', 'U_c', 'U_c', 'U_c', 'U_c', 'U_c', 'U_c', 'U_c', 'U_c', 'U_c', 'U_c', 'U_c', 'U_c', 'U_c', 'U_c', 'U_c', 'U_c', 'U_c', 'U_c', 'U_c', 'U_c', 'U_c', 'U_c', 'U_c', 'U_c', 'U_c', 'U_c', 'U_c', 'U_c', 'U_c', 'U_c', 'U_c', 'U_c', 'U_c', 'U_c', 'U_c', 'U_c', 'U_c', 'U_c', 'U_c', 'U_c', 'U_c', 'U_c', 'U_c', 'U_c', 'U_c', 'U_c', 'U_c', 'U_c', 'U_c', 'U_c', 'U_c', 'U_c', 'U_c', 'U_c', 'U_c', 'U_c', 'U_c', 'U_c', 'U_c', 'U_c', 'U_c', 'U_c', 'U_c', 'U_c', 'U_c', 'U_c', 'U_c', 'U_c', 'U_c', 'U_c', 'U_c', 'U_c', 'U_c', 'U_c', 'U_c', 'U_c', 'U_c', 'U_c', 'U_c', 'U_c', 'U_c', 'U_c', 'U_c', 'U_c', 'U_c', 'U_c', 'U_c', 'U_c', 'U_c', 'U_c', 'U_c', 'U_c', 'U_c', 'U_c', 'U_c', 'U_c', 'U_c', 'U_c', 'U_c', 'U_c', 'U_c', 'U_c', 'U_c', 'U_c', 'U_c', 'U_c', 'U_c', 'U_c', 'U_c', 'U_c', 'U_c', 'U_c', 'U_c', 'U_c', 'U_c', 'U_c', 'U_c', 'U_c', 'U_c', 'U_c', 'U_c', 'U_c', 'U_c', 'U_c', 'U_c', 'U_c', 'U_c', 'U_c', 'U_c', 'U_c', 'U_c', 'U_c', 'U_c', 'U_c', 'U_c', 'U_c', 'U_c', 'U_c', 'U_c', 'U_c', 'U_c', 'U_c', 'U_c', 'U_c', 'U_c', 'U_c', 'U_c', 'U_c', 'U_c', 'U_c', 'U_c', 'U_c', 'U_c', 'U_c', 'U_c', 'U_c', 'U_c', 'U_c', 'U_c', 'U_c', 'U_c', 'U_c', 'U_c', 'U_c', 'U_c', 'U_c', 'U_c', 'U_c', 'U_c', 'U_c', 'U_c', 'U_c', 'U_c', 'U_c', 'U_c', 'U_c', 'U_c', 'U_c', 'U_c', 'U_c', 'U_c', 'U_c', 'U_c', 'U_c', 'U_c', 'U_c', 'U_c', 'U_c', 'U_c', 'U_c', 'U_c', 'U_c', 'U_c', 'U_c', 'U_c', 'U_c', 'U_c', 'U_c', 'U_c', 'U_c', 'U_c', 'U_c', 'U_c', 'U_c', 'U_c', 'U_c', 'U_c', 'U_c', 'U_c', 'U_c', 'U_c', 'U_c', 'U_c', 'U_c', 'U_c', 'U_c', 'U_c', 'U_c', 'U_c', 'U_c', 'U_c', 'U_c', 'U_c', 'U_c', 'U_c', 'U_c', 'U_c', 'U_c', 'U_c', 'U_c', 'U_c', 'U_c', 'U_c', 'U_c', 'U_c', 'U_c', 'U_c', 'U_c', 'U_c', 'U_c', 'U_c', 'U_c', 'U_c', 'U_c', 'U_c', 'U_c', 'U_c', 'U_c', 'U_c', 'U_c', 'U_c', 'U_c', 'U_c', 'U_c', 'U_c', 'U_c', 'U_c', 'U_c', 'U_c', 'U_c', 'U_c', 'U_c', 'U_c', 'U_c', 'U_c', 'U_c', 'U_c', 'U_c', 'U_c', 'U_c', 'U_c', 'U_c', 'U_c', 'U_c', 'U_c', 'U_c', 'U_c', 'U_c', 'U_c', 'U_c', 'U_c', 'U_c', 'U_c', 'U_c', 'U_c', 'U_c', 'U_c', 'U_c', 'U_c', 'U_c', 'U_c', 'U_c', 'U_c', 'U_c', 'U_c', 'U_c', 'U_c', 'U_c', 'U_c', 'U_c', 'U_c', 'U_c', 'U_c', 'U_c', 'U_c', 'U_c', 'U_c', 'U_c', 'U_c', 'U_c', 'U_c', 'U_c', 'U_c', 'U_c', 'U_c', 'U_c', 'U_c', 'U_c', 'U_c', 'U_c', 'U_c', 'U_c', 'U_c', 'U_c', 'U_c', 'U_c', 'U_c', 'U_c', 'U_c', 'U_c', 'U_c', 'U_c', 'U_c', 'U_c', 'U_c', 'U_c', 'U_c', 'U_c', 'U_c', 'U_c', 'U_c', 'U_c', 'U_c', 'U_c', 'U_c', 'U_c', 'U_c', 'U_c', 'U_c', 'U_c', 'U_c', 'U_o', 'U_o', 'U_o', 'U_o', 'U_o', 'U_o', 'U_o', 'U_o', 'U_o', 'U_o', 'U_o', 'U_o', 'U_o', 'U_o', 'U_o', 'U_o', 'U_o', 'U_o', 'U_o', 'U_o', 'U_o', 'U_o', 'U_o', 'U_o', 'U_o', 'U_o', 'U_o', 'U_o', 'U_o', 'U_o', 'U_o', 'U_o', 'U_o', 'U_o', 'U_o', 'U_o', 'U_o', 'U_o', 'U_o', 'U_o', 'U_o', 'U_o', 'U_o', 'U_o', 'U_o', 'U_o', 'U_o', 'U_o', 'U_o', 'U_o', 'U_o', 'U_o', 'U_o', 'U_o', 'U_o', 'U_o', 'U_o', 'U_o', 'U_o', 'U_o', 'U_o', 'U_o', 'U_o', 'U_o', 'U_o', 'U_o', 'U_o', 'U_o', 'U_o', 'U_o', 'U_o', 'U_o', 'U_o', 'U_o', 'U_o', 'U_o', 'U_o', 'U_o', 'U_o', 'U_o', 'U_o', 'U_o', 'U_o', 'U_o', 'U_o', 'U_o', 'U_o', 'U_o', 'U_o', 'U_o', 'U_o', 'U_o', 'U_o', 'U_o', 'U_o', 'U_o', 'U_o', 'U_o', 'U_o', 'U_o', 'U_o', 'U_o', 'U_o', 'U_o', 'U_o', 'U_o', 'U_o', 'U_o', 'U_o', 'U_o', 'U_o', 'U_o', 'U_o', 'U_o', 'U_o', 'U_o', 'U_o', 'U_o', 'U_o', 'U_o', 'U_o', 'U_o', 'U_o', 'U_o', 'U_o', 'U_o', 'U_o', 'U_o', 'U_o', 'U_o', 'U_o', 'U_o', 'U_o', 'U_o', 'U_o', 'U_o', 'U_o', 'U_o', 'U_o', 'U_o', 'U_o', 'U_o', 'U_o', 'U_o', 'U_o', 'U_o', 'U_o', 'U_o', 'U_o', 'U_o', 'U_o', 'U_o', 'U_o', 'U_o', 'U_o', 'U_o', 'U_o', 'U_o', 'U_o', 'U_o', 'U_o', 'U_o', 'U_o', 'U_o', 'U_o', 'U_o', 'U_o', 'U_o', 'U_o', 'U_o', 'U_o', 'U_o', 'U_o', 'U_o', 'U_o', 'U_o', 'U_o', 'U_o', 'U_o', 'U_o', 'U_o', 'U_o', 'U_o', 'U_o', 'U_o', 'U_o', 'U_o', 'U_o', 'U_o', 'U_o', 'U_o', 'U_o', 'U_o', 'U_o', 'U_o', 'U_o', 'U_o', 'U_o', 'U_o', 'U_o', 'U_o', 'U_o', 'U_o', 'U_o', 'U_o', 'U_o', 'U_o', 'U_o', 'U_o', 'U_o', 'U_o', 'U_o', 'U_o', 'U_o', 'U_o', 'U_o', 'U_o', 'U_o', 'U_o', 'U_o', 'U_o', 'U_o', 'U_o', 'U_o', 'U_o', 'U_o', 'U_o', 'U_o', 'U_o', 'U_o', 'U_o', 'U_o', 'U_o', 'U_o', 'U_o', 'U_o', 'U_o', 'U_o', 'U_o', 'U_o', 'U_o', 'U_o', 'U_o', 'U_o', 'U_o', 'U_o', 'U_o', 'U_o', 'U_o', 'U_o', 'U_o', 'U_o', 'U_o', 'U_o', 'U_o', 'U_o', 'U_o', 'U_o', 'U_o', 'U_o', 'U_o', 'U_o', 'U_o', 'U_o', 'U_o', 'U_o', 'U_o', 'U_o', 'U_o', 'U_o', 'U_o', 'U_o', 'U_o', 'U_o', 'U_o', 'U_o', 'U_o', 'U_o', 'U_o', 'U_o', 'U_o', 'U_o', 'U_o', 'U_o', 'U_o', 'U_o', 'U_o', 'U_o', 'U_o', 'U_o', 'U_o', 'U_o', 'U_o', 'U_o', 'U_o', 'U_o', 'U_o', 'U_o', 'U_o', 'U_o', 'U_o', 'U_o', 'U_o', 'U_o', 'U_o', 'U_o', 'U_o', 'U_o', 'U_o', 'U_o', 'U_o', 'U_o', 'U_o', 'U_o', 'U_o', 'U_o', 'U_o', 'U_o', 'U_o', 'U_o', 'U_o', 'U_o', 'U_o', 'U_o', 'U_o', 'U_o', 'U_o', 'U_o', 'U_o', 'U_o', 'U_o', 'U_o', 'U_o', 'U_o', 'U_o', 'U_o', 'U_o', 'U_o', 'U_o', 'U_o', 'U_o', 'U_o', 'U_o', 'U_o', 'U_o', 'U_o', 'U_o', 'U_o', 'U_o', 'U_o', 'U_o', 'U_o', 'U_o', 'U_o', 'U_o', 'U_o', 'U_o', 'U_o', 'U_o', 'U_o', 'U_o', 'U_o', 'U_o', 'U_o', 'U_o', 'U_o', 'U_o', 'U_o', 'U_o', 'U_o', 'U_o', 'U_o', 'U_o', 'U_o', 'U_o', 'U_o', 'U_o', 'U_o', 'U_o', 'U_o', 'U_o', 'U_o', 'U_o', 'U_o', 'U_o', 'U_o', 'U_o', 'U_o', 'U_o', 'U_o', 'U_o', 'U_o', 'U_o', 'U_o', 'U_o', 'U_o', 'U_o', 'U_o', 'U_o', 'U_o', 'U_o', 'U_o', 'U_o', 'U_o', 'U_o', 'U_o', 'U_o', 'U_o', 'U_o', 'U_o', 'U_o', 'U_o', 'U_o', 'U_o', 'U_o', 'U_o', 'U_o', 'U_o', 'U_o', 'U_o', 'U_o', 'U_o', 'U_o', 'U_o', 'U_o', 'U_o', 'U_o', 'U_o', 'U_o', 'U_o', 'U_o', 'U_o', 'U_o', 'U_o', 'U_o', 'U_o', 'U_o', 'U_o', 'U_o', 'U_o', 'U_o', 'U_o', 'U_o', 'U_o', 'U_o', 'U_o', 'U_o', 'U_o', 'U_o', 'U_o', 'U_o', 'U_o', 'U_o', 'U_o', 'U_o', 'U_o', 'U_o', 'U_o', 'U_o', 'U_o', 'U_o', 'U_o', 'U_o', 'U_o', 'U_o', 'U_o', 'U_o', 'U_o', 'U_o', 'U_o', 'U_o', 'U_o', 'U_o', 'U_o', 'U_o', 'U_o', 'U_o', 'U_o', 'U_o', 'U_o', 'U_o', 'U_o', 'U_o', 'U_o', 'U_o', 'U_o', 'U_o', 'U_o', 'U_o', 'U_o', 'U_o', 'U_o', 'U_o', 'U_o', 'U_o', 'U_o', 'U_o', 'U_o', 'U_o', 'U_o', 'U_o', 'U_o', 'U_o', 'U_o', 'U_o', 'U_o', 'U_o', 'U_o', 'U_o', 'U_o', 'U_o', 'U_o', 'U_o', 'U_o', 'U_o', 'U_o', 'U_o', 'U_o', 'U_o', 'U_o', 'U_o', 'U_o', 'U_o', 'U_o', 'U_o', 'U_o', 'U_o', 'U_o', 'U_o', 'U_o', 'U_o', 'U_o', 'U_o', 'U_o', 'U_o', 'U_o', 'U_o', 'U_o', 'U_o', 'U_o', 'U_o', 'U_o', 'U_o', 'U_o', 'U_o', 'U_o', 'U_o', 'U_o', 'U_o', 'U_o', 'U_o', 'U_o', 'U_o', 'U_o', 'U_o', 'U_o', 'U_o', 'U_o', 'U_o', 'U_o', 'U_o', 'U_o', 'U_o', 'U_o', 'U_o', 'U_o', 'U_o', 'U_o', 'U_o', 'U_o', 'U_o', 'U_o', 'U_o', 'U_o', 'U_o', 'U_o', 'U_o', 'U_o', 'U_o', 'U_o', 'U_o', 'U_o', 'U_o', 'U_o', 'U_o', 'U_o', 'U_o', 'U_o', 'U_o', 'U_o', 'U_o', 'U_o', 'U_o', 'U_o', 'U_o', 'U_o', 'U_o', 'U_o', 'U_o', 'U_o', 'U_o', 'U_o', 'U_o', 'U_o', 'U_o', 'U_o', 'U_o', 'U_o', 'U_o', 'U_o', 'U_o', 'U_o', 'U_o', 'U_o', 'U_o', 'U_o', 'U_o', 'U_o', 'U_o', 'U_o', 'U_o', 'U_o', 'U_o', 'U_o', 'U_o', 'U_o', 'U_o', 'U_o', 'U_o', 'U_o', 'U_o', 'U_o', 'U_o', 'U_o', 'U_o', 'U_o', 'U_o', 'U_o', 'U_o', 'U_o', 'U_o', 'U_o', 'U_o', 'U_o', 'U_o', 'U_o', 'U_o', 'U_o', 'U_o', 'U_o', 'U_o', 'U_o', 'U_o', 'U_o', 'U_o', 'U_o', 'U_o', 'U_o', 'U_o', 'U_o', 'U_o', 'U_o', 'U_o', 'U_o', 'U_o', 'U_o', 'U_o', 'U_o', 'U_o', 'U_o', 'U_o', 'U_o', 'U_o', 'U_o', 'U_o', 'U_o', 'U_o', 'U_o', 'U_o', 'U_o', 'U_o', 'U_o', 'U_o', 'U_o', 'U_o', 'U_o', 'U_o', 'U_o', 'U_o', 'U_o', 'U_o', 'U_o', 'U_o', 'U_o', 'U_o', 'U_o', 'U_o', 'U_o', 'U_o', 'U_o', 'U_o', 'U_o', 'U_o', 'U_o', 'U_o', 'U_o', 'U_o', 'U_o', 'U_o', 'U_o', 'U_o', 'U_o', 'U_o', 'U_o', 'U_o', 'U_o', 'U_o', 'U_o', 'U_o', 'U_o', 'U_o', 'U_o', 'U_o', 'U_o', 'U_o', 'U_o', 'U_o', 'U_o', 'U_o', 'U_o', 'U_o', 'U_o', 'U_o', 'U_o', 'U_o', 'U_o', 'U_o', 'U_o', 'U_o', 'U_o', 'U_o', 'U_o', 'U_o', 'U_o', 'U_o', 'U_o', 'U_o', 'U_o', 'U_o', 'U_o', 'U_o', 'U_o', 'U_o', 'U_o', 'U_o', 'U_o', 'U_o', 'U_o', 'U_o', 'U_o', 'U_o', 'U_o', 'U_o', 'U_o', 'U_o', 'U_o', 'U_o', 'U_o', 'U_o', 'U_o', 'U_o', 'U_o', 'U_o', 'U_o', 'U_o', 'U_o', 'U_o', 'U_o', 'U_o', 'U_o', 'U_o', 'U_o', 'U_o', 'U_o', 'U_o', 'U_o', 'U_o', 'U_o', 'U_o', 'U_o', 'U_o', 'U_o', 'U_o', 'U_o', 'U_o', 'U_o', 'U_o', 'U_o', 'U_o', 'U_o', 'U_o', 'U_o', 'U_o', 'U_o', 'U_o', 'U_o', 'U_o', 'U_o', 'U_o', 'U_o', 'U_o', 'U_o', 'U_o', 'U_o', 'U_o', 'U_o', 'U_o', 'U_o', 'U_o', 'U_o', 'U_o', 'U_o', 'U_o', 'U_o', 'U_o', 'U_o', 'U_o', 'U_o', 'U_o', 'U_o', 'U_o', 'U_o', 'U_o', 'U_o', 'U_o', 'U_o', 'U_o', 'U_o', 'U_o', 'U_o', 'U_o', 'U_o', 'U_o', 'U_o', 'U_o', 'U_o', 'U_o', 'U_o', 'U_o', 'U_o', 'U_o', 'U_o', 'U_o', 'U_o', 'U_o', 'U_o', 'U_o', 'U_o', 'U_o', 'U_o', 'U_o', 'U_o', 'U_o', 'U_o', 'U_o', 'U_o', 'U_o', 'U_o', 'U_o', 'U_o', 'U_o', 'U_o', 'U_o', 'U_o', 'U_o', 'U_o', 'U_o', 'U_o', 'U_o', 'U_o', 'U_o', 'U_o', 'U_o', 'U_o', 'U_o', 'U_o', 'U_o', 'U_o', 'U_o', 'U_o', 'U_o', 'U_o', 'U_o', 'U_o', 'U_o', 'U_o', 'U_o', 'U_o', 'U_o', 'U_o', 'U_o', 'U_o', 'U_o', 'U_o', 'U_o', 'U_o', 'U_o', 'U_o', 'U_o', 'U_o', 'U_o', 'U_o', 'U_o', 'U_o', 'U_o', 'U_o', 'U_o', 'U_o', 'U_o', 'U_o', 'U_o', 'U_o', 'U_o', 'U_o', 'U_o', 'U_o', 'U_o', 'U_o', 'U_o', 'U_o', 'U_o', 'U_o', 'U_o', 'U_o', 'U_o', 'U_o', 'U_o', 'U_o', 'U_o', 'U_o', 'U_o', 'U_o', 'U_o', 'U_o', 'U_o', 'U_o', 'U_o', 'U_o', 'U_o', 'U_o', 'U_o', 'U_o', 'U_o', 'U_o', 'U_o', 'U_o', 'U_o', 'U_o', 'U_o', 'U_o', 'U_o', 'U_o', 'U_o', 'U_o', 'U_o', 'U_o', 'U_o', 'U_o', 'U_o', 'U_o', 'U_o', 'U_o', 'U_o', 'U_o', 'U_o', 'U_o', 'U_o', 'U_o', 'U_o', 'U_o', 'U_o', 'U_o', 'U_o', 'U_o', 'U_o', 'U_o', 'U_o', 'U_o', 'U_o', 'U_o', 'U_o', 'U_o', 'U_o', 'U_o', 'U_o', 'U_o', 'U_o', 'U_o', 'U_o', 'U_o', 'U_o', 'U_o', 'U_o', 'U_o', 'U_o', 'U_o', 'U_o', 'U_o', 'U_o', 'U_o', 'U_o', 'U_o', 'U_o', 'U_o', 'U_o', 'U_o', 'U_o', 'U_o', 'U_o', 'U_o', 'U_o', 'U_o', 'U_o', 'U_o', 'U_o', 'U_o', 'U_o', 'U_o', 'U_o', 'U_o', 'U_o', 'U_o', 'U_o', 'U_o', 'U_o', 'U_o', 'U_o', 'U_o', 'U_o', 'U_o', 'U_o', 'U_o', 'U_o', 'U_o', 'U_o', 'U_o', 'U_o', 'U_o', 'U_o', 'U_o', 'U_o', 'U_o', 'U_o', 'U_o', 'U_o', 'U_o', 'U_o', 'U_o', 'U_o', 'U_o', 'U_o', 'U_o', 'U_o', 'U_o', 'U_o', 'U_o', 'U_o', 'U_o', 'U_o', 'U_o', 'U_o', 'U_o', 'U_o', 'U_o', 'U_o', 'U_o', 'U_o', 'U_o', 'U_o', 'U_o', 'U_o', 'U_o', 'U_o', 'U_o', 'U_o', 'U_o', 'U_o', 'U_o', 'U_o', 'U_o', 'U_o', 'U_o', 'U_o', 'U_o', 'U_o', 'U_o', 'U_o', 'U_o', 'U_o', 'U_o', 'U_o', 'U_o', 'U_o', 'U_o', 'U_o', 'U_o', 'U_o', 'U_o', 'U_o', 'U_o', 'U_o', 'U_o', 'U_o', 'U_o', 'U_o', 'U_o', 'U_o', 'U_o', 'U_o', 'U_o', 'U_o', 'U_o', 'U_o', 'U_o', 'U_o', 'U_o', 'U_o', 'U_o', 'U_o', 'U_o', 'U_o', 'U_o', 'U_o', 'U_o', 'U_o', 'U_o', 'U_o', 'U_o', 'U_o', 'U_o', 'U_o', 'U_o', 'U_o', 'U_o', 'U_o', 'U_o', 'U_o', 'U_o', 'U_o', 'U_o', 'U_o', 'U_o', 'U_o', 'U_o', 'U_o', 'U_o', 'U_o', 'U_o', 'U_o', 'U_o', 'U_o', 'U_o', 'U_o', 'U_o', 'U_o', 'U_o', 'U_o', 'U_o', 'U_o', 'U_o', 'U_o', 'U_o', 'U_o', 'U_o', 'U_o', 'U_o', 'U_o', 'U_o', 'U_o', 'U_o', 'U_o', 'U_o', 'U_o', 'U_o', 'U_o', 'U_o', 'U_o', 'U_o', 'U_o', 'U_o', 'U_o', 'U_o', 'U_o', 'U_o', 'U_o', 'U_o', 'U_o', 'U_o', 'U_o', 'U_o', 'U_o', 'U_o', 'U_o', 'U_o', 'U_o', 'U_o', 'U_o', 'U_o', 'U_o', 'U_o', 'U_o', 'U_o', 'U_o', 'U_o', 'U_o', 'U_o', 'U_o', 'U_o', 'U_o', 'U_o', 'U_o', 'U_o', 'U_o', 'U_o', 'U_o', 'U_o', 'U_o', 'U_o', 'U_o', 'U_o', 'U_o', 'U_o', 'U_o', 'U_o', 'U_o', 'U_o', 'U_o', 'U_o', 'U_o', 'U_o', 'U_o', 'U_o', 'U_o', 'U_o', 'U_o', 'U_o', 'U_o', 'U_o', 'U_o', 'U_o', 'U_o', 'U_o', 'U_o', 'U_o', 'U_o', 'U_o', 'U_o', 'U_o', 'U_o', 'U_o', 'U_o', 'U_o', 'U_o', 'U_o', 'U_o', 'U_o', 'U_o', 'U_o', 'U_o', 'U_o', 'U_o', 'U_o', 'U_o', 'U_o', 'U_o', 'U_o', 'U_o', 'U_o', 'U_o', 'U_o', 'U_o', 'U_o', 'U_o', 'U_o', 'U_o', 'U_o', 'U_o', 'U_o', 'U_o', 'U_o', 'U_o', 'U_o', 'U_o', 'U_o', 'U_o', 'U_o', 'U_o', 'U_o', 'U_o', 'U_o', 'U_o', 'U_o', 'U_o', 'U_o', 'U_o', 'U_o', 'U_o', 'U_o', 'U_o', 'U_o', 'U_o', 'U_o', 'U_o', 'U_o', 'U_o', 'U_o', 'U_o', 'U_o', 'U_o', 'U_o', 'U_o', 'U_o', 'U_o', 'U_o', 'U_o', 'U_o', 'U_o', 'U_o', 'U_o', 'U_o', 'U_o', 'U_o', 'U_o', 'U_o', 'U_o', 'U_o', 'U_o', 'U_o', 'U_o', 'U_o', 'U_o', 'U_o', 'U_o', 'U_o', 'U_o', 'U_o', 'U_o', 'U_o', 'U_o', 'U_o', 'U_o', 'U_o', 'U_o', 'U_o', 'U_o', 'U_o', 'U_o', 'U_o', 'U_o', 'U_o', 'U_o', 'U_o', 'U_o', 'U_o', 'U_o', 'U_o', 'U_o', 'U_o', 'U_o', 'U_o', 'U_o', 'U_o', 'U_o', 'U_o', 'U_o', 'U_o', 'U_o', 'U_o', 'U_o', 'U_o', 'U_o', 'U_o', 'U_o', 'U_o', 'U_o', 'U_o', 'U_o', 'U_o', 'U_o', 'U_o', 'U_o', 'U_o', 'U_o', 'U_o', 'U_o', 'U_o', 'U_o', 'U_o', 'U_o', 'U_o', 'U_o', 'U_o', 'U_o', 'U_o', 'U_o', 'U_o', 'U_o', 'U_o', 'U_o', 'U_o', 'U_o', 'U_o', 'U_o', 'U_o', 'U_o', 'U_o', 'U_o', 'U_o', 'U_o', 'U_o', 'U_o', 'U_o', 'U_o', 'U_o', 'U_o', 'U_o', 'U_o', 'U_o', 'U_o', 'U_o', 'U_o', 'U_o', 'U_o', 'U_o', 'U_o', 'U_o', 'U_o', 'U_o', 'U_o', 'U_o', 'U_o', 'U_o', 'U_o', 'U_o', 'U_o', 'U_o', 'U_o', 'U_o', 'U_o', 'U_o', 'U_o', 'U_o', 'U_o', 'U_o', 'U_o', 'U_o', 'U_o', 'U_o', 'U_o', 'U_o', 'U_o', 'U_o', 'U_o', 'U_o', 'U_o', 'U_o', 'U_o', 'U_o', 'U_o', 'U_o', 'U_o', 'U_o', 'U_o', 'U_o', 'U_o', 'U_o', 'U_o', 'U_o', 'U_o', 'U_o', 'U_o', 'U_o', 'U_o', 'U_o', 'U_o', 'U_o', 'U_o', 'U_o', 'U_o', 'U_o', 'U_o', 'U_o', 'U_o', 'U_o', 'U_o', 'U_o', 'U_o', 'U_o', 'U_o', 'U_o', 'U_o', 'U_o', 'U_o', 'U_o', 'U_o', 'U_o', 'U_o', 'U_o', 'U_o', 'U_o', 'U_o', 'U_o', 'U_o', 'U_o', 'U_o', 'U_o', 'U_o', 'U_o', 'U_o', 'U_o', 'U_o', 'U_o', 'U_o', 'U_o', 'U_o', 'U_o', 'U_o', 'U_o', 'U_o', 'U_o', 'U_o', 'U_o', 'U_o', 'U_o', 'U_o', 'U_o', 'U_o', 'U_o', 'U_o', 'U_o', 'U_o', 'U_o', 'U_o', 'U_o', 'U_o', 'U_o', 'U_o', 'U_o', 'U_o', 'U_o', 'U_o', 'U_o', 'U_o', 'U_o', 'U_o', 'U_o', 'U_o', 'U_o', 'U_o', 'U_o', 'U_o', 'U_o', 'U_o', 'U_o', 'U_o', 'U_o', 'U_o', 'U_o', 'U_o', 'U_o', 'U_o', 'U_o', 'U_o', 'U_o', 'U_o', 'U_o', 'U_o', 'U_o', 'U_o', 'U_o', 'U_o', 'U_o', 'U_o', 'U_o', 'U_o', 'U_o', 'U_o', 'U_o', 'U_o', 'U_o', 'U_o', 'U_o', 'U_o', 'U_o', 'U_o', 'U_o', 'U_o', 'U_o', 'U_o', 'U_o', 'U_o', 'U_o', 'U_o', 'U_o', 'U_o', 'U_o', 'U_o', 'U_o', 'U_o', 'U_o', 'U_o', 'U_o', 'U_o', 'U_o', 'U_o', 'U_o', 'U_o', 'U_o', 'U_o', 'U_o', 'U_o', 'U_o', 'U_o', 'U_o', 'U_o', 'U_o', 'U_o', 'U_o', 'U_o', 'U_o', 'U_o', 'U_o', 'U_o', 'U_o', 'U_o', 'U_o', 'U_o', 'U_o', 'U_o', 'U_o', 'U_o', 'U_o', 'U_o', 'U_o', 'U_o', 'U_o', 'U_o', 'U_o', 'U_o', 'U_o', 'U_o', 'U_o', 'U_o', 'U_o', 'U_o', 'U_o', 'U_o', 'U_o', 'U_o', 'U_o', 'U_o', 'U_o', 'U_o', 'U_o', 'U_o', 'U_o', 'U_o', 'U_o', 'U_o', 'U_o', 'U_o', 'U_o', 'U_o', 'U_o', 'U_o', 'U_o', 'U_o', 'U_o', 'U_o', 'U_o', 'U_o', 'U_o', 'U_o', 'U_o', 'U_o', 'U_o', 'U_o', 'U_o', 'U_o', 'U_o', 'U_o', 'U_o', 'U_o', 'U_o', 'U_o', 'U_o', 'U_o', 'U_o', 'U_o', 'U_o', 'U_o', 'U_o', 'U_o', 'U_o', 'U_o', 'U_o', 'U_o', 'U_o', 'U_o', 'U_o', 'U_o', 'U_o', 'U_o', 'U_o', 'U_o', 'U_o', 'U_o', 'U_o', 'U_o', 'U_o', 'U_o', 'U_o', 'U_o', 'U_o', 'U_o', 'U_o', 'U_o', 'U_o', 'U_o', 'U_o', 'U_o', 'U_o', 'U_o', 'U_o', 'U_o', 'U_o', 'U_o', 'U_o', 'U_o', 'U_o', 'U_o', 'U_o', 'U_o', 'U_o', 'U_o', 'U_o', 'U_o', 'U_o', 'U_o', 'U_o', 'U_o', 'U_o', 'U_o', 'U_o', 'U_o', 'U_o', 'U_o', 'U_o', 'U_o', 'U_o', 'U_o', 'U_o', 'U_o', 'U_o', 'U_o', 'U_o', 'U_o', 'U_o', 'U_o', 'U_o', 'U_o', 'U_o', 'U_o', 'U_o', 'U_o', 'U_o', 'U_o', 'U_o', 'U_o', 'U_o', 'U_o', 'U_o', 'U_o', 'U_o', 'U_o', 'U_o', 'U_o', 'U_o', 'U_o', 'U_o', 'U_o', 'U_o', 'U_o', 'U_o', 'U_o', 'U_o', 'U_o', 'U_o', 'U_o', 'U_o', 'U_o', 'U_o', 'U_o', 'U_o', 'U_o', 'U_o', 'U_o', 'U_o', 'U_o', 'U_o', 'U_o', 'U_o', 'U_o', 'U_o', 'U_o', 'U_o', 'U_o', 'U_o', 'U_o', 'U_o', 'U_o', 'U_o', 'U_o', 'U_o', 'U_o', 'U_o', 'U_o', 'U_o', 'U_o', 'U_o', 'U_o', 'U_o', 'U_o', 'U_o', 'U_o', 'U_o', 'U_o', 'U_o', 'U_o', 'U_o', 'U_o', 'U_o', 'U_o', 'U_o', 'U_o', 'U_o', 'U_o', 'U_o', 'U_o', 'U_o', 'U_o', 'U_o', 'U_o', 'U_o', 'U_o', 'U_o', 'U_o', 'U_o', 'U_o', 'U_o', 'U_o', 'U_o', 'U_o', 'U_o', 'U_o', 'U_o', 'U_o', 'U_o', 'U_o', 'U_o', 'U_o', 'U_o', 'U_o', 'U_o', 'U_o', 'U_o', 'U_o', 'U_o', 'U_o', 'U_o', 'U_o', 'U_o', 'U_o', 'U_o', 'U_o', 'U_o', 'U_o', 'U_o', 'U_o', 'U_o', 'U_o', 'U_o', 'U_o', 'U_o', 'U_o', 'U_o', 'U_o', 'U_o', 'U_o', 'U_o', 'U_o', 'U_o', 'U_o', 'U_o', 'U_o', 'U_o', 'U_o', 'U_o', 'U_o', 'U_o', 'U_o', 'U_o', 'U_o', 'U_o', 'U_o', 'U_o', 'U_o', 'U_o', 'U_o', 'U_o', 'U_o', 'U_o', 'U_o', 'U_o', 'U_o', 'U_o', 'U_o', 'U_o', 'U_o', 'U_o', 'U_o', 'U_o', 'U_o', 'U_o', 'U_o', 'U_o', 'U_o', 'U_o', 'U_o', 'U_o', 'U_o', 'U_o', 'U_o', 'U_o', 'U_o', 'U_o', 'U_o', 'U_o', 'U_o', 'U_o', 'U_o', 'U_o', 'U_o', 'U_o', 'U_o', 'U_o', 'U_o', 'U_o', 'U_o', 'U_o', 'U_o', 'U_o', 'U_o', 'U_o', 'U_o', 'U_o', 'U_o', 'U_o', 'U_o', 'U_o', 'U_o', 'U_o', 'U_o', 'U_o', 'U_o', 'U_o', 'U_o', 'U_o', 'U_o', 'U_o', 'U_o', 'U_o', 'U_o', 'U_o', 'U_o', 'U_o', 'U_o', 'U_o', 'U_o', 'U_o', 'U_o', 'U_o', 'U_o', 'U_o', 'U_o', 'U_o', 'U_o', 'U_o', 'U_o', 'U_o', 'U_o', 'U_o', 'U_o', 'U_o', 'U_o', 'U_o', 'U_o', 'U_o', 'U_o', 'U_o', 'U_o', 'U_o', 'U_o', 'U_o', 'U_o', 'U_o', 'U_o', 'U_o', 'U_o', 'U_o', 'U_o', 'U_o', 'U_o', 'U_o', 'U_o', 'U_o', 'U_o', 'U_o', 'U_o', 'U_o', 'U_o', 'U_o', 'U_o', 'U_o', 'U_o', 'U_o', 'U_o', 'U_o', 'U_o', 'U_o', 'U_o', 'U_o', 'U_o', 'U_o', 'U_o', 'U_o', 'U_o', 'U_o', 'U_o', 'U_o', 'U_o', 'U_o', 'U_o', 'U_o', 'U_o', 'U_o', 'U_o', 'U_o', 'U_o', 'U_o', 'U_o', 'U_o', 'U_o', 'U_o', 'U_o', 'U_o', 'U_o', 'U_o', 'U_o', 'U_o', 'U_o', 'U_o', 'U_o', 'U_o', 'U_o', 'U_o', 'U_o', 'U_o', 'U_o', 'U_o', 'U_o', 'U_o', 'U_o', 'U_o', 'U_o', 'U_o', 'U_o', 'U_o', 'U_o', 'U_o', 'U_o', 'U_o', 'U_o', 'U_o', 'U_o', 'U_o', 'U_o', 'U_o', 'U_o', 'U_o', 'U_o', 'U_o', 'U_o', 'U_o', 'U_o', 'U_o', 'U_o', 'U_o', 'U_o', 'U_o', 'U_o', 'U_o', 'U_o', 'U_o', 'U_o', 'U_o', 'U_o', 'U_o', 'U_o', 'U_o', 'U_o', 'U_o', 'U_o', 'U_o', 'U_o', 'U_o', 'U_o', 'U_o', 'U_o', 'U_o', 'U_o', 'U_o', 'U_o', 'U_o', 'U_o', 'U_o', 'U_o', 'U_o', 'U_o', 'U_o', 'U_o', 'U_o', 'U_o', 'U_o', 'U_o', 'U_o', 'U_o', 'U_o', 'U_o', 'U_o', 'U_o', 'U_o', 'U_o', 'U_o', 'U_o', 'U_o', 'U_o', 'U_o', 'U_o', 'U_o', 'U_o', 'U_o', 'U_o', 'U_o', 'U_o', 'U_o', 'U_o', 'U_o', 'U_o', 'U_o', 'U_o', 'U_o', 'U_o', 'U_o', 'U_o', 'U_o', 'U_o', 'U_o', 'U_o', 'U_o', 'U_o', 'U_o', 'U_o', 'U_o', 'U_o', 'U_o', 'U_o', 'U_o', 'U_o', 'U_o', 'U_o', 'U_o', 'U_o', 'U_o', 'U_o', 'U_o', 'U_o', 'U_o', 'U_o', 'U_o', 'U_o', 'U_o', 'U_o', 'U_o', 'U_o', 'U_o', 'U_o', 'U_o', 'U_o', 'U_o', 'U_o', 'U_o', 'U_o', 'U_o', 'U_o', 'U_o', 'U_o', 'U_o', 'U_o', 'U_o', 'U_o', 'U_o', 'U_o', 'U_o', 'U_o', 'U_o', 'U_o', 'U_o', 'U_o', 'U_o', 'U_o', 'U_o', 'U_o', 'U_o', 'U_o', 'U_o', 'U_o', 'U_o', 'U_o', 'U_o', 'U_o', 'U_o', 'U_o', 'U_o', 'U_o', 'U_o', 'U_o', 'U_o', 'U_o', 'U_o', 'U_o', 'U_o', 'U_o', 'U_o', 'U_o', 'U_o', 'U_o', 'U_o', 'U_o', 'U_o', 'U_o', 'U_o', 'U_o', 'U_o', 'U_o', 'U_o', 'U_o', 'U_o', 'U_o', 'U_o', 'U_o', 'U_o', 'U_o', 'U_o', 'U_o', 'U_o', 'U_o', 'U_o', 'U_o', 'U_o', 'U_o', 'U_o', 'U_o', 'U_o', 'U_o', 'U_o', 'U_o', 'U_o', 'U_o', 'U_o', 'U_o', 'U_o', 'U_o', 'U_o', 'U_o', 'U_o', 'U_o', 'U_o', 'U_o', 'U_o', 'U_o', 'U_o', 'U_o', 'U_o', 'U_o', 'U_o', 'U_o', 'U_o', 'U_o', 'U_o', 'U_o', 'U_o', 'U_o', 'U_o', 'U_o', 'U_o', 'U_o', 'U_o', 'U_o', 'U_o', 'U_o', 'U_o', 'U_o', 'U_o', 'U_o', 'U_o', 'U_o', 'U_o', 'U_o', 'U_o', 'U_o', 'U_o', 'U_o', 'U_o', 'U_o', 'U_o', 'U_o', 'U_o', 'U_o', 'U_o', 'U_o', 'U_o', 'U_o', 'U_o', 'U_o', 'U_o', 'U_o', 'U_o', 'U_o', 'U_o', 'U_o', 'U_o', 'U_o', 'U_o', 'U_o', 'U_o', 'U_o', 'U_o', 'U_o', 'U_o', 'U_o', 'U_o', 'U_o', 'U_o', 'U_o', 'U_o', 'U_o', 'U_o', 'U_o', 'U_o', 'U_o', 'U_o', 'U_o', 'U_o', 'U_o', 'U_o', 'U_o', 'U_o', 'U_o', 'U_o', 'U_o', 'U_o', 'U_o', 'U_o', 'U_o', 'U_o', 'U_o', 'U_o', 'U_o', 'U_o', 'U_o', 'U_o', 'U_o', 'U_o', 'U_o', 'U_o', 'U_o', 'U_o', 'U_o', 'U_o', 'U_o', 'U_o', 'U_o', 'U_o', 'U_o', 'U_o', 'U_o', 'U_o', 'U_o', 'U_o', 'U_o', 'U_o', 'U_o', 'U_o', 'U_o', 'U_o', 'U_o', 'U_o', 'U_o', 'U_o', 'U_o', 'U_o', 'U_o', 'U_o', 'U_o', 'U_o', 'U_o', 'U_o', 'U_o', 'U_o', 'U_o', 'U_o', 'U_o', 'U_o', 'U_o', 'U_o', 'U_o', 'U_o', 'U_o', 'U_o', 'U_o', 'U_o', 'U_o', 'U_o', 'U_o', 'U_o', 'U_o', 'U_o', 'U_o', 'U_o', 'U_o', 'U_o', 'U_o', 'U_o', 'U_o', 'U_o', 'U_o', 'U_o', 'U_o', 'U_o', 'U_o', 'U_o', 'U_o', 'U_o', 'U_o', 'U_o', 'U_o', 'U_o', 'U_o', 'U_o', 'U_o', 'U_o', 'U_o', 'U_o', 'U_o', 'U_o', 'U_o', 'U_o', 'U_o', 'U_o', 'U_o', 'U_o', 'U_o', 'U_o', 'U_o', 'U_o', 'U_o', 'U_o', 'U_o', 'U_o', 'U_o', 'U_o', 'U_o', 'U_o', 'U_o', 'U_o', 'U_o', 'U_o', 'U_o', 'U_o', 'b_i', 'b_i', 'b_i', 'b_i', 'b_i', 'b_i', 'b_i', 'b_i', 'b_i', 'b_i', 'b_i', 'b_i', 'b_i', 'b_i', 'b_i', 'b_i', 'b_i', 'b_i', 'b_i', 'b_i', 'b_i', 'b_i', 'b_i', 'b_i', 'b_i', 'b_i', 'b_i', 'b_i', 'b_i', 'b_i', 'b_i', 'b_i', 'b_i', 'b_i', 'b_i', 'b_i', 'b_i', 'b_i', 'b_i', 'b_i', 'b_i', 'b_i', 'b_i', 'b_i', 'b_i', 'b_i', 'b_i', 'b_i', 'b_i', 'b_i', 'b_f', 'b_f', 'b_f', 'b_f', 'b_f', 'b_f', 'b_f', 'b_f', 'b_f', 'b_f', 'b_f', 'b_f', 'b_f', 'b_f', 'b_f', 'b_f', 'b_f', 'b_f', 'b_f', 'b_f', 'b_f', 'b_f', 'b_f', 'b_f', 'b_f', 'b_f', 'b_f', 'b_f', 'b_f', 'b_f', 'b_f', 'b_f', 'b_f', 'b_f', 'b_f', 'b_f', 'b_f', 'b_f', 'b_f', 'b_f', 'b_f', 'b_f', 'b_f', 'b_f', 'b_f', 'b_f', 'b_f', 'b_f', 'b_f', 'b_f', 'b_c', 'b_c', 'b_c', 'b_c', 'b_c', 'b_c', 'b_c', 'b_c', 'b_c', 'b_c', 'b_c', 'b_c', 'b_c', 'b_c', 'b_c', 'b_c', 'b_c', 'b_c', 'b_c', 'b_c', 'b_c', 'b_c', 'b_c', 'b_c', 'b_c', 'b_c', 'b_c', 'b_c', 'b_c', 'b_c', 'b_c', 'b_c', 'b_c', 'b_c', 'b_c', 'b_c', 'b_c', 'b_c', 'b_c', 'b_c', 'b_c', 'b_c', 'b_c', 'b_c', 'b_c', 'b_c', 'b_c', 'b_c', 'b_c', 'b_c', 'b_o', 'b_o', 'b_o', 'b_o', 'b_o', 'b_o', 'b_o', 'b_o', 'b_o', 'b_o', 'b_o', 'b_o', 'b_o', 'b_o', 'b_o', 'b_o', 'b_o', 'b_o', 'b_o', 'b_o', 'b_o', 'b_o', 'b_o', 'b_o', 'b_o', 'b_o', 'b_o', 'b_o', 'b_o', 'b_o', 'b_o', 'b_o', 'b_o', 'b_o', 'b_o', 'b_o', 'b_o', 'b_o', 'b_o', 'b_o', 'b_o', 'b_o', 'b_o', 'b_o', 'b_o', 'b_o', 'b_o', 'b_o', 'b_o', 'b_o']\n"
     ]
    }
   ],
   "source": [
    "print(vectorize_with_labels(w1, u1, b1))"
   ]
  },
  {
   "cell_type": "code",
   "execution_count": null,
   "metadata": {},
   "outputs": [],
   "source": []
  },
  {
   "cell_type": "code",
   "execution_count": 29,
   "metadata": {},
   "outputs": [],
   "source": [
    "for layer in model.layers:\n",
    "        if \"LSTM\" in str(layer):\n",
    "            weightLSTM = layer.get_weights()\n",
    "            \n",
    "warr,uarr, barr = weightLSTM"
   ]
  },
  {
   "cell_type": "code",
   "execution_count": 30,
   "metadata": {},
   "outputs": [
    {
     "name": "stdout",
     "output_type": "stream",
     "text": [
      "Param <tf.Variable 'lstm_2/kernel:0' shape=(8, 200) dtype=float32, numpy=\n",
      "array([[ 0.28165576,  0.3011305 ,  0.23629329, ...,  0.3473585 ,\n",
      "         0.13599893,  0.06403103],\n",
      "       [ 0.03934953,  0.07182664,  0.1615469 , ...,  0.07479027,\n",
      "        -0.07352281, -0.03683669],\n",
      "       [-0.06369504,  0.06266094,  0.13612852, ..., -0.02406355,\n",
      "         0.00855772,  0.26969683],\n",
      "       ...,\n",
      "       [-0.19792348,  0.02345296,  0.03424115, ...,  0.13840139,\n",
      "         0.06034489,  0.1947459 ],\n",
      "       [-0.05979897, -0.09442699,  0.16305004, ...,  0.2507102 ,\n",
      "        -0.20187844, -0.19941525],\n",
      "       [-0.14928514,  0.04798561,  0.01806773, ...,  0.0304848 ,\n",
      "         0.13143861,  0.10434414]], dtype=float32)>:\n",
      "[[ 0.28165576  0.3011305   0.23629329 ...  0.3473585   0.13599893\n",
      "   0.06403103]\n",
      " [ 0.03934953  0.07182664  0.1615469  ...  0.07479027 -0.07352281\n",
      "  -0.03683669]\n",
      " [-0.06369504  0.06266094  0.13612852 ... -0.02406355  0.00855772\n",
      "   0.26969683]\n",
      " ...\n",
      " [-0.19792348  0.02345296  0.03424115 ...  0.13840139  0.06034489\n",
      "   0.1947459 ]\n",
      " [-0.05979897 -0.09442699  0.16305004 ...  0.2507102  -0.20187844\n",
      "  -0.19941525]\n",
      " [-0.14928514  0.04798561  0.01806773 ...  0.0304848   0.13143861\n",
      "   0.10434414]]\n",
      "Param <tf.Variable 'lstm_2/recurrent_kernel:0' shape=(50, 200) dtype=float32, numpy=\n",
      "array([[ 0.02564027,  0.04442084, -0.04163136, ..., -0.02897152,\n",
      "         0.0354179 ,  0.08938982],\n",
      "       [ 0.04939116,  0.03353401, -0.02540813, ..., -0.09469524,\n",
      "         0.03650653, -0.0178205 ],\n",
      "       [ 0.00312078, -0.02354638,  0.11958894, ..., -0.02088894,\n",
      "         0.04866222,  0.07101168],\n",
      "       ...,\n",
      "       [ 0.06240585,  0.12834792, -0.04691446, ..., -0.14476383,\n",
      "         0.10578521,  0.01210374],\n",
      "       [ 0.10057242,  0.15604189, -0.06917017, ..., -0.12285729,\n",
      "        -0.04939545,  0.05904541],\n",
      "       [-0.03803152,  0.13707757, -0.03291564, ...,  0.04425301,\n",
      "         0.07302179, -0.0316545 ]], dtype=float32)>:\n",
      "[[ 0.02564027  0.04442084 -0.04163136 ... -0.02897152  0.0354179\n",
      "   0.08938982]\n",
      " [ 0.04939116  0.03353401 -0.02540813 ... -0.09469524  0.03650653\n",
      "  -0.0178205 ]\n",
      " [ 0.00312078 -0.02354638  0.11958894 ... -0.02088894  0.04866222\n",
      "   0.07101168]\n",
      " ...\n",
      " [ 0.06240585  0.12834792 -0.04691446 ... -0.14476383  0.10578521\n",
      "   0.01210374]\n",
      " [ 0.10057242  0.15604189 -0.06917017 ... -0.12285729 -0.04939545\n",
      "   0.05904541]\n",
      " [-0.03803152  0.13707757 -0.03291564 ...  0.04425301  0.07302179\n",
      "  -0.0316545 ]]\n",
      "Param <tf.Variable 'lstm_2/bias:0' shape=(200,) dtype=float32, numpy=\n",
      "array([ 7.53166080e-02,  1.29193470e-01,  8.83737877e-02,  6.50006682e-02,\n",
      "       -7.04101026e-02,  2.09623396e-01,  2.59608384e-02, -1.26546383e-01,\n",
      "       -7.08206519e-02,  9.59028378e-02, -6.11165762e-02,  4.95515950e-02,\n",
      "       -6.44657388e-02, -3.79362963e-02, -7.19515383e-02, -2.23677941e-02,\n",
      "        7.84105361e-02, -1.67147815e-01,  1.37012852e-02, -1.59850866e-01,\n",
      "       -8.22828561e-02,  2.50190794e-02,  9.29506961e-03,  8.58804137e-02,\n",
      "       -4.71552983e-02,  5.63510470e-02, -6.91544563e-02, -1.21605480e-02,\n",
      "        2.25703903e-02,  2.38360390e-01,  2.73366868e-02, -1.37747571e-01,\n",
      "        2.52714664e-01, -3.94781083e-02,  1.80578709e-01, -7.06755966e-02,\n",
      "       -1.38954297e-01,  2.36054156e-02, -7.91992620e-03,  1.40396953e-02,\n",
      "       -5.92858158e-02, -1.86854526e-01,  2.14906827e-01, -1.42267272e-01,\n",
      "        1.58900395e-01, -6.45686910e-02, -3.67338676e-03,  2.46915743e-02,\n",
      "       -1.12902589e-01,  6.37115464e-02,  1.00000000e+00,  1.00000000e+00,\n",
      "        1.00000000e+00,  1.00000000e+00,  1.00000000e+00,  1.00000000e+00,\n",
      "        1.00000000e+00,  1.00000000e+00,  1.00000000e+00,  1.00000000e+00,\n",
      "        1.00000000e+00,  1.00000000e+00,  1.00000000e+00,  1.00000000e+00,\n",
      "        1.00000000e+00,  1.00000000e+00,  1.00000000e+00,  1.00000000e+00,\n",
      "        1.00000000e+00,  1.00000000e+00,  1.00000000e+00,  1.00000000e+00,\n",
      "        1.00000000e+00,  1.00000000e+00,  1.00000000e+00,  1.00000000e+00,\n",
      "        1.00000000e+00,  1.00000000e+00,  1.00000000e+00,  1.00000000e+00,\n",
      "        1.00000000e+00,  1.00000000e+00,  1.00000000e+00,  1.00000000e+00,\n",
      "        1.00000000e+00,  1.00000000e+00,  1.00000000e+00,  1.00000000e+00,\n",
      "        1.00000000e+00,  1.00000000e+00,  1.00000000e+00,  1.00000000e+00,\n",
      "        1.00000000e+00,  1.00000000e+00,  1.00000000e+00,  1.00000000e+00,\n",
      "        1.00000000e+00,  1.00000000e+00,  1.00000000e+00,  1.00000000e+00,\n",
      "        3.22061218e-02, -4.61314758e-03,  1.21115204e-02, -1.57562662e-02,\n",
      "       -1.33056594e-02,  9.02762171e-03,  1.92136187e-02,  6.73805876e-03,\n",
      "        4.92737666e-02,  1.33431628e-02, -5.18065318e-02, -2.66866703e-02,\n",
      "       -6.26558810e-02,  3.49553563e-02,  1.07274484e-02, -3.02198231e-02,\n",
      "        2.47531440e-02,  4.16536480e-02,  2.11781319e-02, -1.40504278e-02,\n",
      "        1.34204179e-02, -3.63975577e-02,  1.96582526e-02, -6.90973317e-03,\n",
      "        5.08952811e-02,  1.47032067e-02,  1.52711775e-02,  1.02830381e-04,\n",
      "        1.41633041e-02,  4.76943934e-03, -9.10094101e-03, -6.72348887e-02,\n",
      "       -1.45869376e-02,  1.21601345e-02,  1.05571970e-02,  7.40573332e-02,\n",
      "       -4.69244681e-02,  1.59027409e-02, -1.15212742e-02,  1.81112848e-02,\n",
      "        4.01777290e-02, -1.29585881e-02,  1.26740756e-02, -6.77197129e-02,\n",
      "        4.40626778e-03,  7.26698041e-02, -1.03222392e-02, -2.24513337e-02,\n",
      "       -2.93133017e-02,  1.50229912e-02,  8.09403956e-02,  1.25962928e-01,\n",
      "        8.77156928e-02,  6.82810172e-02, -6.70413524e-02,  2.10943043e-01,\n",
      "        2.50904858e-02, -1.14267714e-01, -7.37500489e-02,  1.00395441e-01,\n",
      "       -6.00816794e-02,  5.08168042e-02, -5.93797974e-02, -4.13596332e-02,\n",
      "       -7.42532834e-02, -1.72654837e-02,  8.02245513e-02, -1.62465170e-01,\n",
      "        1.06366407e-02, -1.57697067e-01, -8.88546035e-02,  1.76364798e-02,\n",
      "        1.00673884e-02,  7.35402778e-02, -4.84360345e-02,  5.27119227e-02,\n",
      "       -7.80587345e-02, -1.46129252e-02,  2.36441027e-02,  2.53638655e-01,\n",
      "        2.70903967e-02, -1.39092967e-01,  2.59972453e-01, -4.30673622e-02,\n",
      "        1.88333437e-01, -6.67928830e-02, -1.35847867e-01,  2.58619357e-02,\n",
      "       -5.39904367e-03,  1.39581570e-02, -6.45723641e-02, -1.86224908e-01,\n",
      "        2.17323706e-01, -1.43370762e-01,  1.45882428e-01, -6.75606132e-02,\n",
      "       -1.16619375e-03,  1.95979755e-02, -1.04001381e-01,  6.01856150e-02],\n",
      "      dtype=float32)>:\n",
      "[ 7.53166080e-02  1.29193470e-01  8.83737877e-02  6.50006682e-02\n",
      " -7.04101026e-02  2.09623396e-01  2.59608384e-02 -1.26546383e-01\n",
      " -7.08206519e-02  9.59028378e-02 -6.11165762e-02  4.95515950e-02\n",
      " -6.44657388e-02 -3.79362963e-02 -7.19515383e-02 -2.23677941e-02\n",
      "  7.84105361e-02 -1.67147815e-01  1.37012852e-02 -1.59850866e-01\n",
      " -8.22828561e-02  2.50190794e-02  9.29506961e-03  8.58804137e-02\n",
      " -4.71552983e-02  5.63510470e-02 -6.91544563e-02 -1.21605480e-02\n",
      "  2.25703903e-02  2.38360390e-01  2.73366868e-02 -1.37747571e-01\n",
      "  2.52714664e-01 -3.94781083e-02  1.80578709e-01 -7.06755966e-02\n",
      " -1.38954297e-01  2.36054156e-02 -7.91992620e-03  1.40396953e-02\n",
      " -5.92858158e-02 -1.86854526e-01  2.14906827e-01 -1.42267272e-01\n",
      "  1.58900395e-01 -6.45686910e-02 -3.67338676e-03  2.46915743e-02\n",
      " -1.12902589e-01  6.37115464e-02  1.00000000e+00  1.00000000e+00\n",
      "  1.00000000e+00  1.00000000e+00  1.00000000e+00  1.00000000e+00\n",
      "  1.00000000e+00  1.00000000e+00  1.00000000e+00  1.00000000e+00\n",
      "  1.00000000e+00  1.00000000e+00  1.00000000e+00  1.00000000e+00\n",
      "  1.00000000e+00  1.00000000e+00  1.00000000e+00  1.00000000e+00\n",
      "  1.00000000e+00  1.00000000e+00  1.00000000e+00  1.00000000e+00\n",
      "  1.00000000e+00  1.00000000e+00  1.00000000e+00  1.00000000e+00\n",
      "  1.00000000e+00  1.00000000e+00  1.00000000e+00  1.00000000e+00\n",
      "  1.00000000e+00  1.00000000e+00  1.00000000e+00  1.00000000e+00\n",
      "  1.00000000e+00  1.00000000e+00  1.00000000e+00  1.00000000e+00\n",
      "  1.00000000e+00  1.00000000e+00  1.00000000e+00  1.00000000e+00\n",
      "  1.00000000e+00  1.00000000e+00  1.00000000e+00  1.00000000e+00\n",
      "  1.00000000e+00  1.00000000e+00  1.00000000e+00  1.00000000e+00\n",
      "  3.22061218e-02 -4.61314758e-03  1.21115204e-02 -1.57562662e-02\n",
      " -1.33056594e-02  9.02762171e-03  1.92136187e-02  6.73805876e-03\n",
      "  4.92737666e-02  1.33431628e-02 -5.18065318e-02 -2.66866703e-02\n",
      " -6.26558810e-02  3.49553563e-02  1.07274484e-02 -3.02198231e-02\n",
      "  2.47531440e-02  4.16536480e-02  2.11781319e-02 -1.40504278e-02\n",
      "  1.34204179e-02 -3.63975577e-02  1.96582526e-02 -6.90973317e-03\n",
      "  5.08952811e-02  1.47032067e-02  1.52711775e-02  1.02830381e-04\n",
      "  1.41633041e-02  4.76943934e-03 -9.10094101e-03 -6.72348887e-02\n",
      " -1.45869376e-02  1.21601345e-02  1.05571970e-02  7.40573332e-02\n",
      " -4.69244681e-02  1.59027409e-02 -1.15212742e-02  1.81112848e-02\n",
      "  4.01777290e-02 -1.29585881e-02  1.26740756e-02 -6.77197129e-02\n",
      "  4.40626778e-03  7.26698041e-02 -1.03222392e-02 -2.24513337e-02\n",
      " -2.93133017e-02  1.50229912e-02  8.09403956e-02  1.25962928e-01\n",
      "  8.77156928e-02  6.82810172e-02 -6.70413524e-02  2.10943043e-01\n",
      "  2.50904858e-02 -1.14267714e-01 -7.37500489e-02  1.00395441e-01\n",
      " -6.00816794e-02  5.08168042e-02 -5.93797974e-02 -4.13596332e-02\n",
      " -7.42532834e-02 -1.72654837e-02  8.02245513e-02 -1.62465170e-01\n",
      "  1.06366407e-02 -1.57697067e-01 -8.88546035e-02  1.76364798e-02\n",
      "  1.00673884e-02  7.35402778e-02 -4.84360345e-02  5.27119227e-02\n",
      " -7.80587345e-02 -1.46129252e-02  2.36441027e-02  2.53638655e-01\n",
      "  2.70903967e-02 -1.39092967e-01  2.59972453e-01 -4.30673622e-02\n",
      "  1.88333437e-01 -6.67928830e-02 -1.35847867e-01  2.58619357e-02\n",
      " -5.39904367e-03  1.39581570e-02 -6.45723641e-02 -1.86224908e-01\n",
      "  2.17323706e-01 -1.43370762e-01  1.45882428e-01 -6.75606132e-02\n",
      " -1.16619375e-03  1.95979755e-02 -1.04001381e-01  6.01856150e-02]\n"
     ]
    }
   ],
   "source": [
    "for e in zip(model.layers[0].trainable_weights, model.layers[0].get_weights()):\n",
    "    print('Param %s:\\n%s' % (e[0],e[1]))"
   ]
  },
  {
   "cell_type": "code",
   "execution_count": 31,
   "metadata": {},
   "outputs": [
    {
     "name": "stdout",
     "output_type": "stream",
     "text": [
      "[<tf.Variable 'lstm_2/kernel:0' shape=(8, 200) dtype=float32, numpy=\n",
      "array([[ 0.28165576,  0.3011305 ,  0.23629329, ...,  0.3473585 ,\n",
      "         0.13599893,  0.06403103],\n",
      "       [ 0.03934953,  0.07182664,  0.1615469 , ...,  0.07479027,\n",
      "        -0.07352281, -0.03683669],\n",
      "       [-0.06369504,  0.06266094,  0.13612852, ..., -0.02406355,\n",
      "         0.00855772,  0.26969683],\n",
      "       ...,\n",
      "       [-0.19792348,  0.02345296,  0.03424115, ...,  0.13840139,\n",
      "         0.06034489,  0.1947459 ],\n",
      "       [-0.05979897, -0.09442699,  0.16305004, ...,  0.2507102 ,\n",
      "        -0.20187844, -0.19941525],\n",
      "       [-0.14928514,  0.04798561,  0.01806773, ...,  0.0304848 ,\n",
      "         0.13143861,  0.10434414]], dtype=float32)>, <tf.Variable 'lstm_2/recurrent_kernel:0' shape=(50, 200) dtype=float32, numpy=\n",
      "array([[ 0.02564027,  0.04442084, -0.04163136, ..., -0.02897152,\n",
      "         0.0354179 ,  0.08938982],\n",
      "       [ 0.04939116,  0.03353401, -0.02540813, ..., -0.09469524,\n",
      "         0.03650653, -0.0178205 ],\n",
      "       [ 0.00312078, -0.02354638,  0.11958894, ..., -0.02088894,\n",
      "         0.04866222,  0.07101168],\n",
      "       ...,\n",
      "       [ 0.06240585,  0.12834792, -0.04691446, ..., -0.14476383,\n",
      "         0.10578521,  0.01210374],\n",
      "       [ 0.10057242,  0.15604189, -0.06917017, ..., -0.12285729,\n",
      "        -0.04939545,  0.05904541],\n",
      "       [-0.03803152,  0.13707757, -0.03291564, ...,  0.04425301,\n",
      "         0.07302179, -0.0316545 ]], dtype=float32)>, <tf.Variable 'lstm_2/bias:0' shape=(200,) dtype=float32, numpy=\n",
      "array([ 7.53166080e-02,  1.29193470e-01,  8.83737877e-02,  6.50006682e-02,\n",
      "       -7.04101026e-02,  2.09623396e-01,  2.59608384e-02, -1.26546383e-01,\n",
      "       -7.08206519e-02,  9.59028378e-02, -6.11165762e-02,  4.95515950e-02,\n",
      "       -6.44657388e-02, -3.79362963e-02, -7.19515383e-02, -2.23677941e-02,\n",
      "        7.84105361e-02, -1.67147815e-01,  1.37012852e-02, -1.59850866e-01,\n",
      "       -8.22828561e-02,  2.50190794e-02,  9.29506961e-03,  8.58804137e-02,\n",
      "       -4.71552983e-02,  5.63510470e-02, -6.91544563e-02, -1.21605480e-02,\n",
      "        2.25703903e-02,  2.38360390e-01,  2.73366868e-02, -1.37747571e-01,\n",
      "        2.52714664e-01, -3.94781083e-02,  1.80578709e-01, -7.06755966e-02,\n",
      "       -1.38954297e-01,  2.36054156e-02, -7.91992620e-03,  1.40396953e-02,\n",
      "       -5.92858158e-02, -1.86854526e-01,  2.14906827e-01, -1.42267272e-01,\n",
      "        1.58900395e-01, -6.45686910e-02, -3.67338676e-03,  2.46915743e-02,\n",
      "       -1.12902589e-01,  6.37115464e-02,  1.00000000e+00,  1.00000000e+00,\n",
      "        1.00000000e+00,  1.00000000e+00,  1.00000000e+00,  1.00000000e+00,\n",
      "        1.00000000e+00,  1.00000000e+00,  1.00000000e+00,  1.00000000e+00,\n",
      "        1.00000000e+00,  1.00000000e+00,  1.00000000e+00,  1.00000000e+00,\n",
      "        1.00000000e+00,  1.00000000e+00,  1.00000000e+00,  1.00000000e+00,\n",
      "        1.00000000e+00,  1.00000000e+00,  1.00000000e+00,  1.00000000e+00,\n",
      "        1.00000000e+00,  1.00000000e+00,  1.00000000e+00,  1.00000000e+00,\n",
      "        1.00000000e+00,  1.00000000e+00,  1.00000000e+00,  1.00000000e+00,\n",
      "        1.00000000e+00,  1.00000000e+00,  1.00000000e+00,  1.00000000e+00,\n",
      "        1.00000000e+00,  1.00000000e+00,  1.00000000e+00,  1.00000000e+00,\n",
      "        1.00000000e+00,  1.00000000e+00,  1.00000000e+00,  1.00000000e+00,\n",
      "        1.00000000e+00,  1.00000000e+00,  1.00000000e+00,  1.00000000e+00,\n",
      "        1.00000000e+00,  1.00000000e+00,  1.00000000e+00,  1.00000000e+00,\n",
      "        3.22061218e-02, -4.61314758e-03,  1.21115204e-02, -1.57562662e-02,\n",
      "       -1.33056594e-02,  9.02762171e-03,  1.92136187e-02,  6.73805876e-03,\n",
      "        4.92737666e-02,  1.33431628e-02, -5.18065318e-02, -2.66866703e-02,\n",
      "       -6.26558810e-02,  3.49553563e-02,  1.07274484e-02, -3.02198231e-02,\n",
      "        2.47531440e-02,  4.16536480e-02,  2.11781319e-02, -1.40504278e-02,\n",
      "        1.34204179e-02, -3.63975577e-02,  1.96582526e-02, -6.90973317e-03,\n",
      "        5.08952811e-02,  1.47032067e-02,  1.52711775e-02,  1.02830381e-04,\n",
      "        1.41633041e-02,  4.76943934e-03, -9.10094101e-03, -6.72348887e-02,\n",
      "       -1.45869376e-02,  1.21601345e-02,  1.05571970e-02,  7.40573332e-02,\n",
      "       -4.69244681e-02,  1.59027409e-02, -1.15212742e-02,  1.81112848e-02,\n",
      "        4.01777290e-02, -1.29585881e-02,  1.26740756e-02, -6.77197129e-02,\n",
      "        4.40626778e-03,  7.26698041e-02, -1.03222392e-02, -2.24513337e-02,\n",
      "       -2.93133017e-02,  1.50229912e-02,  8.09403956e-02,  1.25962928e-01,\n",
      "        8.77156928e-02,  6.82810172e-02, -6.70413524e-02,  2.10943043e-01,\n",
      "        2.50904858e-02, -1.14267714e-01, -7.37500489e-02,  1.00395441e-01,\n",
      "       -6.00816794e-02,  5.08168042e-02, -5.93797974e-02, -4.13596332e-02,\n",
      "       -7.42532834e-02, -1.72654837e-02,  8.02245513e-02, -1.62465170e-01,\n",
      "        1.06366407e-02, -1.57697067e-01, -8.88546035e-02,  1.76364798e-02,\n",
      "        1.00673884e-02,  7.35402778e-02, -4.84360345e-02,  5.27119227e-02,\n",
      "       -7.80587345e-02, -1.46129252e-02,  2.36441027e-02,  2.53638655e-01,\n",
      "        2.70903967e-02, -1.39092967e-01,  2.59972453e-01, -4.30673622e-02,\n",
      "        1.88333437e-01, -6.67928830e-02, -1.35847867e-01,  2.58619357e-02,\n",
      "       -5.39904367e-03,  1.39581570e-02, -6.45723641e-02, -1.86224908e-01,\n",
      "        2.17323706e-01, -1.43370762e-01,  1.45882428e-01, -6.75606132e-02,\n",
      "       -1.16619375e-03,  1.95979755e-02, -1.04001381e-01,  6.01856150e-02],\n",
      "      dtype=float32)>]\n"
     ]
    }
   ],
   "source": [
    "print(model.layers[0].trainable_weights)"
   ]
  },
  {
   "cell_type": "code",
   "execution_count": 32,
   "metadata": {
    "scrolled": true
   },
   "outputs": [
    {
     "data": {
      "text/plain": [
       "(50, 200)"
      ]
     },
     "execution_count": 32,
     "metadata": {},
     "output_type": "execute_result"
    }
   ],
   "source": [
    "weightLSTM[0].shape"
   ]
  },
  {
   "cell_type": "code",
   "execution_count": 41,
   "metadata": {
    "scrolled": true
   },
   "outputs": [
    {
     "data": {
      "text/plain": [
       "<matplotlib.image.AxesImage at 0x1a32dbf690>"
      ]
     },
     "execution_count": 41,
     "metadata": {},
     "output_type": "execute_result"
    },
    {
     "data": {
      "image/png": "[encoded data removed]",
      "text/plain": [
       "<Figure size 1152x288 with 1 Axes>"
      ]
     },
     "metadata": {
      "needs_background": "light"
     },
     "output_type": "display_data"
    }
   ],
   "source": [
    "pyplot.matshow(weightLSTM[0])"
   ]
  },
  {
   "cell_type": "code",
   "execution_count": 34,
   "metadata": {},
   "outputs": [
    {
     "name": "stdout",
     "output_type": "stream",
     "text": [
      "Number of units:  50\n"
     ]
    }
   ],
   "source": [
    "units = int(int(model.layers[0].trainable_weights[0].shape[1])/4)\n",
    "print(\"Number of units: \", units)"
   ]
  },
  {
   "cell_type": "code",
   "execution_count": 16,
   "metadata": {},
   "outputs": [
    {
     "data": {
      "text/plain": [
       "array([[-0.18626894,  0.19249295,  0.15482362, ..., -0.29079497,\n",
       "        -0.07477473,  0.09991136],\n",
       "       [ 0.00701329, -0.11079838,  0.25785068, ..., -0.11927182,\n",
       "        -0.08018969,  0.00384935],\n",
       "       [ 0.00394488,  0.05737585,  0.08824104, ..., -0.01611165,\n",
       "        -0.1293585 , -0.16683598],\n",
       "       ...,\n",
       "       [ 0.08345097,  0.06323992, -0.02342468, ...,  0.05075768,\n",
       "         0.02797006, -0.03484445],\n",
       "       [-0.17440316, -0.31443012,  0.12119955, ...,  0.16552442,\n",
       "        -0.2860983 ,  0.00608982],\n",
       "       [-0.14033882, -0.02888553,  0.12660784, ..., -0.02183752,\n",
       "        -0.18639489,  0.08555061]], dtype=float32)"
      ]
     },
     "execution_count": 16,
     "metadata": {},
     "output_type": "execute_result"
    }
   ],
   "source": [
    "warr"
   ]
  },
  {
   "cell_type": "code",
   "execution_count": 17,
   "metadata": {},
   "outputs": [
    {
     "data": {
      "text/plain": [
       "(8, 200)"
      ]
     },
     "execution_count": 17,
     "metadata": {},
     "output_type": "execute_result"
    }
   ],
   "source": [
    "# numpy array of weights for inputs\n",
    "warr.shape"
   ]
  },
  {
   "cell_type": "code",
   "execution_count": 56,
   "metadata": {},
   "outputs": [
    {
     "data": {
      "text/plain": [
       "(50, 200)"
      ]
     },
     "execution_count": 56,
     "metadata": {},
     "output_type": "execute_result"
    }
   ],
   "source": [
    "# numpy array of weights for hidden units\n",
    "uarr.shape"
   ]
  },
  {
   "cell_type": "code",
   "execution_count": 58,
   "metadata": {},
   "outputs": [
    {
     "data": {
      "text/plain": [
       "(200,)"
      ]
     },
     "execution_count": 58,
     "metadata": {},
     "output_type": "execute_result"
    }
   ],
   "source": [
    "# numpy array of bias\n",
    "barr.shape"
   ]
  },
  {
   "cell_type": "code",
   "execution_count": 20,
   "metadata": {},
   "outputs": [],
   "source": [
    "W_i = warr[:, :units]\n",
    "W_f = warr[:, units: units * 2]\n",
    "W_c = warr[:, units * 2: units * 3]\n",
    "W_o = warr[:, units * 3:]\n",
    "\n",
    "U_i = uarr[:, :units]\n",
    "U_f = uarr[:, units: units * 2]\n",
    "U_c = uarr[:, units * 2: units * 3]\n",
    "U_o = uarr[:, units * 3:]\n",
    "\n",
    "b_i = barr[:units]\n",
    "b_f = barr[units: units * 2]\n",
    "b_c = barr[units * 2: units * 3]\n",
    "b_o = barr[units * 3:]"
   ]
  },
  {
   "cell_type": "code",
   "execution_count": 139,
   "metadata": {},
   "outputs": [
    {
     "data": {
      "text/plain": [
       "array([[-1.86268941e-01,  1.92492947e-01,  1.54823616e-01,\n",
       "         1.47714883e-01,  2.32924253e-01,  2.32970610e-01,\n",
       "         3.51106375e-01, -5.24536788e-01,  3.71513546e-01,\n",
       "        -1.36730056e-02,  3.20056409e-01, -4.56064671e-01,\n",
       "         9.50281974e-03,  3.84913720e-02, -1.88970163e-01,\n",
       "        -1.77615687e-01,  2.99536645e-01,  1.04423858e-01,\n",
       "         3.65457892e-01, -1.56259954e-01,  2.42083937e-01,\n",
       "        -3.87618601e-01,  2.65546799e-01,  4.36148465e-01,\n",
       "         2.14797050e-01,  2.30665788e-01,  1.35414869e-01,\n",
       "         8.23504999e-02,  6.32659942e-02, -2.77540416e-01,\n",
       "        -7.31191225e-03,  2.48201668e-01, -5.30372202e-01,\n",
       "         2.91464984e-01,  1.45387113e-01, -8.39516744e-02,\n",
       "         1.61313385e-01, -2.54024535e-01,  3.31468701e-01,\n",
       "         1.72934711e-01, -3.30409378e-01, -1.97524428e-01,\n",
       "         3.46208423e-01,  2.96556443e-01, -2.61844039e-01,\n",
       "         2.83265114e-01, -1.44254729e-01, -3.35543215e-01,\n",
       "        -5.19463094e-04,  3.22492480e-01],\n",
       "       [ 7.01329205e-03, -1.10798381e-01,  2.57850677e-01,\n",
       "        -3.71241309e-02,  2.00827748e-01, -5.34494631e-02,\n",
       "        -1.67984337e-01, -9.22536701e-02,  9.89291519e-02,\n",
       "         2.47326102e-02, -1.49362683e-01, -3.43925022e-02,\n",
       "         1.12958841e-01, -2.53726393e-01,  1.10655211e-01,\n",
       "        -2.27503181e-01,  1.63119659e-01, -8.85065272e-02,\n",
       "        -1.14353057e-02, -9.21601281e-02,  1.30396813e-01,\n",
       "         1.10917866e-01,  1.42523572e-01, -3.42316814e-02,\n",
       "         1.30517453e-01, -1.18050568e-01, -1.93259150e-01,\n",
       "         3.02040800e-02, -1.55261934e-01,  6.55108988e-02,\n",
       "        -3.65546755e-02, -8.32772702e-02, -1.55580729e-01,\n",
       "        -1.26565680e-01,  2.36189410e-01, -1.03112727e-01,\n",
       "         2.06129655e-01,  1.35350898e-01,  8.69100168e-03,\n",
       "         3.75554748e-02,  1.00041613e-01, -4.09840643e-02,\n",
       "         1.28024161e-01,  1.20916672e-01, -4.51463275e-02,\n",
       "         8.87954608e-02, -1.55343756e-01, -1.82609737e-01,\n",
       "         1.59489792e-02, -1.38165101e-01],\n",
       "       [ 3.94487800e-03,  5.73758483e-02,  8.82410407e-02,\n",
       "        -2.51077175e-01,  1.29563168e-01, -2.52604727e-02,\n",
       "         1.65675897e-02,  8.55317246e-03,  1.27660064e-02,\n",
       "        -1.18063852e-01, -1.34555325e-01, -2.37448350e-01,\n",
       "        -2.86648925e-02, -1.92086101e-01,  1.35882884e-01,\n",
       "        -1.59843713e-01, -1.31842509e-01,  1.18082091e-01,\n",
       "         1.29670706e-02, -2.05522910e-01,  6.51441664e-02,\n",
       "        -1.57101095e-01, -9.65263471e-02,  1.65123697e-02,\n",
       "         1.02181181e-01,  1.04171336e-01,  4.56004078e-03,\n",
       "         1.51561990e-01, -1.04534686e-01, -1.05833404e-01,\n",
       "        -2.05267847e-01,  4.80297953e-02,  8.90844166e-02,\n",
       "        -7.24713579e-02,  1.31777778e-01,  3.84988114e-02,\n",
       "         1.04758367e-01, -4.69961017e-02, -2.06847601e-02,\n",
       "        -1.00828774e-01,  3.21329646e-02, -1.06758028e-01,\n",
       "        -2.63736937e-02,  1.85155585e-01, -6.64223731e-02,\n",
       "        -1.70848414e-01, -7.73698166e-02,  5.68825342e-02,\n",
       "        -1.76798224e-01,  6.48847073e-02],\n",
       "       [-1.58873811e-01, -6.72223642e-02,  5.27343750e-02,\n",
       "        -1.82575122e-01,  1.88055378e-03, -1.69502944e-01,\n",
       "        -7.65875652e-02,  1.26702756e-01, -3.94057445e-02,\n",
       "         5.29740043e-02, -1.85551435e-01,  1.39768934e-02,\n",
       "         2.63585240e-01, -1.91492260e-01, -1.44754544e-01,\n",
       "         1.13352753e-01, -7.18964636e-02, -2.53509469e-02,\n",
       "        -8.55576992e-02,  2.03492362e-02,  1.56351537e-01,\n",
       "        -1.22112334e-01, -7.40584731e-02,  4.80773412e-02,\n",
       "        -1.01285964e-01, -6.01623617e-02, -2.02368572e-01,\n",
       "        -7.32297227e-02, -1.80381447e-01, -1.57141238e-01,\n",
       "        -2.16172002e-02,  2.11599991e-02, -1.28926650e-01,\n",
       "        -1.67907268e-01,  3.40816379e-02, -1.39833063e-01,\n",
       "         1.99689656e-01, -5.59808724e-02,  1.33594153e-02,\n",
       "         2.21214488e-01,  1.15240570e-02, -5.42315235e-03,\n",
       "        -5.07875485e-03,  1.83379993e-01,  1.30961075e-01,\n",
       "        -6.61834553e-02, -2.21642777e-01, -5.26346117e-02,\n",
       "        -9.35085490e-02,  1.09254643e-01],\n",
       "       [-2.17814624e-01, -8.34848508e-02,  1.69288665e-01,\n",
       "        -2.37745419e-02,  2.29268745e-02, -3.25339973e-01,\n",
       "         1.59913018e-01,  5.60214743e-02,  4.82096709e-02,\n",
       "        -8.23369473e-02,  1.20979175e-01,  7.52558187e-02,\n",
       "        -1.26480147e-01, -9.22070742e-02, -4.22608815e-02,\n",
       "         7.58131444e-02,  7.17698634e-02,  1.17694415e-01,\n",
       "        -9.50218141e-02, -1.76499963e-01,  9.64359641e-02,\n",
       "         6.02742508e-02,  8.28782842e-03, -1.38602778e-01,\n",
       "        -1.23324573e-01,  4.04890906e-03, -4.64343606e-03,\n",
       "        -1.91071540e-01, -1.40965208e-01,  1.32741839e-01,\n",
       "        -2.55421132e-01,  7.22380504e-02, -4.25432101e-02,\n",
       "         9.83869657e-02,  1.27310544e-01, -1.78358462e-02,\n",
       "         9.70949605e-02, -3.46769653e-02, -1.71679437e-01,\n",
       "         1.19596031e-02, -1.42615050e-01,  7.48210475e-02,\n",
       "        -1.67499140e-01,  2.42825657e-01,  1.49832100e-01,\n",
       "         7.24132964e-03, -7.81670138e-02, -1.77498698e-01,\n",
       "        -8.22826624e-02, -5.39828138e-03],\n",
       "       [ 8.34509656e-02,  6.32399172e-02, -2.34246813e-02,\n",
       "        -1.85798287e-01, -1.44484974e-02, -1.71892509e-01,\n",
       "        -1.60091668e-01, -1.42971605e-01, -8.35608393e-02,\n",
       "         4.03805748e-02, -2.16568083e-01,  5.61737716e-02,\n",
       "        -2.33409852e-01, -7.04090893e-02,  1.90113317e-02,\n",
       "        -3.67613211e-02, -1.43541560e-01, -2.09967867e-01,\n",
       "         4.11882065e-02, -1.61854506e-01,  5.19496538e-02,\n",
       "        -1.09870404e-01,  2.50046197e-02, -1.58384100e-01,\n",
       "        -1.21730357e-01, -1.12802327e-01, -3.95113416e-02,\n",
       "         1.25190139e-01,  1.06537014e-01,  5.63145541e-02,\n",
       "         3.67331356e-02, -2.20857635e-02, -7.57529289e-02,\n",
       "        -1.19414739e-02,  2.59948242e-02, -1.08439565e-01,\n",
       "        -6.66956976e-02, -1.56017214e-01, -1.36837542e-01,\n",
       "         2.36433893e-02, -1.73717052e-01,  1.17078274e-01,\n",
       "         1.55627951e-01, -6.97019100e-02,  4.96887527e-02,\n",
       "        -2.04644784e-01, -1.57806918e-01, -2.66321361e-01,\n",
       "         1.55656919e-01, -1.32121786e-01],\n",
       "       [-1.74403161e-01, -3.14430118e-01,  1.21199548e-01,\n",
       "         9.09625441e-02,  4.08898920e-01,  1.29461810e-01,\n",
       "        -1.38986036e-02, -3.95194054e-01,  1.03266932e-01,\n",
       "         1.36979252e-01,  7.41879791e-02, -2.17089906e-01,\n",
       "         1.25550643e-01, -2.77555674e-01, -4.26332317e-02,\n",
       "         1.00729227e-01, -2.50415839e-02, -4.43840139e-02,\n",
       "         1.10781342e-01,  1.90536138e-02, -1.04219362e-01,\n",
       "         8.45670477e-02,  9.30017158e-02, -9.81310681e-02,\n",
       "         6.42201863e-03,  7.61506185e-02, -2.33631179e-01,\n",
       "        -3.37100297e-01, -2.37283051e-01,  4.30483036e-02,\n",
       "         2.58138385e-02,  2.06747204e-01,  1.06793158e-01,\n",
       "         2.97616329e-02, -1.18379749e-01,  1.00645665e-02,\n",
       "        -2.23919719e-01, -1.39184117e-01,  5.48386164e-02,\n",
       "        -8.65149647e-02,  5.66256270e-02, -1.89784348e-01,\n",
       "        -2.56610155e-01,  8.17686915e-02, -1.62863284e-01,\n",
       "        -5.55370487e-02, -1.01324692e-01,  1.07737277e-02,\n",
       "        -3.38135123e-01, -1.09404124e-01],\n",
       "       [-1.40338823e-01, -2.88855340e-02,  1.26607835e-01,\n",
       "        -1.46683902e-01, -1.23348169e-01, -5.84376082e-02,\n",
       "        -2.00050920e-01, -1.04539417e-01, -1.07278652e-01,\n",
       "        -1.45251881e-02,  1.12201773e-01, -1.16086535e-01,\n",
       "        -1.83395863e-01,  6.11078218e-02,  1.22609071e-01,\n",
       "         1.78375036e-01, -1.96048573e-01,  1.38451308e-01,\n",
       "         3.27703767e-02, -1.39349908e-01, -1.17901482e-01,\n",
       "        -9.18131471e-02, -2.14702580e-02,  7.28163049e-02,\n",
       "        -1.52037516e-01,  5.83226718e-02,  4.28783288e-03,\n",
       "        -2.53527295e-02, -1.61974028e-01, -1.29733473e-01,\n",
       "        -9.19971541e-02, -8.06370378e-02,  9.18879211e-02,\n",
       "         7.49787912e-02, -1.20907694e-01,  4.51932177e-02,\n",
       "        -3.76823395e-02, -2.75904220e-02,  2.12374590e-02,\n",
       "         4.32585403e-02, -1.50795653e-01, -2.38368963e-03,\n",
       "        -1.29667744e-01, -1.85250118e-01, -2.12597013e-01,\n",
       "        -2.01408088e-01,  1.91983864e-01, -1.83729336e-01,\n",
       "        -1.35028213e-01, -1.39350072e-01]], dtype=float32)"
      ]
     },
     "execution_count": 139,
     "metadata": {},
     "output_type": "execute_result"
    }
   ],
   "source": [
    "W_i"
   ]
  },
  {
   "cell_type": "code",
   "execution_count": 25,
   "metadata": {},
   "outputs": [
    {
     "data": {
      "text/plain": [
       "array([[-0.0326784 , -0.11206256, -0.08930601,  0.00807495, -0.12328121,\n",
       "        -0.02873524, -0.146687  ,  0.1313648 , -0.07148629,  0.11914331,\n",
       "        -0.06423166, -0.09363738, -0.1503155 , -0.01101676, -0.01993275,\n",
       "        -0.16834852, -0.04972494,  0.07113938,  0.16332981,  0.14085972,\n",
       "         0.0586886 ,  0.05558774, -0.00893952,  0.00192125,  0.10165098,\n",
       "        -0.09588902,  0.05979098, -0.1049346 ,  0.14344466,  0.08338723,\n",
       "         0.11655551,  0.07670653, -0.06718776,  0.12296954, -0.03966112,\n",
       "         0.0552478 ,  0.10168442,  0.14160234, -0.04648746,  0.07491077,\n",
       "        -0.08422725,  0.10541874, -0.14707828,  0.05740273, -0.00382569,\n",
       "        -0.04681493,  0.11132777,  0.08065784,  0.05609819, -0.05351334],\n",
       "       [ 0.06925948, -0.07388228,  0.16548061, -0.14888251,  0.02390531,\n",
       "        -0.06452754, -0.00104561, -0.04777434, -0.15213048, -0.01447181,\n",
       "        -0.01508038, -0.033811  , -0.15955433, -0.07699509,  0.02580833,\n",
       "         0.01667857, -0.05950357,  0.11874944,  0.1558592 , -0.1542288 ,\n",
       "         0.12807977,  0.11867347,  0.16521397, -0.06201424, -0.02275088,\n",
       "        -0.10917935, -0.05307633, -0.1035513 , -0.05418909,  0.12358573,\n",
       "         0.14095229, -0.06432269,  0.06044228,  0.01242058, -0.13282365,\n",
       "         0.05916698, -0.11057836, -0.03736268, -0.08577733, -0.11720154,\n",
       "         0.10199672, -0.04609673, -0.04935896,  0.1382482 ,  0.16029105,\n",
       "        -0.12279457,  0.06612282, -0.13932529, -0.00910927,  0.09694269],\n",
       "       [ 0.10134009,  0.16034913, -0.03513464, -0.11286729,  0.15437919,\n",
       "        -0.1282934 ,  0.06837235, -0.04808974, -0.11146646, -0.04539118,\n",
       "         0.07081208, -0.04747634,  0.1103535 ,  0.03956948, -0.07647929,\n",
       "        -0.07010575,  0.12368935,  0.12660596, -0.15803696, -0.01954539,\n",
       "         0.00447042, -0.08940894, -0.00650162,  0.01703978,  0.05076142,\n",
       "        -0.00210375,  0.03954463, -0.11543967,  0.00506273,  0.11245844,\n",
       "        -0.07639308, -0.06722084, -0.16422153, -0.02106562, -0.05642389,\n",
       "        -0.09792442, -0.10379297, -0.13673587, -0.01285855, -0.16594039,\n",
       "         0.0391544 , -0.05773935,  0.00163047, -0.04684173, -0.16702694,\n",
       "        -0.05694576,  0.05783156, -0.07388058, -0.00131381, -0.05809079],\n",
       "       [-0.10100475,  0.03972971,  0.1321629 , -0.04695212,  0.07151398,\n",
       "        -0.03500779,  0.16493389,  0.09933168, -0.04911325,  0.16209373,\n",
       "        -0.09103338, -0.12351093, -0.13262357,  0.10486418, -0.1566465 ,\n",
       "         0.0834966 , -0.05582158,  0.06389609,  0.12684795,  0.16034248,\n",
       "        -0.14212112,  0.08480957, -0.12524623, -0.05931131, -0.16094686,\n",
       "        -0.08011159,  0.13156667,  0.03377967,  0.14002419, -0.11265635,\n",
       "         0.01065235,  0.1148074 , -0.05992413,  0.1563901 ,  0.00473845,\n",
       "         0.16927254,  0.0348184 ,  0.08731487,  0.14669642, -0.07262695,\n",
       "        -0.10546684,  0.07991061, -0.02487698, -0.08336126, -0.12162139,\n",
       "         0.01981017, -0.02771372, -0.12402932,  0.04959092, -0.14047329],\n",
       "       [ 0.02136734, -0.15825276, -0.11269219,  0.10718694,  0.15705708,\n",
       "        -0.1446083 ,  0.07856959, -0.16128604,  0.16662472, -0.14348608,\n",
       "        -0.0917365 ,  0.16350111,  0.07861985,  0.01790018, -0.03549957,\n",
       "        -0.09855936,  0.16478074,  0.05470045, -0.03356917, -0.03996478,\n",
       "        -0.16507475,  0.00405376, -0.05225137, -0.00055914, -0.05644502,\n",
       "        -0.08157299,  0.16548783, -0.02800024, -0.07344937, -0.1366222 ,\n",
       "         0.08342993, -0.03435139,  0.07706356, -0.05112172, -0.02302971,\n",
       "         0.1033425 ,  0.07782193,  0.13067159, -0.04362458, -0.14296691,\n",
       "         0.16248894, -0.15170081,  0.0829334 , -0.05187862,  0.05944453,\n",
       "        -0.12893891,  0.1073094 , -0.06254183,  0.06158079,  0.0980711 ],\n",
       "       [-0.09676109,  0.04122072, -0.00783041, -0.0930893 ,  0.03943716,\n",
       "         0.11466751,  0.13331228, -0.07380826, -0.00442904,  0.10660923,\n",
       "         0.01168112, -0.01907092,  0.00072066,  0.14982045,  0.08646736,\n",
       "        -0.10899681,  0.1680944 , -0.11248155,  0.07176906,  0.00691101,\n",
       "         0.09956723,  0.1137132 , -0.1627278 ,  0.00473991, -0.08733706,\n",
       "         0.09435877,  0.1275492 ,  0.12649602,  0.10567659, -0.11408678,\n",
       "        -0.04029116,  0.10070473, -0.10298163, -0.05465347,  0.14688888,\n",
       "         0.09171748,  0.12430069,  0.14162052, -0.02658868, -0.16882943,\n",
       "        -0.05553024, -0.04474062, -0.07749405,  0.03037108, -0.02899529,\n",
       "         0.10233179, -0.13299367,  0.11156932,  0.03368689,  0.05409503],\n",
       "       [ 0.02518612,  0.07920618,  0.02245986,  0.06976017, -0.07787185,\n",
       "        -0.05034526,  0.14384088, -0.04644077, -0.12659495,  0.04720382,\n",
       "         0.11110124, -0.09930529, -0.01131697,  0.16429752,  0.12245631,\n",
       "        -0.07658631,  0.00947739,  0.04090248, -0.12275261, -0.085809  ,\n",
       "        -0.01846774,  0.06336741, -0.02343239, -0.00430603, -0.11886334,\n",
       "        -0.07038779, -0.04848646, -0.00111297, -0.074345  , -0.11772981,\n",
       "         0.09859657,  0.10766664,  0.09509927,  0.10674813,  0.06655416,\n",
       "         0.05331917, -0.03377724, -0.12073232,  0.05450247,  0.01865879,\n",
       "        -0.15976033,  0.00822303,  0.0248469 ,  0.01746763, -0.01667206,\n",
       "        -0.11601095, -0.03015278, -0.15499967, -0.15180531,  0.00772768],\n",
       "       [ 0.00220595,  0.03929985,  0.02463135,  0.02772242,  0.02879797,\n",
       "         0.09201372,  0.14336649, -0.1354162 , -0.10471123, -0.15720937,\n",
       "         0.15165222, -0.00863971, -0.03352225,  0.10784137,  0.07190454,\n",
       "         0.11590534, -0.08222218, -0.01742232,  0.0956291 , -0.09868614,\n",
       "         0.00183845, -0.01960734, -0.15521818,  0.13954267, -0.12223782,\n",
       "        -0.01691069,  0.11990601, -0.01412401,  0.16846463, -0.01715858,\n",
       "         0.10746139, -0.04569107,  0.02151045,  0.16926298, -0.05347998,\n",
       "         0.13327041,  0.07389702, -0.09426203,  0.07735261, -0.12818404,\n",
       "         0.03748024,  0.16971985, -0.13110474, -0.14795396, -0.14101055,\n",
       "         0.06372702,  0.01842023,  0.03340849,  0.0510053 ,  0.08259597]],\n",
       "      dtype=float32)"
      ]
     },
     "execution_count": 25,
     "metadata": {},
     "output_type": "execute_result"
    }
   ],
   "source": [
    "W_f"
   ]
  },
  {
   "cell_type": "code",
   "execution_count": 35,
   "metadata": {},
   "outputs": [
    {
     "data": {
      "text/plain": [
       "[<keras.layers.recurrent.LSTM at 0x1a35fdc390>,\n",
       " <keras.layers.recurrent.LSTM at 0x1a35fdc590>,\n",
       " <keras.layers.core.Dense at 0x1a35fdc9d0>]"
      ]
     },
     "execution_count": 35,
     "metadata": {},
     "output_type": "execute_result"
    }
   ],
   "source": [
    "model.layers"
   ]
  },
  {
   "cell_type": "code",
   "execution_count": 157,
   "metadata": {},
   "outputs": [
    {
     "name": "stdout",
     "output_type": "stream",
     "text": [
      "lstm_15:\n",
      " [array([[ 0.03770599, -0.12887534,  0.11870693, ...,  0.25517443,\n",
      "        -0.6334162 ,  0.13744082],\n",
      "       [ 0.18717533, -0.18851212, -0.14565857, ...,  0.120162  ,\n",
      "         0.23807193,  0.0070678 ],\n",
      "       [ 0.08569767, -0.12592244, -0.05013337, ...,  0.1660492 ,\n",
      "        -0.14279826, -0.1397172 ],\n",
      "       ...,\n",
      "       [ 0.11446242, -0.1593909 ,  0.07374702, ..., -0.226427  ,\n",
      "        -0.10954243,  0.09925266],\n",
      "       [-0.12104774, -0.12592447, -0.03560159, ..., -0.12030452,\n",
      "        -0.05457432,  0.02584912],\n",
      "       [-0.0867271 , -0.06507534, -0.07217237, ...,  0.00539377,\n",
      "         0.09300293,  0.00104663]], dtype=float32), array([[ 0.01859575, -0.08479725,  0.02985978, ...,  0.03756055,\n",
      "        -0.04800738,  0.08102772],\n",
      "       [-0.05978443, -0.04457936,  0.05364292, ...,  0.09175227,\n",
      "        -0.11169744,  0.02272059],\n",
      "       [ 0.06112446, -0.04541477, -0.02171044, ...,  0.05112544,\n",
      "         0.00964109,  0.01455254],\n",
      "       ...,\n",
      "       [ 0.14142384, -0.070978  , -0.13687453, ...,  0.03394157,\n",
      "         0.09062508, -0.01289122],\n",
      "       [-0.05459913,  0.1122561 ,  0.03885472, ..., -0.07126715,\n",
      "         0.03742408,  0.02901546],\n",
      "       [-0.03055727,  0.02636372,  0.06109739, ...,  0.00222153,\n",
      "        -0.17877546,  0.0282232 ]], dtype=float32), array([ 6.48694532e-03, -3.67274694e-02, -1.48188338e-01,  3.44001153e-03,\n",
      "        8.85258019e-02,  2.14340128e-02, -3.46208736e-02, -5.95320249e-03,\n",
      "        6.79082200e-02,  6.41357899e-03,  9.27257910e-02, -9.95282009e-02,\n",
      "       -1.88081823e-02, -1.50297523e-01, -6.13534003e-02, -3.13681774e-02,\n",
      "       -1.33669926e-02,  9.73529555e-03,  5.67844417e-03,  1.74670126e-02,\n",
      "       -1.25847176e-01,  1.93585247e-01,  7.57602900e-02,  2.63139978e-02,\n",
      "       -3.27968188e-02,  5.67897074e-02,  9.02687311e-02, -5.36294542e-02,\n",
      "        5.81832640e-02, -1.80052966e-02, -6.07678033e-02, -6.57188743e-02,\n",
      "       -3.37588899e-02, -2.31002048e-02, -2.50448249e-02, -4.06725146e-03,\n",
      "        1.76542550e-01, -2.07018945e-02,  3.11768148e-03,  7.76100084e-02,\n",
      "       -3.72145255e-03,  1.01661505e-02, -7.27391019e-02, -5.95322251e-03,\n",
      "       -3.32463272e-02,  1.19233988e-01,  1.15249082e-01,  5.88352121e-02,\n",
      "        4.02816981e-02, -1.32448627e-02,  1.00000000e+00,  1.00000000e+00,\n",
      "        1.00000000e+00,  1.00000000e+00,  1.00000000e+00,  1.00000000e+00,\n",
      "        1.00000000e+00,  1.00000000e+00,  1.00000000e+00,  1.00000000e+00,\n",
      "        1.00000000e+00,  1.00000000e+00,  1.00000000e+00,  1.00000000e+00,\n",
      "        1.00000000e+00,  1.00000000e+00,  1.00000000e+00,  1.00000000e+00,\n",
      "        1.00000000e+00,  1.00000000e+00,  1.00000000e+00,  1.00000000e+00,\n",
      "        1.00000000e+00,  1.00000000e+00,  1.00000000e+00,  1.00000000e+00,\n",
      "        1.00000000e+00,  1.00000000e+00,  1.00000000e+00,  1.00000000e+00,\n",
      "        1.00000000e+00,  1.00000000e+00,  1.00000000e+00,  1.00000000e+00,\n",
      "        1.00000000e+00,  1.00000000e+00,  1.00000000e+00,  1.00000000e+00,\n",
      "        1.00000000e+00,  1.00000000e+00,  1.00000000e+00,  1.00000000e+00,\n",
      "        1.00000000e+00,  1.00000000e+00,  1.00000000e+00,  1.00000000e+00,\n",
      "        1.00000000e+00,  1.00000000e+00,  1.00000000e+00,  1.00000000e+00,\n",
      "       -3.48428497e-03, -2.20631845e-02, -1.71936036e-03,  6.52004546e-03,\n",
      "       -8.02862365e-03, -6.36152597e-03, -9.23547987e-03,  3.87088978e-03,\n",
      "       -1.75201136e-03,  9.63077298e-04, -3.36632109e-03,  3.99219096e-02,\n",
      "       -9.57345869e-03, -9.72542819e-03, -3.27554066e-03,  1.00256354e-02,\n",
      "       -3.49722267e-03, -7.27154221e-03, -1.18372403e-02,  7.08388817e-03,\n",
      "       -5.91806462e-03, -1.37218949e-03,  1.18991418e-03, -2.86263879e-03,\n",
      "       -6.13796199e-03,  4.34432691e-03,  1.19132120e-02, -3.49728391e-02,\n",
      "       -5.03431819e-03, -1.52156958e-02,  2.24375818e-03, -3.56226116e-02,\n",
      "       -2.45338194e-02, -4.30003181e-03, -2.24592965e-02,  4.18634433e-03,\n",
      "        1.88778481e-03, -3.21613904e-03,  6.06750790e-03, -1.02112943e-03,\n",
      "       -1.33040198e-03,  1.09274834e-02,  3.11081186e-02, -4.54382598e-03,\n",
      "       -9.52916394e-04, -8.19807872e-03, -5.45918662e-03,  4.76511801e-03,\n",
      "       -1.10814963e-02,  1.36855738e-02,  2.26212316e-03, -3.83202247e-02,\n",
      "       -1.55351102e-01,  3.03005194e-03,  7.92825446e-02,  3.17553282e-02,\n",
      "       -2.83213388e-02,  3.36372037e-03,  6.36968911e-02,  5.10549173e-03,\n",
      "        9.00673866e-02, -9.89390835e-02, -1.35613838e-02, -1.47334605e-01,\n",
      "       -5.76421693e-02, -3.09468340e-02, -1.60302427e-02, -9.66587977e-04,\n",
      "        7.62198260e-03,  2.24297773e-02, -1.25280336e-01,  1.97356984e-01,\n",
      "        8.01330879e-02,  2.56694108e-02, -2.86638178e-02,  4.73092645e-02,\n",
      "        8.03937986e-02, -5.46325035e-02,  5.38423248e-02, -1.78357121e-02,\n",
      "       -6.40865937e-02, -6.22056462e-02, -3.32369581e-02, -2.49161571e-02,\n",
      "       -1.95505060e-02, -7.84420408e-03,  1.64060697e-01, -2.08278857e-02,\n",
      "        3.23978649e-03,  7.61715174e-02, -8.07148404e-03,  1.36985332e-02,\n",
      "       -7.31866062e-02, -5.28153125e-03, -3.05755511e-02,  1.25153944e-01,\n",
      "        1.15018129e-01,  5.78590930e-02,  3.36871035e-02, -5.94209135e-03],\n",
      "      dtype=float32)]\n",
      "output:\n",
      " [array([[ 1.68803766e-01],\n",
      "       [-5.99152446e-02],\n",
      "       [-5.82928013e-04],\n",
      "       [-3.34122896e-01],\n",
      "       [ 2.01631099e-01],\n",
      "       [-2.53585368e-01],\n",
      "       [-1.12328798e-01],\n",
      "       [ 1.79591309e-02],\n",
      "       [-2.00858861e-01],\n",
      "       [-2.47678950e-01],\n",
      "       [-2.99344778e-01],\n",
      "       [ 3.22735985e-04],\n",
      "       [ 9.37442109e-02],\n",
      "       [-4.69424250e-03],\n",
      "       [ 9.53519493e-02],\n",
      "       [-1.07246496e-01],\n",
      "       [ 3.09007168e-01],\n",
      "       [-2.08271936e-01],\n",
      "       [ 2.64959961e-01],\n",
      "       [ 2.73594677e-01],\n",
      "       [ 2.97859369e-04],\n",
      "       [-4.68806326e-01],\n",
      "       [-3.37780148e-01],\n",
      "       [ 2.06796423e-01],\n",
      "       [ 1.19179435e-01],\n",
      "       [-2.92922527e-01],\n",
      "       [-1.12922445e-01],\n",
      "       [ 1.58476010e-02],\n",
      "       [-3.17334712e-01],\n",
      "       [-1.47911772e-01],\n",
      "       [ 2.56630749e-01],\n",
      "       [-1.47769954e-02],\n",
      "       [-6.16134033e-02],\n",
      "       [-2.77761310e-01],\n",
      "       [-5.80874234e-02],\n",
      "       [-6.20275401e-02],\n",
      "       [ 4.28774536e-01],\n",
      "       [ 1.84486017e-01],\n",
      "       [-3.35984737e-01],\n",
      "       [-3.83665800e-01],\n",
      "       [ 1.35736823e-01],\n",
      "       [-1.64506137e-01],\n",
      "       [-1.60175224e-03],\n",
      "       [ 2.54484296e-01],\n",
      "       [ 2.95863777e-01],\n",
      "       [-1.58371449e-01],\n",
      "       [ 1.93531781e-01],\n",
      "       [-3.18114579e-01],\n",
      "       [-9.75492597e-02],\n",
      "       [-1.00322247e-01]], dtype=float32), array([0.00150509], dtype=float32)]\n"
     ]
    }
   ],
   "source": [
    "for i, layer in enumerate(model.layers):\n",
    "    print(layer.name  + ':\\n', layer.get_weights())"
   ]
  },
  {
   "cell_type": "code",
   "execution_count": 36,
   "metadata": {
    "scrolled": false
   },
   "outputs": [
    {
     "name": "stdout",
     "output_type": "stream",
     "text": [
      "Model: \"sequential_2\"\n",
      "_________________________________________________________________\n",
      "Layer (type)                 Output Shape              Param #   \n",
      "=================================================================\n",
      "lstm_2 (LSTM)                (None, 1, 50)             11800     \n",
      "_________________________________________________________________\n",
      "LSTM1 (LSTM)                 (None, 50)                20200     \n",
      "_________________________________________________________________\n",
      "output (Dense)               (None, 1)                 51        \n",
      "=================================================================\n",
      "Total params: 32,051\n",
      "Trainable params: 32,051\n",
      "Non-trainable params: 0\n",
      "_________________________________________________________________\n"
     ]
    }
   ],
   "source": [
    "model.summary()"
   ]
  },
  {
   "cell_type": "code",
   "execution_count": 115,
   "metadata": {},
   "outputs": [],
   "source": [
    "model.save('lstm_model.h5')\n",
    "del model\n",
    "model = load_model('lstm_model.h5')"
   ]
  },
  {
   "cell_type": "code",
   "execution_count": 116,
   "metadata": {},
   "outputs": [
    {
     "data": {
      "text/plain": [
       "[<keras.layers.recurrent.LSTM at 0x1a39c54750>,\n",
       " <keras.layers.recurrent.LSTM at 0x1a39c91e50>,\n",
       " <keras.layers.core.Dense at 0x1a398a3e50>]"
      ]
     },
     "execution_count": 116,
     "metadata": {},
     "output_type": "execute_result"
    }
   ],
   "source": [
    "model.layers"
   ]
  },
  {
   "cell_type": "code",
   "execution_count": 117,
   "metadata": {},
   "outputs": [],
   "source": [
    "json_string = model.to_json()"
   ]
  },
  {
   "cell_type": "code",
   "execution_count": 118,
   "metadata": {},
   "outputs": [
    {
     "data": {
      "text/plain": [
       "'{\"class_name\": \"Sequential\", \"config\": {\"name\": \"sequential_2\", \"layers\": [{\"class_name\": \"LSTM\", \"config\": {\"name\": \"lstm_2\", \"trainable\": true, \"batch_input_shape\": [null, 1, 8], \"dtype\": \"float32\", \"return_sequences\": true, \"return_state\": false, \"go_backwards\": false, \"stateful\": false, \"unroll\": false, \"units\": 50, \"activation\": \"tanh\", \"recurrent_activation\": \"sigmoid\", \"use_bias\": true, \"kernel_initializer\": {\"class_name\": \"VarianceScaling\", \"config\": {\"scale\": 1.0, \"mode\": \"fan_avg\", \"distribution\": \"uniform\", \"seed\": null}}, \"recurrent_initializer\": {\"class_name\": \"Orthogonal\", \"config\": {\"gain\": 1.0, \"seed\": null}}, \"bias_initializer\": {\"class_name\": \"Zeros\", \"config\": {}}, \"unit_forget_bias\": true, \"kernel_regularizer\": null, \"recurrent_regularizer\": null, \"bias_regularizer\": null, \"activity_regularizer\": null, \"kernel_constraint\": null, \"recurrent_constraint\": null, \"bias_constraint\": null, \"dropout\": 0.0, \"recurrent_dropout\": 0.0, \"implementation\": 2}}, {\"class_name\": \"LSTM\", \"config\": {\"name\": \"LSTM1\", \"trainable\": true, \"batch_input_shape\": [null, 1, 8], \"dtype\": \"float32\", \"return_sequences\": false, \"return_state\": false, \"go_backwards\": false, \"stateful\": false, \"unroll\": false, \"units\": 50, \"activation\": \"tanh\", \"recurrent_activation\": \"sigmoid\", \"use_bias\": true, \"kernel_initializer\": {\"class_name\": \"VarianceScaling\", \"config\": {\"scale\": 1.0, \"mode\": \"fan_avg\", \"distribution\": \"uniform\", \"seed\": null}}, \"recurrent_initializer\": {\"class_name\": \"Orthogonal\", \"config\": {\"gain\": 1.0, \"seed\": null}}, \"bias_initializer\": {\"class_name\": \"Zeros\", \"config\": {}}, \"unit_forget_bias\": true, \"kernel_regularizer\": null, \"recurrent_regularizer\": null, \"bias_regularizer\": null, \"activity_regularizer\": null, \"kernel_constraint\": null, \"recurrent_constraint\": null, \"bias_constraint\": null, \"dropout\": 0.0, \"recurrent_dropout\": 0.0, \"implementation\": 2}}, {\"class_name\": \"Dense\", \"config\": {\"name\": \"output\", \"trainable\": true, \"dtype\": \"float32\", \"units\": 1, \"activation\": \"linear\", \"use_bias\": true, \"kernel_initializer\": {\"class_name\": \"VarianceScaling\", \"config\": {\"scale\": 1.0, \"mode\": \"fan_avg\", \"distribution\": \"uniform\", \"seed\": null}}, \"bias_initializer\": {\"class_name\": \"Zeros\", \"config\": {}}, \"kernel_regularizer\": null, \"bias_regularizer\": null, \"activity_regularizer\": null, \"kernel_constraint\": null, \"bias_constraint\": null}}]}, \"keras_version\": \"2.3.1\", \"backend\": \"tensorflow\"}'"
      ]
     },
     "execution_count": 118,
     "metadata": {},
     "output_type": "execute_result"
    }
   ],
   "source": [
    "json_string"
   ]
  },
  {
   "cell_type": "code",
   "execution_count": 119,
   "metadata": {},
   "outputs": [],
   "source": [
    "# model.save_weights('lstm_weights.h5')"
   ]
  },
  {
   "cell_type": "code",
   "execution_count": 120,
   "metadata": {
    "scrolled": true
   },
   "outputs": [
    {
     "name": "stdout",
     "output_type": "stream",
     "text": [
      "Model: \"sequential_2\"\n",
      "_________________________________________________________________\n",
      "Layer (type)                 Output Shape              Param #   \n",
      "=================================================================\n",
      "lstm_2 (LSTM)                (None, 1, 50)             11800     \n",
      "_________________________________________________________________\n",
      "LSTM1 (LSTM)                 (None, 50)                20200     \n",
      "_________________________________________________________________\n",
      "output (Dense)               (None, 1)                 51        \n",
      "=================================================================\n",
      "Total params: 32,051\n",
      "Trainable params: 32,051\n",
      "Non-trainable params: 0\n",
      "_________________________________________________________________\n"
     ]
    }
   ],
   "source": [
    "model.summary()"
   ]
  },
  {
   "cell_type": "code",
   "execution_count": 121,
   "metadata": {},
   "outputs": [],
   "source": [
    "def get_n_layer_output(model, n):\n",
    "    return K.function([model.layers[0].input],[model.layers[n].output])\n",
    "    "
   ]
  },
  {
   "cell_type": "code",
   "execution_count": 122,
   "metadata": {},
   "outputs": [
    {
     "data": {
      "text/plain": [
       "<tensorflow.python.keras.backend.EagerExecutionFunction at 0x1a3a9131d0>"
      ]
     },
     "execution_count": 122,
     "metadata": {},
     "output_type": "execute_result"
    }
   ],
   "source": [
    "get_n_layer_output(model, 1)"
   ]
  },
  {
   "cell_type": "code",
   "execution_count": 123,
   "metadata": {},
   "outputs": [
    {
     "data": {
      "image/png": "[encoded data removed]",
      "text/plain": [
       "<IPython.core.display.Image object>"
      ]
     },
     "execution_count": 123,
     "metadata": {},
     "output_type": "execute_result"
    }
   ],
   "source": [
    "plot_model(model, to_file='img/model.png', show_shapes=True, show_layer_names=True)"
   ]
  },
  {
   "cell_type": "code",
   "execution_count": 125,
   "metadata": {},
   "outputs": [
    {
     "ename": "TypeError",
     "evalue": "'module' object is not callable",
     "output_type": "error",
     "traceback": [
      "\u001b[0;31m---------------------------------------------------------------------------\u001b[0m",
      "\u001b[0;31mTypeError\u001b[0m                                 Traceback (most recent call last)",
      "\u001b[0;32m<ipython-input-125-da736a5d2b29>\u001b[0m in \u001b[0;36m<module>\u001b[0;34m\u001b[0m\n\u001b[1;32m     10\u001b[0m \u001b[0mdf\u001b[0m \u001b[0;34m=\u001b[0m \u001b[0mdf\u001b[0m\u001b[0;34m[\u001b[0m\u001b[0mnp\u001b[0m\u001b[0;34m.\u001b[0m\u001b[0msort\u001b[0m\u001b[0;34m(\u001b[0m\u001b[0mdf\u001b[0m\u001b[0;34m.\u001b[0m\u001b[0mcolumns\u001b[0m\u001b[0;34m)\u001b[0m\u001b[0;34m]\u001b[0m\u001b[0;34m\u001b[0m\u001b[0;34m\u001b[0m\u001b[0m\n\u001b[1;32m     11\u001b[0m \u001b[0;34m\u001b[0m\u001b[0m\n\u001b[0;32m---> 12\u001b[0;31m \u001b[0mplt\u001b[0m\u001b[0;34m.\u001b[0m\u001b[0mfigure\u001b[0m\u001b[0;34m(\u001b[0m\u001b[0mfigsize\u001b[0m\u001b[0;34m=\u001b[0m\u001b[0;34m(\u001b[0m\u001b[0;36m15\u001b[0m\u001b[0;34m,\u001b[0m\u001b[0;36m15\u001b[0m\u001b[0;34m)\u001b[0m\u001b[0;34m)\u001b[0m\u001b[0;34m\u001b[0m\u001b[0;34m\u001b[0m\u001b[0m\n\u001b[0m\u001b[1;32m     13\u001b[0m \u001b[0msns\u001b[0m\u001b[0;34m.\u001b[0m\u001b[0mheatmap\u001b[0m\u001b[0;34m(\u001b[0m\u001b[0mdf\u001b[0m\u001b[0;34m)\u001b[0m\u001b[0;34m\u001b[0m\u001b[0;34m\u001b[0m\u001b[0m\n\u001b[1;32m     14\u001b[0m \u001b[0mplt\u001b[0m\u001b[0;34m.\u001b[0m\u001b[0mxlabel\u001b[0m\u001b[0;34m(\u001b[0m\u001b[0;34m'epoch'\u001b[0m\u001b[0;34m)\u001b[0m\u001b[0;34m\u001b[0m\u001b[0;34m\u001b[0m\u001b[0m\n",
      "\u001b[0;31mTypeError\u001b[0m: 'module' object is not callable"
     ]
    }
   ],
   "source": [
    "from copy import copy\n",
    "df = {}\n",
    "for epoch in np.arange(0,50,1):\n",
    "    model.load_weights(\"weights{:03d}.hdf5\".format(epoch+1))\n",
    "    WUb = get_LSTMweights(model,model.layers[0])\n",
    "    weight,wlabel = vectorize_with_labels(*WUb)\n",
    "    df[\"{:03d}\".format(epoch)] = copy(weight)\n",
    "\n",
    "df = pd.DataFrame(df,index=wlabel)\n",
    "df = df[np.sort(df.columns)]\n",
    "\n",
    "plt.figure(figsize=(15,15))\n",
    "sns.heatmap(df)\n",
    "plt.xlabel('epoch')\n",
    "plt.show()"
   ]
  },
  {
   "cell_type": "code",
   "execution_count": null,
   "metadata": {},
   "outputs": [],
   "source": []
  }
 ],
 "metadata": {
  "kernelspec": {
   "display_name": "Python 3",
   "language": "python",
   "name": "python3"
  },
  "language_info": {
   "codemirror_mode": {
    "name": "ipython",
    "version": 3
   },
   "file_extension": ".py",
   "mimetype": "text/x-python",
   "name": "python",
   "nbconvert_exporter": "python",
   "pygments_lexer": "ipython3",
   "version": "3.7.4"
  }
 },
 "nbformat": 4,
 "nbformat_minor": 2
}
